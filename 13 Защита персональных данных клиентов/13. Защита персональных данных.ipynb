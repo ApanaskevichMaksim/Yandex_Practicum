{
 "cells": [
  {
   "cell_type": "markdown",
   "metadata": {
    "toc": true
   },
   "source": [
    "<h1>Содержание<span class=\"tocSkip\"></span></h1>\n",
    "<div class=\"toc\"><ul class=\"toc-item\"><li><span><a href=\"#Загрузка-данных\" data-toc-modified-id=\"Загрузка-данных-1\"><span class=\"toc-item-num\">1&nbsp;&nbsp;</span>Загрузка данных</a></span><ul class=\"toc-item\"><li><span><a href=\"#Информация-о-данных\" data-toc-modified-id=\"Информация-о-данных-1.1\"><span class=\"toc-item-num\">1.1&nbsp;&nbsp;</span>Информация о данных</a></span></li></ul></li><li><span><a href=\"#Умножение-матриц\" data-toc-modified-id=\"Умножение-матриц-2\"><span class=\"toc-item-num\">2&nbsp;&nbsp;</span>Умножение матриц</a></span></li><li><span><a href=\"#Алгоритм-преобразования\" data-toc-modified-id=\"Алгоритм-преобразования-3\"><span class=\"toc-item-num\">3&nbsp;&nbsp;</span>Алгоритм преобразования</a></span></li><li><span><a href=\"#Проверка-алгоритма\" data-toc-modified-id=\"Проверка-алгоритма-4\"><span class=\"toc-item-num\">4&nbsp;&nbsp;</span>Проверка алгоритма</a></span><ul class=\"toc-item\"><li><span><a href=\"#Выделение-признаков.\" data-toc-modified-id=\"Выделение-признаков.-4.1\"><span class=\"toc-item-num\">4.1&nbsp;&nbsp;</span>Выделение признаков.</a></span></li><li><span><a href=\"#Создание-модели-линейной-регрессии\" data-toc-modified-id=\"Создание-модели-линейной-регрессии-4.2\"><span class=\"toc-item-num\">4.2&nbsp;&nbsp;</span>Создание модели линейной регрессии</a></span></li><li><span><a href=\"#Создание-обратимой-матрицы\" data-toc-modified-id=\"Создание-обратимой-матрицы-4.3\"><span class=\"toc-item-num\">4.3&nbsp;&nbsp;</span>Создание обратимой матрицы</a></span></li><li><span><a href=\"#Обучение-модели-на-исходных-данных\" data-toc-modified-id=\"Обучение-модели-на-исходных-данных-4.4\"><span class=\"toc-item-num\">4.4&nbsp;&nbsp;</span>Обучение модели на исходных данных</a></span></li><li><span><a href=\"#Обучение-модели-на-преобразованных-данных\" data-toc-modified-id=\"Обучение-модели-на-преобразованных-данных-4.5\"><span class=\"toc-item-num\">4.5&nbsp;&nbsp;</span>Обучение модели на преобразованных данных</a></span></li></ul></li><li><span><a href=\"#Чек-лист-проверки\" data-toc-modified-id=\"Чек-лист-проверки-5\"><span class=\"toc-item-num\">5&nbsp;&nbsp;</span>Чек-лист проверки</a></span></li><li><span><a href=\"#Финальные-комментарии-ревьюера\" data-toc-modified-id=\"Финальные-комментарии-ревьюера-6\"><span class=\"toc-item-num\">6&nbsp;&nbsp;</span>Финальные комментарии ревьюера</a></span></li></ul></div>"
   ]
  },
  {
   "cell_type": "markdown",
   "metadata": {},
   "source": [
    "# Защита персональных данных клиентов"
   ]
  },
  {
   "cell_type": "markdown",
   "metadata": {},
   "source": [
    "Вам нужно защитить данные клиентов страховой компании «Хоть потоп». Разработайте такой метод преобразования данных, чтобы по ним было сложно восстановить персональную информацию. Обоснуйте корректность его работы.\n",
    "\n",
    "Нужно защитить данные, чтобы при преобразовании качество моделей машинного обучения не ухудшилось. Подбирать наилучшую модель не требуется."
   ]
  },
  {
   "cell_type": "markdown",
   "metadata": {},
   "source": [
    "## Загрузка данных"
   ]
  },
  {
   "cell_type": "markdown",
   "metadata": {},
   "source": [
    "Импортируем библиотеки, которые могут понадобиться в ходе написания проекта."
   ]
  },
  {
   "cell_type": "code",
   "execution_count": 1,
   "metadata": {},
   "outputs": [],
   "source": [
    "import pandas as pd\n",
    "import numpy as np\n",
    "from sklearn.metrics import r2_score"
   ]
  },
  {
   "cell_type": "markdown",
   "metadata": {},
   "source": [
    "### Информация о данных"
   ]
  },
  {
   "cell_type": "markdown",
   "metadata": {},
   "source": [
    "Прочитаем файл, сохраним его в переменной data и просмотрим его."
   ]
  },
  {
   "cell_type": "code",
   "execution_count": 2,
   "metadata": {},
   "outputs": [],
   "source": [
    "data = pd.read_csv('/datasets/insurance.csv')"
   ]
  },
  {
   "cell_type": "markdown",
   "metadata": {},
   "source": [
    "Напишем функцию, которая принимает датасет и возвращает различную информацию о данных в нем."
   ]
  },
  {
   "cell_type": "code",
   "execution_count": 3,
   "metadata": {},
   "outputs": [],
   "source": [
    "def data_info (df):\n",
    "    display(df.head())\n",
    "    print('Информация о датасете:')\n",
    "    df.info()\n",
    "    print('Описательная статистика:')\n",
    "    display(df.describe().T)\n",
    "    print('Дубликаты:')\n",
    "    display(df.duplicated().sum())\n",
    "    print('Пропуски:')\n",
    "    for col in df.columns:\n",
    "        pct_missing = np.mean(df[col].isna())\n",
    "        print('{} - {}%'.format(col, round(pct_missing*100,2)))"
   ]
  },
  {
   "cell_type": "code",
   "execution_count": 4,
   "metadata": {},
   "outputs": [
    {
     "data": {
      "text/html": [
       "<div>\n",
       "<style scoped>\n",
       "    .dataframe tbody tr th:only-of-type {\n",
       "        vertical-align: middle;\n",
       "    }\n",
       "\n",
       "    .dataframe tbody tr th {\n",
       "        vertical-align: top;\n",
       "    }\n",
       "\n",
       "    .dataframe thead th {\n",
       "        text-align: right;\n",
       "    }\n",
       "</style>\n",
       "<table border=\"1\" class=\"dataframe\">\n",
       "  <thead>\n",
       "    <tr style=\"text-align: right;\">\n",
       "      <th></th>\n",
       "      <th>Пол</th>\n",
       "      <th>Возраст</th>\n",
       "      <th>Зарплата</th>\n",
       "      <th>Члены семьи</th>\n",
       "      <th>Страховые выплаты</th>\n",
       "    </tr>\n",
       "  </thead>\n",
       "  <tbody>\n",
       "    <tr>\n",
       "      <th>0</th>\n",
       "      <td>1</td>\n",
       "      <td>41.0</td>\n",
       "      <td>49600.0</td>\n",
       "      <td>1</td>\n",
       "      <td>0</td>\n",
       "    </tr>\n",
       "    <tr>\n",
       "      <th>1</th>\n",
       "      <td>0</td>\n",
       "      <td>46.0</td>\n",
       "      <td>38000.0</td>\n",
       "      <td>1</td>\n",
       "      <td>1</td>\n",
       "    </tr>\n",
       "    <tr>\n",
       "      <th>2</th>\n",
       "      <td>0</td>\n",
       "      <td>29.0</td>\n",
       "      <td>21000.0</td>\n",
       "      <td>0</td>\n",
       "      <td>0</td>\n",
       "    </tr>\n",
       "    <tr>\n",
       "      <th>3</th>\n",
       "      <td>0</td>\n",
       "      <td>21.0</td>\n",
       "      <td>41700.0</td>\n",
       "      <td>2</td>\n",
       "      <td>0</td>\n",
       "    </tr>\n",
       "    <tr>\n",
       "      <th>4</th>\n",
       "      <td>1</td>\n",
       "      <td>28.0</td>\n",
       "      <td>26100.0</td>\n",
       "      <td>0</td>\n",
       "      <td>0</td>\n",
       "    </tr>\n",
       "  </tbody>\n",
       "</table>\n",
       "</div>"
      ],
      "text/plain": [
       "   Пол  Возраст  Зарплата  Члены семьи  Страховые выплаты\n",
       "0    1     41.0   49600.0            1                  0\n",
       "1    0     46.0   38000.0            1                  1\n",
       "2    0     29.0   21000.0            0                  0\n",
       "3    0     21.0   41700.0            2                  0\n",
       "4    1     28.0   26100.0            0                  0"
      ]
     },
     "metadata": {},
     "output_type": "display_data"
    },
    {
     "name": "stdout",
     "output_type": "stream",
     "text": [
      "Информация о датасете:\n",
      "<class 'pandas.core.frame.DataFrame'>\n",
      "RangeIndex: 5000 entries, 0 to 4999\n",
      "Data columns (total 5 columns):\n",
      " #   Column             Non-Null Count  Dtype  \n",
      "---  ------             --------------  -----  \n",
      " 0   Пол                5000 non-null   int64  \n",
      " 1   Возраст            5000 non-null   float64\n",
      " 2   Зарплата           5000 non-null   float64\n",
      " 3   Члены семьи        5000 non-null   int64  \n",
      " 4   Страховые выплаты  5000 non-null   int64  \n",
      "dtypes: float64(2), int64(3)\n",
      "memory usage: 195.4 KB\n",
      "Описательная статистика:\n"
     ]
    },
    {
     "data": {
      "text/html": [
       "<div>\n",
       "<style scoped>\n",
       "    .dataframe tbody tr th:only-of-type {\n",
       "        vertical-align: middle;\n",
       "    }\n",
       "\n",
       "    .dataframe tbody tr th {\n",
       "        vertical-align: top;\n",
       "    }\n",
       "\n",
       "    .dataframe thead th {\n",
       "        text-align: right;\n",
       "    }\n",
       "</style>\n",
       "<table border=\"1\" class=\"dataframe\">\n",
       "  <thead>\n",
       "    <tr style=\"text-align: right;\">\n",
       "      <th></th>\n",
       "      <th>count</th>\n",
       "      <th>mean</th>\n",
       "      <th>std</th>\n",
       "      <th>min</th>\n",
       "      <th>25%</th>\n",
       "      <th>50%</th>\n",
       "      <th>75%</th>\n",
       "      <th>max</th>\n",
       "    </tr>\n",
       "  </thead>\n",
       "  <tbody>\n",
       "    <tr>\n",
       "      <th>Пол</th>\n",
       "      <td>5000.0</td>\n",
       "      <td>0.4990</td>\n",
       "      <td>0.500049</td>\n",
       "      <td>0.0</td>\n",
       "      <td>0.0</td>\n",
       "      <td>0.0</td>\n",
       "      <td>1.0</td>\n",
       "      <td>1.0</td>\n",
       "    </tr>\n",
       "    <tr>\n",
       "      <th>Возраст</th>\n",
       "      <td>5000.0</td>\n",
       "      <td>30.9528</td>\n",
       "      <td>8.440807</td>\n",
       "      <td>18.0</td>\n",
       "      <td>24.0</td>\n",
       "      <td>30.0</td>\n",
       "      <td>37.0</td>\n",
       "      <td>65.0</td>\n",
       "    </tr>\n",
       "    <tr>\n",
       "      <th>Зарплата</th>\n",
       "      <td>5000.0</td>\n",
       "      <td>39916.3600</td>\n",
       "      <td>9900.083569</td>\n",
       "      <td>5300.0</td>\n",
       "      <td>33300.0</td>\n",
       "      <td>40200.0</td>\n",
       "      <td>46600.0</td>\n",
       "      <td>79000.0</td>\n",
       "    </tr>\n",
       "    <tr>\n",
       "      <th>Члены семьи</th>\n",
       "      <td>5000.0</td>\n",
       "      <td>1.1942</td>\n",
       "      <td>1.091387</td>\n",
       "      <td>0.0</td>\n",
       "      <td>0.0</td>\n",
       "      <td>1.0</td>\n",
       "      <td>2.0</td>\n",
       "      <td>6.0</td>\n",
       "    </tr>\n",
       "    <tr>\n",
       "      <th>Страховые выплаты</th>\n",
       "      <td>5000.0</td>\n",
       "      <td>0.1480</td>\n",
       "      <td>0.463183</td>\n",
       "      <td>0.0</td>\n",
       "      <td>0.0</td>\n",
       "      <td>0.0</td>\n",
       "      <td>0.0</td>\n",
       "      <td>5.0</td>\n",
       "    </tr>\n",
       "  </tbody>\n",
       "</table>\n",
       "</div>"
      ],
      "text/plain": [
       "                    count        mean          std     min      25%      50%  \\\n",
       "Пол                5000.0      0.4990     0.500049     0.0      0.0      0.0   \n",
       "Возраст            5000.0     30.9528     8.440807    18.0     24.0     30.0   \n",
       "Зарплата           5000.0  39916.3600  9900.083569  5300.0  33300.0  40200.0   \n",
       "Члены семьи        5000.0      1.1942     1.091387     0.0      0.0      1.0   \n",
       "Страховые выплаты  5000.0      0.1480     0.463183     0.0      0.0      0.0   \n",
       "\n",
       "                       75%      max  \n",
       "Пол                    1.0      1.0  \n",
       "Возраст               37.0     65.0  \n",
       "Зарплата           46600.0  79000.0  \n",
       "Члены семьи            2.0      6.0  \n",
       "Страховые выплаты      0.0      5.0  "
      ]
     },
     "metadata": {},
     "output_type": "display_data"
    },
    {
     "name": "stdout",
     "output_type": "stream",
     "text": [
      "Дубликаты:\n"
     ]
    },
    {
     "data": {
      "text/plain": [
       "153"
      ]
     },
     "metadata": {},
     "output_type": "display_data"
    },
    {
     "name": "stdout",
     "output_type": "stream",
     "text": [
      "Пропуски:\n",
      "Пол - 0.0%\n",
      "Возраст - 0.0%\n",
      "Зарплата - 0.0%\n",
      "Члены семьи - 0.0%\n",
      "Страховые выплаты - 0.0%\n"
     ]
    }
   ],
   "source": [
    "data_info(data)"
   ]
  },
  {
   "cell_type": "markdown",
   "metadata": {},
   "source": [
    "Дата сет состоит из 5 столбцов и 5000 строк.\n",
    "- Столбец пол имеет тип данных int - целочисленные значения 1 или 0. В описании к данным не указано какой пол соответствут значениям 1 или 0, это не так важно. Предположим что 0 - женский пол, а 1 - мужской.\n",
    "- Столбец Возраст имеет тип данных float. Значения возраста. Минимальное значение 18 лет максимальное 65.\n",
    "- В столбце Зарплата указаны данные о зарплате клиентов. Минимальное значение 5300, а максимальное 79000. Средняя зарплата 39916, а медианное значение 40200. В описании к данным не указано в каких единицах измеряется зарплата, предположим что в рублях.\n",
    "- Столбец члены семьи содержит данные о количестве членов в семье и имеет тип данных int. \n",
    "- Страховые выплаты. Тип данных int, от 0 до 5, это говорит о том что в данном столбце представленны данные о количестве случаев страховых выплат, а не о их размере.<br><br>\n",
    "В данных отсутствуют пропуски, но имеются дубликаты 153 случая. Значения в данных по своей природе не сильно отличаются друг от друга и дубликаты вполне могут являться не дубликатами, а данными разных клиентов, поэтому, я считаю удалять их не совсем корректно."
   ]
  },
  {
   "cell_type": "markdown",
   "metadata": {},
   "source": [
    "## Умножение матриц"
   ]
  },
  {
   "cell_type": "markdown",
   "metadata": {},
   "source": [
    "В этом задании вы можете записывать формулы в *Jupyter Notebook.*\n",
    "\n",
    "Чтобы записать формулу внутри текста, окружите её символами доллара \\\\$; если снаружи —  двойными символами \\\\$\\\\$. Эти формулы записываются на языке вёрстки *LaTeX.* \n",
    "\n",
    "Для примера мы записали формулы линейной регрессии. Можете их скопировать и отредактировать, чтобы решить задачу.\n",
    "\n",
    "Работать в *LaTeX* необязательно."
   ]
  },
  {
   "cell_type": "markdown",
   "metadata": {},
   "source": [
    "Обозначения:\n",
    "\n",
    "- $X$ — матрица признаков (нулевой столбец состоит из единиц)\n",
    "\n",
    "- $y$ — вектор целевого признака\n",
    "\n",
    "- $P$ — матрица, на которую умножаются признаки\n",
    "\n",
    "- $w$ — вектор весов линейной регрессии (нулевой элемент равен сдвигу)"
   ]
  },
  {
   "cell_type": "markdown",
   "metadata": {},
   "source": [
    "Предсказания:\n",
    "\n",
    "$$\n",
    "a = Xw\n",
    "$$\n",
    "\n",
    "Задача обучения:\n",
    "\n",
    "$$\n",
    "w = \\arg\\min_w MSE(Xw, y)\n",
    "$$\n",
    "\n",
    "Формула обучения:\n",
    "\n",
    "$$\n",
    "w = (X^T X)^{-1} X^T y\n",
    "$$"
   ]
  },
  {
   "cell_type": "markdown",
   "metadata": {},
   "source": [
    "**Обоснование:** \n",
    "Умножим признаки на обратимую матрицу.<br><br>\n",
    "Если:<br>\n",
    "$$Хn=XP$$<br><br>\n",
    "Тогда:<br>\n",
    "$$w_{n} = ((XP)^T XP)^{-1} (XP)^T y$$\n",
    "\n",
    "$$w_{n} = ((P^TX^T)(XP))^{-1} (P^TX^T) y$$    \n",
    "    \n",
    "$$w_{n} = (P^T((X^TX)P))^{-1} (P^TX^T) y$$\n",
    "\n",
    "$$w_{n} = ((X^TX)P)^{-1}(P^T)^{-1}(P^TX^T)y$$\n",
    "\n",
    "$$w_{n} = P^{-1}(X^TX)^{-1}((P^T)^{-1}(P^T))X^T y$$\n",
    "    \n",
    "$$w_{n} = P^{-1}(X^TX)^{-1}X^T y$$<br><br>\n",
    "Имея формулу обучения:\n",
    "$$\n",
    "w = (X^T X)^{-1} X^T y\n",
    "$$\n",
    "Получаем:\n",
    "$$\n",
    "w_{n} = P^{-1}w\n",
    "$$\n",
    "<br><br>\n",
    "Далее подставим наши значения в формулу предсказания:\n",
    "$$a = Xw$$\n",
    "Наша формула предсказания будет иметь вид:\n",
    "$$a_{n} = X_{n}w_{n}$$\n",
    "\n",
    "А если: $$X_{n} = XP$$\n",
    "и $$w_{n} = P^{-1}w$$\n",
    "\n",
    "Получается что:\n",
    "$$a_{n} = XP P^{-1}w$$\n",
    "$$a_{n} = Xw$$\n",
    "\n",
    "Исходя из этого видно что:\n",
    "$$a_{n} = Xw = a$$\n",
    "\n",
    "**Ответ:** Верный ответ  b. не изменится. $a_{n}$ это тоже самое что $a$, а значит при умножении матрицы признаков на любую обратимую матрицу качество обучения модели линейной регрессии не меняется."
   ]
  },
  {
   "cell_type": "markdown",
   "metadata": {},
   "source": [
    "## Алгоритм преобразования"
   ]
  },
  {
   "cell_type": "markdown",
   "metadata": {},
   "source": [
    "**Алгоритм**\n",
    "\n",
    "Для того чтобы выполнить задачу проекта и защитить персональные данные, методом их преобразования, необходимо будет:\n",
    "1. Сгенерируем случайную квадратную матрицу по размеру количества признаков то есть 4х4.\n",
    "2. Проверим сгениерированную матрицу на обратимость.\n",
    "3. Умножить матрицу исходных признаков на новую созданную матрицу.\n",
    "4. Определяем значения метрики качества R2 на исходных и преобразованных данных.\n",
    "5. Делаем вывод о работе метода на основании сравнения метрики R2 для исходных и преобразованных данных.<br>\n",
    "Таким образом исходные персональные данные поменяют свой вид и станут не читаемы."
   ]
  },
  {
   "cell_type": "markdown",
   "metadata": {},
   "source": [
    "**Обоснование**\n",
    "\n",
    "Из предыдущего раздела мы выяснили что предсказания на исходной и измененной матрице не должны отличаться. Определить это можно по качеству обучения линейной регрессии. Определим метрику R2 на исходных и идменных данных.\n"
   ]
  },
  {
   "cell_type": "markdown",
   "metadata": {},
   "source": [
    "## Проверка алгоритма"
   ]
  },
  {
   "cell_type": "markdown",
   "metadata": {},
   "source": [
    "### Выделение признаков."
   ]
  },
  {
   "cell_type": "markdown",
   "metadata": {},
   "source": [
    "\"Страховые выплаты\" это целевой признак, остальные признаки."
   ]
  },
  {
   "cell_type": "code",
   "execution_count": 5,
   "metadata": {},
   "outputs": [],
   "source": [
    "features = data.drop('Страховые выплаты', axis=1)\n",
    "target = data['Страховые выплаты']"
   ]
  },
  {
   "cell_type": "markdown",
   "metadata": {},
   "source": [
    "### Создание модели линейной регрессии"
   ]
  },
  {
   "cell_type": "code",
   "execution_count": 6,
   "metadata": {},
   "outputs": [],
   "source": [
    "class LinearRegression:\n",
    "    def fit(self, train_features, train_target):\n",
    "        X = np.concatenate((np.ones((train_features.shape[0], 1)), train_features), axis=1)\n",
    "        y = train_target\n",
    "        w = np.linalg.inv(X.T.dot(X)).dot(X.T).dot(y)\n",
    "        self.w = w[1:]\n",
    "        self.w0 = w[0]\n",
    "\n",
    "    def predict(self, test_features):\n",
    "        return test_features.dot(self.w) + self.w0"
   ]
  },
  {
   "cell_type": "markdown",
   "metadata": {},
   "source": [
    "### Создание обратимой матрицы"
   ]
  },
  {
   "cell_type": "code",
   "execution_count": 7,
   "metadata": {},
   "outputs": [
    {
     "data": {
      "text/plain": [
       "array([[-1.14287683, -0.10851307,  0.17552746, -1.35170531],\n",
       "       [-0.87305587, -1.67171589,  0.09294288,  0.63680472],\n",
       "       [ 0.44587228, -0.77937189, -0.09688664, -1.13705584],\n",
       "       [-0.66520495, -0.01807249,  1.39367032,  1.12459473]])"
      ]
     },
     "execution_count": 7,
     "metadata": {},
     "output_type": "execute_result"
    }
   ],
   "source": [
    "matrix = np.random.normal(size=(4, 4))\n",
    "matrix"
   ]
  },
  {
   "cell_type": "markdown",
   "metadata": {},
   "source": [
    "Проверим сгенерированную матрицу на обратимость. Создадим обратную матрицу сгенерированной функцией np.linalg.inv(), если код выдаст ошибку, то сгенерированная матрица не обратимая."
   ]
  },
  {
   "cell_type": "code",
   "execution_count": 8,
   "metadata": {},
   "outputs": [
    {
     "data": {
      "text/plain": [
       "array([[-0.52166672, -0.24890911,  0.60364912,  0.12426662],\n",
       "       [ 0.15431227, -0.40605926, -0.43307083, -0.02246191],\n",
       "       [ 0.00367519, -0.28982772,  0.60310691,  0.77832276],\n",
       "       [-0.31064389,  0.20541642, -0.39730622, -0.00219502]])"
      ]
     },
     "execution_count": 8,
     "metadata": {},
     "output_type": "execute_result"
    }
   ],
   "source": [
    "matrix_inv = np.linalg.inv(matrix)\n",
    "matrix_inv"
   ]
  },
  {
   "cell_type": "markdown",
   "metadata": {},
   "source": [
    "Код ошибки не выдал, значит наша сгенерированная матрица обратима."
   ]
  },
  {
   "cell_type": "markdown",
   "metadata": {},
   "source": [
    "Получили квадратнцю матрицу размером 4х4"
   ]
  },
  {
   "cell_type": "markdown",
   "metadata": {},
   "source": [
    "### Обучение модели на исходных данных"
   ]
  },
  {
   "cell_type": "code",
   "execution_count": 9,
   "metadata": {},
   "outputs": [
    {
     "data": {
      "text/plain": [
       "'Значение метрики R2 до преборазования: 0.42494550286668'"
      ]
     },
     "metadata": {},
     "output_type": "display_data"
    }
   ],
   "source": [
    "model_1 = LinearRegression()\n",
    "model_1.fit(features, target)\n",
    "predictions_1 = model_1.predict(features)\n",
    "r2_1 = r2_score(target, predictions_1)\n",
    "display(f'Значение метрики R2 до преборазования: {r2_1}')"
   ]
  },
  {
   "cell_type": "markdown",
   "metadata": {},
   "source": [
    "### Обучение модели на преобразованных данных"
   ]
  },
  {
   "cell_type": "markdown",
   "metadata": {},
   "source": [
    "Умножим признаки на сгенерированную матрицу."
   ]
  },
  {
   "cell_type": "code",
   "execution_count": 10,
   "metadata": {},
   "outputs": [
    {
     "data": {
      "text/html": [
       "<div>\n",
       "<style scoped>\n",
       "    .dataframe tbody tr th:only-of-type {\n",
       "        vertical-align: middle;\n",
       "    }\n",
       "\n",
       "    .dataframe tbody tr th {\n",
       "        vertical-align: top;\n",
       "    }\n",
       "\n",
       "    .dataframe thead th {\n",
       "        text-align: right;\n",
       "    }\n",
       "</style>\n",
       "<table border=\"1\" class=\"dataframe\">\n",
       "  <thead>\n",
       "    <tr style=\"text-align: right;\">\n",
       "      <th></th>\n",
       "      <th>0</th>\n",
       "      <th>1</th>\n",
       "      <th>2</th>\n",
       "      <th>3</th>\n",
       "    </tr>\n",
       "  </thead>\n",
       "  <tbody>\n",
       "    <tr>\n",
       "      <th>0</th>\n",
       "      <td>22077.661702</td>\n",
       "      <td>-38725.512799</td>\n",
       "      <td>-4800.197678</td>\n",
       "      <td>-56372.087910</td>\n",
       "    </tr>\n",
       "    <tr>\n",
       "      <th>1</th>\n",
       "      <td>16902.320854</td>\n",
       "      <td>-29693.048914</td>\n",
       "      <td>-3676.023423</td>\n",
       "      <td>-43177.704407</td>\n",
       "    </tr>\n",
       "    <tr>\n",
       "      <th>2</th>\n",
       "      <td>9337.999254</td>\n",
       "      <td>-16415.289501</td>\n",
       "      <td>-2031.924177</td>\n",
       "      <td>-23859.705358</td>\n",
       "    </tr>\n",
       "    <tr>\n",
       "      <th>3</th>\n",
       "      <td>18573.209481</td>\n",
       "      <td>-32534.950091</td>\n",
       "      <td>-4035.433907</td>\n",
       "      <td>-47399.606548</td>\n",
       "    </tr>\n",
       "    <tr>\n",
       "      <th>4</th>\n",
       "      <td>11611.678060</td>\n",
       "      <td>-20388.522949</td>\n",
       "      <td>-2525.963476</td>\n",
       "      <td>-29660.678665</td>\n",
       "    </tr>\n",
       "    <tr>\n",
       "      <th>...</th>\n",
       "      <td>...</td>\n",
       "      <td>...</td>\n",
       "      <td>...</td>\n",
       "      <td>...</td>\n",
       "    </tr>\n",
       "    <tr>\n",
       "      <th>4995</th>\n",
       "      <td>15891.864412</td>\n",
       "      <td>-27870.420748</td>\n",
       "      <td>-3453.463444</td>\n",
       "      <td>-40572.813859</td>\n",
       "    </tr>\n",
       "    <tr>\n",
       "      <th>4996</th>\n",
       "      <td>23333.358353</td>\n",
       "      <td>-40895.943573</td>\n",
       "      <td>-5072.306409</td>\n",
       "      <td>-59558.950197</td>\n",
       "    </tr>\n",
       "    <tr>\n",
       "      <th>4997</th>\n",
       "      <td>15096.278755</td>\n",
       "      <td>-26454.177614</td>\n",
       "      <td>-3279.811028</td>\n",
       "      <td>-38531.207780</td>\n",
       "    </tr>\n",
       "    <tr>\n",
       "      <th>4998</th>\n",
       "      <td>14557.677826</td>\n",
       "      <td>-25522.401361</td>\n",
       "      <td>-3161.791972</td>\n",
       "      <td>-37165.694270</td>\n",
       "    </tr>\n",
       "    <tr>\n",
       "      <th>4999</th>\n",
       "      <td>18076.160910</td>\n",
       "      <td>-31689.433461</td>\n",
       "      <td>-3929.426141</td>\n",
       "      <td>-46146.863788</td>\n",
       "    </tr>\n",
       "  </tbody>\n",
       "</table>\n",
       "<p>5000 rows × 4 columns</p>\n",
       "</div>"
      ],
      "text/plain": [
       "                 0             1            2             3\n",
       "0     22077.661702 -38725.512799 -4800.197678 -56372.087910\n",
       "1     16902.320854 -29693.048914 -3676.023423 -43177.704407\n",
       "2      9337.999254 -16415.289501 -2031.924177 -23859.705358\n",
       "3     18573.209481 -32534.950091 -4035.433907 -47399.606548\n",
       "4     11611.678060 -20388.522949 -2525.963476 -29660.678665\n",
       "...            ...           ...          ...           ...\n",
       "4995  15891.864412 -27870.420748 -3453.463444 -40572.813859\n",
       "4996  23333.358353 -40895.943573 -5072.306409 -59558.950197\n",
       "4997  15096.278755 -26454.177614 -3279.811028 -38531.207780\n",
       "4998  14557.677826 -25522.401361 -3161.791972 -37165.694270\n",
       "4999  18076.160910 -31689.433461 -3929.426141 -46146.863788\n",
       "\n",
       "[5000 rows x 4 columns]"
      ]
     },
     "execution_count": 10,
     "metadata": {},
     "output_type": "execute_result"
    }
   ],
   "source": [
    "new_features = features @ matrix\n",
    "new_features"
   ]
  },
  {
   "cell_type": "markdown",
   "metadata": {},
   "source": [
    "Посчитаем значение метрики R2 после обучения модели на преобразованых данных."
   ]
  },
  {
   "cell_type": "code",
   "execution_count": 11,
   "metadata": {},
   "outputs": [
    {
     "data": {
      "text/plain": [
       "'Значение метрики R2 до преборазования: 0.42494550286668054'"
      ]
     },
     "metadata": {},
     "output_type": "display_data"
    }
   ],
   "source": [
    "model_2 = LinearRegression()\n",
    "model_2.fit(new_features, target)\n",
    "predictions_2 = model_2.predict(new_features)\n",
    "r2_2 = r2_score(target, predictions_2)\n",
    "display(f'Значение метрики R2 до преборазования: {r2_2}')"
   ]
  },
  {
   "cell_type": "markdown",
   "metadata": {},
   "source": [
    "**Вывод:**\n",
    "Мы обучили модель линейной регрессии на исходных и преобразованных данных и посчитали значение метрики качаства R2. В обоих случаях значения метрик одинаковые. Это значит что использовать данные после их преобразования для предсказания страховых выплат будет корректно, без потери качества.<br>\n",
    "А техника защиты данных методом умножения на обратимую матрицу работает и данные клиентов защищены."
   ]
  },
  {
   "cell_type": "markdown",
   "metadata": {},
   "source": [
    "## Чек-лист проверки"
   ]
  },
  {
   "cell_type": "markdown",
   "metadata": {},
   "source": [
    "Поставьте 'x' в выполненных пунктах. Далее нажмите Shift+Enter."
   ]
  },
  {
   "cell_type": "markdown",
   "metadata": {},
   "source": [
    "- [x]  Jupyter Notebook открыт\n",
    "- [x]  Весь код выполняется без ошибок\n",
    "- [x]  Ячейки с кодом расположены в порядке исполнения\n",
    "- [x]  Выполнен шаг 1: данные загружены\n",
    "- [x]  Выполнен шаг 2: получен ответ на вопрос об умножении матриц\n",
    "    - [x]  Указан правильный вариант ответа\n",
    "    - [ ]  Вариант обоснован\n",
    "- [x]  Выполнен шаг 3: предложен алгоритм преобразования\n",
    "    - [x]  Алгоритм описан\n",
    "    - [x]  Алгоритм обоснован\n",
    "- [x]  Выполнен шаг 4: алгоритм проверен\n",
    "    - [x]  Алгоритм реализован\n",
    "    - [x]  Проведено сравнение качества моделей до и после преобразования"
   ]
  },
  {
   "cell_type": "markdown",
   "metadata": {},
   "source": [
    "## Финальные комментарии ревьюера"
   ]
  },
  {
   "cell_type": "markdown",
   "metadata": {},
   "source": [
    "<div class=\"alert alert-success\" style=\"border-color: green; border-radius: 5px\">\n",
    "    <p><u><b>✅ КОММЕНТАРИЙ РЕВЬЮЕРА</b></u></p>\n",
    "    \n",
    "Дополнительно рекомнедую почитать \n",
    "\n",
    "http://mathprofi.ru/deistviya_s_matricami.html здесь несколько разделов по линейной алгебре\n",
    "    \n",
    "https://www.youtube.com/watch?v=jUlO8aErxZM&list=PLcsjsqLLSfNAwTJdwpF6Qp2QHfqN62w33&index=1 а это, если надоели сериалы))\n",
    "    \n",
    "</div>"
   ]
  },
  {
   "cell_type": "code",
   "execution_count": null,
   "metadata": {},
   "outputs": [],
   "source": []
  }
 ],
 "metadata": {
  "ExecuteTimeLog": [
   {
    "duration": 387,
    "start_time": "2022-12-25T12:37:41.618Z"
   },
   {
    "duration": 378,
    "start_time": "2022-12-28T08:08:04.947Z"
   },
   {
    "duration": 122,
    "start_time": "2022-12-28T08:12:43.256Z"
   },
   {
    "duration": 20,
    "start_time": "2022-12-28T08:12:50.669Z"
   },
   {
    "duration": 38,
    "start_time": "2022-12-28T08:19:49.475Z"
   },
   {
    "duration": 60,
    "start_time": "2022-12-28T08:20:21.071Z"
   },
   {
    "duration": 5,
    "start_time": "2022-12-28T08:20:25.631Z"
   },
   {
    "duration": 52,
    "start_time": "2022-12-28T08:20:28.594Z"
   },
   {
    "duration": 52,
    "start_time": "2022-12-28T08:29:24.881Z"
   },
   {
    "duration": 7,
    "start_time": "2022-12-28T08:47:53.210Z"
   },
   {
    "duration": 30,
    "start_time": "2022-12-28T08:58:09.794Z"
   },
   {
    "duration": 4,
    "start_time": "2022-12-28T08:58:13.134Z"
   },
   {
    "duration": 44,
    "start_time": "2022-12-28T08:58:16.747Z"
   },
   {
    "duration": 5,
    "start_time": "2022-12-28T11:50:03.508Z"
   },
   {
    "duration": 8,
    "start_time": "2022-12-28T11:54:42.547Z"
   },
   {
    "duration": 4,
    "start_time": "2022-12-28T11:54:49.360Z"
   },
   {
    "duration": 4,
    "start_time": "2022-12-28T11:54:51.443Z"
   },
   {
    "duration": 8,
    "start_time": "2022-12-28T11:54:53.642Z"
   },
   {
    "duration": 4,
    "start_time": "2022-12-28T11:55:01.173Z"
   },
   {
    "duration": 60,
    "start_time": "2022-12-28T11:55:04.755Z"
   },
   {
    "duration": 706,
    "start_time": "2022-12-28T11:55:36.975Z"
   },
   {
    "duration": 9,
    "start_time": "2022-12-28T11:55:42.359Z"
   },
   {
    "duration": 8,
    "start_time": "2022-12-28T11:56:13.971Z"
   },
   {
    "duration": 13,
    "start_time": "2022-12-28T11:59:05.507Z"
   },
   {
    "duration": 47,
    "start_time": "2022-12-28T12:00:13.264Z"
   },
   {
    "duration": 41,
    "start_time": "2022-12-28T12:03:47.272Z"
   },
   {
    "duration": 1287,
    "start_time": "2022-12-28T15:44:53.947Z"
   },
   {
    "duration": 76,
    "start_time": "2022-12-28T15:44:55.236Z"
   },
   {
    "duration": 4,
    "start_time": "2022-12-28T15:44:55.314Z"
   },
   {
    "duration": 87,
    "start_time": "2022-12-28T15:44:55.320Z"
   },
   {
    "duration": 3,
    "start_time": "2022-12-28T15:44:55.409Z"
   },
   {
    "duration": 34,
    "start_time": "2022-12-28T15:44:55.414Z"
   },
   {
    "duration": 15,
    "start_time": "2022-12-28T15:44:55.450Z"
   },
   {
    "duration": 70,
    "start_time": "2022-12-28T15:44:55.466Z"
   },
   {
    "duration": 121,
    "start_time": "2022-12-28T15:44:55.538Z"
   },
   {
    "duration": 74,
    "start_time": "2022-12-28T15:44:55.661Z"
   },
   {
    "duration": 8,
    "start_time": "2022-12-28T16:08:59.119Z"
   },
   {
    "duration": 8,
    "start_time": "2022-12-28T16:09:06.086Z"
   },
   {
    "duration": 10,
    "start_time": "2022-12-28T16:09:08.286Z"
   },
   {
    "duration": 10,
    "start_time": "2022-12-28T16:09:09.856Z"
   },
   {
    "duration": 1252,
    "start_time": "2022-12-28T16:09:24.694Z"
   },
   {
    "duration": 29,
    "start_time": "2022-12-28T16:09:25.948Z"
   },
   {
    "duration": 4,
    "start_time": "2022-12-28T16:09:25.979Z"
   },
   {
    "duration": 70,
    "start_time": "2022-12-28T16:09:25.986Z"
   },
   {
    "duration": 4,
    "start_time": "2022-12-28T16:09:26.057Z"
   },
   {
    "duration": 16,
    "start_time": "2022-12-28T16:09:26.063Z"
   },
   {
    "duration": 13,
    "start_time": "2022-12-28T16:09:26.081Z"
   },
   {
    "duration": 42,
    "start_time": "2022-12-28T16:09:26.096Z"
   },
   {
    "duration": 106,
    "start_time": "2022-12-28T16:09:26.140Z"
   },
   {
    "duration": 12,
    "start_time": "2022-12-28T16:09:26.248Z"
   },
   {
    "duration": 70,
    "start_time": "2022-12-30T11:02:04.965Z"
   },
   {
    "duration": 1132,
    "start_time": "2022-12-30T11:02:22.919Z"
   },
   {
    "duration": 27,
    "start_time": "2022-12-30T11:02:24.053Z"
   },
   {
    "duration": 5,
    "start_time": "2022-12-30T11:02:24.082Z"
   },
   {
    "duration": 79,
    "start_time": "2022-12-30T11:02:24.089Z"
   },
   {
    "duration": 4,
    "start_time": "2022-12-30T11:02:24.169Z"
   },
   {
    "duration": 13,
    "start_time": "2022-12-30T11:02:24.174Z"
   },
   {
    "duration": 36,
    "start_time": "2022-12-30T11:02:24.189Z"
   },
   {
    "duration": 20,
    "start_time": "2022-12-30T11:02:24.226Z"
   },
   {
    "duration": 83,
    "start_time": "2022-12-30T11:02:24.247Z"
   },
   {
    "duration": 95,
    "start_time": "2022-12-30T11:02:24.411Z"
   },
   {
    "duration": 17,
    "start_time": "2022-12-30T11:02:24.509Z"
   },
   {
    "duration": 9,
    "start_time": "2022-12-30T11:02:46.784Z"
   },
   {
    "duration": 1254,
    "start_time": "2022-12-30T11:07:07.528Z"
   },
   {
    "duration": 36,
    "start_time": "2022-12-30T11:07:08.784Z"
   },
   {
    "duration": 7,
    "start_time": "2022-12-30T11:07:08.825Z"
   },
   {
    "duration": 77,
    "start_time": "2022-12-30T11:07:08.837Z"
   },
   {
    "duration": 4,
    "start_time": "2022-12-30T11:07:08.915Z"
   },
   {
    "duration": 9,
    "start_time": "2022-12-30T11:07:08.921Z"
   },
   {
    "duration": 13,
    "start_time": "2022-12-30T11:07:08.931Z"
   },
   {
    "duration": 18,
    "start_time": "2022-12-30T11:07:08.946Z"
   },
   {
    "duration": 115,
    "start_time": "2022-12-30T11:07:08.997Z"
   },
   {
    "duration": 97,
    "start_time": "2022-12-30T11:07:09.115Z"
   },
   {
    "duration": 90,
    "start_time": "2022-12-30T11:07:09.221Z"
   },
   {
    "duration": 110,
    "start_time": "2022-12-30T11:07:09.313Z"
   },
   {
    "duration": 51,
    "start_time": "2022-12-30T11:21:13.774Z"
   },
   {
    "duration": 1095,
    "start_time": "2022-12-30T11:22:34.014Z"
   },
   {
    "duration": 30,
    "start_time": "2022-12-30T11:22:35.111Z"
   },
   {
    "duration": 5,
    "start_time": "2022-12-30T11:22:35.142Z"
   },
   {
    "duration": 64,
    "start_time": "2022-12-30T11:22:35.149Z"
   },
   {
    "duration": 4,
    "start_time": "2022-12-30T11:22:35.215Z"
   },
   {
    "duration": 20,
    "start_time": "2022-12-30T11:22:35.221Z"
   },
   {
    "duration": 8,
    "start_time": "2022-12-30T11:22:35.243Z"
   },
   {
    "duration": 15,
    "start_time": "2022-12-30T11:22:35.252Z"
   },
   {
    "duration": 234,
    "start_time": "2022-12-30T11:22:35.268Z"
   },
   {
    "duration": 14,
    "start_time": "2022-12-30T11:22:35.504Z"
   },
   {
    "duration": 85,
    "start_time": "2022-12-30T11:22:35.520Z"
   }
  ],
  "kernelspec": {
   "display_name": "Python 3 (ipykernel)",
   "language": "python",
   "name": "python3"
  },
  "language_info": {
   "codemirror_mode": {
    "name": "ipython",
    "version": 3
   },
   "file_extension": ".py",
   "mimetype": "text/x-python",
   "name": "python",
   "nbconvert_exporter": "python",
   "pygments_lexer": "ipython3",
   "version": "3.9.12"
  },
  "toc": {
   "base_numbering": 1,
   "nav_menu": {},
   "number_sections": true,
   "sideBar": true,
   "skip_h1_title": true,
   "title_cell": "Содержание",
   "title_sidebar": "Contents",
   "toc_cell": true,
   "toc_position": {},
   "toc_section_display": true,
   "toc_window_display": true
  }
 },
 "nbformat": 4,
 "nbformat_minor": 2
}
