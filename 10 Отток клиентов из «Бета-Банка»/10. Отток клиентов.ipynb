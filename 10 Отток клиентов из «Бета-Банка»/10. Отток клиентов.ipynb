{
 "cells": [
  {
   "cell_type": "markdown",
   "metadata": {
    "toc": true
   },
   "source": [
    "<h1>Содержание<span class=\"tocSkip\"></span></h1>\n",
    "<div class=\"toc\"><ul class=\"toc-item\"><li><span><a href=\"#Подготовка-данных\" data-toc-modified-id=\"Подготовка-данных-1\"><span class=\"toc-item-num\">1&nbsp;&nbsp;</span>Подготовка данных</a></span><ul class=\"toc-item\"><li><span><a href=\"#Импорт-библиотек\" data-toc-modified-id=\"Импорт-библиотек-1.1\"><span class=\"toc-item-num\">1.1&nbsp;&nbsp;</span>Импорт библиотек</a></span></li><li><span><a href=\"#Чтение-данных-и-знакомство-с-ними\" data-toc-modified-id=\"Чтение-данных-и-знакомство-с-ними-1.2\"><span class=\"toc-item-num\">1.2&nbsp;&nbsp;</span>Чтение данных и знакомство с ними</a></span></li><li><span><a href=\"#Предобработка-данных\" data-toc-modified-id=\"Предобработка-данных-1.3\"><span class=\"toc-item-num\">1.3&nbsp;&nbsp;</span>Предобработка данных</a></span><ul class=\"toc-item\"><li><span><a href=\"#Удаление-ненужных-столбцов\" data-toc-modified-id=\"Удаление-ненужных-столбцов-1.3.1\"><span class=\"toc-item-num\">1.3.1&nbsp;&nbsp;</span>Удаление ненужных столбцов</a></span></li><li><span><a href=\"#Работа-с-пропусками\" data-toc-modified-id=\"Работа-с-пропусками-1.3.2\"><span class=\"toc-item-num\">1.3.2&nbsp;&nbsp;</span>Работа с пропусками</a></span></li></ul></li><li><span><a href=\"#Преобразование-категориальных-признаков-в-численные.\" data-toc-modified-id=\"Преобразование-категориальных-признаков-в-численные.-1.4\"><span class=\"toc-item-num\">1.4&nbsp;&nbsp;</span>Преобразование категориальных признаков в численные.</a></span></li><li><span><a href=\"#Определение-признаков-и-целевого-признака.\" data-toc-modified-id=\"Определение-признаков-и-целевого-признака.-1.5\"><span class=\"toc-item-num\">1.5&nbsp;&nbsp;</span>Определение признаков и целевого признака.</a></span></li><li><span><a href=\"#Деление-выборки-на-3-части\" data-toc-modified-id=\"Деление-выборки-на-3-части-1.6\"><span class=\"toc-item-num\">1.6&nbsp;&nbsp;</span>Деление выборки на 3 части</a></span></li><li><span><a href=\"#Масштабирование-признаков\" data-toc-modified-id=\"Масштабирование-признаков-1.7\"><span class=\"toc-item-num\">1.7&nbsp;&nbsp;</span>Масштабирование признаков</a></span></li></ul></li><li><span><a href=\"#Исследование-задачи\" data-toc-modified-id=\"Исследование-задачи-2\"><span class=\"toc-item-num\">2&nbsp;&nbsp;</span>Исследование задачи</a></span><ul class=\"toc-item\"><li><span><a href=\"#Модель-решгающее-дерево\" data-toc-modified-id=\"Модель-решгающее-дерево-2.1\"><span class=\"toc-item-num\">2.1&nbsp;&nbsp;</span>Модель решгающее дерево</a></span></li><li><span><a href=\"#Модель-Случайный-лес\" data-toc-modified-id=\"Модель-Случайный-лес-2.2\"><span class=\"toc-item-num\">2.2&nbsp;&nbsp;</span>Модель Случайный лес</a></span></li><li><span><a href=\"#Модель-Логистическая-регрессия\" data-toc-modified-id=\"Модель-Логистическая-регрессия-2.3\"><span class=\"toc-item-num\">2.3&nbsp;&nbsp;</span>Модель Логистическая регрессия</a></span></li><li><span><a href=\"#Определение-метрик-качества-моделей\" data-toc-modified-id=\"Определение-метрик-качества-моделей-2.4\"><span class=\"toc-item-num\">2.4&nbsp;&nbsp;</span>Определение метрик качества моделей</a></span><ul class=\"toc-item\"><li><span><a href=\"#Полнота\" data-toc-modified-id=\"Полнота-2.4.1\"><span class=\"toc-item-num\">2.4.1&nbsp;&nbsp;</span>Полнота</a></span></li><li><span><a href=\"#Точность\" data-toc-modified-id=\"Точность-2.4.2\"><span class=\"toc-item-num\">2.4.2&nbsp;&nbsp;</span>Точность</a></span></li><li><span><a href=\"#F1-мера\" data-toc-modified-id=\"F1-мера-2.4.3\"><span class=\"toc-item-num\">2.4.3&nbsp;&nbsp;</span>F1-мера</a></span></li></ul></li></ul></li><li><span><a href=\"#Борьба-с-дисбалансом\" data-toc-modified-id=\"Борьба-с-дисбалансом-3\"><span class=\"toc-item-num\">3&nbsp;&nbsp;</span>Борьба с дисбалансом</a></span><ul class=\"toc-item\"><li><span><a href=\"#Проверка-баланса-признаков\" data-toc-modified-id=\"Проверка-баланса-признаков-3.1\"><span class=\"toc-item-num\">3.1&nbsp;&nbsp;</span>Проверка баланса признаков</a></span><ul class=\"toc-item\"><li><span><a href=\"#Проверка-баланса-целевого-признака\" data-toc-modified-id=\"Проверка-баланса-целевого-признака-3.1.1\"><span class=\"toc-item-num\">3.1.1&nbsp;&nbsp;</span><em>Проверка баланса целевого признака</em></a></span></li><li><span><a href=\"#Проверка-баланса-предсказаний-модели-Решающее-дерево\" data-toc-modified-id=\"Проверка-баланса-предсказаний-модели-Решающее-дерево-3.1.2\"><span class=\"toc-item-num\">3.1.2&nbsp;&nbsp;</span><em>Проверка баланса предсказаний модели Решающее дерево</em></a></span></li><li><span><a href=\"#Проверка-баланса-предсказаний-модели-Случайный-лес\" data-toc-modified-id=\"Проверка-баланса-предсказаний-модели-Случайный-лес-3.1.3\"><span class=\"toc-item-num\">3.1.3&nbsp;&nbsp;</span><em>Проверка баланса предсказаний модели Случайный лес</em></a></span></li><li><span><a href=\"#Проверка-баланса-предсказаний-модели-Логистическая-регрессия\" data-toc-modified-id=\"Проверка-баланса-предсказаний-модели-Логистическая-регрессия-3.1.4\"><span class=\"toc-item-num\">3.1.4&nbsp;&nbsp;</span><em>Проверка баланса предсказаний модели Логистическая регрессия</em></a></span></li></ul></li><li><span><a href=\"#Взвешивание-классов\" data-toc-modified-id=\"Взвешивание-классов-3.2\"><span class=\"toc-item-num\">3.2&nbsp;&nbsp;</span>Взвешивание классов</a></span><ul class=\"toc-item\"><li><span><a href=\"#Взвешивание-классов-для-решгающего-дерева\" data-toc-modified-id=\"Взвешивание-классов-для-решгающего-дерева-3.2.1\"><span class=\"toc-item-num\">3.2.1&nbsp;&nbsp;</span>Взвешивание классов для решгающего дерева</a></span></li><li><span><a href=\"#Взвешивание-классов-для-случайного-леса\" data-toc-modified-id=\"Взвешивание-классов-для-случайного-леса-3.2.2\"><span class=\"toc-item-num\">3.2.2&nbsp;&nbsp;</span>Взвешивание классов для случайного леса</a></span></li><li><span><a href=\"#Взвешивание-классов-для-логистической-регрессии\" data-toc-modified-id=\"Взвешивание-классов-для-логистической-регрессии-3.2.3\"><span class=\"toc-item-num\">3.2.3&nbsp;&nbsp;</span>Взвешивание классов для логистической регрессии</a></span></li></ul></li><li><span><a href=\"#Увеличение-выборки\" data-toc-modified-id=\"Увеличение-выборки-3.3\"><span class=\"toc-item-num\">3.3&nbsp;&nbsp;</span>Увеличение выборки</a></span><ul class=\"toc-item\"><li><span><a href=\"#Обучение-модели-решающее-дерево-на-увеличенной-выборке\" data-toc-modified-id=\"Обучение-модели-решающее-дерево-на-увеличенной-выборке-3.3.1\"><span class=\"toc-item-num\">3.3.1&nbsp;&nbsp;</span>Обучение модели решающее дерево на увеличенной выборке</a></span></li><li><span><a href=\"#Обучение-модели-случайный-лес-на-увеличенной-выборке\" data-toc-modified-id=\"Обучение-модели-случайный-лес-на-увеличенной-выборке-3.3.2\"><span class=\"toc-item-num\">3.3.2&nbsp;&nbsp;</span>Обучение модели случайный лес на увеличенной выборке</a></span></li><li><span><a href=\"#Обучение-модели-логистическая-регрессия-на-увеличенной-выборке\" data-toc-modified-id=\"Обучение-модели-логистическая-регрессия-на-увеличенной-выборке-3.3.3\"><span class=\"toc-item-num\">3.3.3&nbsp;&nbsp;</span>Обучение модели логистическая регрессия на увеличенной выборке</a></span></li></ul></li></ul></li><li><span><a href=\"#Тестирование-модели\" data-toc-modified-id=\"Тестирование-модели-4\"><span class=\"toc-item-num\">4&nbsp;&nbsp;</span>Тестирование модели</a></span></li></ul></div>"
   ]
  },
  {
   "cell_type": "markdown",
   "metadata": {},
   "source": [
    "# Отток клиентов"
   ]
  },
  {
   "cell_type": "markdown",
   "metadata": {},
   "source": [
    "Из «Бета-Банка» стали уходить клиенты. Каждый месяц. Немного, но заметно. Банковские маркетологи посчитали: сохранять текущих клиентов дешевле, чем привлекать новых.\n",
    "\n",
    "Нужно спрогнозировать, уйдёт клиент из банка в ближайшее время или нет. Вам предоставлены исторические данные о поведении клиентов и расторжении договоров с банком. \n",
    "\n",
    "Постройте модель с предельно большим значением *F1*-меры. Чтобы сдать проект успешно, нужно довести метрику до 0.59. Проверьте *F1*-меру на тестовой выборке самостоятельно.\n",
    "\n",
    "Дополнительно измеряйте *AUC-ROC*, сравнивайте её значение с *F1*-мерой.\n",
    "\n",
    "Источник данных: [https://www.kaggle.com/barelydedicated/bank-customer-churn-modeling](https://www.kaggle.com/barelydedicated/bank-customer-churn-modeling)"
   ]
  },
  {
   "cell_type": "markdown",
   "metadata": {},
   "source": [
    "# Введение\n",
    "Целью данного проекта является прогнозирование оттока клиентов из банка. То есть на основании признаков, таких как кредитный рейтинг, баланс карты, количисто используемых продуктов и так далее, сделать предсказание того что клиент может отказаться от услуг банка. Так же важно сделать предсказания максимально точными и правдивыми. Выбрать модель с самыми лучшими показателями качества.\n",
    "В нашем распоряжении имеются данные о клиентах банка:<br><br>\n",
    "**Признаки:**<br>\n",
    "`RowNumber` — индекс строки в данных<br>\n",
    "`CustomerId` — уникальный идентификатор клиента<br>\n",
    "`Surname` — фамилия<br>\n",
    "`CreditScore` — кредитный рейтинг<br>\n",
    "`Geography` — страна проживания<br>\n",
    "`Gender` — пол<br>\n",
    "`Age` — возраст<br>\n",
    "`Tenure` — сколько лет человек является клиентом банка<br>\n",
    "`Balance` — баланс на счёте<br>\n",
    "`NumOfProducts` — количество продуктов банка, используемых клиентом<br>\n",
    "`HasCrCard` — наличие кредитной карты<br>\n",
    "`IsActiveMember` — активность клиента<br>\n",
    "`EstimatedSalary` — предполагаемая зарплата<br>\n",
    "**Целевой признак**<br>\n",
    "`Exited` — факт ухода клиента<br><br>\n",
    "Используя имеющиеся данные обучим модели и сделаем предсказания ухода клиентов из банка. А так же постараемся сделать предказания наболее точными. Качество обучения моделий и предсказаний проверим различными метриками качества и выберем модель с самыми лучшими их показателями."
   ]
  },
  {
   "cell_type": "markdown",
   "metadata": {},
   "source": [
    "## Подготовка данных"
   ]
  },
  {
   "cell_type": "markdown",
   "metadata": {},
   "source": [
    "### Импорт библиотек"
   ]
  },
  {
   "cell_type": "markdown",
   "metadata": {},
   "source": [
    "Импортируем библиотеки, которые могут понадобиться в процессе выполнения проекта"
   ]
  },
  {
   "cell_type": "code",
   "execution_count": 130,
   "metadata": {},
   "outputs": [],
   "source": [
    "import pandas as pd\n",
    "from sklearn.tree import DecisionTreeClassifier\n",
    "from sklearn.ensemble import RandomForestClassifier\n",
    "from sklearn.linear_model import LogisticRegression\n",
    "\n",
    "from sklearn.model_selection import train_test_split \n",
    "\n",
    "from sklearn.metrics import accuracy_score \n",
    "from sklearn.metrics import mean_squared_error\n",
    "\n",
    "from sklearn.preprocessing import StandardScaler\n",
    "from sklearn.metrics import f1_score, precision_score, recall_score, roc_auc_score, roc_curve\n",
    "from sklearn.metrics import precision_recall_curve\n",
    "from sklearn.metrics import confusion_matrix\n",
    "from sklearn.utils import shuffle\n",
    "import matplotlib.pyplot as plt"
   ]
  },
  {
   "cell_type": "markdown",
   "metadata": {},
   "source": [
    "### Чтение данных и знакомство с ними"
   ]
  },
  {
   "cell_type": "code",
   "execution_count": 2,
   "metadata": {},
   "outputs": [
    {
     "data": {
      "text/html": [
       "<div>\n",
       "<style scoped>\n",
       "    .dataframe tbody tr th:only-of-type {\n",
       "        vertical-align: middle;\n",
       "    }\n",
       "\n",
       "    .dataframe tbody tr th {\n",
       "        vertical-align: top;\n",
       "    }\n",
       "\n",
       "    .dataframe thead th {\n",
       "        text-align: right;\n",
       "    }\n",
       "</style>\n",
       "<table border=\"1\" class=\"dataframe\">\n",
       "  <thead>\n",
       "    <tr style=\"text-align: right;\">\n",
       "      <th></th>\n",
       "      <th>RowNumber</th>\n",
       "      <th>CustomerId</th>\n",
       "      <th>Surname</th>\n",
       "      <th>CreditScore</th>\n",
       "      <th>Geography</th>\n",
       "      <th>Gender</th>\n",
       "      <th>Age</th>\n",
       "      <th>Tenure</th>\n",
       "      <th>Balance</th>\n",
       "      <th>NumOfProducts</th>\n",
       "      <th>HasCrCard</th>\n",
       "      <th>IsActiveMember</th>\n",
       "      <th>EstimatedSalary</th>\n",
       "      <th>Exited</th>\n",
       "    </tr>\n",
       "  </thead>\n",
       "  <tbody>\n",
       "    <tr>\n",
       "      <th>0</th>\n",
       "      <td>1</td>\n",
       "      <td>15634602</td>\n",
       "      <td>Hargrave</td>\n",
       "      <td>619</td>\n",
       "      <td>France</td>\n",
       "      <td>Female</td>\n",
       "      <td>42</td>\n",
       "      <td>2.0</td>\n",
       "      <td>0.00</td>\n",
       "      <td>1</td>\n",
       "      <td>1</td>\n",
       "      <td>1</td>\n",
       "      <td>101348.88</td>\n",
       "      <td>1</td>\n",
       "    </tr>\n",
       "    <tr>\n",
       "      <th>1</th>\n",
       "      <td>2</td>\n",
       "      <td>15647311</td>\n",
       "      <td>Hill</td>\n",
       "      <td>608</td>\n",
       "      <td>Spain</td>\n",
       "      <td>Female</td>\n",
       "      <td>41</td>\n",
       "      <td>1.0</td>\n",
       "      <td>83807.86</td>\n",
       "      <td>1</td>\n",
       "      <td>0</td>\n",
       "      <td>1</td>\n",
       "      <td>112542.58</td>\n",
       "      <td>0</td>\n",
       "    </tr>\n",
       "    <tr>\n",
       "      <th>2</th>\n",
       "      <td>3</td>\n",
       "      <td>15619304</td>\n",
       "      <td>Onio</td>\n",
       "      <td>502</td>\n",
       "      <td>France</td>\n",
       "      <td>Female</td>\n",
       "      <td>42</td>\n",
       "      <td>8.0</td>\n",
       "      <td>159660.80</td>\n",
       "      <td>3</td>\n",
       "      <td>1</td>\n",
       "      <td>0</td>\n",
       "      <td>113931.57</td>\n",
       "      <td>1</td>\n",
       "    </tr>\n",
       "    <tr>\n",
       "      <th>3</th>\n",
       "      <td>4</td>\n",
       "      <td>15701354</td>\n",
       "      <td>Boni</td>\n",
       "      <td>699</td>\n",
       "      <td>France</td>\n",
       "      <td>Female</td>\n",
       "      <td>39</td>\n",
       "      <td>1.0</td>\n",
       "      <td>0.00</td>\n",
       "      <td>2</td>\n",
       "      <td>0</td>\n",
       "      <td>0</td>\n",
       "      <td>93826.63</td>\n",
       "      <td>0</td>\n",
       "    </tr>\n",
       "    <tr>\n",
       "      <th>4</th>\n",
       "      <td>5</td>\n",
       "      <td>15737888</td>\n",
       "      <td>Mitchell</td>\n",
       "      <td>850</td>\n",
       "      <td>Spain</td>\n",
       "      <td>Female</td>\n",
       "      <td>43</td>\n",
       "      <td>2.0</td>\n",
       "      <td>125510.82</td>\n",
       "      <td>1</td>\n",
       "      <td>1</td>\n",
       "      <td>1</td>\n",
       "      <td>79084.10</td>\n",
       "      <td>0</td>\n",
       "    </tr>\n",
       "    <tr>\n",
       "      <th>...</th>\n",
       "      <td>...</td>\n",
       "      <td>...</td>\n",
       "      <td>...</td>\n",
       "      <td>...</td>\n",
       "      <td>...</td>\n",
       "      <td>...</td>\n",
       "      <td>...</td>\n",
       "      <td>...</td>\n",
       "      <td>...</td>\n",
       "      <td>...</td>\n",
       "      <td>...</td>\n",
       "      <td>...</td>\n",
       "      <td>...</td>\n",
       "      <td>...</td>\n",
       "    </tr>\n",
       "    <tr>\n",
       "      <th>9995</th>\n",
       "      <td>9996</td>\n",
       "      <td>15606229</td>\n",
       "      <td>Obijiaku</td>\n",
       "      <td>771</td>\n",
       "      <td>France</td>\n",
       "      <td>Male</td>\n",
       "      <td>39</td>\n",
       "      <td>5.0</td>\n",
       "      <td>0.00</td>\n",
       "      <td>2</td>\n",
       "      <td>1</td>\n",
       "      <td>0</td>\n",
       "      <td>96270.64</td>\n",
       "      <td>0</td>\n",
       "    </tr>\n",
       "    <tr>\n",
       "      <th>9996</th>\n",
       "      <td>9997</td>\n",
       "      <td>15569892</td>\n",
       "      <td>Johnstone</td>\n",
       "      <td>516</td>\n",
       "      <td>France</td>\n",
       "      <td>Male</td>\n",
       "      <td>35</td>\n",
       "      <td>10.0</td>\n",
       "      <td>57369.61</td>\n",
       "      <td>1</td>\n",
       "      <td>1</td>\n",
       "      <td>1</td>\n",
       "      <td>101699.77</td>\n",
       "      <td>0</td>\n",
       "    </tr>\n",
       "    <tr>\n",
       "      <th>9997</th>\n",
       "      <td>9998</td>\n",
       "      <td>15584532</td>\n",
       "      <td>Liu</td>\n",
       "      <td>709</td>\n",
       "      <td>France</td>\n",
       "      <td>Female</td>\n",
       "      <td>36</td>\n",
       "      <td>7.0</td>\n",
       "      <td>0.00</td>\n",
       "      <td>1</td>\n",
       "      <td>0</td>\n",
       "      <td>1</td>\n",
       "      <td>42085.58</td>\n",
       "      <td>1</td>\n",
       "    </tr>\n",
       "    <tr>\n",
       "      <th>9998</th>\n",
       "      <td>9999</td>\n",
       "      <td>15682355</td>\n",
       "      <td>Sabbatini</td>\n",
       "      <td>772</td>\n",
       "      <td>Germany</td>\n",
       "      <td>Male</td>\n",
       "      <td>42</td>\n",
       "      <td>3.0</td>\n",
       "      <td>75075.31</td>\n",
       "      <td>2</td>\n",
       "      <td>1</td>\n",
       "      <td>0</td>\n",
       "      <td>92888.52</td>\n",
       "      <td>1</td>\n",
       "    </tr>\n",
       "    <tr>\n",
       "      <th>9999</th>\n",
       "      <td>10000</td>\n",
       "      <td>15628319</td>\n",
       "      <td>Walker</td>\n",
       "      <td>792</td>\n",
       "      <td>France</td>\n",
       "      <td>Female</td>\n",
       "      <td>28</td>\n",
       "      <td>NaN</td>\n",
       "      <td>130142.79</td>\n",
       "      <td>1</td>\n",
       "      <td>1</td>\n",
       "      <td>0</td>\n",
       "      <td>38190.78</td>\n",
       "      <td>0</td>\n",
       "    </tr>\n",
       "  </tbody>\n",
       "</table>\n",
       "<p>10000 rows × 14 columns</p>\n",
       "</div>"
      ],
      "text/plain": [
       "      RowNumber  CustomerId    Surname  CreditScore Geography  Gender  Age  \\\n",
       "0             1    15634602   Hargrave          619    France  Female   42   \n",
       "1             2    15647311       Hill          608     Spain  Female   41   \n",
       "2             3    15619304       Onio          502    France  Female   42   \n",
       "3             4    15701354       Boni          699    France  Female   39   \n",
       "4             5    15737888   Mitchell          850     Spain  Female   43   \n",
       "...         ...         ...        ...          ...       ...     ...  ...   \n",
       "9995       9996    15606229   Obijiaku          771    France    Male   39   \n",
       "9996       9997    15569892  Johnstone          516    France    Male   35   \n",
       "9997       9998    15584532        Liu          709    France  Female   36   \n",
       "9998       9999    15682355  Sabbatini          772   Germany    Male   42   \n",
       "9999      10000    15628319     Walker          792    France  Female   28   \n",
       "\n",
       "      Tenure    Balance  NumOfProducts  HasCrCard  IsActiveMember  \\\n",
       "0        2.0       0.00              1          1               1   \n",
       "1        1.0   83807.86              1          0               1   \n",
       "2        8.0  159660.80              3          1               0   \n",
       "3        1.0       0.00              2          0               0   \n",
       "4        2.0  125510.82              1          1               1   \n",
       "...      ...        ...            ...        ...             ...   \n",
       "9995     5.0       0.00              2          1               0   \n",
       "9996    10.0   57369.61              1          1               1   \n",
       "9997     7.0       0.00              1          0               1   \n",
       "9998     3.0   75075.31              2          1               0   \n",
       "9999     NaN  130142.79              1          1               0   \n",
       "\n",
       "      EstimatedSalary  Exited  \n",
       "0           101348.88       1  \n",
       "1           112542.58       0  \n",
       "2           113931.57       1  \n",
       "3            93826.63       0  \n",
       "4            79084.10       0  \n",
       "...               ...     ...  \n",
       "9995         96270.64       0  \n",
       "9996        101699.77       0  \n",
       "9997         42085.58       1  \n",
       "9998         92888.52       1  \n",
       "9999         38190.78       0  \n",
       "\n",
       "[10000 rows x 14 columns]"
      ]
     },
     "execution_count": 2,
     "metadata": {},
     "output_type": "execute_result"
    }
   ],
   "source": [
    "data = pd.read_csv('/datasets/Churn.csv')\n",
    "data"
   ]
  },
  {
   "cell_type": "code",
   "execution_count": 3,
   "metadata": {},
   "outputs": [
    {
     "name": "stdout",
     "output_type": "stream",
     "text": [
      "<class 'pandas.core.frame.DataFrame'>\n",
      "RangeIndex: 10000 entries, 0 to 9999\n",
      "Data columns (total 14 columns):\n",
      " #   Column           Non-Null Count  Dtype  \n",
      "---  ------           --------------  -----  \n",
      " 0   RowNumber        10000 non-null  int64  \n",
      " 1   CustomerId       10000 non-null  int64  \n",
      " 2   Surname          10000 non-null  object \n",
      " 3   CreditScore      10000 non-null  int64  \n",
      " 4   Geography        10000 non-null  object \n",
      " 5   Gender           10000 non-null  object \n",
      " 6   Age              10000 non-null  int64  \n",
      " 7   Tenure           9091 non-null   float64\n",
      " 8   Balance          10000 non-null  float64\n",
      " 9   NumOfProducts    10000 non-null  int64  \n",
      " 10  HasCrCard        10000 non-null  int64  \n",
      " 11  IsActiveMember   10000 non-null  int64  \n",
      " 12  EstimatedSalary  10000 non-null  float64\n",
      " 13  Exited           10000 non-null  int64  \n",
      "dtypes: float64(3), int64(8), object(3)\n",
      "memory usage: 1.1+ MB\n"
     ]
    }
   ],
   "source": [
    "data.info()"
   ]
  },
  {
   "cell_type": "markdown",
   "metadata": {},
   "source": [
    "В датасете представлено 10000 строк и 14 столбцов. 8 столбцов с целочисленными данными типа int, 3 столбца с типом данных float и 3 стольбца с данныим типа object.<br>\n",
    "В названиях столбцов присутствуют заглавнае символы.<br>\n",
    "В данных столбца `Tenure` 909 пропусков, что чуть больше 9%. Необходимо будет заполнить пропуски либо удалить."
   ]
  },
  {
   "cell_type": "markdown",
   "metadata": {},
   "source": [
    "Просмотрим уникальные значения и их количество в столбцах с типом данных object."
   ]
  },
  {
   "cell_type": "code",
   "execution_count": 4,
   "metadata": {},
   "outputs": [
    {
     "data": {
      "text/html": [
       "<div>\n",
       "<style scoped>\n",
       "    .dataframe tbody tr th:only-of-type {\n",
       "        vertical-align: middle;\n",
       "    }\n",
       "\n",
       "    .dataframe tbody tr th {\n",
       "        vertical-align: top;\n",
       "    }\n",
       "\n",
       "    .dataframe thead th {\n",
       "        text-align: right;\n",
       "    }\n",
       "</style>\n",
       "<table border=\"1\" class=\"dataframe\">\n",
       "  <thead>\n",
       "    <tr style=\"text-align: right;\">\n",
       "      <th></th>\n",
       "      <th>Surname</th>\n",
       "      <th>Geography</th>\n",
       "      <th>Gender</th>\n",
       "    </tr>\n",
       "  </thead>\n",
       "  <tbody>\n",
       "    <tr>\n",
       "      <th>count</th>\n",
       "      <td>10000</td>\n",
       "      <td>10000</td>\n",
       "      <td>10000</td>\n",
       "    </tr>\n",
       "    <tr>\n",
       "      <th>unique</th>\n",
       "      <td>2932</td>\n",
       "      <td>3</td>\n",
       "      <td>2</td>\n",
       "    </tr>\n",
       "    <tr>\n",
       "      <th>top</th>\n",
       "      <td>Smith</td>\n",
       "      <td>France</td>\n",
       "      <td>Male</td>\n",
       "    </tr>\n",
       "    <tr>\n",
       "      <th>freq</th>\n",
       "      <td>32</td>\n",
       "      <td>5014</td>\n",
       "      <td>5457</td>\n",
       "    </tr>\n",
       "  </tbody>\n",
       "</table>\n",
       "</div>"
      ],
      "text/plain": [
       "       Surname Geography Gender\n",
       "count    10000     10000  10000\n",
       "unique    2932         3      2\n",
       "top      Smith    France   Male\n",
       "freq        32      5014   5457"
      ]
     },
     "execution_count": 4,
     "metadata": {},
     "output_type": "execute_result"
    }
   ],
   "source": [
    "data.describe(include = ['object'])"
   ]
  },
  {
   "cell_type": "code",
   "execution_count": 5,
   "metadata": {},
   "outputs": [
    {
     "data": {
      "text/plain": [
       "array(['France', 'Spain', 'Germany'], dtype=object)"
      ]
     },
     "execution_count": 5,
     "metadata": {},
     "output_type": "execute_result"
    }
   ],
   "source": [
    "data['Geography'].unique()"
   ]
  },
  {
   "cell_type": "markdown",
   "metadata": {},
   "source": [
    "- В столбце `Surname` 2932 уникальных значения, значит фамилии клиентов повторяются, самя распространенная фамилия Smith в списке встречается 32 раза.<br>\n",
    "- В столбце `Geography` 3 страны 'France', 'Spain' и 'Germany', больше всего клтиентов во Франции.<br>\n",
    "- В столбце `Gender` 2 уникальных значения, это Male и Female. Среди клиентов больше мужчин."
   ]
  },
  {
   "cell_type": "code",
   "execution_count": 6,
   "metadata": {},
   "outputs": [
    {
     "data": {
      "text/html": [
       "<div>\n",
       "<style scoped>\n",
       "    .dataframe tbody tr th:only-of-type {\n",
       "        vertical-align: middle;\n",
       "    }\n",
       "\n",
       "    .dataframe tbody tr th {\n",
       "        vertical-align: top;\n",
       "    }\n",
       "\n",
       "    .dataframe thead th {\n",
       "        text-align: right;\n",
       "    }\n",
       "</style>\n",
       "<table border=\"1\" class=\"dataframe\">\n",
       "  <thead>\n",
       "    <tr style=\"text-align: right;\">\n",
       "      <th></th>\n",
       "      <th>count</th>\n",
       "      <th>mean</th>\n",
       "      <th>std</th>\n",
       "      <th>min</th>\n",
       "      <th>25%</th>\n",
       "      <th>50%</th>\n",
       "      <th>75%</th>\n",
       "      <th>max</th>\n",
       "    </tr>\n",
       "  </thead>\n",
       "  <tbody>\n",
       "    <tr>\n",
       "      <th>RowNumber</th>\n",
       "      <td>10000.0</td>\n",
       "      <td>5.000500e+03</td>\n",
       "      <td>2886.895680</td>\n",
       "      <td>1.00</td>\n",
       "      <td>2500.75</td>\n",
       "      <td>5.000500e+03</td>\n",
       "      <td>7.500250e+03</td>\n",
       "      <td>10000.00</td>\n",
       "    </tr>\n",
       "    <tr>\n",
       "      <th>CustomerId</th>\n",
       "      <td>10000.0</td>\n",
       "      <td>1.569094e+07</td>\n",
       "      <td>71936.186123</td>\n",
       "      <td>15565701.00</td>\n",
       "      <td>15628528.25</td>\n",
       "      <td>1.569074e+07</td>\n",
       "      <td>1.575323e+07</td>\n",
       "      <td>15815690.00</td>\n",
       "    </tr>\n",
       "    <tr>\n",
       "      <th>CreditScore</th>\n",
       "      <td>10000.0</td>\n",
       "      <td>6.505288e+02</td>\n",
       "      <td>96.653299</td>\n",
       "      <td>350.00</td>\n",
       "      <td>584.00</td>\n",
       "      <td>6.520000e+02</td>\n",
       "      <td>7.180000e+02</td>\n",
       "      <td>850.00</td>\n",
       "    </tr>\n",
       "    <tr>\n",
       "      <th>Age</th>\n",
       "      <td>10000.0</td>\n",
       "      <td>3.892180e+01</td>\n",
       "      <td>10.487806</td>\n",
       "      <td>18.00</td>\n",
       "      <td>32.00</td>\n",
       "      <td>3.700000e+01</td>\n",
       "      <td>4.400000e+01</td>\n",
       "      <td>92.00</td>\n",
       "    </tr>\n",
       "    <tr>\n",
       "      <th>Tenure</th>\n",
       "      <td>9091.0</td>\n",
       "      <td>4.997690e+00</td>\n",
       "      <td>2.894723</td>\n",
       "      <td>0.00</td>\n",
       "      <td>2.00</td>\n",
       "      <td>5.000000e+00</td>\n",
       "      <td>7.000000e+00</td>\n",
       "      <td>10.00</td>\n",
       "    </tr>\n",
       "    <tr>\n",
       "      <th>Balance</th>\n",
       "      <td>10000.0</td>\n",
       "      <td>7.648589e+04</td>\n",
       "      <td>62397.405202</td>\n",
       "      <td>0.00</td>\n",
       "      <td>0.00</td>\n",
       "      <td>9.719854e+04</td>\n",
       "      <td>1.276442e+05</td>\n",
       "      <td>250898.09</td>\n",
       "    </tr>\n",
       "    <tr>\n",
       "      <th>NumOfProducts</th>\n",
       "      <td>10000.0</td>\n",
       "      <td>1.530200e+00</td>\n",
       "      <td>0.581654</td>\n",
       "      <td>1.00</td>\n",
       "      <td>1.00</td>\n",
       "      <td>1.000000e+00</td>\n",
       "      <td>2.000000e+00</td>\n",
       "      <td>4.00</td>\n",
       "    </tr>\n",
       "    <tr>\n",
       "      <th>HasCrCard</th>\n",
       "      <td>10000.0</td>\n",
       "      <td>7.055000e-01</td>\n",
       "      <td>0.455840</td>\n",
       "      <td>0.00</td>\n",
       "      <td>0.00</td>\n",
       "      <td>1.000000e+00</td>\n",
       "      <td>1.000000e+00</td>\n",
       "      <td>1.00</td>\n",
       "    </tr>\n",
       "    <tr>\n",
       "      <th>IsActiveMember</th>\n",
       "      <td>10000.0</td>\n",
       "      <td>5.151000e-01</td>\n",
       "      <td>0.499797</td>\n",
       "      <td>0.00</td>\n",
       "      <td>0.00</td>\n",
       "      <td>1.000000e+00</td>\n",
       "      <td>1.000000e+00</td>\n",
       "      <td>1.00</td>\n",
       "    </tr>\n",
       "    <tr>\n",
       "      <th>EstimatedSalary</th>\n",
       "      <td>10000.0</td>\n",
       "      <td>1.000902e+05</td>\n",
       "      <td>57510.492818</td>\n",
       "      <td>11.58</td>\n",
       "      <td>51002.11</td>\n",
       "      <td>1.001939e+05</td>\n",
       "      <td>1.493882e+05</td>\n",
       "      <td>199992.48</td>\n",
       "    </tr>\n",
       "    <tr>\n",
       "      <th>Exited</th>\n",
       "      <td>10000.0</td>\n",
       "      <td>2.037000e-01</td>\n",
       "      <td>0.402769</td>\n",
       "      <td>0.00</td>\n",
       "      <td>0.00</td>\n",
       "      <td>0.000000e+00</td>\n",
       "      <td>0.000000e+00</td>\n",
       "      <td>1.00</td>\n",
       "    </tr>\n",
       "  </tbody>\n",
       "</table>\n",
       "</div>"
      ],
      "text/plain": [
       "                   count          mean           std          min  \\\n",
       "RowNumber        10000.0  5.000500e+03   2886.895680         1.00   \n",
       "CustomerId       10000.0  1.569094e+07  71936.186123  15565701.00   \n",
       "CreditScore      10000.0  6.505288e+02     96.653299       350.00   \n",
       "Age              10000.0  3.892180e+01     10.487806        18.00   \n",
       "Tenure            9091.0  4.997690e+00      2.894723         0.00   \n",
       "Balance          10000.0  7.648589e+04  62397.405202         0.00   \n",
       "NumOfProducts    10000.0  1.530200e+00      0.581654         1.00   \n",
       "HasCrCard        10000.0  7.055000e-01      0.455840         0.00   \n",
       "IsActiveMember   10000.0  5.151000e-01      0.499797         0.00   \n",
       "EstimatedSalary  10000.0  1.000902e+05  57510.492818        11.58   \n",
       "Exited           10000.0  2.037000e-01      0.402769         0.00   \n",
       "\n",
       "                         25%           50%           75%          max  \n",
       "RowNumber            2500.75  5.000500e+03  7.500250e+03     10000.00  \n",
       "CustomerId       15628528.25  1.569074e+07  1.575323e+07  15815690.00  \n",
       "CreditScore           584.00  6.520000e+02  7.180000e+02       850.00  \n",
       "Age                    32.00  3.700000e+01  4.400000e+01        92.00  \n",
       "Tenure                  2.00  5.000000e+00  7.000000e+00        10.00  \n",
       "Balance                 0.00  9.719854e+04  1.276442e+05    250898.09  \n",
       "NumOfProducts           1.00  1.000000e+00  2.000000e+00         4.00  \n",
       "HasCrCard               0.00  1.000000e+00  1.000000e+00         1.00  \n",
       "IsActiveMember          0.00  1.000000e+00  1.000000e+00         1.00  \n",
       "EstimatedSalary     51002.11  1.001939e+05  1.493882e+05    199992.48  \n",
       "Exited                  0.00  0.000000e+00  0.000000e+00         1.00  "
      ]
     },
     "execution_count": 6,
     "metadata": {},
     "output_type": "execute_result"
    }
   ],
   "source": [
    "data.describe().T"
   ]
  },
  {
   "cell_type": "markdown",
   "metadata": {},
   "source": [
    "- `RowNumber` В столбце указан порядковый номер каждой строки. Минимальное значение 1, а максимальное 10000. Данные в данном столбце не представляют ни какой информационной ценности для обучения модели, поэтому его можно удалить.<br>\n",
    "- `CustomerId` В данном столбце указан уникальный номер клиента. Уникальные номера пользователей не представляет интереса для данного исследования; <br>\n",
    "- `Surname` В данном столбце указаны фамилии клиентов. Как и в столбце `CustomerId` фамилии не представляют интереса для данного исследования;<br>\n",
    "- `CreditScore` Кредитный рейтинг клиента, данные в этом столбце имеют тип int. Значения от 350 до 850. Среднее значение 650.5, медиана 652. Половина всех значений сосредоточена в диапазоне от 584 до 718; <br>\n",
    "- `Geography` В столбце представленны данные о странах в которых находятся клиенты. В списке у нас три страны 'France', 'Spain' и 'Germany', это категориальные признаки и их необходимо будет перевести в числовой формат.\n",
    "- `Gender` В столбце представленны данные о поле клиента. В списке категориальные признаки Male и Female и их необходимо будет перевести в числовой формат.\n",
    "- `Age` Столбец содержит информацию о возрасте клиента, значения от 18 до 92. Среднее значение 38.9, медиана 37. <br>\n",
    "- `Tenure` В столбце представленны данные о том сколько лет человек является клиентом банка. Значения в столбце от 0 до 10. Есть пропуски. Среднее значение 4.998, медиана 5. Значения среднего и медианы чрезвычайно близки друг к другу и при этом стандартное отклонение достаочно мало, что может говорить о том, что данные распределены равномерно, в данном случае пропущенные значения в столбце возможно заменить медианным значением. <br>\n",
    "- `Balance` В столбце данные о состоянии счета. Значения от 0 до 250,898.09. Среднее значение 76,485.89, медиана 97,198.54.<br>\n",
    "- В столбце `NumOfProducts` представленны данные о количестве продуктов которыми пользуется клиент. Содержит значения от 1 до 4. <br>\n",
    "- `HasCrCard` В столбце представлены данные о наличии кредитной карты значения 0 и 1, 0-отсутстве кредитной карты, а 1 ее наличие. Среднее значение 0.7 говорит о том, что 70% клиентов имеют кредитную карту, а 30% клиентов не имеют. <br>\n",
    "- `IsActiveMember` В стольбце содержатся данные об активности клиентов. Значения в столбце от 0 до 1. Среднее значение 0.515 говорит о том, что в данных 51.5% значений - 1 и 48.5% значений - 0 <br>\n",
    "- `EstimatedSalary` Содержит данные о зарплате клиентов. Значения от 11.58 до 199,992.48. Среднее значение 100090.24б медиана 100193.915.<br>\n",
    "- `Exited` В столбце представлены данные о факте отказа клиента от услуг банка. Значения в столбце 0 и 1. Среднее значение 0.2 говорит о том, что 20% клиентов отказались от услуг банка. Данные в этом столбце являются целевым признаком."
   ]
  },
  {
   "cell_type": "markdown",
   "metadata": {},
   "source": [
    "### Предобработка данных"
   ]
  },
  {
   "cell_type": "markdown",
   "metadata": {},
   "source": [
    "#### Удаление ненужных столбцов"
   ]
  },
  {
   "cell_type": "markdown",
   "metadata": {},
   "source": [
    "Во время знакомства с данными мы определили что столбцы `RowNumber`, `CustomerId`, `Surname` не имеют ни какой информационной ценности для исследования и поэтому их можно просто удалить."
   ]
  },
  {
   "cell_type": "code",
   "execution_count": 7,
   "metadata": {},
   "outputs": [],
   "source": [
    "data = data.drop(['RowNumber','CustomerId','Surname'], axis=1)"
   ]
  },
  {
   "cell_type": "markdown",
   "metadata": {},
   "source": [
    "#### Работа с пропусками"
   ]
  },
  {
   "cell_type": "markdown",
   "metadata": {},
   "source": [
    "В значениях столбца `Tenure` присутствуют пропуски, количество пропусков 909 из 10000 или 9,09%, количество пропусков относительно не большое. Но мы определили что среднее значение 4.998, а медиана 5. Значения среднего и медианы чрезвычайно близки друг к другу, а значит пропущенные значения в столбце возможно заменить медианным значением."
   ]
  },
  {
   "cell_type": "code",
   "execution_count": 8,
   "metadata": {},
   "outputs": [],
   "source": [
    "data['Tenure'] = data['Tenure'].fillna(data['Tenure'].median())"
   ]
  },
  {
   "cell_type": "code",
   "execution_count": 9,
   "metadata": {},
   "outputs": [
    {
     "name": "stdout",
     "output_type": "stream",
     "text": [
      "<class 'pandas.core.frame.DataFrame'>\n",
      "RangeIndex: 10000 entries, 0 to 9999\n",
      "Data columns (total 11 columns):\n",
      " #   Column           Non-Null Count  Dtype  \n",
      "---  ------           --------------  -----  \n",
      " 0   CreditScore      10000 non-null  int64  \n",
      " 1   Geography        10000 non-null  object \n",
      " 2   Gender           10000 non-null  object \n",
      " 3   Age              10000 non-null  int64  \n",
      " 4   Tenure           10000 non-null  float64\n",
      " 5   Balance          10000 non-null  float64\n",
      " 6   NumOfProducts    10000 non-null  int64  \n",
      " 7   HasCrCard        10000 non-null  int64  \n",
      " 8   IsActiveMember   10000 non-null  int64  \n",
      " 9   EstimatedSalary  10000 non-null  float64\n",
      " 10  Exited           10000 non-null  int64  \n",
      "dtypes: float64(3), int64(6), object(2)\n",
      "memory usage: 859.5+ KB\n"
     ]
    }
   ],
   "source": [
    "data.info()"
   ]
  },
  {
   "cell_type": "markdown",
   "metadata": {},
   "source": [
    "Ненужные столбцы удалены, пропусков нет."
   ]
  },
  {
   "cell_type": "markdown",
   "metadata": {},
   "source": [
    "### Преобразование категориальных признаков в численные."
   ]
  },
  {
   "cell_type": "markdown",
   "metadata": {},
   "source": [
    "Преобразуем катерогиальные признаки в численные с помошью техники прямого кодирования One-Hot Encoding или OHE. Чтобы не попасть в ловушку Дамми применим аргумент drop_first=Truе"
   ]
  },
  {
   "cell_type": "code",
   "execution_count": 10,
   "metadata": {},
   "outputs": [],
   "source": [
    "data_ohe = pd.get_dummies(data, drop_first=True)"
   ]
  },
  {
   "cell_type": "code",
   "execution_count": 11,
   "metadata": {},
   "outputs": [
    {
     "data": {
      "text/html": [
       "<div>\n",
       "<style scoped>\n",
       "    .dataframe tbody tr th:only-of-type {\n",
       "        vertical-align: middle;\n",
       "    }\n",
       "\n",
       "    .dataframe tbody tr th {\n",
       "        vertical-align: top;\n",
       "    }\n",
       "\n",
       "    .dataframe thead th {\n",
       "        text-align: right;\n",
       "    }\n",
       "</style>\n",
       "<table border=\"1\" class=\"dataframe\">\n",
       "  <thead>\n",
       "    <tr style=\"text-align: right;\">\n",
       "      <th></th>\n",
       "      <th>CreditScore</th>\n",
       "      <th>Age</th>\n",
       "      <th>Tenure</th>\n",
       "      <th>Balance</th>\n",
       "      <th>NumOfProducts</th>\n",
       "      <th>HasCrCard</th>\n",
       "      <th>IsActiveMember</th>\n",
       "      <th>EstimatedSalary</th>\n",
       "      <th>Exited</th>\n",
       "      <th>Geography_Germany</th>\n",
       "      <th>Geography_Spain</th>\n",
       "      <th>Gender_Male</th>\n",
       "    </tr>\n",
       "  </thead>\n",
       "  <tbody>\n",
       "    <tr>\n",
       "      <th>0</th>\n",
       "      <td>619</td>\n",
       "      <td>42</td>\n",
       "      <td>2.0</td>\n",
       "      <td>0.00</td>\n",
       "      <td>1</td>\n",
       "      <td>1</td>\n",
       "      <td>1</td>\n",
       "      <td>101348.88</td>\n",
       "      <td>1</td>\n",
       "      <td>0</td>\n",
       "      <td>0</td>\n",
       "      <td>0</td>\n",
       "    </tr>\n",
       "    <tr>\n",
       "      <th>1</th>\n",
       "      <td>608</td>\n",
       "      <td>41</td>\n",
       "      <td>1.0</td>\n",
       "      <td>83807.86</td>\n",
       "      <td>1</td>\n",
       "      <td>0</td>\n",
       "      <td>1</td>\n",
       "      <td>112542.58</td>\n",
       "      <td>0</td>\n",
       "      <td>0</td>\n",
       "      <td>1</td>\n",
       "      <td>0</td>\n",
       "    </tr>\n",
       "    <tr>\n",
       "      <th>2</th>\n",
       "      <td>502</td>\n",
       "      <td>42</td>\n",
       "      <td>8.0</td>\n",
       "      <td>159660.80</td>\n",
       "      <td>3</td>\n",
       "      <td>1</td>\n",
       "      <td>0</td>\n",
       "      <td>113931.57</td>\n",
       "      <td>1</td>\n",
       "      <td>0</td>\n",
       "      <td>0</td>\n",
       "      <td>0</td>\n",
       "    </tr>\n",
       "    <tr>\n",
       "      <th>3</th>\n",
       "      <td>699</td>\n",
       "      <td>39</td>\n",
       "      <td>1.0</td>\n",
       "      <td>0.00</td>\n",
       "      <td>2</td>\n",
       "      <td>0</td>\n",
       "      <td>0</td>\n",
       "      <td>93826.63</td>\n",
       "      <td>0</td>\n",
       "      <td>0</td>\n",
       "      <td>0</td>\n",
       "      <td>0</td>\n",
       "    </tr>\n",
       "    <tr>\n",
       "      <th>4</th>\n",
       "      <td>850</td>\n",
       "      <td>43</td>\n",
       "      <td>2.0</td>\n",
       "      <td>125510.82</td>\n",
       "      <td>1</td>\n",
       "      <td>1</td>\n",
       "      <td>1</td>\n",
       "      <td>79084.10</td>\n",
       "      <td>0</td>\n",
       "      <td>0</td>\n",
       "      <td>1</td>\n",
       "      <td>0</td>\n",
       "    </tr>\n",
       "    <tr>\n",
       "      <th>...</th>\n",
       "      <td>...</td>\n",
       "      <td>...</td>\n",
       "      <td>...</td>\n",
       "      <td>...</td>\n",
       "      <td>...</td>\n",
       "      <td>...</td>\n",
       "      <td>...</td>\n",
       "      <td>...</td>\n",
       "      <td>...</td>\n",
       "      <td>...</td>\n",
       "      <td>...</td>\n",
       "      <td>...</td>\n",
       "    </tr>\n",
       "    <tr>\n",
       "      <th>9995</th>\n",
       "      <td>771</td>\n",
       "      <td>39</td>\n",
       "      <td>5.0</td>\n",
       "      <td>0.00</td>\n",
       "      <td>2</td>\n",
       "      <td>1</td>\n",
       "      <td>0</td>\n",
       "      <td>96270.64</td>\n",
       "      <td>0</td>\n",
       "      <td>0</td>\n",
       "      <td>0</td>\n",
       "      <td>1</td>\n",
       "    </tr>\n",
       "    <tr>\n",
       "      <th>9996</th>\n",
       "      <td>516</td>\n",
       "      <td>35</td>\n",
       "      <td>10.0</td>\n",
       "      <td>57369.61</td>\n",
       "      <td>1</td>\n",
       "      <td>1</td>\n",
       "      <td>1</td>\n",
       "      <td>101699.77</td>\n",
       "      <td>0</td>\n",
       "      <td>0</td>\n",
       "      <td>0</td>\n",
       "      <td>1</td>\n",
       "    </tr>\n",
       "    <tr>\n",
       "      <th>9997</th>\n",
       "      <td>709</td>\n",
       "      <td>36</td>\n",
       "      <td>7.0</td>\n",
       "      <td>0.00</td>\n",
       "      <td>1</td>\n",
       "      <td>0</td>\n",
       "      <td>1</td>\n",
       "      <td>42085.58</td>\n",
       "      <td>1</td>\n",
       "      <td>0</td>\n",
       "      <td>0</td>\n",
       "      <td>0</td>\n",
       "    </tr>\n",
       "    <tr>\n",
       "      <th>9998</th>\n",
       "      <td>772</td>\n",
       "      <td>42</td>\n",
       "      <td>3.0</td>\n",
       "      <td>75075.31</td>\n",
       "      <td>2</td>\n",
       "      <td>1</td>\n",
       "      <td>0</td>\n",
       "      <td>92888.52</td>\n",
       "      <td>1</td>\n",
       "      <td>1</td>\n",
       "      <td>0</td>\n",
       "      <td>1</td>\n",
       "    </tr>\n",
       "    <tr>\n",
       "      <th>9999</th>\n",
       "      <td>792</td>\n",
       "      <td>28</td>\n",
       "      <td>5.0</td>\n",
       "      <td>130142.79</td>\n",
       "      <td>1</td>\n",
       "      <td>1</td>\n",
       "      <td>0</td>\n",
       "      <td>38190.78</td>\n",
       "      <td>0</td>\n",
       "      <td>0</td>\n",
       "      <td>0</td>\n",
       "      <td>0</td>\n",
       "    </tr>\n",
       "  </tbody>\n",
       "</table>\n",
       "<p>10000 rows × 12 columns</p>\n",
       "</div>"
      ],
      "text/plain": [
       "      CreditScore  Age  Tenure    Balance  NumOfProducts  HasCrCard  \\\n",
       "0             619   42     2.0       0.00              1          1   \n",
       "1             608   41     1.0   83807.86              1          0   \n",
       "2             502   42     8.0  159660.80              3          1   \n",
       "3             699   39     1.0       0.00              2          0   \n",
       "4             850   43     2.0  125510.82              1          1   \n",
       "...           ...  ...     ...        ...            ...        ...   \n",
       "9995          771   39     5.0       0.00              2          1   \n",
       "9996          516   35    10.0   57369.61              1          1   \n",
       "9997          709   36     7.0       0.00              1          0   \n",
       "9998          772   42     3.0   75075.31              2          1   \n",
       "9999          792   28     5.0  130142.79              1          1   \n",
       "\n",
       "      IsActiveMember  EstimatedSalary  Exited  Geography_Germany  \\\n",
       "0                  1        101348.88       1                  0   \n",
       "1                  1        112542.58       0                  0   \n",
       "2                  0        113931.57       1                  0   \n",
       "3                  0         93826.63       0                  0   \n",
       "4                  1         79084.10       0                  0   \n",
       "...              ...              ...     ...                ...   \n",
       "9995               0         96270.64       0                  0   \n",
       "9996               1        101699.77       0                  0   \n",
       "9997               1         42085.58       1                  0   \n",
       "9998               0         92888.52       1                  1   \n",
       "9999               0         38190.78       0                  0   \n",
       "\n",
       "      Geography_Spain  Gender_Male  \n",
       "0                   0            0  \n",
       "1                   1            0  \n",
       "2                   0            0  \n",
       "3                   0            0  \n",
       "4                   1            0  \n",
       "...               ...          ...  \n",
       "9995                0            1  \n",
       "9996                0            1  \n",
       "9997                0            0  \n",
       "9998                0            1  \n",
       "9999                0            0  \n",
       "\n",
       "[10000 rows x 12 columns]"
      ]
     },
     "execution_count": 11,
     "metadata": {},
     "output_type": "execute_result"
    }
   ],
   "source": [
    "data_ohe"
   ]
  },
  {
   "cell_type": "markdown",
   "metadata": {},
   "source": [
    "Вместо двух столбцов с категориальными признаками появилось 3 с численными признаками."
   ]
  },
  {
   "cell_type": "markdown",
   "metadata": {},
   "source": [
    "### Определение признаков и целевого признака."
   ]
  },
  {
   "cell_type": "markdown",
   "metadata": {},
   "source": [
    "Извлевем из датафрейма признаки и целевой признак.<br>\n",
    "Целевым признаком является столбец `Exited`, а признаками весь датафрейм без столбца `Exited`."
   ]
  },
  {
   "cell_type": "code",
   "execution_count": 12,
   "metadata": {},
   "outputs": [],
   "source": [
    "features = data_ohe.drop('Exited', axis=1)\n",
    "target = data_ohe['Exited']"
   ]
  },
  {
   "cell_type": "markdown",
   "metadata": {},
   "source": [
    "### Деление выборки на 3 части"
   ]
  },
  {
   "cell_type": "markdown",
   "metadata": {},
   "source": [
    "Исходные данные необходимо разделить на три выборки обучающую, валидационную и тестовую. Так как исходную выботку нужно поделить на три части в соотношении 3:1:1 или 60% обучающая выборка, 20% валидационная и 20% тестовая выбрка, то для начала отделим 40% от общей выборки на валидацию и тест, а затем разделим ее пополам."
   ]
  },
  {
   "cell_type": "code",
   "execution_count": 13,
   "metadata": {},
   "outputs": [
    {
     "name": "stdout",
     "output_type": "stream",
     "text": [
      "Размер обучающей выборки целевого признака: (6000,)\n",
      "Размер тестовой выборки целевого признака: (4000,)\n"
     ]
    }
   ],
   "source": [
    "features_train, features_test, target_train, target_test = train_test_split(features, target, \n",
    "                                                                            test_size=0.4, random_state=12345)\n",
    "print('Размер обучающей выборки целевого признака:', target_train.shape)\n",
    "print('Размер тестовой выборки целевого признака:', target_test.shape)"
   ]
  },
  {
   "cell_type": "markdown",
   "metadata": {},
   "source": [
    "Теперь из тестовой выборки выделим часть валидационной, поделив тестовую пополам."
   ]
  },
  {
   "cell_type": "code",
   "execution_count": 14,
   "metadata": {},
   "outputs": [
    {
     "name": "stdout",
     "output_type": "stream",
     "text": [
      "Размер тестовой выборки целевого признака: (2000,)\n",
      "Размер валидационной выборки целевого признака: (2000,)\n"
     ]
    }
   ],
   "source": [
    "features_test, features_valid, target_test, target_valid = train_test_split(features_test, target_test, \n",
    "                                                                            test_size=0.5, random_state=12345)\n",
    "print('Размер тестовой выборки целевого признака:', target_test.shape)\n",
    "print('Размер валидационной выборки целевого признака:', target_valid.shape)"
   ]
  },
  {
   "cell_type": "markdown",
   "metadata": {},
   "source": [
    "### Масштабирование признаков"
   ]
  },
  {
   "cell_type": "markdown",
   "metadata": {},
   "source": [
    "Значения в столбцах, (кроме столбцов с единицами и нулями) имеют различные значения по величине и разбросу, эти различия могут повлиять на обучение модели. Необходимо привести признаки к единому масштабу. Столбцы значения которых необходимо масшабировать `creditscore`, `age`, `tenure`, `balance`, `numofproducts`, `hascrcard`, `estimatedsalary`, создадим их список. Создадим структуру для стандартизации данных — StandardScaler и настроим ее на обучающих данных, затем преобразуем все выборки функцией .transform()"
   ]
  },
  {
   "cell_type": "code",
   "execution_count": 34,
   "metadata": {},
   "outputs": [
    {
     "data": {
      "text/html": [
       "<div>\n",
       "<style scoped>\n",
       "    .dataframe tbody tr th:only-of-type {\n",
       "        vertical-align: middle;\n",
       "    }\n",
       "\n",
       "    .dataframe tbody tr th {\n",
       "        vertical-align: top;\n",
       "    }\n",
       "\n",
       "    .dataframe thead th {\n",
       "        text-align: right;\n",
       "    }\n",
       "</style>\n",
       "<table border=\"1\" class=\"dataframe\">\n",
       "  <thead>\n",
       "    <tr style=\"text-align: right;\">\n",
       "      <th></th>\n",
       "      <th>CreditScore</th>\n",
       "      <th>Age</th>\n",
       "      <th>Tenure</th>\n",
       "      <th>Balance</th>\n",
       "      <th>NumOfProducts</th>\n",
       "      <th>HasCrCard</th>\n",
       "      <th>IsActiveMember</th>\n",
       "      <th>EstimatedSalary</th>\n",
       "      <th>Geography_Germany</th>\n",
       "      <th>Geography_Spain</th>\n",
       "      <th>Gender_Male</th>\n",
       "    </tr>\n",
       "  </thead>\n",
       "  <tbody>\n",
       "    <tr>\n",
       "      <th>7479</th>\n",
       "      <td>-0.886751</td>\n",
       "      <td>-0.373192</td>\n",
       "      <td>1.082277</td>\n",
       "      <td>1.232271</td>\n",
       "      <td>-0.891560</td>\n",
       "      <td>1</td>\n",
       "      <td>0</td>\n",
       "      <td>-0.187705</td>\n",
       "      <td>0</td>\n",
       "      <td>1</td>\n",
       "      <td>1</td>\n",
       "    </tr>\n",
       "    <tr>\n",
       "      <th>3411</th>\n",
       "      <td>0.608663</td>\n",
       "      <td>-0.183385</td>\n",
       "      <td>1.082277</td>\n",
       "      <td>0.600563</td>\n",
       "      <td>-0.891560</td>\n",
       "      <td>0</td>\n",
       "      <td>0</td>\n",
       "      <td>-0.333945</td>\n",
       "      <td>0</td>\n",
       "      <td>0</td>\n",
       "      <td>0</td>\n",
       "    </tr>\n",
       "    <tr>\n",
       "      <th>6027</th>\n",
       "      <td>2.052152</td>\n",
       "      <td>0.480939</td>\n",
       "      <td>-0.737696</td>\n",
       "      <td>1.027098</td>\n",
       "      <td>0.830152</td>\n",
       "      <td>0</td>\n",
       "      <td>1</td>\n",
       "      <td>1.503095</td>\n",
       "      <td>1</td>\n",
       "      <td>0</td>\n",
       "      <td>1</td>\n",
       "    </tr>\n",
       "    <tr>\n",
       "      <th>1247</th>\n",
       "      <td>-1.457915</td>\n",
       "      <td>-1.417129</td>\n",
       "      <td>0.354288</td>\n",
       "      <td>-1.233163</td>\n",
       "      <td>0.830152</td>\n",
       "      <td>1</td>\n",
       "      <td>0</td>\n",
       "      <td>-1.071061</td>\n",
       "      <td>0</td>\n",
       "      <td>0</td>\n",
       "      <td>1</td>\n",
       "    </tr>\n",
       "    <tr>\n",
       "      <th>3716</th>\n",
       "      <td>0.130961</td>\n",
       "      <td>-1.132419</td>\n",
       "      <td>-1.101690</td>\n",
       "      <td>1.140475</td>\n",
       "      <td>-0.891560</td>\n",
       "      <td>0</td>\n",
       "      <td>0</td>\n",
       "      <td>1.524268</td>\n",
       "      <td>1</td>\n",
       "      <td>0</td>\n",
       "      <td>0</td>\n",
       "    </tr>\n",
       "  </tbody>\n",
       "</table>\n",
       "</div>"
      ],
      "text/plain": [
       "      CreditScore       Age    Tenure   Balance  NumOfProducts  HasCrCard  \\\n",
       "7479    -0.886751 -0.373192  1.082277  1.232271      -0.891560          1   \n",
       "3411     0.608663 -0.183385  1.082277  0.600563      -0.891560          0   \n",
       "6027     2.052152  0.480939 -0.737696  1.027098       0.830152          0   \n",
       "1247    -1.457915 -1.417129  0.354288 -1.233163       0.830152          1   \n",
       "3716     0.130961 -1.132419 -1.101690  1.140475      -0.891560          0   \n",
       "\n",
       "      IsActiveMember  EstimatedSalary  Geography_Germany  Geography_Spain  \\\n",
       "7479               0        -0.187705                  0                1   \n",
       "3411               0        -0.333945                  0                0   \n",
       "6027               1         1.503095                  1                0   \n",
       "1247               0        -1.071061                  0                0   \n",
       "3716               0         1.524268                  1                0   \n",
       "\n",
       "      Gender_Male  \n",
       "7479            1  \n",
       "3411            0  \n",
       "6027            1  \n",
       "1247            1  \n",
       "3716            0  "
      ]
     },
     "execution_count": 34,
     "metadata": {},
     "output_type": "execute_result"
    }
   ],
   "source": [
    "numeric = ['CreditScore', 'Age', 'Tenure', 'Balance','NumOfProducts','EstimatedSalary']\n",
    "\n",
    "scaler = StandardScaler()\n",
    "scaler.fit(features_train[numeric]) \n",
    "\n",
    "features_train[numeric] = scaler.transform(features_train[numeric])\n",
    "features_valid[numeric] = scaler.transform(features_valid[numeric])\n",
    "features_test[numeric] = scaler.transform(features_test[numeric])\n",
    "\n",
    "pd.options.mode.chained_assignment = None\n",
    "\n",
    "features_train.head()"
   ]
  },
  {
   "cell_type": "markdown",
   "metadata": {},
   "source": [
    "**Вывод:**<br><br>\n",
    "Мы импортировали библиотеки необходимые для дальнейшиго исследования. прочидали данные, ознакомились с ними и провели подготовку данных.<br>\n",
    "Мы определили что в данных присутствуют пропущенные значения, а три столбца содержат данные, которые не нужны для исслетования. Так же в датасете присутствуют столбцы с категориальными данными, а столбцы с численными значениями имеют различный масштаб.<br>\n",
    "В датасете были удалены ненужные столбцы, а пропушеные значения заменили медианным значением. Затем категориальные признаки преобразовали в численные. Далее выделили из датасета признаки и целевой признак, разделили исходный датасет на три выборки в соотношении 3:1:1. В конце провели масштабирование численных признаков."
   ]
  },
  {
   "cell_type": "markdown",
   "metadata": {},
   "source": [
    "## Исследование задачи"
   ]
  },
  {
   "cell_type": "markdown",
   "metadata": {},
   "source": [
    "Исследуем задачу классификации, обучим модели DecisionTreeClassifier, RandomForestClassifier и LogisticRegression на обучающей выборке и определим качество каждой модели."
   ]
  },
  {
   "cell_type": "markdown",
   "metadata": {},
   "source": [
    "### Модель решгающее дерево"
   ]
  },
  {
   "cell_type": "markdown",
   "metadata": {},
   "source": [
    "Определим качество обученой модели \"Решающее дерево\", с помощью функции DecisionTreeClassifier и определим максимальную глубину дерева при лучшем значении accuracy."
   ]
  },
  {
   "cell_type": "code",
   "execution_count": 16,
   "metadata": {},
   "outputs": [
    {
     "name": "stdout",
     "output_type": "stream",
     "text": [
      "Accuracy: 0.848\n",
      "Максимальная глубина дерева: 6\n"
     ]
    }
   ],
   "source": [
    "best_accuracy_DTC = 0\n",
    "best_depth_DTC = 0\n",
    "\n",
    "for depth in range(1, 20):\n",
    "    model_DTC = DecisionTreeClassifier(max_depth=depth, random_state=12345)\n",
    "    model_DTC.fit(features_train,target_train)\n",
    "    predicted_valid_DTC = model_DTC.predict(features_valid)\n",
    "    accuracy_DTC = accuracy_score(target_valid, predicted_valid_DTC)\n",
    "    if accuracy_DTC > best_accuracy_DTC:\n",
    "        best_accuracy_DTC = accuracy_DTC\n",
    "        best_depth_DTC = depth\n",
    "        \n",
    "print('Accuracy:', best_accuracy_DTC)\n",
    "print('Максимальная глубина дерева:', best_depth_DTC)"
   ]
  },
  {
   "cell_type": "markdown",
   "metadata": {},
   "source": [
    "### Модель Случайный лес"
   ]
  },
  {
   "cell_type": "markdown",
   "metadata": {},
   "source": [
    "Определим качество обученой модели \"Решающее дерево\", с помощью функции RandomForestClassifier и определим количество деревьев и максимальную глубину дерева при лучшем значении accuracy."
   ]
  },
  {
   "cell_type": "code",
   "execution_count": 17,
   "metadata": {},
   "outputs": [
    {
     "name": "stdout",
     "output_type": "stream",
     "text": [
      "Accuracy: 0.851\n",
      "Количество деревьев: 90\n",
      "Максимальная глубина дерева: 49\n"
     ]
    }
   ],
   "source": [
    "best_accuracy_RFC = 0\n",
    "best_est_RFC = 0\n",
    "best_depth_RFC = 0\n",
    "\n",
    "for est in range(5, 100, 5):\n",
    "    for depth in range(1, 50):\n",
    "        model_RFC = RandomForestClassifier(n_estimators=est, max_depth=depth, random_state=12345)\n",
    "        model_RFC.fit(features_train,target_train)\n",
    "        predicted_valid_RFC = model_RFC.predict(features_valid)\n",
    "        accuracy_RFC = accuracy_score(target_valid, predicted_valid_RFC)\n",
    "    if accuracy_RFC > best_accuracy_RFC:\n",
    "        best_accuracy_RFC = accuracy_RFC\n",
    "        best_est_RFC = est\n",
    "        best_depth_RFC = depth\n",
    "                \n",
    "print('Accuracy:', best_accuracy_RFC)\n",
    "print('Количество деревьев:', best_est_RFC)\n",
    "print('Максимальная глубина дерева:', best_depth_RFC)"
   ]
  },
  {
   "cell_type": "markdown",
   "metadata": {},
   "source": [
    "### Модель Логистическая регрессия"
   ]
  },
  {
   "cell_type": "markdown",
   "metadata": {},
   "source": [
    "Определим качество обученой модели \"Логистическая регрессия\", с помощью функции LogisticRegression и определим значении accuracy."
   ]
  },
  {
   "cell_type": "code",
   "execution_count": 18,
   "metadata": {},
   "outputs": [
    {
     "name": "stdout",
     "output_type": "stream",
     "text": [
      "Accuracy: 0.7915\n"
     ]
    }
   ],
   "source": [
    "model_LogR = LogisticRegression(random_state=12345,solver='liblinear')\n",
    "model_LogR.fit(features_train,target_train)\n",
    "predicted_valid_LogR = model_LogR.predict(features_valid)\n",
    "\n",
    "accuracy_LogR = accuracy_score(target_valid, predicted_valid_LogR)\n",
    "print('Accuracy:', accuracy_LogR)"
   ]
  },
  {
   "cell_type": "markdown",
   "metadata": {},
   "source": [
    "Модель \"Решающее дерево\" предсказывает 84,8% правельных ответов, \"Случайный лес\" 85,1%, а модель \"Логистическая регрессия\" 79,2%"
   ]
  },
  {
   "cell_type": "markdown",
   "metadata": {},
   "source": [
    "### Определение метрик качества моделей"
   ]
  },
  {
   "cell_type": "markdown",
   "metadata": {},
   "source": [
    "Определим остальные метрики качества такие как Полнота, Точность и F1-мера для всех моделей."
   ]
  },
  {
   "cell_type": "markdown",
   "metadata": {},
   "source": [
    "#### Полнота"
   ]
  },
  {
   "cell_type": "code",
   "execution_count": 19,
   "metadata": {},
   "outputs": [
    {
     "name": "stdout",
     "output_type": "stream",
     "text": [
      "Полнота:\n",
      " Решающее дерево: 0.458628841607565\n",
      " Случайный лес: 0.4326241134751773\n",
      " Логистическая регрессия: 0.1867612293144208\n"
     ]
    }
   ],
   "source": [
    "recall_DTC = recall_score(target_valid, predicted_valid_DTC)\n",
    "recall_RFC = recall_score(target_valid, predicted_valid_RFC)\n",
    "recall_LogR = recall_score(target_valid, predicted_valid_LogR)\n",
    "print(f'Полнота:\\n Решающее дерево: {recall_DTC}\\n Случайный лес: {recall_RFC}\\n Логистическая регрессия: {recall_LogR}')"
   ]
  },
  {
   "cell_type": "markdown",
   "metadata": {},
   "source": [
    "#### Точность"
   ]
  },
  {
   "cell_type": "code",
   "execution_count": 20,
   "metadata": {},
   "outputs": [
    {
     "name": "stdout",
     "output_type": "stream",
     "text": [
      "Точность:\n",
      " Решающее дерево: 0.48866498740554154\n",
      " Случайный лес: 0.746938775510204\n",
      " Логистическая регрессия: 0.5197368421052632\n"
     ]
    }
   ],
   "source": [
    "precision_DTC = precision_score(target_valid, predicted_valid_DTC)\n",
    "precision_RFC = precision_score(target_valid, predicted_valid_RFC)\n",
    "precision_LogR = precision_score(target_valid, predicted_valid_LogR)\n",
    "print(f'Точность:\\n Решающее дерево: {precision_DTC}\\n Случайный лес: {precision_RFC}\\n Логистическая регрессия: {precision_LogR}')"
   ]
  },
  {
   "cell_type": "markdown",
   "metadata": {},
   "source": [
    "#### F1-мера"
   ]
  },
  {
   "cell_type": "code",
   "execution_count": 21,
   "metadata": {},
   "outputs": [
    {
     "name": "stdout",
     "output_type": "stream",
     "text": [
      "Точность:\n",
      " Решающее дерево: 0.47317073170731705\n",
      " Случайный лес: 0.5479041916167665\n",
      " Логистическая регрессия: 0.27478260869565213\n"
     ]
    }
   ],
   "source": [
    "f1_DTC = f1_score(target_valid, predicted_valid_DTC)\n",
    "f1_RFC = f1_score(target_valid, predicted_valid_RFC)\n",
    "f1_LogR = f1_score(target_valid, predicted_valid_LogR)\n",
    "print(f'Точность:\\n Решающее дерево: {f1_DTC}\\n Случайный лес: {f1_RFC}\\n Логистическая регрессия: {f1_LogR}')"
   ]
  },
  {
   "cell_type": "markdown",
   "metadata": {},
   "source": [
    "**Вывод:**<br><br>\n",
    "Модель \"Решающее дерево\" предсказывает 84,8% правельных ответов, \"Случайный лес\" 85,1%, а модель \"Логистическая регрессия\" 79,2%. Но остальные метрики качаства показывают не удовлетворительный результат. И F1-мера, максимальное значение для модели случайный лес 0,54, что меньше 0,59. Возможно проблема в дисбалансе классов."
   ]
  },
  {
   "cell_type": "markdown",
   "metadata": {},
   "source": [
    "## Борьба с дисбалансом"
   ]
  },
  {
   "cell_type": "markdown",
   "metadata": {},
   "source": [
    "### Проверка баланса признаков"
   ]
  },
  {
   "cell_type": "markdown",
   "metadata": {},
   "source": [
    "#### *Проверка баланса целевого признака*"
   ]
  },
  {
   "cell_type": "markdown",
   "metadata": {},
   "source": [
    "Посчитаем количество классов целевого признака."
   ]
  },
  {
   "cell_type": "code",
   "execution_count": 22,
   "metadata": {},
   "outputs": [
    {
     "name": "stdout",
     "output_type": "stream",
     "text": [
      "0    0.7963\n",
      "1    0.2037\n",
      "Name: Exited, dtype: float64\n"
     ]
    },
    {
     "data": {
      "text/plain": [
       "<AxesSubplot:>"
      ]
     },
     "execution_count": 22,
     "metadata": {},
     "output_type": "execute_result"
    },
    {
     "data": {
      "image/png": "[encoded data removed]",
      "text/plain": [
       "<Figure size 432x288 with 1 Axes>"
      ]
     },
     "metadata": {
      "needs_background": "light"
     },
     "output_type": "display_data"
    }
   ],
   "source": [
    "class_frequency = data['Exited'].value_counts(normalize=True)\n",
    "print(class_frequency)\n",
    "class_frequency.plot(kind='bar')"
   ]
  },
  {
   "cell_type": "markdown",
   "metadata": {},
   "source": [
    "Соотношение классов 4:1. Отрицетельных ответов 80%, а положительных 20%.<br>\n",
    "Посчитаем соотношение классов в предсказаниях каждой модели."
   ]
  },
  {
   "cell_type": "markdown",
   "metadata": {},
   "source": [
    "#### *Проверка баланса предсказаний модели Решающее дерево*"
   ]
  },
  {
   "cell_type": "code",
   "execution_count": 23,
   "metadata": {},
   "outputs": [
    {
     "name": "stdout",
     "output_type": "stream",
     "text": [
      "0    0.8015\n",
      "1    0.1985\n",
      "dtype: float64\n"
     ]
    },
    {
     "data": {
      "text/plain": [
       "<AxesSubplot:>"
      ]
     },
     "execution_count": 23,
     "metadata": {},
     "output_type": "execute_result"
    },
    {
     "data": {
      "image/png": "[encoded data removed]",
      "text/plain": [
       "<Figure size 432x288 with 1 Axes>"
      ]
     },
     "metadata": {
      "needs_background": "light"
     },
     "output_type": "display_data"
    }
   ],
   "source": [
    "predicted_valid_DTC = pd.Series(model_DTC.predict(features_valid))\n",
    "class_frequency_DTC = predicted_valid_DTC.value_counts(normalize=True)\n",
    "print(class_frequency_DTC)\n",
    "class_frequency_DTC.plot(kind='bar')"
   ]
  },
  {
   "cell_type": "markdown",
   "metadata": {},
   "source": [
    "#### *Проверка баланса предсказаний модели Случайный лес*"
   ]
  },
  {
   "cell_type": "code",
   "execution_count": 24,
   "metadata": {},
   "outputs": [
    {
     "name": "stdout",
     "output_type": "stream",
     "text": [
      "0    0.8775\n",
      "1    0.1225\n",
      "dtype: float64\n"
     ]
    },
    {
     "data": {
      "text/plain": [
       "<AxesSubplot:>"
      ]
     },
     "execution_count": 24,
     "metadata": {},
     "output_type": "execute_result"
    },
    {
     "data": {
      "image/png": "[encoded data removed]",
      "text/plain": [
       "<Figure size 432x288 with 1 Axes>"
      ]
     },
     "metadata": {
      "needs_background": "light"
     },
     "output_type": "display_data"
    }
   ],
   "source": [
    "predicted_valid_RFC = pd.Series(model_RFC.predict(features_valid))\n",
    "class_frequency_RFC = predicted_valid_RFC.value_counts(normalize=True)\n",
    "print(class_frequency_RFC)\n",
    "class_frequency_RFC.plot(kind='bar')"
   ]
  },
  {
   "cell_type": "markdown",
   "metadata": {},
   "source": [
    "#### *Проверка баланса предсказаний модели Логистическая регрессия*"
   ]
  },
  {
   "cell_type": "code",
   "execution_count": 25,
   "metadata": {},
   "outputs": [
    {
     "name": "stdout",
     "output_type": "stream",
     "text": [
      "0    0.924\n",
      "1    0.076\n",
      "dtype: float64\n"
     ]
    },
    {
     "data": {
      "text/plain": [
       "<AxesSubplot:>"
      ]
     },
     "execution_count": 25,
     "metadata": {},
     "output_type": "execute_result"
    },
    {
     "data": {
      "image/png": "[encoded data removed]",
      "text/plain": [
       "<Figure size 432x288 with 1 Axes>"
      ]
     },
     "metadata": {
      "needs_background": "light"
     },
     "output_type": "display_data"
    }
   ],
   "source": [
    "predicted_valid_LogR = pd.Series(model_LogR.predict(features_valid))\n",
    "class_frequency_LogR = predicted_valid_LogR.value_counts(normalize=True)\n",
    "print(class_frequency_LogR)\n",
    "class_frequency_LogR.plot(kind='bar')"
   ]
  },
  {
   "cell_type": "markdown",
   "metadata": {},
   "source": [
    "Все предсказания дают много отрицательны и мало положительных ответов истинно положительные и ложноотрицательные истинно отрицательные и ложноположительные, постоим матрицы ошибок для каждой модели."
   ]
  },
  {
   "cell_type": "code",
   "execution_count": 26,
   "metadata": {},
   "outputs": [
    {
     "name": "stdout",
     "output_type": "stream",
     "text": [
      "Матрицы ошибок:\n",
      " модели Решающее дерево:\n",
      " [[1374  203]\n",
      " [ 229  194]]\n",
      " модели Случайный лес:\n",
      " [[1515   62]\n",
      " [ 240  183]]\n",
      " модели Логистическая регрессия:\n",
      " [[1504   73]\n",
      " [ 344   79]]\n"
     ]
    }
   ],
   "source": [
    "matrix_DTC = confusion_matrix(target_valid, predicted_valid_DTC)\n",
    "matrix_RFC = confusion_matrix(target_valid, predicted_valid_RFC)\n",
    "matrix_LogR = confusion_matrix(target_valid, predicted_valid_LogR)\n",
    "print(f'Матрицы ошибок:\\n модели Решающее дерево:\\n {matrix_DTC}\\n модели Случайный лес:\\n {matrix_RFC}\\n модели Логистическая регрессия:\\n {matrix_LogR}')"
   ]
  },
  {
   "cell_type": "markdown",
   "metadata": {},
   "source": [
    "У всех моделей много истинноотрицательных предсказаний."
   ]
  },
  {
   "cell_type": "markdown",
   "metadata": {},
   "source": [
    "### Взвешивание классов"
   ]
  },
  {
   "cell_type": "markdown",
   "metadata": {},
   "source": [
    "Попробуем увеличить качество каждой моделей техникой \"Взвешивание классов\", придадим больше веса редкому классу. Для каждой модели сразу посчитаем значения всех матрик и построим ROC-кривую."
   ]
  },
  {
   "cell_type": "markdown",
   "metadata": {},
   "source": [
    "#### Взвешивание классов для решгающего дерева"
   ]
  },
  {
   "cell_type": "code",
   "execution_count": 92,
   "metadata": {},
   "outputs": [
    {
     "name": "stdout",
     "output_type": "stream",
     "text": [
      "F1-мера: 0.5809128630705395\n",
      "Максимальная глубина дерева: 5\n"
     ]
    }
   ],
   "source": [
    "best_f1_DTC_bal = 0\n",
    "best_depth_DTC_bal = 0\n",
    "\n",
    "for depth in range(1, 20):\n",
    "    model_DTC_bal = DecisionTreeClassifier(max_depth=depth, random_state=12345, class_weight='balanced')\n",
    "    model_DTC_bal.fit(features_train,target_train)\n",
    "    predicted_valid_DTC_bal = model_DTC_bal.predict(features_valid)\n",
    "    f1_DTC_bal = f1_score(target_valid, predicted_valid_DTC_bal)\n",
    "    if f1_DTC_bal > best_f1_DTC_bal:\n",
    "        best_f1_DTC_bal = f1_DTC_bal\n",
    "        best_depth_DTC_bal = depth\n",
    "        \n",
    "print('F1-мера:', best_f1_DTC_bal)\n",
    "print('Максимальная глубина дерева:', best_depth_DTC_bal)"
   ]
  },
  {
   "cell_type": "code",
   "execution_count": 97,
   "metadata": {},
   "outputs": [],
   "source": [
    "model_DTC_bal = DecisionTreeClassifier(max_depth=5, random_state=12345, class_weight='balanced')\n",
    "model_DTC_bal.fit(features_train,target_train)\n",
    "predicted_valid_DTC_bal = model_DTC_bal.predict(features_valid)"
   ]
  },
  {
   "cell_type": "code",
   "execution_count": 89,
   "metadata": {},
   "outputs": [],
   "source": [
    "def metrix_bal (target, prediction, model_name):\n",
    "    accuracy = accuracy_score(target, prediction)\n",
    "    recall = recall_score(target, prediction)\n",
    "    precision = precision_score(target, prediction)\n",
    "    f1 = f1_score(target, prediction)\n",
    "    print(\"Значения метрик качества для модели\", model_name)\n",
    "    print(\"Accuracy:\", accuracy)\n",
    "    print(\"Полнота:\", recall)\n",
    "    print(\"Точность:\", precision)\n",
    "    print(\"F1-мера:\", f1)"
   ]
  },
  {
   "cell_type": "code",
   "execution_count": 135,
   "metadata": {},
   "outputs": [],
   "source": [
    "def metrix_auc_roc (features, target, model, model_name):\n",
    "    probabilities = model.predict_proba(features)\n",
    "    probabilities_one = probabilities[:, 1]\n",
    "\n",
    "    auc_roc = roc_auc_score(target, probabilities_one)\n",
    "    print(auc_roc)\n",
    "    \n",
    "    fpr, tpr, thresholds = roc_curve(target, probabilities_one)\n",
    "    \n",
    "    plt.figure()\n",
    "\n",
    "    plt.figure(figsize=(7,5))\n",
    "\n",
    "    plt.plot([0, 1], [0, 1], linestyle='--')\n",
    "    plt.xlim([0.0, 1.0])\n",
    "    plt.ylim([0.0, 1.0])\n",
    "\n",
    "    plt.plot(fpr,tpr)\n",
    "    plt.xlabel('False Positive Rate')\n",
    "    plt.ylabel('True Positive Rate')\n",
    "    plt.title('ROC-кривая')\n",
    "    plt.legend(('Случайная модель', model_name),loc='lower right', fontsize='x-large')\n",
    "    plt.show()"
   ]
  },
  {
   "cell_type": "code",
   "execution_count": 98,
   "metadata": {},
   "outputs": [
    {
     "name": "stdout",
     "output_type": "stream",
     "text": [
      "Значения метрик качества для модели Решающее дерево:\n",
      "Accuracy: 0.798\n",
      "Полнота: 0.6619385342789598\n",
      "Точность: 0.5175600739371534\n",
      "F1-мера: 0.5809128630705395\n"
     ]
    }
   ],
   "source": [
    "metrix_bal (target_valid, predicted_valid_DTC_bal, 'Решающее дерево:')"
   ]
  },
  {
   "cell_type": "code",
   "execution_count": 136,
   "metadata": {},
   "outputs": [
    {
     "name": "stdout",
     "output_type": "stream",
     "text": [
      "0.8355347481752318\n"
     ]
    },
    {
     "data": {
      "text/plain": [
       "<Figure size 432x288 with 0 Axes>"
      ]
     },
     "metadata": {},
     "output_type": "display_data"
    },
    {
     "data": {
      "image/png": "[encoded data removed]",
      "text/plain": [
       "<Figure size 504x360 with 1 Axes>"
      ]
     },
     "metadata": {
      "needs_background": "light"
     },
     "output_type": "display_data"
    }
   ],
   "source": [
    "metrix_auc_roc (features_valid, target_valid, model_DTC_bal, 'Решающее дерево:')"
   ]
  },
  {
   "cell_type": "markdown",
   "metadata": {},
   "source": [
    "#### Взвешивание классов для случайного леса"
   ]
  },
  {
   "cell_type": "code",
   "execution_count": 108,
   "metadata": {},
   "outputs": [
    {
     "name": "stdout",
     "output_type": "stream",
     "text": [
      "Точность: 0.5777202072538861\n",
      "Количество деревьев: 29\n",
      "Максимальная глубина дерева: 39\n"
     ]
    }
   ],
   "source": [
    "best_f1_RFC_bal = 0\n",
    "best_est_RFC_bal = 0\n",
    "best_depth_RFC_bal = 0\n",
    "\n",
    "for est in range(1, 30):\n",
    "    for depth in range(1, 40):\n",
    "        model_RFC_bal = RandomForestClassifier(n_estimators=est, max_depth=depth, random_state=12345, class_weight='balanced')\n",
    "        model_RFC_bal.fit(features_upsampled, target_upsampled)\n",
    "        predicted_valid_RFC_bal = model_RFC_bal.predict(features_valid)\n",
    "        f1_RFC_bal = f1_score(target_valid, predicted_valid_RFC_bal)\n",
    "    if f1_RFC_bal > best_f1_RFC_bal:\n",
    "        best_f1_RFC_bal = f1_RFC_bal\n",
    "        best_est_RFC_bal = est\n",
    "        best_depth_RFC_bal = depth\n",
    "print('Точность:', best_f1_RFC_bal)\n",
    "print('Количество деревьев:', best_est_RFC_bal)\n",
    "print('Максимальная глубина дерева:', best_depth_RFC_bal)"
   ]
  },
  {
   "cell_type": "code",
   "execution_count": 111,
   "metadata": {},
   "outputs": [
    {
     "name": "stdout",
     "output_type": "stream",
     "text": [
      "Значения метрик качества для модели Случайный лес:\n",
      "Accuracy: 0.837\n",
      "Полнота: 0.5271867612293144\n",
      "Точность: 0.6389684813753582\n",
      "F1-мера: 0.5777202072538861\n"
     ]
    }
   ],
   "source": [
    "metrix_bal (target_valid, predicted_valid_RFC_bal, 'Случайный лес:')"
   ]
  },
  {
   "cell_type": "code",
   "execution_count": 137,
   "metadata": {},
   "outputs": [
    {
     "name": "stdout",
     "output_type": "stream",
     "text": [
      "0.8374445898562521\n"
     ]
    },
    {
     "data": {
      "text/plain": [
       "<Figure size 432x288 with 0 Axes>"
      ]
     },
     "metadata": {},
     "output_type": "display_data"
    },
    {
     "data": {
      "image/png": "[encoded data removed]",
      "text/plain": [
       "<Figure size 504x360 with 1 Axes>"
      ]
     },
     "metadata": {
      "needs_background": "light"
     },
     "output_type": "display_data"
    }
   ],
   "source": [
    "metrix_auc_roc (features_valid, target_valid, model_RFC_bal, 'Случайный лес:')"
   ]
  },
  {
   "cell_type": "markdown",
   "metadata": {},
   "source": [
    "#### Взвешивание классов для логистической регрессии"
   ]
  },
  {
   "cell_type": "code",
   "execution_count": 32,
   "metadata": {},
   "outputs": [],
   "source": [
    "model_LogR_bal = LogisticRegression(random_state=12345,solver='liblinear', class_weight='balanced')\n",
    "model_LogR_bal.fit(features_train, target_train)\n",
    "predicted_valid_LogR_bal = model_LogR_bal.predict(features_valid)"
   ]
  },
  {
   "cell_type": "code",
   "execution_count": 33,
   "metadata": {},
   "outputs": [
    {
     "name": "stdout",
     "output_type": "stream",
     "text": [
      "Значения метрик качества для модели Логистическая регрессия:\n",
      "Accuracy: 0.6985\n",
      "Полнота: 0.6548463356973995\n",
      "Точность: 0.3773841961852861\n",
      "F1-мера: 0.4788245462402766\n"
     ]
    }
   ],
   "source": [
    "metrix_bal (target_valid, predicted_valid_LogR_bal, 'Логистическая регрессия:')"
   ]
  },
  {
   "cell_type": "code",
   "execution_count": 138,
   "metadata": {},
   "outputs": [
    {
     "name": "stdout",
     "output_type": "stream",
     "text": [
      "0.7418085930882918\n"
     ]
    },
    {
     "data": {
      "text/plain": [
       "<Figure size 432x288 with 0 Axes>"
      ]
     },
     "metadata": {},
     "output_type": "display_data"
    },
    {
     "data": {
      "image/png": "[encoded data removed]",
      "text/plain": [
       "<Figure size 504x360 with 1 Axes>"
      ]
     },
     "metadata": {
      "needs_background": "light"
     },
     "output_type": "display_data"
    }
   ],
   "source": [
    "metrix_auc_roc (features_valid, target_valid, model_LogR_bal, 'Логистическая регрессия:')"
   ]
  },
  {
   "cell_type": "markdown",
   "metadata": {},
   "source": [
    "После улучшения качества моделей техникой взвешивания, метрики качества немного улучшились, по сравнению с метриками несбалансированых моделей. Но значения метрик по прежнему не достаточно высокие для решения нашей задачи. Стоит попробовать применить другую технику улучшения качества моделей."
   ]
  },
  {
   "cell_type": "markdown",
   "metadata": {},
   "source": [
    "### Увеличение выборки"
   ]
  },
  {
   "cell_type": "markdown",
   "metadata": {},
   "source": [
    "Попробуем увеличить качество каждой моделей техникой \"Увеличение выборки\", сделаем объекты редкого класса более частыми. Создадим функцию, которая разделит выборки на отрицательные и положительные объекты, а затем сложим обекты, увеличив количество положительных. Ранее мы отпределили, что положительных объектов в 4 раза меньше, поэтому увеличим их количество на 4 и перемешаем обекты в выборках. Для каждой модели сразу посчитаем значения всех матрик и построим ROC-кривую."
   ]
  },
  {
   "cell_type": "code",
   "execution_count": 35,
   "metadata": {},
   "outputs": [],
   "source": [
    "def upsample(features, target, repeat):\n",
    "    features_zeros = features[target == 0]\n",
    "    features_ones = features[target == 1]\n",
    "    target_zeros = target[target == 0]\n",
    "    target_ones = target[target == 1]\n",
    "\n",
    "    features_upsampled = pd.concat([features_zeros] + [features_ones] * repeat)\n",
    "    target_upsampled = pd.concat([target_zeros] + [target_ones] * repeat)\n",
    "    \n",
    "    features_upsampled, target_upsampled = shuffle(\n",
    "        features_upsampled, target_upsampled, random_state=12345)\n",
    "    \n",
    "    return features_upsampled, target_upsampled"
   ]
  },
  {
   "cell_type": "code",
   "execution_count": 36,
   "metadata": {},
   "outputs": [],
   "source": [
    "features_upsampled, target_upsampled = upsample(features_train, target_train, 4)"
   ]
  },
  {
   "cell_type": "markdown",
   "metadata": {},
   "source": [
    "#### Обучение модели решающее дерево на увеличенной выборке"
   ]
  },
  {
   "cell_type": "code",
   "execution_count": 112,
   "metadata": {},
   "outputs": [],
   "source": [
    "model_DTC_ups = DecisionTreeClassifier(max_depth=5, random_state=12345)\n",
    "model_DTC_ups.fit(features_upsampled, target_upsampled)\n",
    "predicted_valid_DTC_ups = model_DTC_ups.predict(features_valid)"
   ]
  },
  {
   "cell_type": "code",
   "execution_count": 67,
   "metadata": {},
   "outputs": [],
   "source": [
    "def metrix_ups (target, prediction, model_name):\n",
    "    accuracy = accuracy_score(target, prediction)\n",
    "    recall = recall_score(target, prediction)\n",
    "    precision = precision_score(target, prediction)\n",
    "    f1 = f1_score(target, prediction)\n",
    "    print(\"Значения метрик качества для модели\", model_name)\n",
    "    print(\"Accuracy:\", accuracy)\n",
    "    print(\"Полнота:\", recall)\n",
    "    print(\"Точность:\", precision)\n",
    "    print(\"F1-мера:\", f1)"
   ]
  },
  {
   "cell_type": "code",
   "execution_count": 113,
   "metadata": {},
   "outputs": [
    {
     "name": "stdout",
     "output_type": "stream",
     "text": [
      "Значения метрик качества для модели Решающее дерево:\n",
      "Accuracy: 0.798\n",
      "Полнота: 0.6619385342789598\n",
      "Точность: 0.5175600739371534\n",
      "F1-мера: 0.5809128630705395\n"
     ]
    }
   ],
   "source": [
    "metrix_ups (target_valid, predicted_valid_DTC_ups, 'Решающее дерево:')"
   ]
  },
  {
   "cell_type": "code",
   "execution_count": 139,
   "metadata": {},
   "outputs": [
    {
     "name": "stdout",
     "output_type": "stream",
     "text": [
      "0.8355347481752318\n"
     ]
    },
    {
     "data": {
      "text/plain": [
       "<Figure size 432x288 with 0 Axes>"
      ]
     },
     "metadata": {},
     "output_type": "display_data"
    },
    {
     "data": {
      "image/png": "[encoded data removed]",
      "text/plain": [
       "<Figure size 504x360 with 1 Axes>"
      ]
     },
     "metadata": {
      "needs_background": "light"
     },
     "output_type": "display_data"
    }
   ],
   "source": [
    "metrix_auc_roc (features_valid, target_valid, model_DTC_ups, 'Решающее дерево:')"
   ]
  },
  {
   "cell_type": "markdown",
   "metadata": {},
   "source": [
    "#### Обучение модели случайный лес на увеличенной выборке"
   ]
  },
  {
   "cell_type": "code",
   "execution_count": 122,
   "metadata": {},
   "outputs": [],
   "source": [
    "model_RFC_ups = RandomForestClassifier(n_estimators=29, max_depth=39, random_state=12345)\n",
    "model_RFC_ups.fit(features_upsampled, target_upsampled)\n",
    "predicted_valid_RFC_ups = model_RFC_ups.predict(features_valid)"
   ]
  },
  {
   "cell_type": "code",
   "execution_count": 123,
   "metadata": {},
   "outputs": [
    {
     "name": "stdout",
     "output_type": "stream",
     "text": [
      "Значения метрик качества для модели Случайный лес:\n",
      "Accuracy: 0.8465\n",
      "Полнота: 0.5673758865248227\n",
      "Точность: 0.6593406593406593\n",
      "F1-мера: 0.6099110546378653\n"
     ]
    }
   ],
   "source": [
    "metrix_ups (target_valid, predicted_valid_RFC_ups, 'Случайный лес:')"
   ]
  },
  {
   "cell_type": "code",
   "execution_count": 140,
   "metadata": {},
   "outputs": [
    {
     "name": "stdout",
     "output_type": "stream",
     "text": [
      "0.8401526973890335\n"
     ]
    },
    {
     "data": {
      "text/plain": [
       "<Figure size 432x288 with 0 Axes>"
      ]
     },
     "metadata": {},
     "output_type": "display_data"
    },
    {
     "data": {
      "image/png": "[encoded data removed]",
      "text/plain": [
       "<Figure size 504x360 with 1 Axes>"
      ]
     },
     "metadata": {
      "needs_background": "light"
     },
     "output_type": "display_data"
    }
   ],
   "source": [
    "metrix_auc_roc (features_valid, target_valid, model_RFC_ups, 'Случайный лес:')"
   ]
  },
  {
   "cell_type": "markdown",
   "metadata": {},
   "source": [
    "#### Обучение модели логистическая регрессия на увеличенной выборке"
   ]
  },
  {
   "cell_type": "code",
   "execution_count": 115,
   "metadata": {},
   "outputs": [],
   "source": [
    "model_LogR_ups = LogisticRegression(random_state=12345,solver='liblinear')\n",
    "model_LogR_ups.fit(features_upsampled, target_upsampled)\n",
    "predicted_valid_LogR_ups = model_LogR_ups.predict(features_valid)"
   ]
  },
  {
   "cell_type": "code",
   "execution_count": 116,
   "metadata": {},
   "outputs": [
    {
     "name": "stdout",
     "output_type": "stream",
     "text": [
      "Значения метрик качества для модели Логистическая регрессия:\n",
      "Accuracy: 0.6975\n",
      "Полнота: 0.6501182033096927\n",
      "Точность: 0.3756830601092896\n",
      "F1-мера: 0.47619047619047616\n"
     ]
    }
   ],
   "source": [
    "metrix_ups (target_valid, predicted_valid_LogR_ups, 'Логистическая регрессия:')"
   ]
  },
  {
   "cell_type": "code",
   "execution_count": 141,
   "metadata": {},
   "outputs": [
    {
     "name": "stdout",
     "output_type": "stream",
     "text": [
      "0.7417621212734475\n"
     ]
    },
    {
     "data": {
      "text/plain": [
       "<Figure size 432x288 with 0 Axes>"
      ]
     },
     "metadata": {},
     "output_type": "display_data"
    },
    {
     "data": {
      "image/png": "[encoded data removed]",
      "text/plain": [
       "<Figure size 504x360 with 1 Axes>"
      ]
     },
     "metadata": {
      "needs_background": "light"
     },
     "output_type": "display_data"
    }
   ],
   "source": [
    "metrix_auc_roc (features_valid, target_valid, model_LogR_ups, 'Логистическая регрессия:')"
   ]
  },
  {
   "cell_type": "markdown",
   "metadata": {},
   "source": [
    "**Вывод:**<br><br>\n",
    "Мы проверили баланс объектов в признаках и определили, что положительных объектов в целевом признаке в 4 раза меньше чем отрицательных. Провели балансировку признаков двумя техниками, взвешиванием классов и увеличением выборки.<br>\n",
    "Из полученых значений метрик можно сделать вывод, что техника увеличения выборки лучше подходит для увеличения качества моделей. Наибольшее значение метрики F1-меры достигнуто при обучении модели \"Случайный лес\" с увеличенной выборкой."
   ]
  },
  {
   "cell_type": "markdown",
   "metadata": {},
   "source": [
    "## Тестирование модели"
   ]
  },
  {
   "cell_type": "markdown",
   "metadata": {},
   "source": [
    "Проведем тестирование модели Слуйный лес. Обучим модель на обучающей, увеличеной выборке и сделаем предсказания по тестовым признакам. Определим значения всех метрик качества."
   ]
  },
  {
   "cell_type": "code",
   "execution_count": 120,
   "metadata": {},
   "outputs": [],
   "source": [
    "model_RFC_ups = RandomForestClassifier(n_estimators=29, max_depth=39, random_state=12345)\n",
    "model_RFC_ups.fit(features_upsampled, target_upsampled)\n",
    "predicted_test_RFC_ups = model_RFC_ups.predict(features_test)"
   ]
  },
  {
   "cell_type": "code",
   "execution_count": 124,
   "metadata": {},
   "outputs": [
    {
     "name": "stdout",
     "output_type": "stream",
     "text": [
      "Значения метрик качества для модели Случайный лес:\n",
      "Accuracy: 0.8415\n",
      "Полнота: 0.5502392344497608\n",
      "Точность: 0.6406685236768802\n",
      "F1-мера: 0.592020592020592\n"
     ]
    }
   ],
   "source": [
    "metrix_ups (target_test, predicted_test_RFC_ups, 'Случайный лес:')"
   ]
  },
  {
   "cell_type": "code",
   "execution_count": 142,
   "metadata": {},
   "outputs": [
    {
     "name": "stdout",
     "output_type": "stream",
     "text": [
      "0.8280612028865405\n"
     ]
    },
    {
     "data": {
      "text/plain": [
       "<Figure size 432x288 with 0 Axes>"
      ]
     },
     "metadata": {},
     "output_type": "display_data"
    },
    {
     "data": {
      "image/png": "[encoded data removed]",
      "text/plain": [
       "<Figure size 504x360 with 1 Axes>"
      ]
     },
     "metadata": {
      "needs_background": "light"
     },
     "output_type": "display_data"
    }
   ],
   "source": [
    "metrix_auc_roc (features_test, target_test, model_RFC_ups, 'Случайный лес:')"
   ]
  },
  {
   "cell_type": "markdown",
   "metadata": {},
   "source": [
    "**Вывод:**<br><br>\n",
    "При выполнении проекта мы поанализировали значения метрик качества различных моделей и определил что наибольшее качество показала модель \"Случайный лес\". Так же провели балансировку параметров двумя техниками.<br>\n",
    "Исходя из полученых значений метрик качества, можно сделать вывод что самая качественная модель для обучения это \"Случайный лес\". Именно при обучении этой модели мы получили наибольшее значение метрики F1-мера."
   ]
  },
  {
   "cell_type": "markdown",
   "metadata": {},
   "source": [
    "# <font color='orange'>Рекомендации 🔥</font>\n",
    "* Анализ данных на python и pandas https://www.youtube.com/watch?v=dd3RcafdOQk&t=82s\n",
    "* Курс \"Введение в машинное обучение\" https://stepik.org/course/4852\n",
    "* Разумные способы кодирования категориальных данных для машинного обучения https://machinelearningmastery.ru/smarter-ways-to-encode-categorical-data-for-machine-learning-part-1-of-3-6dca2f71b159/\n",
    "* Статья про \"непонятную\" метрику ROC-AUC https://dyakonov.org/2017/07/28/auc-roc-площадь-под-кривой-ошибок/\n",
    "* Хочешь подтянуть математику для DS?) https://academy.stepik.org/math-for-data-science\n",
    "* Результаты обучения моделей можно визуализировать 😎 https://www.datatechnotes.com/2019/08/elasticnet-regression-example-in-python.html\n",
    "* В нашем деле нужно быть всегда в курсе всех новинок, новостей и тд, вот тут публикуют новости в области DS: https://www.infoq.com/data-analysis/news/\n",
    "* Всем аналитикам данных рекомендую книгу Даниела Канемана \"Думай медленно, решай быстро\""
   ]
  }
 ],
 "metadata": {
  "ExecuteTimeLog": [
   {
    "duration": 65,
    "start_time": "2022-10-27T08:16:32.548Z"
   },
   {
    "duration": 1032,
    "start_time": "2022-10-27T08:16:38.752Z"
   },
   {
    "duration": 103,
    "start_time": "2022-10-27T08:16:42.354Z"
   },
   {
    "duration": 13,
    "start_time": "2022-10-27T08:17:12.036Z"
   },
   {
    "duration": 17,
    "start_time": "2022-10-27T08:17:59.531Z"
   },
   {
    "duration": 37,
    "start_time": "2022-10-27T08:23:54.261Z"
   },
   {
    "duration": 20,
    "start_time": "2022-10-27T09:51:54.373Z"
   },
   {
    "duration": 5,
    "start_time": "2022-10-27T09:58:34.919Z"
   },
   {
    "duration": 5,
    "start_time": "2022-10-27T09:59:43.385Z"
   },
   {
    "duration": 4,
    "start_time": "2022-10-27T09:59:55.585Z"
   },
   {
    "duration": 4,
    "start_time": "2022-10-27T18:53:15.934Z"
   },
   {
    "duration": 77,
    "start_time": "2022-10-27T18:53:26.270Z"
   },
   {
    "duration": 11,
    "start_time": "2022-10-27T18:53:41.182Z"
   },
   {
    "duration": 1116,
    "start_time": "2022-10-27T18:53:54.100Z"
   },
   {
    "duration": 63,
    "start_time": "2022-10-27T18:53:55.217Z"
   },
   {
    "duration": 13,
    "start_time": "2022-10-27T18:53:55.282Z"
   },
   {
    "duration": 17,
    "start_time": "2022-10-27T18:53:55.297Z"
   },
   {
    "duration": 4,
    "start_time": "2022-10-27T18:53:55.316Z"
   },
   {
    "duration": 36,
    "start_time": "2022-10-27T18:53:55.322Z"
   },
   {
    "duration": 4,
    "start_time": "2022-10-27T18:53:55.360Z"
   },
   {
    "duration": 20,
    "start_time": "2022-10-27T18:54:12.974Z"
   },
   {
    "duration": 5,
    "start_time": "2022-10-27T19:16:35.930Z"
   },
   {
    "duration": 16,
    "start_time": "2022-10-27T19:16:43.082Z"
   },
   {
    "duration": 11,
    "start_time": "2022-10-27T19:42:01.624Z"
   },
   {
    "duration": 16,
    "start_time": "2022-10-27T19:42:51.211Z"
   },
   {
    "duration": 10,
    "start_time": "2022-10-27T19:43:12.135Z"
   },
   {
    "duration": 58,
    "start_time": "2022-10-27T19:44:48.107Z"
   },
   {
    "duration": 16,
    "start_time": "2022-10-27T19:45:46.688Z"
   },
   {
    "duration": 5,
    "start_time": "2022-10-27T20:05:46.015Z"
   },
   {
    "duration": 7,
    "start_time": "2022-10-27T20:12:54.326Z"
   },
   {
    "duration": 7,
    "start_time": "2022-10-27T20:13:33.858Z"
   },
   {
    "duration": 113,
    "start_time": "2022-10-27T20:43:33.130Z"
   },
   {
    "duration": 35,
    "start_time": "2022-10-27T20:45:43.029Z"
   },
   {
    "duration": 24,
    "start_time": "2022-10-27T20:46:22.945Z"
   },
   {
    "duration": 24,
    "start_time": "2022-10-27T20:46:34.822Z"
   },
   {
    "duration": 30,
    "start_time": "2022-10-27T20:46:55.369Z"
   },
   {
    "duration": 34,
    "start_time": "2022-10-27T20:47:08.296Z"
   },
   {
    "duration": 37,
    "start_time": "2022-10-27T20:48:51.352Z"
   },
   {
    "duration": 28,
    "start_time": "2022-10-27T20:48:55.261Z"
   },
   {
    "duration": 29,
    "start_time": "2022-10-27T20:49:07.839Z"
   },
   {
    "duration": 59,
    "start_time": "2022-10-29T11:47:59.439Z"
   },
   {
    "duration": 1149,
    "start_time": "2022-10-29T11:48:10.796Z"
   },
   {
    "duration": 104,
    "start_time": "2022-10-29T11:48:11.947Z"
   },
   {
    "duration": 12,
    "start_time": "2022-10-29T11:48:12.052Z"
   },
   {
    "duration": 19,
    "start_time": "2022-10-29T11:48:12.066Z"
   },
   {
    "duration": 4,
    "start_time": "2022-10-29T11:48:12.087Z"
   },
   {
    "duration": 63,
    "start_time": "2022-10-29T11:48:12.093Z"
   },
   {
    "duration": 5,
    "start_time": "2022-10-29T11:48:12.158Z"
   },
   {
    "duration": 6,
    "start_time": "2022-10-29T11:48:12.165Z"
   },
   {
    "duration": 15,
    "start_time": "2022-10-29T11:48:12.173Z"
   },
   {
    "duration": 12,
    "start_time": "2022-10-29T11:48:12.191Z"
   },
   {
    "duration": 44,
    "start_time": "2022-10-29T11:48:12.206Z"
   },
   {
    "duration": 6,
    "start_time": "2022-10-29T11:48:12.251Z"
   },
   {
    "duration": 11,
    "start_time": "2022-10-29T11:48:12.258Z"
   },
   {
    "duration": 7,
    "start_time": "2022-10-29T11:48:12.270Z"
   },
   {
    "duration": 56,
    "start_time": "2022-10-29T11:48:12.279Z"
   },
   {
    "duration": 107,
    "start_time": "2022-10-29T11:48:12.336Z"
   },
   {
    "duration": 10,
    "start_time": "2022-10-29T11:48:16.490Z"
   },
   {
    "duration": 18,
    "start_time": "2022-10-29T11:48:31.239Z"
   },
   {
    "duration": 416,
    "start_time": "2022-10-29T11:48:47.648Z"
   },
   {
    "duration": 95636,
    "start_time": "2022-10-29T12:07:02.443Z"
   },
   {
    "duration": 416,
    "start_time": "2022-10-29T12:08:38.503Z"
   },
   {
    "duration": 23361,
    "start_time": "2022-10-29T12:09:57.677Z"
   },
   {
    "duration": 57,
    "start_time": "2022-10-29T13:29:23.677Z"
   },
   {
    "duration": 309346,
    "start_time": "2022-10-29T13:43:40.445Z"
   },
   {
    "duration": 8,
    "start_time": "2022-10-29T13:57:25.873Z"
   },
   {
    "duration": 41,
    "start_time": "2022-10-29T14:33:26.619Z"
   },
   {
    "duration": 110,
    "start_time": "2022-10-29T14:43:18.432Z"
   },
   {
    "duration": 25,
    "start_time": "2022-10-29T14:43:41.683Z"
   },
   {
    "duration": 9,
    "start_time": "2022-10-29T14:43:54.452Z"
   },
   {
    "duration": 10,
    "start_time": "2022-10-29T14:54:20.598Z"
   },
   {
    "duration": 9,
    "start_time": "2022-10-29T14:54:32.020Z"
   },
   {
    "duration": 12,
    "start_time": "2022-10-29T15:07:48.754Z"
   },
   {
    "duration": 9,
    "start_time": "2022-10-29T15:08:10.445Z"
   },
   {
    "duration": 10,
    "start_time": "2022-10-29T15:08:20.080Z"
   },
   {
    "duration": 13,
    "start_time": "2022-10-29T15:10:34.328Z"
   },
   {
    "duration": 8,
    "start_time": "2022-10-29T15:14:06.116Z"
   },
   {
    "duration": 7,
    "start_time": "2022-10-29T15:35:53.521Z"
   },
   {
    "duration": 10,
    "start_time": "2022-10-29T15:42:57.982Z"
   },
   {
    "duration": 9,
    "start_time": "2022-10-29T15:43:24.909Z"
   },
   {
    "duration": 504,
    "start_time": "2022-10-30T09:34:53.065Z"
   },
   {
    "duration": 31,
    "start_time": "2022-10-30T09:44:15.204Z"
   },
   {
    "duration": 1165,
    "start_time": "2022-10-30T09:46:35.815Z"
   },
   {
    "duration": 62,
    "start_time": "2022-10-30T09:46:36.982Z"
   },
   {
    "duration": 13,
    "start_time": "2022-10-30T09:46:37.045Z"
   },
   {
    "duration": 19,
    "start_time": "2022-10-30T09:46:37.060Z"
   },
   {
    "duration": 4,
    "start_time": "2022-10-30T09:46:37.081Z"
   },
   {
    "duration": 63,
    "start_time": "2022-10-30T09:46:37.087Z"
   },
   {
    "duration": 4,
    "start_time": "2022-10-30T09:46:37.152Z"
   },
   {
    "duration": 7,
    "start_time": "2022-10-30T09:46:37.158Z"
   },
   {
    "duration": 12,
    "start_time": "2022-10-30T09:46:37.166Z"
   },
   {
    "duration": 11,
    "start_time": "2022-10-30T09:46:37.181Z"
   },
   {
    "duration": 42,
    "start_time": "2022-10-30T09:46:37.193Z"
   },
   {
    "duration": 6,
    "start_time": "2022-10-30T09:46:37.236Z"
   },
   {
    "duration": 7,
    "start_time": "2022-10-30T09:46:37.243Z"
   },
   {
    "duration": 6,
    "start_time": "2022-10-30T09:46:37.253Z"
   },
   {
    "duration": 38,
    "start_time": "2022-10-30T09:46:37.261Z"
   },
   {
    "duration": 447,
    "start_time": "2022-10-30T09:46:37.301Z"
   },
   {
    "duration": 296751,
    "start_time": "2022-10-30T09:46:37.750Z"
   },
   {
    "duration": 0,
    "start_time": "2022-10-30T09:51:34.623Z"
   },
   {
    "duration": 0,
    "start_time": "2022-10-30T09:51:34.624Z"
   },
   {
    "duration": 0,
    "start_time": "2022-10-30T09:51:34.633Z"
   },
   {
    "duration": 0,
    "start_time": "2022-10-30T09:51:34.634Z"
   },
   {
    "duration": 0,
    "start_time": "2022-10-30T09:51:34.635Z"
   },
   {
    "duration": 0,
    "start_time": "2022-10-30T09:51:34.636Z"
   },
   {
    "duration": 20,
    "start_time": "2022-10-30T09:51:53.008Z"
   },
   {
    "duration": 20,
    "start_time": "2022-10-30T09:52:12.638Z"
   },
   {
    "duration": 34,
    "start_time": "2022-10-30T09:52:20.701Z"
   },
   {
    "duration": 12,
    "start_time": "2022-10-30T09:52:34.243Z"
   },
   {
    "duration": 20,
    "start_time": "2022-10-30T09:53:14.628Z"
   },
   {
    "duration": 22,
    "start_time": "2022-10-30T09:54:35.059Z"
   },
   {
    "duration": 20,
    "start_time": "2022-10-30T09:55:13.255Z"
   },
   {
    "duration": 27,
    "start_time": "2022-10-30T09:57:22.745Z"
   },
   {
    "duration": 8,
    "start_time": "2022-10-30T09:57:32.523Z"
   },
   {
    "duration": 8,
    "start_time": "2022-10-30T09:57:47.012Z"
   },
   {
    "duration": 9,
    "start_time": "2022-10-30T09:57:51.306Z"
   },
   {
    "duration": 390,
    "start_time": "2022-10-30T09:57:58.068Z"
   },
   {
    "duration": 18,
    "start_time": "2022-10-30T09:58:14.850Z"
   },
   {
    "duration": 200,
    "start_time": "2022-10-30T10:01:36.599Z"
   },
   {
    "duration": 184,
    "start_time": "2022-10-30T10:04:17.109Z"
   },
   {
    "duration": 135,
    "start_time": "2022-10-30T10:04:20.613Z"
   },
   {
    "duration": 4,
    "start_time": "2022-10-30T10:13:41.087Z"
   },
   {
    "duration": 4,
    "start_time": "2022-10-30T10:13:58.615Z"
   },
   {
    "duration": 21,
    "start_time": "2022-10-30T10:14:14.631Z"
   },
   {
    "duration": 6,
    "start_time": "2022-10-30T10:21:28.917Z"
   },
   {
    "duration": 9,
    "start_time": "2022-10-30T10:23:39.656Z"
   },
   {
    "duration": 10,
    "start_time": "2022-10-30T10:24:09.952Z"
   },
   {
    "duration": 28,
    "start_time": "2022-10-30T11:00:13.656Z"
   },
   {
    "duration": 3,
    "start_time": "2022-10-30T11:06:03.767Z"
   },
   {
    "duration": 4,
    "start_time": "2022-10-30T11:07:13.125Z"
   },
   {
    "duration": 19,
    "start_time": "2022-10-30T11:07:15.821Z"
   },
   {
    "duration": 9,
    "start_time": "2022-10-30T11:07:43.697Z"
   },
   {
    "duration": 3,
    "start_time": "2022-10-30T11:08:18.805Z"
   },
   {
    "duration": 10,
    "start_time": "2022-10-30T11:08:22.278Z"
   },
   {
    "duration": 22,
    "start_time": "2022-10-30T11:09:59.785Z"
   },
   {
    "duration": 4,
    "start_time": "2022-10-30T11:10:03.859Z"
   },
   {
    "duration": 10,
    "start_time": "2022-10-30T11:10:06.786Z"
   },
   {
    "duration": 5,
    "start_time": "2022-10-30T11:20:44.474Z"
   },
   {
    "duration": 11,
    "start_time": "2022-10-30T11:20:47.342Z"
   },
   {
    "duration": 47,
    "start_time": "2022-10-30T11:21:24.157Z"
   },
   {
    "duration": 9,
    "start_time": "2022-10-30T11:21:37.764Z"
   },
   {
    "duration": 629,
    "start_time": "2022-10-30T11:25:40.204Z"
   },
   {
    "duration": 10,
    "start_time": "2022-10-30T11:25:45.003Z"
   },
   {
    "duration": 12,
    "start_time": "2022-10-30T11:26:00.771Z"
   },
   {
    "duration": 21,
    "start_time": "2022-10-30T11:31:07.757Z"
   },
   {
    "duration": 13,
    "start_time": "2022-10-30T11:31:54.309Z"
   },
   {
    "duration": 11,
    "start_time": "2022-10-30T11:39:06.478Z"
   },
   {
    "duration": 4,
    "start_time": "2022-10-30T11:39:14.357Z"
   },
   {
    "duration": 10,
    "start_time": "2022-10-30T11:39:17.371Z"
   },
   {
    "duration": 9,
    "start_time": "2022-10-30T11:39:22.989Z"
   },
   {
    "duration": 9,
    "start_time": "2022-10-30T11:39:27.576Z"
   },
   {
    "duration": 11,
    "start_time": "2022-10-30T11:41:23.001Z"
   },
   {
    "duration": 11,
    "start_time": "2022-10-30T11:41:29.852Z"
   },
   {
    "duration": 11,
    "start_time": "2022-10-30T11:41:37.245Z"
   },
   {
    "duration": 275,
    "start_time": "2022-10-30T11:44:01.428Z"
   },
   {
    "duration": 9,
    "start_time": "2022-10-30T11:44:08.448Z"
   },
   {
    "duration": 647,
    "start_time": "2022-10-30T11:44:18.469Z"
   },
   {
    "duration": 11,
    "start_time": "2022-10-30T11:44:22.190Z"
   },
   {
    "duration": 1167,
    "start_time": "2022-10-31T06:33:51.313Z"
   },
   {
    "duration": 66,
    "start_time": "2022-10-31T06:33:52.482Z"
   },
   {
    "duration": 13,
    "start_time": "2022-10-31T06:33:52.550Z"
   },
   {
    "duration": 20,
    "start_time": "2022-10-31T06:33:52.565Z"
   },
   {
    "duration": 5,
    "start_time": "2022-10-31T06:33:52.586Z"
   },
   {
    "duration": 76,
    "start_time": "2022-10-31T06:33:52.593Z"
   },
   {
    "duration": 5,
    "start_time": "2022-10-31T06:33:52.672Z"
   },
   {
    "duration": 10,
    "start_time": "2022-10-31T06:33:52.679Z"
   },
   {
    "duration": 14,
    "start_time": "2022-10-31T06:33:52.691Z"
   },
   {
    "duration": 33,
    "start_time": "2022-10-31T06:33:52.708Z"
   },
   {
    "duration": 22,
    "start_time": "2022-10-31T06:33:52.743Z"
   },
   {
    "duration": 10,
    "start_time": "2022-10-31T06:33:52.766Z"
   },
   {
    "duration": 7,
    "start_time": "2022-10-31T06:33:52.778Z"
   },
   {
    "duration": 11,
    "start_time": "2022-10-31T06:33:52.787Z"
   },
   {
    "duration": 66,
    "start_time": "2022-10-31T06:33:52.800Z"
   },
   {
    "duration": 434,
    "start_time": "2022-10-31T06:33:52.868Z"
   },
   {
    "duration": 300366,
    "start_time": "2022-10-31T06:33:53.304Z"
   },
   {
    "duration": 66,
    "start_time": "2022-10-31T06:38:53.672Z"
   },
   {
    "duration": 97,
    "start_time": "2022-10-31T06:38:53.740Z"
   },
   {
    "duration": 11,
    "start_time": "2022-10-31T06:38:53.840Z"
   },
   {
    "duration": 15,
    "start_time": "2022-10-31T06:38:53.853Z"
   },
   {
    "duration": 319,
    "start_time": "2022-10-31T06:38:53.870Z"
   },
   {
    "duration": 119,
    "start_time": "2022-10-31T06:38:54.191Z"
   },
   {
    "duration": 232,
    "start_time": "2022-10-31T06:38:54.311Z"
   },
   {
    "duration": 264,
    "start_time": "2022-10-31T06:38:54.544Z"
   },
   {
    "duration": 27,
    "start_time": "2022-10-31T06:38:54.810Z"
   },
   {
    "duration": 22,
    "start_time": "2022-10-31T06:38:54.839Z"
   },
   {
    "duration": 4,
    "start_time": "2022-10-31T06:38:54.864Z"
   },
   {
    "duration": 15,
    "start_time": "2022-10-31T06:38:54.869Z"
   },
   {
    "duration": 644,
    "start_time": "2022-10-31T06:38:54.886Z"
   },
   {
    "duration": 10,
    "start_time": "2022-10-31T06:38:55.531Z"
   },
   {
    "duration": 26,
    "start_time": "2022-10-31T06:38:55.543Z"
   },
   {
    "duration": 101,
    "start_time": "2022-10-31T06:38:55.635Z"
   },
   {
    "duration": 131,
    "start_time": "2022-10-31T06:40:36.905Z"
   },
   {
    "duration": 1052,
    "start_time": "2022-10-31T07:44:21.983Z"
   },
   {
    "duration": 63,
    "start_time": "2022-10-31T07:44:23.037Z"
   },
   {
    "duration": 13,
    "start_time": "2022-10-31T07:44:23.101Z"
   },
   {
    "duration": 19,
    "start_time": "2022-10-31T07:44:23.116Z"
   },
   {
    "duration": 4,
    "start_time": "2022-10-31T07:44:23.136Z"
   },
   {
    "duration": 40,
    "start_time": "2022-10-31T07:44:23.142Z"
   },
   {
    "duration": 4,
    "start_time": "2022-10-31T07:44:23.184Z"
   },
   {
    "duration": 8,
    "start_time": "2022-10-31T07:44:23.189Z"
   },
   {
    "duration": 12,
    "start_time": "2022-10-31T07:44:23.198Z"
   },
   {
    "duration": 29,
    "start_time": "2022-10-31T07:44:23.213Z"
   },
   {
    "duration": 19,
    "start_time": "2022-10-31T07:44:23.243Z"
   },
   {
    "duration": 5,
    "start_time": "2022-10-31T07:44:23.264Z"
   },
   {
    "duration": 7,
    "start_time": "2022-10-31T07:44:23.271Z"
   },
   {
    "duration": 8,
    "start_time": "2022-10-31T07:44:23.279Z"
   },
   {
    "duration": 72,
    "start_time": "2022-10-31T07:44:23.288Z"
   },
   {
    "duration": 423,
    "start_time": "2022-10-31T07:44:23.362Z"
   },
   {
    "duration": 293504,
    "start_time": "2022-10-31T07:44:23.787Z"
   },
   {
    "duration": 50,
    "start_time": "2022-10-31T07:49:17.292Z"
   },
   {
    "duration": 91,
    "start_time": "2022-10-31T07:49:17.344Z"
   },
   {
    "duration": 14,
    "start_time": "2022-10-31T07:49:17.438Z"
   },
   {
    "duration": 9,
    "start_time": "2022-10-31T07:49:17.453Z"
   },
   {
    "duration": 374,
    "start_time": "2022-10-31T07:49:17.463Z"
   },
   {
    "duration": 128,
    "start_time": "2022-10-31T07:49:17.839Z"
   },
   {
    "duration": 230,
    "start_time": "2022-10-31T07:49:17.969Z"
   },
   {
    "duration": 266,
    "start_time": "2022-10-31T07:49:18.201Z"
   },
   {
    "duration": 9,
    "start_time": "2022-10-31T07:49:18.470Z"
   },
   {
    "duration": 28,
    "start_time": "2022-10-31T07:49:18.480Z"
   },
   {
    "duration": 4,
    "start_time": "2022-10-31T07:49:18.511Z"
   },
   {
    "duration": 9,
    "start_time": "2022-10-31T07:49:18.534Z"
   },
   {
    "duration": 642,
    "start_time": "2022-10-31T07:49:18.545Z"
   },
   {
    "duration": 10,
    "start_time": "2022-10-31T07:49:19.189Z"
   },
   {
    "duration": 35,
    "start_time": "2022-10-31T07:49:19.200Z"
   },
   {
    "duration": 106,
    "start_time": "2022-10-31T07:49:19.237Z"
   },
   {
    "duration": 42,
    "start_time": "2022-10-31T07:49:20.139Z"
   },
   {
    "duration": 4,
    "start_time": "2022-10-31T07:57:05.172Z"
   },
   {
    "duration": 11,
    "start_time": "2022-10-31T07:57:09.549Z"
   },
   {
    "duration": 126,
    "start_time": "2022-10-31T08:00:48.653Z"
   },
   {
    "duration": 122,
    "start_time": "2022-10-31T08:06:48.950Z"
   },
   {
    "duration": 26,
    "start_time": "2022-10-31T08:09:03.428Z"
   },
   {
    "duration": 9,
    "start_time": "2022-10-31T08:11:00.254Z"
   },
   {
    "duration": 4,
    "start_time": "2022-10-31T08:11:04.860Z"
   },
   {
    "duration": 9,
    "start_time": "2022-10-31T08:11:07.380Z"
   },
   {
    "duration": 904,
    "start_time": "2022-10-31T08:13:29.988Z"
   },
   {
    "duration": 10,
    "start_time": "2022-10-31T08:14:01.097Z"
   },
   {
    "duration": 405948,
    "start_time": "2022-10-31T08:18:01.164Z"
   },
   {
    "duration": 7258,
    "start_time": "2022-10-31T08:38:00.050Z"
   },
   {
    "duration": 47134,
    "start_time": "2022-10-31T08:38:23.487Z"
   },
   {
    "duration": 147554,
    "start_time": "2022-10-31T08:39:28.770Z"
   },
   {
    "duration": 214,
    "start_time": "2022-10-31T08:41:56.327Z"
   },
   {
    "duration": 280,
    "start_time": "2022-10-31T08:42:12.240Z"
   },
   {
    "duration": 9,
    "start_time": "2022-10-31T08:42:15.553Z"
   },
   {
    "duration": 279,
    "start_time": "2022-10-31T08:42:44.836Z"
   },
   {
    "duration": 9,
    "start_time": "2022-10-31T08:42:47.798Z"
   },
   {
    "duration": 288,
    "start_time": "2022-10-31T08:44:21.164Z"
   },
   {
    "duration": 8,
    "start_time": "2022-10-31T08:44:23.173Z"
   },
   {
    "duration": 871,
    "start_time": "2022-10-31T08:44:49.838Z"
   },
   {
    "duration": 9,
    "start_time": "2022-10-31T08:44:51.537Z"
   },
   {
    "duration": 25,
    "start_time": "2022-10-31T08:45:38.346Z"
   },
   {
    "duration": 4,
    "start_time": "2022-10-31T08:45:41.816Z"
   },
   {
    "duration": 10,
    "start_time": "2022-10-31T08:45:42.855Z"
   },
   {
    "duration": 11,
    "start_time": "2022-10-31T08:45:51.924Z"
   },
   {
    "duration": 26,
    "start_time": "2022-10-31T08:46:11.092Z"
   },
   {
    "duration": 9,
    "start_time": "2022-10-31T08:46:15.224Z"
   },
   {
    "duration": 846,
    "start_time": "2022-10-31T08:47:04.060Z"
   },
   {
    "duration": 9,
    "start_time": "2022-10-31T08:47:07.516Z"
   },
   {
    "duration": 285,
    "start_time": "2022-10-31T08:48:40.623Z"
   },
   {
    "duration": 11,
    "start_time": "2022-10-31T08:48:43.196Z"
   },
   {
    "duration": 370,
    "start_time": "2022-10-31T08:48:55.389Z"
   },
   {
    "duration": 11,
    "start_time": "2022-10-31T08:48:58.172Z"
   },
   {
    "duration": 363,
    "start_time": "2022-10-31T08:49:23.837Z"
   },
   {
    "duration": 10,
    "start_time": "2022-10-31T08:49:26.029Z"
   },
   {
    "duration": 398,
    "start_time": "2022-10-31T08:55:39.566Z"
   },
   {
    "duration": 9,
    "start_time": "2022-10-31T08:55:39.966Z"
   },
   {
    "duration": 147896,
    "start_time": "2022-10-31T08:55:39.977Z"
   },
   {
    "duration": 286,
    "start_time": "2022-10-31T08:58:07.875Z"
   },
   {
    "duration": 12,
    "start_time": "2022-10-31T08:58:08.163Z"
   },
   {
    "duration": 734,
    "start_time": "2022-10-31T09:05:27.036Z"
   },
   {
    "duration": 1063,
    "start_time": "2022-10-31T09:05:55.473Z"
   },
   {
    "duration": 438,
    "start_time": "2022-10-31T09:06:02.900Z"
   },
   {
    "duration": 4,
    "start_time": "2022-10-31T09:06:08.367Z"
   },
   {
    "duration": 9,
    "start_time": "2022-10-31T09:06:12.585Z"
   },
   {
    "duration": 9,
    "start_time": "2022-10-31T09:07:06.200Z"
   },
   {
    "duration": 446,
    "start_time": "2022-10-31T09:08:35.272Z"
   },
   {
    "duration": 10,
    "start_time": "2022-10-31T09:08:45.329Z"
   },
   {
    "duration": 75,
    "start_time": "2022-10-31T09:11:10.245Z"
   },
   {
    "duration": 24,
    "start_time": "2022-10-31T09:11:22.116Z"
   },
   {
    "duration": 11,
    "start_time": "2022-10-31T09:11:26.458Z"
   },
   {
    "duration": 20,
    "start_time": "2022-10-31T09:11:42.917Z"
   },
   {
    "duration": 8,
    "start_time": "2022-10-31T09:11:44.857Z"
   },
   {
    "duration": 9,
    "start_time": "2022-10-31T09:20:21.503Z"
   },
   {
    "duration": 3,
    "start_time": "2022-10-31T09:28:46.534Z"
   },
   {
    "duration": 48200,
    "start_time": "2022-10-31T09:28:46.539Z"
   },
   {
    "duration": 151909,
    "start_time": "2022-10-31T09:30:09.284Z"
   },
   {
    "duration": 299,
    "start_time": "2022-10-31T09:32:41.196Z"
   },
   {
    "duration": 12,
    "start_time": "2022-10-31T09:32:41.502Z"
   },
   {
    "duration": 9,
    "start_time": "2022-10-31T09:33:01.977Z"
   },
   {
    "duration": 23,
    "start_time": "2022-10-31T09:33:32.605Z"
   },
   {
    "duration": 12,
    "start_time": "2022-10-31T09:33:36.292Z"
   },
   {
    "duration": 10,
    "start_time": "2022-10-31T09:34:31.075Z"
   },
   {
    "duration": 28,
    "start_time": "2022-10-31T09:38:18.037Z"
   },
   {
    "duration": 9,
    "start_time": "2022-10-31T09:39:01.913Z"
   },
   {
    "duration": 303,
    "start_time": "2022-10-31T09:59:07.264Z"
   },
   {
    "duration": 10,
    "start_time": "2022-10-31T09:59:34.401Z"
   },
   {
    "duration": 10,
    "start_time": "2022-10-31T10:01:54.609Z"
   },
   {
    "duration": 286,
    "start_time": "2022-10-31T10:01:57.851Z"
   },
   {
    "duration": 10,
    "start_time": "2022-10-31T10:02:01.753Z"
   },
   {
    "duration": 299,
    "start_time": "2022-10-31T10:06:30.283Z"
   },
   {
    "duration": 10,
    "start_time": "2022-10-31T10:06:33.447Z"
   },
   {
    "duration": 9,
    "start_time": "2022-10-31T10:07:02.046Z"
   },
   {
    "duration": 57,
    "start_time": "2022-10-31T10:27:52.698Z"
   },
   {
    "duration": 3,
    "start_time": "2022-10-31T10:28:10.253Z"
   },
   {
    "duration": 10,
    "start_time": "2022-10-31T10:29:01.309Z"
   },
   {
    "duration": 5,
    "start_time": "2022-10-31T10:33:12.418Z"
   },
   {
    "duration": 19,
    "start_time": "2022-10-31T10:33:15.782Z"
   },
   {
    "duration": 4,
    "start_time": "2022-10-31T10:33:53.735Z"
   },
   {
    "duration": 5,
    "start_time": "2022-10-31T10:34:09.243Z"
   },
   {
    "duration": 157,
    "start_time": "2022-10-31T10:34:12.641Z"
   },
   {
    "duration": 5,
    "start_time": "2022-10-31T10:35:44.981Z"
   },
   {
    "duration": 161,
    "start_time": "2022-10-31T10:35:51.763Z"
   },
   {
    "duration": 5,
    "start_time": "2022-10-31T10:37:25.316Z"
   },
   {
    "duration": 159,
    "start_time": "2022-10-31T10:37:28.368Z"
   },
   {
    "duration": 174,
    "start_time": "2022-10-31T10:38:01.948Z"
   },
   {
    "duration": 346,
    "start_time": "2022-10-31T10:38:40.424Z"
   },
   {
    "duration": 152,
    "start_time": "2022-10-31T10:40:31.534Z"
   },
   {
    "duration": 183,
    "start_time": "2022-10-31T10:41:05.011Z"
   },
   {
    "duration": 337,
    "start_time": "2022-10-31T10:41:39.316Z"
   },
   {
    "duration": 163,
    "start_time": "2022-10-31T10:42:36.520Z"
   },
   {
    "duration": 211,
    "start_time": "2022-11-02T08:19:53.601Z"
   },
   {
    "duration": 107,
    "start_time": "2022-11-02T08:20:09.053Z"
   },
   {
    "duration": 72,
    "start_time": "2022-11-02T08:21:05.234Z"
   },
   {
    "duration": 76,
    "start_time": "2022-11-02T08:21:31.686Z"
   },
   {
    "duration": 45,
    "start_time": "2022-11-02T08:38:38.899Z"
   }
  ],
  "kernelspec": {
   "display_name": "Python 3 (ipykernel)",
   "language": "python",
   "name": "python3"
  },
  "language_info": {
   "codemirror_mode": {
    "name": "ipython",
    "version": 3
   },
   "file_extension": ".py",
   "mimetype": "text/x-python",
   "name": "python",
   "nbconvert_exporter": "python",
   "pygments_lexer": "ipython3",
   "version": "3.9.12"
  },
  "toc": {
   "base_numbering": 1,
   "nav_menu": {},
   "number_sections": true,
   "sideBar": true,
   "skip_h1_title": true,
   "title_cell": "Содержание",
   "title_sidebar": "Contents",
   "toc_cell": true,
   "toc_position": {
    "height": "calc(100% - 180px)",
    "left": "10px",
    "top": "150px",
    "width": "231.667px"
   },
   "toc_section_display": true,
   "toc_window_display": true
  }
 },
 "nbformat": 4,
 "nbformat_minor": 2
}
