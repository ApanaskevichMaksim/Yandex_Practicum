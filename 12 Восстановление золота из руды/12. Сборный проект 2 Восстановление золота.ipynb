{
 "cells": [
  {
   "cell_type": "markdown",
   "metadata": {
    "toc": true
   },
   "source": [
    "<h1>Содержание<span class=\"tocSkip\"></span></h1>\n",
    "<div class=\"toc\"><ul class=\"toc-item\"><li><span><a href=\"#Подготовка-данных\" data-toc-modified-id=\"Подготовка-данных-1\"><span class=\"toc-item-num\">1&nbsp;&nbsp;</span>Подготовка данных</a></span><ul class=\"toc-item\"><li><span><a href=\"#Изучение-файлов-и-информация-по-ним\" data-toc-modified-id=\"Изучение-файлов-и-информация-по-ним-1.1\"><span class=\"toc-item-num\">1.1&nbsp;&nbsp;</span>Изучение файлов и информация по ним</a></span></li><li><span><a href=\"#Проверка-эффективности-обогащения\" data-toc-modified-id=\"Проверка-эффективности-обогащения-1.2\"><span class=\"toc-item-num\">1.2&nbsp;&nbsp;</span>Проверка эффективности обогащения</a></span></li><li><span><a href=\"#Анализ-недоступных-признакой-в-тестовой-выборки.\" data-toc-modified-id=\"Анализ-недоступных-признакой-в-тестовой-выборки.-1.3\"><span class=\"toc-item-num\">1.3&nbsp;&nbsp;</span>Анализ недоступных признакой в тестовой выборки.</a></span></li><li><span><a href=\"#Предобработка-данных.\" data-toc-modified-id=\"Предобработка-данных.-1.4\"><span class=\"toc-item-num\">1.4&nbsp;&nbsp;</span>Предобработка данных.</a></span></li></ul></li><li><span><a href=\"#Анализ-данных\" data-toc-modified-id=\"Анализ-данных-2\"><span class=\"toc-item-num\">2&nbsp;&nbsp;</span>Анализ данных</a></span><ul class=\"toc-item\"><li><span><a href=\"#Анализ-концентрации-металлов-(Au,-Ag,-Pb)-на-различных-этапах-очистки\" data-toc-modified-id=\"Анализ-концентрации-металлов-(Au,-Ag,-Pb)-на-различных-этапах-очистки-2.1\"><span class=\"toc-item-num\">2.1&nbsp;&nbsp;</span>Анализ концентрации металлов (Au, Ag, Pb) на различных этапах очистки</a></span></li><li><span><a href=\"#Сравнение-распределения-размеров-гранул-сырья-на-обучающей-и-тестовой-выборках\" data-toc-modified-id=\"Сравнение-распределения-размеров-гранул-сырья-на-обучающей-и-тестовой-выборках-2.2\"><span class=\"toc-item-num\">2.2&nbsp;&nbsp;</span>Сравнение распределения размеров гранул сырья на обучающей и тестовой выборках</a></span></li><li><span><a href=\"#Исследование-суммарной-концентрации-всех-веществ-на-разных-стадиях\" data-toc-modified-id=\"Исследование-суммарной-концентрации-всех-веществ-на-разных-стадиях-2.3\"><span class=\"toc-item-num\">2.3&nbsp;&nbsp;</span>Исследование суммарной концентрации всех веществ на разных стадиях</a></span><ul class=\"toc-item\"><li><span><a href=\"#Удаление-анамальных-значений\" data-toc-modified-id=\"Удаление-анамальных-значений-2.3.1\"><span class=\"toc-item-num\">2.3.1&nbsp;&nbsp;</span>Удаление анамальных значений</a></span></li></ul></li></ul></li><li><span><a href=\"#Модель\" data-toc-modified-id=\"Модель-3\"><span class=\"toc-item-num\">3&nbsp;&nbsp;</span>Модель</a></span><ul class=\"toc-item\"><li><span><a href=\"#Функция-для-вычисления-итоговой-sMAPE.\" data-toc-modified-id=\"Функция-для-вычисления-итоговой-sMAPE.-3.1\"><span class=\"toc-item-num\">3.1&nbsp;&nbsp;</span>Функция для вычисления итоговой sMAPE.</a></span></li><li><span><a href=\"#Обучение-разных-модели-и-оцените-их-качества-кросс-валидацией\" data-toc-modified-id=\"Обучение-разных-модели-и-оцените-их-качества-кросс-валидацией-3.2\"><span class=\"toc-item-num\">3.2&nbsp;&nbsp;</span>Обучение разных модели и оцените их качества кросс-валидацией</a></span><ul class=\"toc-item\"><li><span><a href=\"#Модель-LinearRegression\" data-toc-modified-id=\"Модель-LinearRegression-3.2.1\"><span class=\"toc-item-num\">3.2.1&nbsp;&nbsp;</span>Модель LinearRegression</a></span></li><li><span><a href=\"#Модель-DecisionTreeRegressor\" data-toc-modified-id=\"Модель-DecisionTreeRegressor-3.2.2\"><span class=\"toc-item-num\">3.2.2&nbsp;&nbsp;</span>Модель DecisionTreeRegressor</a></span></li><li><span><a href=\"#Модель-RandomForestRegressor\" data-toc-modified-id=\"Модель-RandomForestRegressor-3.2.3\"><span class=\"toc-item-num\">3.2.3&nbsp;&nbsp;</span>Модель RandomForestRegressor</a></span></li></ul></li><li><span><a href=\"#Проверка-лучшей-модели-на-тестовой-выборке\" data-toc-modified-id=\"Проверка-лучшей-модели-на-тестовой-выборке-3.3\"><span class=\"toc-item-num\">3.3&nbsp;&nbsp;</span>Проверка лучшей модели на тестовой выборке</a></span></li></ul></li><li><span><a href=\"#Чек-лист-готовности-проекта\" data-toc-modified-id=\"Чек-лист-готовности-проекта-4\"><span class=\"toc-item-num\">4&nbsp;&nbsp;</span>Чек-лист готовности проекта</a></span></li></ul></div>"
   ]
  },
  {
   "cell_type": "markdown",
   "metadata": {},
   "source": [
    "# Восстановление золота из руды"
   ]
  },
  {
   "cell_type": "markdown",
   "metadata": {},
   "source": [
    "Подготовьте прототип модели машинного обучения для «Цифры». Компания разрабатывает решения для эффективной работы промышленных предприятий.\n",
    "\n",
    "Модель должна предсказать коэффициент восстановления золота из золотосодержащей руды. Используйте данные с параметрами добычи и очистки. \n",
    "\n",
    "Модель поможет оптимизировать производство, чтобы не запускать предприятие с убыточными характеристиками.\n",
    "\n",
    "Вам нужно:\n",
    "\n",
    "1. Подготовить данные;\n",
    "2. Провести исследовательский анализ данных;\n",
    "3. Построить и обучить модель.\n",
    "\n",
    "Чтобы выполнить проект, обращайтесь к библиотекам *pandas*, *matplotlib* и *sklearn.* Вам поможет их документация."
   ]
  },
  {
   "cell_type": "markdown",
   "metadata": {},
   "source": [
    "## Подготовка данных"
   ]
  },
  {
   "cell_type": "markdown",
   "metadata": {},
   "source": [
    "### Изучение файлов и информация по ним"
   ]
  },
  {
   "cell_type": "markdown",
   "metadata": {},
   "source": [
    "Импортируем библиотеки, которые понадобятся при выполнении проекта"
   ]
  },
  {
   "cell_type": "code",
   "execution_count": 1,
   "metadata": {},
   "outputs": [],
   "source": [
    "import pandas as pd\n",
    "import numpy as np\n",
    "\n",
    "from numpy.random import RandomState\n",
    "import seaborn as sns\n",
    "import matplotlib.pyplot as plt\n",
    "import warnings\n",
    "\n",
    "from sklearn.linear_model import LinearRegression\n",
    "from sklearn.linear_model import Lasso\n",
    "from sklearn.linear_model import Ridge\n",
    "from sklearn.tree import DecisionTreeRegressor\n",
    "from sklearn.ensemble import RandomForestRegressor\n",
    "from sklearn.dummy import DummyRegressor\n",
    "\n",
    "from sklearn.model_selection import train_test_split\n",
    "from sklearn.model_selection import cross_validate\n",
    "from sklearn.model_selection import cross_val_score\n",
    "\n",
    "from sklearn.preprocessing import StandardScaler\n",
    "from sklearn.model_selection import RandomizedSearchCV\n",
    "\n",
    "from sklearn.metrics import mean_absolute_error, mean_absolute_percentage_error \n",
    "from sklearn.metrics import make_scorer\n",
    "from sklearn.inspection import permutation_importance\n",
    "\n",
    "warnings.filterwarnings('ignore')"
   ]
  },
  {
   "cell_type": "markdown",
   "metadata": {},
   "source": [
    "Прочитаем таблицы с данными:<br>\n",
    "data_train — обучающая выборка;<br>\n",
    "data_test — тестовая выборка;<br>\n",
    "data_full — исходные данные.<br>"
   ]
  },
  {
   "cell_type": "code",
   "execution_count": 2,
   "metadata": {},
   "outputs": [],
   "source": [
    "data_train = pd.read_csv('/datasets/gold_recovery_train_new.csv')\n",
    "data_test = pd.read_csv('/datasets/gold_recovery_test_new.csv')\n",
    "data_full = pd.read_csv('/datasets/gold_recovery_full_new.csv')"
   ]
  },
  {
   "cell_type": "markdown",
   "metadata": {},
   "source": [
    "Просмотри информацию о датасетах. Напишим функцию, котрая принимает датасет и возвращает информацию, статистику, наличие полных дубликатов и процент пропущеных значений в каждом столбце."
   ]
  },
  {
   "cell_type": "code",
   "execution_count": 3,
   "metadata": {},
   "outputs": [],
   "source": [
    "def data_info (df):\n",
    "    display(df.head())\n",
    "    print('Информация о датасете:')\n",
    "    display(df.info())\n",
    "    print('Описательная статистика:')\n",
    "    display(df.describe().T)\n",
    "    print('Дубликаты:')\n",
    "    display(df.duplicated().sum())\n",
    "    print('Пропуски:')\n",
    "    for col in df.columns:\n",
    "        pct_missing = np.mean(df[col].isna())\n",
    "        print('{} - {}%'.format(col, round(pct_missing*100,2)))"
   ]
  },
  {
   "cell_type": "code",
   "execution_count": 4,
   "metadata": {},
   "outputs": [
    {
     "data": {
      "text/html": [
       "<div>\n",
       "<style scoped>\n",
       "    .dataframe tbody tr th:only-of-type {\n",
       "        vertical-align: middle;\n",
       "    }\n",
       "\n",
       "    .dataframe tbody tr th {\n",
       "        vertical-align: top;\n",
       "    }\n",
       "\n",
       "    .dataframe thead th {\n",
       "        text-align: right;\n",
       "    }\n",
       "</style>\n",
       "<table border=\"1\" class=\"dataframe\">\n",
       "  <thead>\n",
       "    <tr style=\"text-align: right;\">\n",
       "      <th></th>\n",
       "      <th>date</th>\n",
       "      <th>final.output.concentrate_ag</th>\n",
       "      <th>final.output.concentrate_pb</th>\n",
       "      <th>final.output.concentrate_sol</th>\n",
       "      <th>final.output.concentrate_au</th>\n",
       "      <th>final.output.recovery</th>\n",
       "      <th>final.output.tail_ag</th>\n",
       "      <th>final.output.tail_pb</th>\n",
       "      <th>final.output.tail_sol</th>\n",
       "      <th>final.output.tail_au</th>\n",
       "      <th>...</th>\n",
       "      <th>secondary_cleaner.state.floatbank4_a_air</th>\n",
       "      <th>secondary_cleaner.state.floatbank4_a_level</th>\n",
       "      <th>secondary_cleaner.state.floatbank4_b_air</th>\n",
       "      <th>secondary_cleaner.state.floatbank4_b_level</th>\n",
       "      <th>secondary_cleaner.state.floatbank5_a_air</th>\n",
       "      <th>secondary_cleaner.state.floatbank5_a_level</th>\n",
       "      <th>secondary_cleaner.state.floatbank5_b_air</th>\n",
       "      <th>secondary_cleaner.state.floatbank5_b_level</th>\n",
       "      <th>secondary_cleaner.state.floatbank6_a_air</th>\n",
       "      <th>secondary_cleaner.state.floatbank6_a_level</th>\n",
       "    </tr>\n",
       "  </thead>\n",
       "  <tbody>\n",
       "    <tr>\n",
       "      <th>0</th>\n",
       "      <td>2016-01-15 00:00:00</td>\n",
       "      <td>6.055403</td>\n",
       "      <td>9.889648</td>\n",
       "      <td>5.507324</td>\n",
       "      <td>42.192020</td>\n",
       "      <td>70.541216</td>\n",
       "      <td>10.411962</td>\n",
       "      <td>0.895447</td>\n",
       "      <td>16.904297</td>\n",
       "      <td>2.143149</td>\n",
       "      <td>...</td>\n",
       "      <td>14.016835</td>\n",
       "      <td>-502.488007</td>\n",
       "      <td>12.099931</td>\n",
       "      <td>-504.715942</td>\n",
       "      <td>9.925633</td>\n",
       "      <td>-498.310211</td>\n",
       "      <td>8.079666</td>\n",
       "      <td>-500.470978</td>\n",
       "      <td>14.151341</td>\n",
       "      <td>-605.841980</td>\n",
       "    </tr>\n",
       "    <tr>\n",
       "      <th>1</th>\n",
       "      <td>2016-01-15 01:00:00</td>\n",
       "      <td>6.029369</td>\n",
       "      <td>9.968944</td>\n",
       "      <td>5.257781</td>\n",
       "      <td>42.701629</td>\n",
       "      <td>69.266198</td>\n",
       "      <td>10.462676</td>\n",
       "      <td>0.927452</td>\n",
       "      <td>16.634514</td>\n",
       "      <td>2.224930</td>\n",
       "      <td>...</td>\n",
       "      <td>13.992281</td>\n",
       "      <td>-505.503262</td>\n",
       "      <td>11.950531</td>\n",
       "      <td>-501.331529</td>\n",
       "      <td>10.039245</td>\n",
       "      <td>-500.169983</td>\n",
       "      <td>7.984757</td>\n",
       "      <td>-500.582168</td>\n",
       "      <td>13.998353</td>\n",
       "      <td>-599.787184</td>\n",
       "    </tr>\n",
       "    <tr>\n",
       "      <th>2</th>\n",
       "      <td>2016-01-15 02:00:00</td>\n",
       "      <td>6.055926</td>\n",
       "      <td>10.213995</td>\n",
       "      <td>5.383759</td>\n",
       "      <td>42.657501</td>\n",
       "      <td>68.116445</td>\n",
       "      <td>10.507046</td>\n",
       "      <td>0.953716</td>\n",
       "      <td>16.208849</td>\n",
       "      <td>2.257889</td>\n",
       "      <td>...</td>\n",
       "      <td>14.015015</td>\n",
       "      <td>-502.520901</td>\n",
       "      <td>11.912783</td>\n",
       "      <td>-501.133383</td>\n",
       "      <td>10.070913</td>\n",
       "      <td>-500.129135</td>\n",
       "      <td>8.013877</td>\n",
       "      <td>-500.517572</td>\n",
       "      <td>14.028663</td>\n",
       "      <td>-601.427363</td>\n",
       "    </tr>\n",
       "    <tr>\n",
       "      <th>3</th>\n",
       "      <td>2016-01-15 03:00:00</td>\n",
       "      <td>6.047977</td>\n",
       "      <td>9.977019</td>\n",
       "      <td>4.858634</td>\n",
       "      <td>42.689819</td>\n",
       "      <td>68.347543</td>\n",
       "      <td>10.422762</td>\n",
       "      <td>0.883763</td>\n",
       "      <td>16.532835</td>\n",
       "      <td>2.146849</td>\n",
       "      <td>...</td>\n",
       "      <td>14.036510</td>\n",
       "      <td>-500.857308</td>\n",
       "      <td>11.999550</td>\n",
       "      <td>-501.193686</td>\n",
       "      <td>9.970366</td>\n",
       "      <td>-499.201640</td>\n",
       "      <td>7.977324</td>\n",
       "      <td>-500.255908</td>\n",
       "      <td>14.005551</td>\n",
       "      <td>-599.996129</td>\n",
       "    </tr>\n",
       "    <tr>\n",
       "      <th>4</th>\n",
       "      <td>2016-01-15 04:00:00</td>\n",
       "      <td>6.148599</td>\n",
       "      <td>10.142511</td>\n",
       "      <td>4.939416</td>\n",
       "      <td>42.774141</td>\n",
       "      <td>66.927016</td>\n",
       "      <td>10.360302</td>\n",
       "      <td>0.792826</td>\n",
       "      <td>16.525686</td>\n",
       "      <td>2.055292</td>\n",
       "      <td>...</td>\n",
       "      <td>14.027298</td>\n",
       "      <td>-499.838632</td>\n",
       "      <td>11.953070</td>\n",
       "      <td>-501.053894</td>\n",
       "      <td>9.925709</td>\n",
       "      <td>-501.686727</td>\n",
       "      <td>7.894242</td>\n",
       "      <td>-500.356035</td>\n",
       "      <td>13.996647</td>\n",
       "      <td>-601.496691</td>\n",
       "    </tr>\n",
       "  </tbody>\n",
       "</table>\n",
       "<p>5 rows × 87 columns</p>\n",
       "</div>"
      ],
      "text/plain": [
       "                  date  final.output.concentrate_ag  \\\n",
       "0  2016-01-15 00:00:00                     6.055403   \n",
       "1  2016-01-15 01:00:00                     6.029369   \n",
       "2  2016-01-15 02:00:00                     6.055926   \n",
       "3  2016-01-15 03:00:00                     6.047977   \n",
       "4  2016-01-15 04:00:00                     6.148599   \n",
       "\n",
       "   final.output.concentrate_pb  final.output.concentrate_sol  \\\n",
       "0                     9.889648                      5.507324   \n",
       "1                     9.968944                      5.257781   \n",
       "2                    10.213995                      5.383759   \n",
       "3                     9.977019                      4.858634   \n",
       "4                    10.142511                      4.939416   \n",
       "\n",
       "   final.output.concentrate_au  final.output.recovery  final.output.tail_ag  \\\n",
       "0                    42.192020              70.541216             10.411962   \n",
       "1                    42.701629              69.266198             10.462676   \n",
       "2                    42.657501              68.116445             10.507046   \n",
       "3                    42.689819              68.347543             10.422762   \n",
       "4                    42.774141              66.927016             10.360302   \n",
       "\n",
       "   final.output.tail_pb  final.output.tail_sol  final.output.tail_au  ...  \\\n",
       "0              0.895447              16.904297              2.143149  ...   \n",
       "1              0.927452              16.634514              2.224930  ...   \n",
       "2              0.953716              16.208849              2.257889  ...   \n",
       "3              0.883763              16.532835              2.146849  ...   \n",
       "4              0.792826              16.525686              2.055292  ...   \n",
       "\n",
       "   secondary_cleaner.state.floatbank4_a_air  \\\n",
       "0                                 14.016835   \n",
       "1                                 13.992281   \n",
       "2                                 14.015015   \n",
       "3                                 14.036510   \n",
       "4                                 14.027298   \n",
       "\n",
       "   secondary_cleaner.state.floatbank4_a_level  \\\n",
       "0                                 -502.488007   \n",
       "1                                 -505.503262   \n",
       "2                                 -502.520901   \n",
       "3                                 -500.857308   \n",
       "4                                 -499.838632   \n",
       "\n",
       "   secondary_cleaner.state.floatbank4_b_air  \\\n",
       "0                                 12.099931   \n",
       "1                                 11.950531   \n",
       "2                                 11.912783   \n",
       "3                                 11.999550   \n",
       "4                                 11.953070   \n",
       "\n",
       "   secondary_cleaner.state.floatbank4_b_level  \\\n",
       "0                                 -504.715942   \n",
       "1                                 -501.331529   \n",
       "2                                 -501.133383   \n",
       "3                                 -501.193686   \n",
       "4                                 -501.053894   \n",
       "\n",
       "   secondary_cleaner.state.floatbank5_a_air  \\\n",
       "0                                  9.925633   \n",
       "1                                 10.039245   \n",
       "2                                 10.070913   \n",
       "3                                  9.970366   \n",
       "4                                  9.925709   \n",
       "\n",
       "   secondary_cleaner.state.floatbank5_a_level  \\\n",
       "0                                 -498.310211   \n",
       "1                                 -500.169983   \n",
       "2                                 -500.129135   \n",
       "3                                 -499.201640   \n",
       "4                                 -501.686727   \n",
       "\n",
       "   secondary_cleaner.state.floatbank5_b_air  \\\n",
       "0                                  8.079666   \n",
       "1                                  7.984757   \n",
       "2                                  8.013877   \n",
       "3                                  7.977324   \n",
       "4                                  7.894242   \n",
       "\n",
       "   secondary_cleaner.state.floatbank5_b_level  \\\n",
       "0                                 -500.470978   \n",
       "1                                 -500.582168   \n",
       "2                                 -500.517572   \n",
       "3                                 -500.255908   \n",
       "4                                 -500.356035   \n",
       "\n",
       "   secondary_cleaner.state.floatbank6_a_air  \\\n",
       "0                                 14.151341   \n",
       "1                                 13.998353   \n",
       "2                                 14.028663   \n",
       "3                                 14.005551   \n",
       "4                                 13.996647   \n",
       "\n",
       "   secondary_cleaner.state.floatbank6_a_level  \n",
       "0                                 -605.841980  \n",
       "1                                 -599.787184  \n",
       "2                                 -601.427363  \n",
       "3                                 -599.996129  \n",
       "4                                 -601.496691  \n",
       "\n",
       "[5 rows x 87 columns]"
      ]
     },
     "metadata": {},
     "output_type": "display_data"
    },
    {
     "name": "stdout",
     "output_type": "stream",
     "text": [
      "Информация о датасете:\n",
      "<class 'pandas.core.frame.DataFrame'>\n",
      "RangeIndex: 14149 entries, 0 to 14148\n",
      "Data columns (total 87 columns):\n",
      " #   Column                                              Non-Null Count  Dtype  \n",
      "---  ------                                              --------------  -----  \n",
      " 0   date                                                14149 non-null  object \n",
      " 1   final.output.concentrate_ag                         14148 non-null  float64\n",
      " 2   final.output.concentrate_pb                         14148 non-null  float64\n",
      " 3   final.output.concentrate_sol                        13938 non-null  float64\n",
      " 4   final.output.concentrate_au                         14149 non-null  float64\n",
      " 5   final.output.recovery                               14149 non-null  float64\n",
      " 6   final.output.tail_ag                                14149 non-null  float64\n",
      " 7   final.output.tail_pb                                14049 non-null  float64\n",
      " 8   final.output.tail_sol                               14144 non-null  float64\n",
      " 9   final.output.tail_au                                14149 non-null  float64\n",
      " 10  primary_cleaner.input.sulfate                       14129 non-null  float64\n",
      " 11  primary_cleaner.input.depressant                    14117 non-null  float64\n",
      " 12  primary_cleaner.input.feed_size                     14149 non-null  float64\n",
      " 13  primary_cleaner.input.xanthate                      14049 non-null  float64\n",
      " 14  primary_cleaner.output.concentrate_ag               14149 non-null  float64\n",
      " 15  primary_cleaner.output.concentrate_pb               14063 non-null  float64\n",
      " 16  primary_cleaner.output.concentrate_sol              13863 non-null  float64\n",
      " 17  primary_cleaner.output.concentrate_au               14149 non-null  float64\n",
      " 18  primary_cleaner.output.tail_ag                      14148 non-null  float64\n",
      " 19  primary_cleaner.output.tail_pb                      14134 non-null  float64\n",
      " 20  primary_cleaner.output.tail_sol                     14103 non-null  float64\n",
      " 21  primary_cleaner.output.tail_au                      14149 non-null  float64\n",
      " 22  primary_cleaner.state.floatbank8_a_air              14145 non-null  float64\n",
      " 23  primary_cleaner.state.floatbank8_a_level            14148 non-null  float64\n",
      " 24  primary_cleaner.state.floatbank8_b_air              14145 non-null  float64\n",
      " 25  primary_cleaner.state.floatbank8_b_level            14148 non-null  float64\n",
      " 26  primary_cleaner.state.floatbank8_c_air              14147 non-null  float64\n",
      " 27  primary_cleaner.state.floatbank8_c_level            14148 non-null  float64\n",
      " 28  primary_cleaner.state.floatbank8_d_air              14146 non-null  float64\n",
      " 29  primary_cleaner.state.floatbank8_d_level            14148 non-null  float64\n",
      " 30  rougher.calculation.sulfate_to_au_concentrate       14148 non-null  float64\n",
      " 31  rougher.calculation.floatbank10_sulfate_to_au_feed  14148 non-null  float64\n",
      " 32  rougher.calculation.floatbank11_sulfate_to_au_feed  14148 non-null  float64\n",
      " 33  rougher.calculation.au_pb_ratio                     14149 non-null  float64\n",
      " 34  rougher.input.feed_ag                               14149 non-null  float64\n",
      " 35  rougher.input.feed_pb                               14049 non-null  float64\n",
      " 36  rougher.input.feed_rate                             14141 non-null  float64\n",
      " 37  rougher.input.feed_size                             14005 non-null  float64\n",
      " 38  rougher.input.feed_sol                              14071 non-null  float64\n",
      " 39  rougher.input.feed_au                               14149 non-null  float64\n",
      " 40  rougher.input.floatbank10_sulfate                   14120 non-null  float64\n",
      " 41  rougher.input.floatbank10_xanthate                  14141 non-null  float64\n",
      " 42  rougher.input.floatbank11_sulfate                   14113 non-null  float64\n",
      " 43  rougher.input.floatbank11_xanthate                  13721 non-null  float64\n",
      " 44  rougher.output.concentrate_ag                       14149 non-null  float64\n",
      " 45  rougher.output.concentrate_pb                       14149 non-null  float64\n",
      " 46  rougher.output.concentrate_sol                      14127 non-null  float64\n",
      " 47  rougher.output.concentrate_au                       14149 non-null  float64\n",
      " 48  rougher.output.recovery                             14149 non-null  float64\n",
      " 49  rougher.output.tail_ag                              14148 non-null  float64\n",
      " 50  rougher.output.tail_pb                              14149 non-null  float64\n",
      " 51  rougher.output.tail_sol                             14149 non-null  float64\n",
      " 52  rougher.output.tail_au                              14149 non-null  float64\n",
      " 53  rougher.state.floatbank10_a_air                     14148 non-null  float64\n",
      " 54  rougher.state.floatbank10_a_level                   14148 non-null  float64\n",
      " 55  rougher.state.floatbank10_b_air                     14148 non-null  float64\n",
      " 56  rougher.state.floatbank10_b_level                   14148 non-null  float64\n",
      " 57  rougher.state.floatbank10_c_air                     14148 non-null  float64\n",
      " 58  rougher.state.floatbank10_c_level                   14148 non-null  float64\n",
      " 59  rougher.state.floatbank10_d_air                     14149 non-null  float64\n",
      " 60  rougher.state.floatbank10_d_level                   14149 non-null  float64\n",
      " 61  rougher.state.floatbank10_e_air                     13713 non-null  float64\n",
      " 62  rougher.state.floatbank10_e_level                   14149 non-null  float64\n",
      " 63  rougher.state.floatbank10_f_air                     14149 non-null  float64\n",
      " 64  rougher.state.floatbank10_f_level                   14149 non-null  float64\n",
      " 65  secondary_cleaner.output.tail_ag                    14147 non-null  float64\n",
      " 66  secondary_cleaner.output.tail_pb                    14139 non-null  float64\n",
      " 67  secondary_cleaner.output.tail_sol                   12544 non-null  float64\n",
      " 68  secondary_cleaner.output.tail_au                    14149 non-null  float64\n",
      " 69  secondary_cleaner.state.floatbank2_a_air            13932 non-null  float64\n",
      " 70  secondary_cleaner.state.floatbank2_a_level          14148 non-null  float64\n",
      " 71  secondary_cleaner.state.floatbank2_b_air            14128 non-null  float64\n",
      " 72  secondary_cleaner.state.floatbank2_b_level          14148 non-null  float64\n",
      " 73  secondary_cleaner.state.floatbank3_a_air            14145 non-null  float64\n",
      " 74  secondary_cleaner.state.floatbank3_a_level          14148 non-null  float64\n",
      " 75  secondary_cleaner.state.floatbank3_b_air            14148 non-null  float64\n",
      " 76  secondary_cleaner.state.floatbank3_b_level          14148 non-null  float64\n",
      " 77  secondary_cleaner.state.floatbank4_a_air            14143 non-null  float64\n",
      " 78  secondary_cleaner.state.floatbank4_a_level          14148 non-null  float64\n",
      " 79  secondary_cleaner.state.floatbank4_b_air            14148 non-null  float64\n",
      " 80  secondary_cleaner.state.floatbank4_b_level          14148 non-null  float64\n",
      " 81  secondary_cleaner.state.floatbank5_a_air            14148 non-null  float64\n",
      " 82  secondary_cleaner.state.floatbank5_a_level          14148 non-null  float64\n",
      " 83  secondary_cleaner.state.floatbank5_b_air            14148 non-null  float64\n",
      " 84  secondary_cleaner.state.floatbank5_b_level          14148 non-null  float64\n",
      " 85  secondary_cleaner.state.floatbank6_a_air            14147 non-null  float64\n",
      " 86  secondary_cleaner.state.floatbank6_a_level          14148 non-null  float64\n",
      "dtypes: float64(86), object(1)\n",
      "memory usage: 9.4+ MB\n"
     ]
    },
    {
     "data": {
      "text/plain": [
       "None"
      ]
     },
     "metadata": {},
     "output_type": "display_data"
    },
    {
     "name": "stdout",
     "output_type": "stream",
     "text": [
      "Описательная статистика:\n"
     ]
    },
    {
     "data": {
      "text/html": [
       "<div>\n",
       "<style scoped>\n",
       "    .dataframe tbody tr th:only-of-type {\n",
       "        vertical-align: middle;\n",
       "    }\n",
       "\n",
       "    .dataframe tbody tr th {\n",
       "        vertical-align: top;\n",
       "    }\n",
       "\n",
       "    .dataframe thead th {\n",
       "        text-align: right;\n",
       "    }\n",
       "</style>\n",
       "<table border=\"1\" class=\"dataframe\">\n",
       "  <thead>\n",
       "    <tr style=\"text-align: right;\">\n",
       "      <th></th>\n",
       "      <th>count</th>\n",
       "      <th>mean</th>\n",
       "      <th>std</th>\n",
       "      <th>min</th>\n",
       "      <th>25%</th>\n",
       "      <th>50%</th>\n",
       "      <th>75%</th>\n",
       "      <th>max</th>\n",
       "    </tr>\n",
       "  </thead>\n",
       "  <tbody>\n",
       "    <tr>\n",
       "      <th>final.output.concentrate_ag</th>\n",
       "      <td>14148.0</td>\n",
       "      <td>5.142034</td>\n",
       "      <td>1.369586</td>\n",
       "      <td>0.000000</td>\n",
       "      <td>4.211620</td>\n",
       "      <td>4.994652</td>\n",
       "      <td>5.859540</td>\n",
       "      <td>16.001945</td>\n",
       "    </tr>\n",
       "    <tr>\n",
       "      <th>final.output.concentrate_pb</th>\n",
       "      <td>14148.0</td>\n",
       "      <td>10.132960</td>\n",
       "      <td>1.654930</td>\n",
       "      <td>0.000000</td>\n",
       "      <td>9.297355</td>\n",
       "      <td>10.297144</td>\n",
       "      <td>11.170603</td>\n",
       "      <td>17.031899</td>\n",
       "    </tr>\n",
       "    <tr>\n",
       "      <th>final.output.concentrate_sol</th>\n",
       "      <td>13938.0</td>\n",
       "      <td>9.202849</td>\n",
       "      <td>2.790516</td>\n",
       "      <td>0.000000</td>\n",
       "      <td>7.484645</td>\n",
       "      <td>8.845462</td>\n",
       "      <td>10.487508</td>\n",
       "      <td>18.124851</td>\n",
       "    </tr>\n",
       "    <tr>\n",
       "      <th>final.output.concentrate_au</th>\n",
       "      <td>14149.0</td>\n",
       "      <td>44.003792</td>\n",
       "      <td>4.905261</td>\n",
       "      <td>0.000000</td>\n",
       "      <td>43.276111</td>\n",
       "      <td>44.872436</td>\n",
       "      <td>46.166425</td>\n",
       "      <td>52.756638</td>\n",
       "    </tr>\n",
       "    <tr>\n",
       "      <th>final.output.recovery</th>\n",
       "      <td>14149.0</td>\n",
       "      <td>66.518832</td>\n",
       "      <td>10.295402</td>\n",
       "      <td>0.000000</td>\n",
       "      <td>62.545817</td>\n",
       "      <td>67.432775</td>\n",
       "      <td>72.346428</td>\n",
       "      <td>100.000000</td>\n",
       "    </tr>\n",
       "    <tr>\n",
       "      <th>...</th>\n",
       "      <td>...</td>\n",
       "      <td>...</td>\n",
       "      <td>...</td>\n",
       "      <td>...</td>\n",
       "      <td>...</td>\n",
       "      <td>...</td>\n",
       "      <td>...</td>\n",
       "      <td>...</td>\n",
       "    </tr>\n",
       "    <tr>\n",
       "      <th>secondary_cleaner.state.floatbank5_a_level</th>\n",
       "      <td>14148.0</td>\n",
       "      <td>-483.956022</td>\n",
       "      <td>37.892788</td>\n",
       "      <td>-797.142475</td>\n",
       "      <td>-500.363177</td>\n",
       "      <td>-499.702452</td>\n",
       "      <td>-487.712108</td>\n",
       "      <td>-275.073125</td>\n",
       "    </tr>\n",
       "    <tr>\n",
       "      <th>secondary_cleaner.state.floatbank5_b_air</th>\n",
       "      <td>14148.0</td>\n",
       "      <td>13.064590</td>\n",
       "      <td>5.765617</td>\n",
       "      <td>0.646208</td>\n",
       "      <td>8.994405</td>\n",
       "      <td>11.997547</td>\n",
       "      <td>17.982903</td>\n",
       "      <td>27.926001</td>\n",
       "    </tr>\n",
       "    <tr>\n",
       "      <th>secondary_cleaner.state.floatbank5_b_level</th>\n",
       "      <td>14148.0</td>\n",
       "      <td>-483.966564</td>\n",
       "      <td>39.207913</td>\n",
       "      <td>-800.006180</td>\n",
       "      <td>-500.105994</td>\n",
       "      <td>-499.914556</td>\n",
       "      <td>-453.186936</td>\n",
       "      <td>-157.396071</td>\n",
       "    </tr>\n",
       "    <tr>\n",
       "      <th>secondary_cleaner.state.floatbank6_a_air</th>\n",
       "      <td>14147.0</td>\n",
       "      <td>19.577539</td>\n",
       "      <td>5.764417</td>\n",
       "      <td>0.195324</td>\n",
       "      <td>14.989304</td>\n",
       "      <td>19.984175</td>\n",
       "      <td>24.991623</td>\n",
       "      <td>32.188906</td>\n",
       "    </tr>\n",
       "    <tr>\n",
       "      <th>secondary_cleaner.state.floatbank6_a_level</th>\n",
       "      <td>14148.0</td>\n",
       "      <td>-506.798480</td>\n",
       "      <td>37.079249</td>\n",
       "      <td>-809.398668</td>\n",
       "      <td>-500.745104</td>\n",
       "      <td>-500.061431</td>\n",
       "      <td>-499.536466</td>\n",
       "      <td>-104.427459</td>\n",
       "    </tr>\n",
       "  </tbody>\n",
       "</table>\n",
       "<p>86 rows × 8 columns</p>\n",
       "</div>"
      ],
      "text/plain": [
       "                                              count        mean        std  \\\n",
       "final.output.concentrate_ag                 14148.0    5.142034   1.369586   \n",
       "final.output.concentrate_pb                 14148.0   10.132960   1.654930   \n",
       "final.output.concentrate_sol                13938.0    9.202849   2.790516   \n",
       "final.output.concentrate_au                 14149.0   44.003792   4.905261   \n",
       "final.output.recovery                       14149.0   66.518832  10.295402   \n",
       "...                                             ...         ...        ...   \n",
       "secondary_cleaner.state.floatbank5_a_level  14148.0 -483.956022  37.892788   \n",
       "secondary_cleaner.state.floatbank5_b_air    14148.0   13.064590   5.765617   \n",
       "secondary_cleaner.state.floatbank5_b_level  14148.0 -483.966564  39.207913   \n",
       "secondary_cleaner.state.floatbank6_a_air    14147.0   19.577539   5.764417   \n",
       "secondary_cleaner.state.floatbank6_a_level  14148.0 -506.798480  37.079249   \n",
       "\n",
       "                                                   min         25%  \\\n",
       "final.output.concentrate_ag                   0.000000    4.211620   \n",
       "final.output.concentrate_pb                   0.000000    9.297355   \n",
       "final.output.concentrate_sol                  0.000000    7.484645   \n",
       "final.output.concentrate_au                   0.000000   43.276111   \n",
       "final.output.recovery                         0.000000   62.545817   \n",
       "...                                                ...         ...   \n",
       "secondary_cleaner.state.floatbank5_a_level -797.142475 -500.363177   \n",
       "secondary_cleaner.state.floatbank5_b_air      0.646208    8.994405   \n",
       "secondary_cleaner.state.floatbank5_b_level -800.006180 -500.105994   \n",
       "secondary_cleaner.state.floatbank6_a_air      0.195324   14.989304   \n",
       "secondary_cleaner.state.floatbank6_a_level -809.398668 -500.745104   \n",
       "\n",
       "                                                   50%         75%         max  \n",
       "final.output.concentrate_ag                   4.994652    5.859540   16.001945  \n",
       "final.output.concentrate_pb                  10.297144   11.170603   17.031899  \n",
       "final.output.concentrate_sol                  8.845462   10.487508   18.124851  \n",
       "final.output.concentrate_au                  44.872436   46.166425   52.756638  \n",
       "final.output.recovery                        67.432775   72.346428  100.000000  \n",
       "...                                                ...         ...         ...  \n",
       "secondary_cleaner.state.floatbank5_a_level -499.702452 -487.712108 -275.073125  \n",
       "secondary_cleaner.state.floatbank5_b_air     11.997547   17.982903   27.926001  \n",
       "secondary_cleaner.state.floatbank5_b_level -499.914556 -453.186936 -157.396071  \n",
       "secondary_cleaner.state.floatbank6_a_air     19.984175   24.991623   32.188906  \n",
       "secondary_cleaner.state.floatbank6_a_level -500.061431 -499.536466 -104.427459  \n",
       "\n",
       "[86 rows x 8 columns]"
      ]
     },
     "metadata": {},
     "output_type": "display_data"
    },
    {
     "name": "stdout",
     "output_type": "stream",
     "text": [
      "Дубликаты:\n"
     ]
    },
    {
     "data": {
      "text/plain": [
       "0"
      ]
     },
     "metadata": {},
     "output_type": "display_data"
    },
    {
     "name": "stdout",
     "output_type": "stream",
     "text": [
      "Пропуски:\n",
      "date - 0.0%\n",
      "final.output.concentrate_ag - 0.01%\n",
      "final.output.concentrate_pb - 0.01%\n",
      "final.output.concentrate_sol - 1.49%\n",
      "final.output.concentrate_au - 0.0%\n",
      "final.output.recovery - 0.0%\n",
      "final.output.tail_ag - 0.0%\n",
      "final.output.tail_pb - 0.71%\n",
      "final.output.tail_sol - 0.04%\n",
      "final.output.tail_au - 0.0%\n",
      "primary_cleaner.input.sulfate - 0.14%\n",
      "primary_cleaner.input.depressant - 0.23%\n",
      "primary_cleaner.input.feed_size - 0.0%\n",
      "primary_cleaner.input.xanthate - 0.71%\n",
      "primary_cleaner.output.concentrate_ag - 0.0%\n",
      "primary_cleaner.output.concentrate_pb - 0.61%\n",
      "primary_cleaner.output.concentrate_sol - 2.02%\n",
      "primary_cleaner.output.concentrate_au - 0.0%\n",
      "primary_cleaner.output.tail_ag - 0.01%\n",
      "primary_cleaner.output.tail_pb - 0.11%\n",
      "primary_cleaner.output.tail_sol - 0.33%\n",
      "primary_cleaner.output.tail_au - 0.0%\n",
      "primary_cleaner.state.floatbank8_a_air - 0.03%\n",
      "primary_cleaner.state.floatbank8_a_level - 0.01%\n",
      "primary_cleaner.state.floatbank8_b_air - 0.03%\n",
      "primary_cleaner.state.floatbank8_b_level - 0.01%\n",
      "primary_cleaner.state.floatbank8_c_air - 0.01%\n",
      "primary_cleaner.state.floatbank8_c_level - 0.01%\n",
      "primary_cleaner.state.floatbank8_d_air - 0.02%\n",
      "primary_cleaner.state.floatbank8_d_level - 0.01%\n",
      "rougher.calculation.sulfate_to_au_concentrate - 0.01%\n",
      "rougher.calculation.floatbank10_sulfate_to_au_feed - 0.01%\n",
      "rougher.calculation.floatbank11_sulfate_to_au_feed - 0.01%\n",
      "rougher.calculation.au_pb_ratio - 0.0%\n",
      "rougher.input.feed_ag - 0.0%\n",
      "rougher.input.feed_pb - 0.71%\n",
      "rougher.input.feed_rate - 0.06%\n",
      "rougher.input.feed_size - 1.02%\n",
      "rougher.input.feed_sol - 0.55%\n",
      "rougher.input.feed_au - 0.0%\n",
      "rougher.input.floatbank10_sulfate - 0.2%\n",
      "rougher.input.floatbank10_xanthate - 0.06%\n",
      "rougher.input.floatbank11_sulfate - 0.25%\n",
      "rougher.input.floatbank11_xanthate - 3.02%\n",
      "rougher.output.concentrate_ag - 0.0%\n",
      "rougher.output.concentrate_pb - 0.0%\n",
      "rougher.output.concentrate_sol - 0.16%\n",
      "rougher.output.concentrate_au - 0.0%\n",
      "rougher.output.recovery - 0.0%\n",
      "rougher.output.tail_ag - 0.01%\n",
      "rougher.output.tail_pb - 0.0%\n",
      "rougher.output.tail_sol - 0.0%\n",
      "rougher.output.tail_au - 0.0%\n",
      "rougher.state.floatbank10_a_air - 0.01%\n",
      "rougher.state.floatbank10_a_level - 0.01%\n",
      "rougher.state.floatbank10_b_air - 0.01%\n",
      "rougher.state.floatbank10_b_level - 0.01%\n",
      "rougher.state.floatbank10_c_air - 0.01%\n",
      "rougher.state.floatbank10_c_level - 0.01%\n",
      "rougher.state.floatbank10_d_air - 0.0%\n",
      "rougher.state.floatbank10_d_level - 0.0%\n",
      "rougher.state.floatbank10_e_air - 3.08%\n",
      "rougher.state.floatbank10_e_level - 0.0%\n",
      "rougher.state.floatbank10_f_air - 0.0%\n",
      "rougher.state.floatbank10_f_level - 0.0%\n",
      "secondary_cleaner.output.tail_ag - 0.01%\n",
      "secondary_cleaner.output.tail_pb - 0.07%\n",
      "secondary_cleaner.output.tail_sol - 11.34%\n",
      "secondary_cleaner.output.tail_au - 0.0%\n",
      "secondary_cleaner.state.floatbank2_a_air - 1.53%\n",
      "secondary_cleaner.state.floatbank2_a_level - 0.01%\n",
      "secondary_cleaner.state.floatbank2_b_air - 0.15%\n",
      "secondary_cleaner.state.floatbank2_b_level - 0.01%\n",
      "secondary_cleaner.state.floatbank3_a_air - 0.03%\n",
      "secondary_cleaner.state.floatbank3_a_level - 0.01%\n",
      "secondary_cleaner.state.floatbank3_b_air - 0.01%\n",
      "secondary_cleaner.state.floatbank3_b_level - 0.01%\n",
      "secondary_cleaner.state.floatbank4_a_air - 0.04%\n",
      "secondary_cleaner.state.floatbank4_a_level - 0.01%\n",
      "secondary_cleaner.state.floatbank4_b_air - 0.01%\n",
      "secondary_cleaner.state.floatbank4_b_level - 0.01%\n",
      "secondary_cleaner.state.floatbank5_a_air - 0.01%\n",
      "secondary_cleaner.state.floatbank5_a_level - 0.01%\n",
      "secondary_cleaner.state.floatbank5_b_air - 0.01%\n",
      "secondary_cleaner.state.floatbank5_b_level - 0.01%\n",
      "secondary_cleaner.state.floatbank6_a_air - 0.01%\n",
      "secondary_cleaner.state.floatbank6_a_level - 0.01%\n"
     ]
    }
   ],
   "source": [
    "data_info(data_train)"
   ]
  },
  {
   "cell_type": "code",
   "execution_count": 5,
   "metadata": {},
   "outputs": [
    {
     "data": {
      "text/html": [
       "<div>\n",
       "<style scoped>\n",
       "    .dataframe tbody tr th:only-of-type {\n",
       "        vertical-align: middle;\n",
       "    }\n",
       "\n",
       "    .dataframe tbody tr th {\n",
       "        vertical-align: top;\n",
       "    }\n",
       "\n",
       "    .dataframe thead th {\n",
       "        text-align: right;\n",
       "    }\n",
       "</style>\n",
       "<table border=\"1\" class=\"dataframe\">\n",
       "  <thead>\n",
       "    <tr style=\"text-align: right;\">\n",
       "      <th></th>\n",
       "      <th>date</th>\n",
       "      <th>primary_cleaner.input.sulfate</th>\n",
       "      <th>primary_cleaner.input.depressant</th>\n",
       "      <th>primary_cleaner.input.feed_size</th>\n",
       "      <th>primary_cleaner.input.xanthate</th>\n",
       "      <th>primary_cleaner.state.floatbank8_a_air</th>\n",
       "      <th>primary_cleaner.state.floatbank8_a_level</th>\n",
       "      <th>primary_cleaner.state.floatbank8_b_air</th>\n",
       "      <th>primary_cleaner.state.floatbank8_b_level</th>\n",
       "      <th>primary_cleaner.state.floatbank8_c_air</th>\n",
       "      <th>...</th>\n",
       "      <th>secondary_cleaner.state.floatbank4_a_air</th>\n",
       "      <th>secondary_cleaner.state.floatbank4_a_level</th>\n",
       "      <th>secondary_cleaner.state.floatbank4_b_air</th>\n",
       "      <th>secondary_cleaner.state.floatbank4_b_level</th>\n",
       "      <th>secondary_cleaner.state.floatbank5_a_air</th>\n",
       "      <th>secondary_cleaner.state.floatbank5_a_level</th>\n",
       "      <th>secondary_cleaner.state.floatbank5_b_air</th>\n",
       "      <th>secondary_cleaner.state.floatbank5_b_level</th>\n",
       "      <th>secondary_cleaner.state.floatbank6_a_air</th>\n",
       "      <th>secondary_cleaner.state.floatbank6_a_level</th>\n",
       "    </tr>\n",
       "  </thead>\n",
       "  <tbody>\n",
       "    <tr>\n",
       "      <th>0</th>\n",
       "      <td>2016-09-01 00:59:59</td>\n",
       "      <td>210.800909</td>\n",
       "      <td>14.993118</td>\n",
       "      <td>8.080000</td>\n",
       "      <td>1.005021</td>\n",
       "      <td>1398.981301</td>\n",
       "      <td>-500.225577</td>\n",
       "      <td>1399.144926</td>\n",
       "      <td>-499.919735</td>\n",
       "      <td>1400.102998</td>\n",
       "      <td>...</td>\n",
       "      <td>12.023554</td>\n",
       "      <td>-497.795834</td>\n",
       "      <td>8.016656</td>\n",
       "      <td>-501.289139</td>\n",
       "      <td>7.946562</td>\n",
       "      <td>-432.317850</td>\n",
       "      <td>4.872511</td>\n",
       "      <td>-500.037437</td>\n",
       "      <td>26.705889</td>\n",
       "      <td>-499.709414</td>\n",
       "    </tr>\n",
       "    <tr>\n",
       "      <th>1</th>\n",
       "      <td>2016-09-01 01:59:59</td>\n",
       "      <td>215.392455</td>\n",
       "      <td>14.987471</td>\n",
       "      <td>8.080000</td>\n",
       "      <td>0.990469</td>\n",
       "      <td>1398.777912</td>\n",
       "      <td>-500.057435</td>\n",
       "      <td>1398.055362</td>\n",
       "      <td>-499.778182</td>\n",
       "      <td>1396.151033</td>\n",
       "      <td>...</td>\n",
       "      <td>12.058140</td>\n",
       "      <td>-498.695773</td>\n",
       "      <td>8.130979</td>\n",
       "      <td>-499.634209</td>\n",
       "      <td>7.958270</td>\n",
       "      <td>-525.839648</td>\n",
       "      <td>4.878850</td>\n",
       "      <td>-500.162375</td>\n",
       "      <td>25.019940</td>\n",
       "      <td>-499.819438</td>\n",
       "    </tr>\n",
       "    <tr>\n",
       "      <th>2</th>\n",
       "      <td>2016-09-01 02:59:59</td>\n",
       "      <td>215.259946</td>\n",
       "      <td>12.884934</td>\n",
       "      <td>7.786667</td>\n",
       "      <td>0.996043</td>\n",
       "      <td>1398.493666</td>\n",
       "      <td>-500.868360</td>\n",
       "      <td>1398.860436</td>\n",
       "      <td>-499.764529</td>\n",
       "      <td>1398.075709</td>\n",
       "      <td>...</td>\n",
       "      <td>11.962366</td>\n",
       "      <td>-498.767484</td>\n",
       "      <td>8.096893</td>\n",
       "      <td>-500.827423</td>\n",
       "      <td>8.071056</td>\n",
       "      <td>-500.801673</td>\n",
       "      <td>4.905125</td>\n",
       "      <td>-499.828510</td>\n",
       "      <td>24.994862</td>\n",
       "      <td>-500.622559</td>\n",
       "    </tr>\n",
       "    <tr>\n",
       "      <th>3</th>\n",
       "      <td>2016-09-01 03:59:59</td>\n",
       "      <td>215.336236</td>\n",
       "      <td>12.006805</td>\n",
       "      <td>7.640000</td>\n",
       "      <td>0.863514</td>\n",
       "      <td>1399.618111</td>\n",
       "      <td>-498.863574</td>\n",
       "      <td>1397.440120</td>\n",
       "      <td>-499.211024</td>\n",
       "      <td>1400.129303</td>\n",
       "      <td>...</td>\n",
       "      <td>12.033091</td>\n",
       "      <td>-498.350935</td>\n",
       "      <td>8.074946</td>\n",
       "      <td>-499.474407</td>\n",
       "      <td>7.897085</td>\n",
       "      <td>-500.868509</td>\n",
       "      <td>4.931400</td>\n",
       "      <td>-499.963623</td>\n",
       "      <td>24.948919</td>\n",
       "      <td>-498.709987</td>\n",
       "    </tr>\n",
       "    <tr>\n",
       "      <th>4</th>\n",
       "      <td>2016-09-01 04:59:59</td>\n",
       "      <td>199.099327</td>\n",
       "      <td>10.682530</td>\n",
       "      <td>7.530000</td>\n",
       "      <td>0.805575</td>\n",
       "      <td>1401.268123</td>\n",
       "      <td>-500.808305</td>\n",
       "      <td>1398.128818</td>\n",
       "      <td>-499.504543</td>\n",
       "      <td>1402.172226</td>\n",
       "      <td>...</td>\n",
       "      <td>12.025367</td>\n",
       "      <td>-500.786497</td>\n",
       "      <td>8.054678</td>\n",
       "      <td>-500.397500</td>\n",
       "      <td>8.107890</td>\n",
       "      <td>-509.526725</td>\n",
       "      <td>4.957674</td>\n",
       "      <td>-500.360026</td>\n",
       "      <td>25.003331</td>\n",
       "      <td>-500.856333</td>\n",
       "    </tr>\n",
       "  </tbody>\n",
       "</table>\n",
       "<p>5 rows × 53 columns</p>\n",
       "</div>"
      ],
      "text/plain": [
       "                  date  primary_cleaner.input.sulfate  \\\n",
       "0  2016-09-01 00:59:59                     210.800909   \n",
       "1  2016-09-01 01:59:59                     215.392455   \n",
       "2  2016-09-01 02:59:59                     215.259946   \n",
       "3  2016-09-01 03:59:59                     215.336236   \n",
       "4  2016-09-01 04:59:59                     199.099327   \n",
       "\n",
       "   primary_cleaner.input.depressant  primary_cleaner.input.feed_size  \\\n",
       "0                         14.993118                         8.080000   \n",
       "1                         14.987471                         8.080000   \n",
       "2                         12.884934                         7.786667   \n",
       "3                         12.006805                         7.640000   \n",
       "4                         10.682530                         7.530000   \n",
       "\n",
       "   primary_cleaner.input.xanthate  primary_cleaner.state.floatbank8_a_air  \\\n",
       "0                        1.005021                             1398.981301   \n",
       "1                        0.990469                             1398.777912   \n",
       "2                        0.996043                             1398.493666   \n",
       "3                        0.863514                             1399.618111   \n",
       "4                        0.805575                             1401.268123   \n",
       "\n",
       "   primary_cleaner.state.floatbank8_a_level  \\\n",
       "0                               -500.225577   \n",
       "1                               -500.057435   \n",
       "2                               -500.868360   \n",
       "3                               -498.863574   \n",
       "4                               -500.808305   \n",
       "\n",
       "   primary_cleaner.state.floatbank8_b_air  \\\n",
       "0                             1399.144926   \n",
       "1                             1398.055362   \n",
       "2                             1398.860436   \n",
       "3                             1397.440120   \n",
       "4                             1398.128818   \n",
       "\n",
       "   primary_cleaner.state.floatbank8_b_level  \\\n",
       "0                               -499.919735   \n",
       "1                               -499.778182   \n",
       "2                               -499.764529   \n",
       "3                               -499.211024   \n",
       "4                               -499.504543   \n",
       "\n",
       "   primary_cleaner.state.floatbank8_c_air  ...  \\\n",
       "0                             1400.102998  ...   \n",
       "1                             1396.151033  ...   \n",
       "2                             1398.075709  ...   \n",
       "3                             1400.129303  ...   \n",
       "4                             1402.172226  ...   \n",
       "\n",
       "   secondary_cleaner.state.floatbank4_a_air  \\\n",
       "0                                 12.023554   \n",
       "1                                 12.058140   \n",
       "2                                 11.962366   \n",
       "3                                 12.033091   \n",
       "4                                 12.025367   \n",
       "\n",
       "   secondary_cleaner.state.floatbank4_a_level  \\\n",
       "0                                 -497.795834   \n",
       "1                                 -498.695773   \n",
       "2                                 -498.767484   \n",
       "3                                 -498.350935   \n",
       "4                                 -500.786497   \n",
       "\n",
       "   secondary_cleaner.state.floatbank4_b_air  \\\n",
       "0                                  8.016656   \n",
       "1                                  8.130979   \n",
       "2                                  8.096893   \n",
       "3                                  8.074946   \n",
       "4                                  8.054678   \n",
       "\n",
       "   secondary_cleaner.state.floatbank4_b_level  \\\n",
       "0                                 -501.289139   \n",
       "1                                 -499.634209   \n",
       "2                                 -500.827423   \n",
       "3                                 -499.474407   \n",
       "4                                 -500.397500   \n",
       "\n",
       "   secondary_cleaner.state.floatbank5_a_air  \\\n",
       "0                                  7.946562   \n",
       "1                                  7.958270   \n",
       "2                                  8.071056   \n",
       "3                                  7.897085   \n",
       "4                                  8.107890   \n",
       "\n",
       "   secondary_cleaner.state.floatbank5_a_level  \\\n",
       "0                                 -432.317850   \n",
       "1                                 -525.839648   \n",
       "2                                 -500.801673   \n",
       "3                                 -500.868509   \n",
       "4                                 -509.526725   \n",
       "\n",
       "   secondary_cleaner.state.floatbank5_b_air  \\\n",
       "0                                  4.872511   \n",
       "1                                  4.878850   \n",
       "2                                  4.905125   \n",
       "3                                  4.931400   \n",
       "4                                  4.957674   \n",
       "\n",
       "   secondary_cleaner.state.floatbank5_b_level  \\\n",
       "0                                 -500.037437   \n",
       "1                                 -500.162375   \n",
       "2                                 -499.828510   \n",
       "3                                 -499.963623   \n",
       "4                                 -500.360026   \n",
       "\n",
       "   secondary_cleaner.state.floatbank6_a_air  \\\n",
       "0                                 26.705889   \n",
       "1                                 25.019940   \n",
       "2                                 24.994862   \n",
       "3                                 24.948919   \n",
       "4                                 25.003331   \n",
       "\n",
       "   secondary_cleaner.state.floatbank6_a_level  \n",
       "0                                 -499.709414  \n",
       "1                                 -499.819438  \n",
       "2                                 -500.622559  \n",
       "3                                 -498.709987  \n",
       "4                                 -500.856333  \n",
       "\n",
       "[5 rows x 53 columns]"
      ]
     },
     "metadata": {},
     "output_type": "display_data"
    },
    {
     "name": "stdout",
     "output_type": "stream",
     "text": [
      "Информация о датасете:\n",
      "<class 'pandas.core.frame.DataFrame'>\n",
      "RangeIndex: 5290 entries, 0 to 5289\n",
      "Data columns (total 53 columns):\n",
      " #   Column                                      Non-Null Count  Dtype  \n",
      "---  ------                                      --------------  -----  \n",
      " 0   date                                        5290 non-null   object \n",
      " 1   primary_cleaner.input.sulfate               5286 non-null   float64\n",
      " 2   primary_cleaner.input.depressant            5285 non-null   float64\n",
      " 3   primary_cleaner.input.feed_size             5290 non-null   float64\n",
      " 4   primary_cleaner.input.xanthate              5286 non-null   float64\n",
      " 5   primary_cleaner.state.floatbank8_a_air      5290 non-null   float64\n",
      " 6   primary_cleaner.state.floatbank8_a_level    5290 non-null   float64\n",
      " 7   primary_cleaner.state.floatbank8_b_air      5290 non-null   float64\n",
      " 8   primary_cleaner.state.floatbank8_b_level    5290 non-null   float64\n",
      " 9   primary_cleaner.state.floatbank8_c_air      5290 non-null   float64\n",
      " 10  primary_cleaner.state.floatbank8_c_level    5290 non-null   float64\n",
      " 11  primary_cleaner.state.floatbank8_d_air      5290 non-null   float64\n",
      " 12  primary_cleaner.state.floatbank8_d_level    5290 non-null   float64\n",
      " 13  rougher.input.feed_ag                       5290 non-null   float64\n",
      " 14  rougher.input.feed_pb                       5290 non-null   float64\n",
      " 15  rougher.input.feed_rate                     5287 non-null   float64\n",
      " 16  rougher.input.feed_size                     5289 non-null   float64\n",
      " 17  rougher.input.feed_sol                      5269 non-null   float64\n",
      " 18  rougher.input.feed_au                       5290 non-null   float64\n",
      " 19  rougher.input.floatbank10_sulfate           5285 non-null   float64\n",
      " 20  rougher.input.floatbank10_xanthate          5290 non-null   float64\n",
      " 21  rougher.input.floatbank11_sulfate           5282 non-null   float64\n",
      " 22  rougher.input.floatbank11_xanthate          5265 non-null   float64\n",
      " 23  rougher.state.floatbank10_a_air             5290 non-null   float64\n",
      " 24  rougher.state.floatbank10_a_level           5290 non-null   float64\n",
      " 25  rougher.state.floatbank10_b_air             5290 non-null   float64\n",
      " 26  rougher.state.floatbank10_b_level           5290 non-null   float64\n",
      " 27  rougher.state.floatbank10_c_air             5290 non-null   float64\n",
      " 28  rougher.state.floatbank10_c_level           5290 non-null   float64\n",
      " 29  rougher.state.floatbank10_d_air             5290 non-null   float64\n",
      " 30  rougher.state.floatbank10_d_level           5290 non-null   float64\n",
      " 31  rougher.state.floatbank10_e_air             5290 non-null   float64\n",
      " 32  rougher.state.floatbank10_e_level           5290 non-null   float64\n",
      " 33  rougher.state.floatbank10_f_air             5290 non-null   float64\n",
      " 34  rougher.state.floatbank10_f_level           5290 non-null   float64\n",
      " 35  secondary_cleaner.state.floatbank2_a_air    5287 non-null   float64\n",
      " 36  secondary_cleaner.state.floatbank2_a_level  5290 non-null   float64\n",
      " 37  secondary_cleaner.state.floatbank2_b_air    5288 non-null   float64\n",
      " 38  secondary_cleaner.state.floatbank2_b_level  5290 non-null   float64\n",
      " 39  secondary_cleaner.state.floatbank3_a_air    5281 non-null   float64\n",
      " 40  secondary_cleaner.state.floatbank3_a_level  5290 non-null   float64\n",
      " 41  secondary_cleaner.state.floatbank3_b_air    5290 non-null   float64\n",
      " 42  secondary_cleaner.state.floatbank3_b_level  5290 non-null   float64\n",
      " 43  secondary_cleaner.state.floatbank4_a_air    5290 non-null   float64\n",
      " 44  secondary_cleaner.state.floatbank4_a_level  5290 non-null   float64\n",
      " 45  secondary_cleaner.state.floatbank4_b_air    5290 non-null   float64\n",
      " 46  secondary_cleaner.state.floatbank4_b_level  5290 non-null   float64\n",
      " 47  secondary_cleaner.state.floatbank5_a_air    5290 non-null   float64\n",
      " 48  secondary_cleaner.state.floatbank5_a_level  5290 non-null   float64\n",
      " 49  secondary_cleaner.state.floatbank5_b_air    5290 non-null   float64\n",
      " 50  secondary_cleaner.state.floatbank5_b_level  5290 non-null   float64\n",
      " 51  secondary_cleaner.state.floatbank6_a_air    5290 non-null   float64\n",
      " 52  secondary_cleaner.state.floatbank6_a_level  5290 non-null   float64\n",
      "dtypes: float64(52), object(1)\n",
      "memory usage: 2.1+ MB\n"
     ]
    },
    {
     "data": {
      "text/plain": [
       "None"
      ]
     },
     "metadata": {},
     "output_type": "display_data"
    },
    {
     "name": "stdout",
     "output_type": "stream",
     "text": [
      "Описательная статистика:\n"
     ]
    },
    {
     "data": {
      "text/html": [
       "<div>\n",
       "<style scoped>\n",
       "    .dataframe tbody tr th:only-of-type {\n",
       "        vertical-align: middle;\n",
       "    }\n",
       "\n",
       "    .dataframe tbody tr th {\n",
       "        vertical-align: top;\n",
       "    }\n",
       "\n",
       "    .dataframe thead th {\n",
       "        text-align: right;\n",
       "    }\n",
       "</style>\n",
       "<table border=\"1\" class=\"dataframe\">\n",
       "  <thead>\n",
       "    <tr style=\"text-align: right;\">\n",
       "      <th></th>\n",
       "      <th>count</th>\n",
       "      <th>mean</th>\n",
       "      <th>std</th>\n",
       "      <th>min</th>\n",
       "      <th>25%</th>\n",
       "      <th>50%</th>\n",
       "      <th>75%</th>\n",
       "      <th>max</th>\n",
       "    </tr>\n",
       "  </thead>\n",
       "  <tbody>\n",
       "    <tr>\n",
       "      <th>primary_cleaner.input.sulfate</th>\n",
       "      <td>5286.0</td>\n",
       "      <td>174.839652</td>\n",
       "      <td>43.027080</td>\n",
       "      <td>2.566156e+00</td>\n",
       "      <td>147.121401</td>\n",
       "      <td>177.828489</td>\n",
       "      <td>208.125438</td>\n",
       "      <td>265.983123</td>\n",
       "    </tr>\n",
       "    <tr>\n",
       "      <th>primary_cleaner.input.depressant</th>\n",
       "      <td>5285.0</td>\n",
       "      <td>8.683596</td>\n",
       "      <td>3.072050</td>\n",
       "      <td>3.839482e-03</td>\n",
       "      <td>6.489555</td>\n",
       "      <td>8.052207</td>\n",
       "      <td>10.027764</td>\n",
       "      <td>40.000000</td>\n",
       "    </tr>\n",
       "    <tr>\n",
       "      <th>primary_cleaner.input.feed_size</th>\n",
       "      <td>5290.0</td>\n",
       "      <td>7.266339</td>\n",
       "      <td>0.610219</td>\n",
       "      <td>5.650000e+00</td>\n",
       "      <td>6.890000</td>\n",
       "      <td>7.250000</td>\n",
       "      <td>7.600000</td>\n",
       "      <td>15.500000</td>\n",
       "    </tr>\n",
       "    <tr>\n",
       "      <th>primary_cleaner.input.xanthate</th>\n",
       "      <td>5286.0</td>\n",
       "      <td>1.383803</td>\n",
       "      <td>0.643474</td>\n",
       "      <td>4.983673e-03</td>\n",
       "      <td>0.907623</td>\n",
       "      <td>1.197610</td>\n",
       "      <td>1.797819</td>\n",
       "      <td>4.102454</td>\n",
       "    </tr>\n",
       "    <tr>\n",
       "      <th>primary_cleaner.state.floatbank8_a_air</th>\n",
       "      <td>5290.0</td>\n",
       "      <td>1539.494325</td>\n",
       "      <td>116.797884</td>\n",
       "      <td>5.445860e-32</td>\n",
       "      <td>1498.935802</td>\n",
       "      <td>1585.129123</td>\n",
       "      <td>1602.076529</td>\n",
       "      <td>2103.103580</td>\n",
       "    </tr>\n",
       "    <tr>\n",
       "      <th>primary_cleaner.state.floatbank8_a_level</th>\n",
       "      <td>5290.0</td>\n",
       "      <td>-497.665883</td>\n",
       "      <td>19.952431</td>\n",
       "      <td>-7.953163e+02</td>\n",
       "      <td>-500.357298</td>\n",
       "      <td>-499.969164</td>\n",
       "      <td>-499.568951</td>\n",
       "      <td>-57.195404</td>\n",
       "    </tr>\n",
       "    <tr>\n",
       "      <th>primary_cleaner.state.floatbank8_b_air</th>\n",
       "      <td>5290.0</td>\n",
       "      <td>1545.174232</td>\n",
       "      <td>122.224588</td>\n",
       "      <td>6.647490e-32</td>\n",
       "      <td>1498.970993</td>\n",
       "      <td>1595.621798</td>\n",
       "      <td>1602.323545</td>\n",
       "      <td>1813.083671</td>\n",
       "    </tr>\n",
       "    <tr>\n",
       "      <th>primary_cleaner.state.floatbank8_b_level</th>\n",
       "      <td>5290.0</td>\n",
       "      <td>-500.273098</td>\n",
       "      <td>32.968307</td>\n",
       "      <td>-7.999970e+02</td>\n",
       "      <td>-500.703002</td>\n",
       "      <td>-500.028514</td>\n",
       "      <td>-499.293257</td>\n",
       "      <td>-142.527229</td>\n",
       "    </tr>\n",
       "    <tr>\n",
       "      <th>primary_cleaner.state.floatbank8_c_air</th>\n",
       "      <td>5290.0</td>\n",
       "      <td>1527.272362</td>\n",
       "      <td>122.538034</td>\n",
       "      <td>4.033736e-32</td>\n",
       "      <td>1473.229862</td>\n",
       "      <td>1549.594682</td>\n",
       "      <td>1601.143775</td>\n",
       "      <td>1715.053773</td>\n",
       "    </tr>\n",
       "    <tr>\n",
       "      <th>primary_cleaner.state.floatbank8_c_level</th>\n",
       "      <td>5290.0</td>\n",
       "      <td>-498.330680</td>\n",
       "      <td>21.964876</td>\n",
       "      <td>-7.999606e+02</td>\n",
       "      <td>-501.018117</td>\n",
       "      <td>-500.017711</td>\n",
       "      <td>-498.994130</td>\n",
       "      <td>-150.937035</td>\n",
       "    </tr>\n",
       "    <tr>\n",
       "      <th>primary_cleaner.state.floatbank8_d_air</th>\n",
       "      <td>5290.0</td>\n",
       "      <td>1544.844335</td>\n",
       "      <td>124.773081</td>\n",
       "      <td>4.039220e-32</td>\n",
       "      <td>1499.481404</td>\n",
       "      <td>1594.579112</td>\n",
       "      <td>1600.964772</td>\n",
       "      <td>1913.256561</td>\n",
       "    </tr>\n",
       "    <tr>\n",
       "      <th>primary_cleaner.state.floatbank8_d_level</th>\n",
       "      <td>5290.0</td>\n",
       "      <td>-500.199527</td>\n",
       "      <td>31.045257</td>\n",
       "      <td>-7.997943e+02</td>\n",
       "      <td>-500.452469</td>\n",
       "      <td>-500.023307</td>\n",
       "      <td>-499.607040</td>\n",
       "      <td>-158.950573</td>\n",
       "    </tr>\n",
       "    <tr>\n",
       "      <th>rougher.input.feed_ag</th>\n",
       "      <td>5290.0</td>\n",
       "      <td>9.371940</td>\n",
       "      <td>1.926264</td>\n",
       "      <td>5.684412e-01</td>\n",
       "      <td>8.112434</td>\n",
       "      <td>9.762654</td>\n",
       "      <td>10.652297</td>\n",
       "      <td>14.406130</td>\n",
       "    </tr>\n",
       "    <tr>\n",
       "      <th>rougher.input.feed_pb</th>\n",
       "      <td>5290.0</td>\n",
       "      <td>3.798082</td>\n",
       "      <td>0.954859</td>\n",
       "      <td>2.736769e-01</td>\n",
       "      <td>3.240251</td>\n",
       "      <td>3.740716</td>\n",
       "      <td>4.282634</td>\n",
       "      <td>6.905684</td>\n",
       "    </tr>\n",
       "    <tr>\n",
       "      <th>rougher.input.feed_rate</th>\n",
       "      <td>5287.0</td>\n",
       "      <td>489.800620</td>\n",
       "      <td>108.036326</td>\n",
       "      <td>2.985849e-03</td>\n",
       "      <td>407.020883</td>\n",
       "      <td>499.051440</td>\n",
       "      <td>575.307213</td>\n",
       "      <td>707.364020</td>\n",
       "    </tr>\n",
       "    <tr>\n",
       "      <th>rougher.input.feed_size</th>\n",
       "      <td>5289.0</td>\n",
       "      <td>55.951097</td>\n",
       "      <td>19.081758</td>\n",
       "      <td>4.636880e-02</td>\n",
       "      <td>43.906347</td>\n",
       "      <td>50.841029</td>\n",
       "      <td>62.431047</td>\n",
       "      <td>392.494040</td>\n",
       "    </tr>\n",
       "    <tr>\n",
       "      <th>rougher.input.feed_sol</th>\n",
       "      <td>5269.0</td>\n",
       "      <td>37.716648</td>\n",
       "      <td>5.491415</td>\n",
       "      <td>1.393488e+00</td>\n",
       "      <td>34.505576</td>\n",
       "      <td>37.980276</td>\n",
       "      <td>41.635385</td>\n",
       "      <td>53.477742</td>\n",
       "    </tr>\n",
       "    <tr>\n",
       "      <th>rougher.input.feed_au</th>\n",
       "      <td>5290.0</td>\n",
       "      <td>9.334682</td>\n",
       "      <td>1.619521</td>\n",
       "      <td>5.686322e-01</td>\n",
       "      <td>8.207814</td>\n",
       "      <td>9.593766</td>\n",
       "      <td>10.463538</td>\n",
       "      <td>13.731330</td>\n",
       "    </tr>\n",
       "    <tr>\n",
       "      <th>rougher.input.floatbank10_sulfate</th>\n",
       "      <td>5285.0</td>\n",
       "      <td>13.855759</td>\n",
       "      <td>3.350852</td>\n",
       "      <td>1.147460e-03</td>\n",
       "      <td>11.995006</td>\n",
       "      <td>14.003126</td>\n",
       "      <td>16.974284</td>\n",
       "      <td>24.280636</td>\n",
       "    </tr>\n",
       "    <tr>\n",
       "      <th>rougher.input.floatbank10_xanthate</th>\n",
       "      <td>5290.0</td>\n",
       "      <td>6.467745</td>\n",
       "      <td>1.065114</td>\n",
       "      <td>5.682328e-04</td>\n",
       "      <td>5.998779</td>\n",
       "      <td>6.498181</td>\n",
       "      <td>7.085457</td>\n",
       "      <td>8.910468</td>\n",
       "    </tr>\n",
       "    <tr>\n",
       "      <th>rougher.input.floatbank11_sulfate</th>\n",
       "      <td>5282.0</td>\n",
       "      <td>13.922328</td>\n",
       "      <td>3.223769</td>\n",
       "      <td>7.673764e-05</td>\n",
       "      <td>11.997200</td>\n",
       "      <td>14.004371</td>\n",
       "      <td>16.959671</td>\n",
       "      <td>24.280966</td>\n",
       "    </tr>\n",
       "    <tr>\n",
       "      <th>rougher.input.floatbank11_xanthate</th>\n",
       "      <td>5265.0</td>\n",
       "      <td>6.512103</td>\n",
       "      <td>0.886989</td>\n",
       "      <td>6.985269e-03</td>\n",
       "      <td>5.999157</td>\n",
       "      <td>6.498744</td>\n",
       "      <td>7.091808</td>\n",
       "      <td>8.621338</td>\n",
       "    </tr>\n",
       "    <tr>\n",
       "      <th>rougher.state.floatbank10_a_air</th>\n",
       "      <td>5290.0</td>\n",
       "      <td>1053.400166</td>\n",
       "      <td>121.139309</td>\n",
       "      <td>-4.206929e-02</td>\n",
       "      <td>999.205344</td>\n",
       "      <td>1000.472055</td>\n",
       "      <td>1006.254299</td>\n",
       "      <td>1423.274687</td>\n",
       "    </tr>\n",
       "    <tr>\n",
       "      <th>rougher.state.floatbank10_a_level</th>\n",
       "      <td>5290.0</td>\n",
       "      <td>-395.732530</td>\n",
       "      <td>91.085505</td>\n",
       "      <td>-6.579498e+02</td>\n",
       "      <td>-499.920565</td>\n",
       "      <td>-399.693363</td>\n",
       "      <td>-300.060056</td>\n",
       "      <td>-273.776101</td>\n",
       "    </tr>\n",
       "    <tr>\n",
       "      <th>rougher.state.floatbank10_b_air</th>\n",
       "      <td>5290.0</td>\n",
       "      <td>1318.926879</td>\n",
       "      <td>156.450366</td>\n",
       "      <td>-7.218064e-01</td>\n",
       "      <td>1200.871883</td>\n",
       "      <td>1302.254995</td>\n",
       "      <td>1433.955649</td>\n",
       "      <td>1706.640419</td>\n",
       "    </tr>\n",
       "    <tr>\n",
       "      <th>rougher.state.floatbank10_b_level</th>\n",
       "      <td>5290.0</td>\n",
       "      <td>-475.241428</td>\n",
       "      <td>45.649466</td>\n",
       "      <td>-6.502453e+02</td>\n",
       "      <td>-500.256114</td>\n",
       "      <td>-499.837803</td>\n",
       "      <td>-450.749619</td>\n",
       "      <td>-298.200051</td>\n",
       "    </tr>\n",
       "    <tr>\n",
       "      <th>rougher.state.floatbank10_c_air</th>\n",
       "      <td>5290.0</td>\n",
       "      <td>1301.595477</td>\n",
       "      <td>171.269667</td>\n",
       "      <td>-5.663551e-02</td>\n",
       "      <td>1199.651371</td>\n",
       "      <td>1300.202274</td>\n",
       "      <td>1406.594956</td>\n",
       "      <td>1731.017788</td>\n",
       "    </tr>\n",
       "    <tr>\n",
       "      <th>rougher.state.floatbank10_c_level</th>\n",
       "      <td>5290.0</td>\n",
       "      <td>-474.836671</td>\n",
       "      <td>45.859866</td>\n",
       "      <td>-6.475444e+02</td>\n",
       "      <td>-500.233831</td>\n",
       "      <td>-499.777222</td>\n",
       "      <td>-451.153188</td>\n",
       "      <td>-298.036852</td>\n",
       "    </tr>\n",
       "    <tr>\n",
       "      <th>rougher.state.floatbank10_d_air</th>\n",
       "      <td>5290.0</td>\n",
       "      <td>1214.847960</td>\n",
       "      <td>185.763319</td>\n",
       "      <td>-9.922190e-01</td>\n",
       "      <td>1093.368068</td>\n",
       "      <td>1207.014092</td>\n",
       "      <td>1391.497269</td>\n",
       "      <td>1775.218584</td>\n",
       "    </tr>\n",
       "    <tr>\n",
       "      <th>rougher.state.floatbank10_d_level</th>\n",
       "      <td>5290.0</td>\n",
       "      <td>-475.682272</td>\n",
       "      <td>47.844967</td>\n",
       "      <td>-6.483907e+02</td>\n",
       "      <td>-500.440610</td>\n",
       "      <td>-499.691917</td>\n",
       "      <td>-452.483463</td>\n",
       "      <td>-76.397327</td>\n",
       "    </tr>\n",
       "    <tr>\n",
       "      <th>rougher.state.floatbank10_e_air</th>\n",
       "      <td>5290.0</td>\n",
       "      <td>1056.648995</td>\n",
       "      <td>131.542839</td>\n",
       "      <td>-1.982295e+00</td>\n",
       "      <td>999.361403</td>\n",
       "      <td>1047.495449</td>\n",
       "      <td>1101.365315</td>\n",
       "      <td>1467.184843</td>\n",
       "    </tr>\n",
       "    <tr>\n",
       "      <th>rougher.state.floatbank10_e_level</th>\n",
       "      <td>5290.0</td>\n",
       "      <td>-469.029688</td>\n",
       "      <td>59.325990</td>\n",
       "      <td>-6.492675e+02</td>\n",
       "      <td>-500.190639</td>\n",
       "      <td>-499.765796</td>\n",
       "      <td>-450.957513</td>\n",
       "      <td>-139.753025</td>\n",
       "    </tr>\n",
       "    <tr>\n",
       "      <th>rougher.state.floatbank10_f_air</th>\n",
       "      <td>5290.0</td>\n",
       "      <td>997.949719</td>\n",
       "      <td>128.218869</td>\n",
       "      <td>-2.593390e+00</td>\n",
       "      <td>901.024994</td>\n",
       "      <td>999.441879</td>\n",
       "      <td>1050.433005</td>\n",
       "      <td>1476.588107</td>\n",
       "    </tr>\n",
       "    <tr>\n",
       "      <th>rougher.state.floatbank10_f_level</th>\n",
       "      <td>5290.0</td>\n",
       "      <td>-470.482465</td>\n",
       "      <td>60.759318</td>\n",
       "      <td>-6.499493e+02</td>\n",
       "      <td>-500.624783</td>\n",
       "      <td>-499.680986</td>\n",
       "      <td>-451.986460</td>\n",
       "      <td>-249.801043</td>\n",
       "    </tr>\n",
       "    <tr>\n",
       "      <th>secondary_cleaner.state.floatbank2_a_air</th>\n",
       "      <td>5287.0</td>\n",
       "      <td>26.312630</td>\n",
       "      <td>3.429852</td>\n",
       "      <td>2.053286e-01</td>\n",
       "      <td>24.942328</td>\n",
       "      <td>26.910569</td>\n",
       "      <td>28.091885</td>\n",
       "      <td>32.138727</td>\n",
       "    </tr>\n",
       "    <tr>\n",
       "      <th>secondary_cleaner.state.floatbank2_a_level</th>\n",
       "      <td>5290.0</td>\n",
       "      <td>-502.750897</td>\n",
       "      <td>28.756505</td>\n",
       "      <td>-7.840911e+02</td>\n",
       "      <td>-500.206517</td>\n",
       "      <td>-500.003902</td>\n",
       "      <td>-499.791639</td>\n",
       "      <td>-300.343670</td>\n",
       "    </tr>\n",
       "    <tr>\n",
       "      <th>secondary_cleaner.state.floatbank2_b_air</th>\n",
       "      <td>5288.0</td>\n",
       "      <td>21.949119</td>\n",
       "      <td>4.354961</td>\n",
       "      <td>6.063908e-03</td>\n",
       "      <td>20.002315</td>\n",
       "      <td>22.942603</td>\n",
       "      <td>24.985013</td>\n",
       "      <td>28.165864</td>\n",
       "    </tr>\n",
       "    <tr>\n",
       "      <th>secondary_cleaner.state.floatbank2_b_level</th>\n",
       "      <td>5290.0</td>\n",
       "      <td>-501.987097</td>\n",
       "      <td>34.582722</td>\n",
       "      <td>-7.977840e+02</td>\n",
       "      <td>-500.218030</td>\n",
       "      <td>-500.019058</td>\n",
       "      <td>-499.831532</td>\n",
       "      <td>-211.999273</td>\n",
       "    </tr>\n",
       "    <tr>\n",
       "      <th>secondary_cleaner.state.floatbank3_a_air</th>\n",
       "      <td>5281.0</td>\n",
       "      <td>25.402926</td>\n",
       "      <td>6.526457</td>\n",
       "      <td>0.000000e+00</td>\n",
       "      <td>22.982288</td>\n",
       "      <td>25.010105</td>\n",
       "      <td>30.002063</td>\n",
       "      <td>40.041997</td>\n",
       "    </tr>\n",
       "    <tr>\n",
       "      <th>secondary_cleaner.state.floatbank3_a_level</th>\n",
       "      <td>5290.0</td>\n",
       "      <td>-507.490314</td>\n",
       "      <td>47.620908</td>\n",
       "      <td>-7.997558e+02</td>\n",
       "      <td>-500.297951</td>\n",
       "      <td>-500.034578</td>\n",
       "      <td>-499.780163</td>\n",
       "      <td>-313.866425</td>\n",
       "    </tr>\n",
       "    <tr>\n",
       "      <th>secondary_cleaner.state.floatbank3_b_air</th>\n",
       "      <td>5290.0</td>\n",
       "      <td>20.982108</td>\n",
       "      <td>6.736179</td>\n",
       "      <td>1.521587e-17</td>\n",
       "      <td>17.967855</td>\n",
       "      <td>21.003164</td>\n",
       "      <td>26.976977</td>\n",
       "      <td>32.039365</td>\n",
       "    </tr>\n",
       "    <tr>\n",
       "      <th>secondary_cleaner.state.floatbank3_b_level</th>\n",
       "      <td>5290.0</td>\n",
       "      <td>-506.627916</td>\n",
       "      <td>44.528673</td>\n",
       "      <td>-8.093330e+02</td>\n",
       "      <td>-500.145128</td>\n",
       "      <td>-500.013819</td>\n",
       "      <td>-499.890608</td>\n",
       "      <td>-202.277366</td>\n",
       "    </tr>\n",
       "    <tr>\n",
       "      <th>secondary_cleaner.state.floatbank4_a_air</th>\n",
       "      <td>5290.0</td>\n",
       "      <td>16.320074</td>\n",
       "      <td>3.493583</td>\n",
       "      <td>1.079872e-16</td>\n",
       "      <td>14.036177</td>\n",
       "      <td>17.008468</td>\n",
       "      <td>18.038619</td>\n",
       "      <td>30.051797</td>\n",
       "    </tr>\n",
       "    <tr>\n",
       "      <th>secondary_cleaner.state.floatbank4_a_level</th>\n",
       "      <td>5290.0</td>\n",
       "      <td>-505.144570</td>\n",
       "      <td>31.427337</td>\n",
       "      <td>-7.997985e+02</td>\n",
       "      <td>-500.868258</td>\n",
       "      <td>-500.115727</td>\n",
       "      <td>-499.404224</td>\n",
       "      <td>-401.565212</td>\n",
       "    </tr>\n",
       "    <tr>\n",
       "      <th>secondary_cleaner.state.floatbank4_b_air</th>\n",
       "      <td>5290.0</td>\n",
       "      <td>13.735444</td>\n",
       "      <td>3.430484</td>\n",
       "      <td>2.489718e-17</td>\n",
       "      <td>12.028625</td>\n",
       "      <td>14.964860</td>\n",
       "      <td>15.962125</td>\n",
       "      <td>31.269706</td>\n",
       "    </tr>\n",
       "    <tr>\n",
       "      <th>secondary_cleaner.state.floatbank4_b_level</th>\n",
       "      <td>5290.0</td>\n",
       "      <td>-463.349858</td>\n",
       "      <td>86.189107</td>\n",
       "      <td>-8.008369e+02</td>\n",
       "      <td>-500.323028</td>\n",
       "      <td>-499.576513</td>\n",
       "      <td>-400.933805</td>\n",
       "      <td>-6.506986</td>\n",
       "    </tr>\n",
       "    <tr>\n",
       "      <th>secondary_cleaner.state.floatbank5_a_air</th>\n",
       "      <td>5290.0</td>\n",
       "      <td>12.804186</td>\n",
       "      <td>3.026591</td>\n",
       "      <td>6.922662e-02</td>\n",
       "      <td>10.914838</td>\n",
       "      <td>12.954182</td>\n",
       "      <td>15.097528</td>\n",
       "      <td>25.258848</td>\n",
       "    </tr>\n",
       "    <tr>\n",
       "      <th>secondary_cleaner.state.floatbank5_a_level</th>\n",
       "      <td>5290.0</td>\n",
       "      <td>-501.329122</td>\n",
       "      <td>17.951495</td>\n",
       "      <td>-7.973240e+02</td>\n",
       "      <td>-500.726841</td>\n",
       "      <td>-499.990332</td>\n",
       "      <td>-499.283191</td>\n",
       "      <td>-244.483566</td>\n",
       "    </tr>\n",
       "    <tr>\n",
       "      <th>secondary_cleaner.state.floatbank5_b_air</th>\n",
       "      <td>5290.0</td>\n",
       "      <td>9.881145</td>\n",
       "      <td>2.868205</td>\n",
       "      <td>5.280828e-01</td>\n",
       "      <td>8.036719</td>\n",
       "      <td>10.004301</td>\n",
       "      <td>11.997467</td>\n",
       "      <td>14.086866</td>\n",
       "    </tr>\n",
       "    <tr>\n",
       "      <th>secondary_cleaner.state.floatbank5_b_level</th>\n",
       "      <td>5290.0</td>\n",
       "      <td>-495.663398</td>\n",
       "      <td>34.535007</td>\n",
       "      <td>-8.002203e+02</td>\n",
       "      <td>-500.194668</td>\n",
       "      <td>-499.990535</td>\n",
       "      <td>-499.719913</td>\n",
       "      <td>-137.740004</td>\n",
       "    </tr>\n",
       "    <tr>\n",
       "      <th>secondary_cleaner.state.floatbank6_a_air</th>\n",
       "      <td>5290.0</td>\n",
       "      <td>17.304935</td>\n",
       "      <td>4.536544</td>\n",
       "      <td>-7.942623e-02</td>\n",
       "      <td>13.997317</td>\n",
       "      <td>16.014935</td>\n",
       "      <td>21.020013</td>\n",
       "      <td>26.705889</td>\n",
       "    </tr>\n",
       "    <tr>\n",
       "      <th>secondary_cleaner.state.floatbank6_a_level</th>\n",
       "      <td>5290.0</td>\n",
       "      <td>-501.793193</td>\n",
       "      <td>39.044215</td>\n",
       "      <td>-8.097415e+02</td>\n",
       "      <td>-500.690984</td>\n",
       "      <td>-500.007126</td>\n",
       "      <td>-499.373018</td>\n",
       "      <td>-123.307487</td>\n",
       "    </tr>\n",
       "  </tbody>\n",
       "</table>\n",
       "</div>"
      ],
      "text/plain": [
       "                                             count         mean         std  \\\n",
       "primary_cleaner.input.sulfate               5286.0   174.839652   43.027080   \n",
       "primary_cleaner.input.depressant            5285.0     8.683596    3.072050   \n",
       "primary_cleaner.input.feed_size             5290.0     7.266339    0.610219   \n",
       "primary_cleaner.input.xanthate              5286.0     1.383803    0.643474   \n",
       "primary_cleaner.state.floatbank8_a_air      5290.0  1539.494325  116.797884   \n",
       "primary_cleaner.state.floatbank8_a_level    5290.0  -497.665883   19.952431   \n",
       "primary_cleaner.state.floatbank8_b_air      5290.0  1545.174232  122.224588   \n",
       "primary_cleaner.state.floatbank8_b_level    5290.0  -500.273098   32.968307   \n",
       "primary_cleaner.state.floatbank8_c_air      5290.0  1527.272362  122.538034   \n",
       "primary_cleaner.state.floatbank8_c_level    5290.0  -498.330680   21.964876   \n",
       "primary_cleaner.state.floatbank8_d_air      5290.0  1544.844335  124.773081   \n",
       "primary_cleaner.state.floatbank8_d_level    5290.0  -500.199527   31.045257   \n",
       "rougher.input.feed_ag                       5290.0     9.371940    1.926264   \n",
       "rougher.input.feed_pb                       5290.0     3.798082    0.954859   \n",
       "rougher.input.feed_rate                     5287.0   489.800620  108.036326   \n",
       "rougher.input.feed_size                     5289.0    55.951097   19.081758   \n",
       "rougher.input.feed_sol                      5269.0    37.716648    5.491415   \n",
       "rougher.input.feed_au                       5290.0     9.334682    1.619521   \n",
       "rougher.input.floatbank10_sulfate           5285.0    13.855759    3.350852   \n",
       "rougher.input.floatbank10_xanthate          5290.0     6.467745    1.065114   \n",
       "rougher.input.floatbank11_sulfate           5282.0    13.922328    3.223769   \n",
       "rougher.input.floatbank11_xanthate          5265.0     6.512103    0.886989   \n",
       "rougher.state.floatbank10_a_air             5290.0  1053.400166  121.139309   \n",
       "rougher.state.floatbank10_a_level           5290.0  -395.732530   91.085505   \n",
       "rougher.state.floatbank10_b_air             5290.0  1318.926879  156.450366   \n",
       "rougher.state.floatbank10_b_level           5290.0  -475.241428   45.649466   \n",
       "rougher.state.floatbank10_c_air             5290.0  1301.595477  171.269667   \n",
       "rougher.state.floatbank10_c_level           5290.0  -474.836671   45.859866   \n",
       "rougher.state.floatbank10_d_air             5290.0  1214.847960  185.763319   \n",
       "rougher.state.floatbank10_d_level           5290.0  -475.682272   47.844967   \n",
       "rougher.state.floatbank10_e_air             5290.0  1056.648995  131.542839   \n",
       "rougher.state.floatbank10_e_level           5290.0  -469.029688   59.325990   \n",
       "rougher.state.floatbank10_f_air             5290.0   997.949719  128.218869   \n",
       "rougher.state.floatbank10_f_level           5290.0  -470.482465   60.759318   \n",
       "secondary_cleaner.state.floatbank2_a_air    5287.0    26.312630    3.429852   \n",
       "secondary_cleaner.state.floatbank2_a_level  5290.0  -502.750897   28.756505   \n",
       "secondary_cleaner.state.floatbank2_b_air    5288.0    21.949119    4.354961   \n",
       "secondary_cleaner.state.floatbank2_b_level  5290.0  -501.987097   34.582722   \n",
       "secondary_cleaner.state.floatbank3_a_air    5281.0    25.402926    6.526457   \n",
       "secondary_cleaner.state.floatbank3_a_level  5290.0  -507.490314   47.620908   \n",
       "secondary_cleaner.state.floatbank3_b_air    5290.0    20.982108    6.736179   \n",
       "secondary_cleaner.state.floatbank3_b_level  5290.0  -506.627916   44.528673   \n",
       "secondary_cleaner.state.floatbank4_a_air    5290.0    16.320074    3.493583   \n",
       "secondary_cleaner.state.floatbank4_a_level  5290.0  -505.144570   31.427337   \n",
       "secondary_cleaner.state.floatbank4_b_air    5290.0    13.735444    3.430484   \n",
       "secondary_cleaner.state.floatbank4_b_level  5290.0  -463.349858   86.189107   \n",
       "secondary_cleaner.state.floatbank5_a_air    5290.0    12.804186    3.026591   \n",
       "secondary_cleaner.state.floatbank5_a_level  5290.0  -501.329122   17.951495   \n",
       "secondary_cleaner.state.floatbank5_b_air    5290.0     9.881145    2.868205   \n",
       "secondary_cleaner.state.floatbank5_b_level  5290.0  -495.663398   34.535007   \n",
       "secondary_cleaner.state.floatbank6_a_air    5290.0    17.304935    4.536544   \n",
       "secondary_cleaner.state.floatbank6_a_level  5290.0  -501.793193   39.044215   \n",
       "\n",
       "                                                     min          25%  \\\n",
       "primary_cleaner.input.sulfate               2.566156e+00   147.121401   \n",
       "primary_cleaner.input.depressant            3.839482e-03     6.489555   \n",
       "primary_cleaner.input.feed_size             5.650000e+00     6.890000   \n",
       "primary_cleaner.input.xanthate              4.983673e-03     0.907623   \n",
       "primary_cleaner.state.floatbank8_a_air      5.445860e-32  1498.935802   \n",
       "primary_cleaner.state.floatbank8_a_level   -7.953163e+02  -500.357298   \n",
       "primary_cleaner.state.floatbank8_b_air      6.647490e-32  1498.970993   \n",
       "primary_cleaner.state.floatbank8_b_level   -7.999970e+02  -500.703002   \n",
       "primary_cleaner.state.floatbank8_c_air      4.033736e-32  1473.229862   \n",
       "primary_cleaner.state.floatbank8_c_level   -7.999606e+02  -501.018117   \n",
       "primary_cleaner.state.floatbank8_d_air      4.039220e-32  1499.481404   \n",
       "primary_cleaner.state.floatbank8_d_level   -7.997943e+02  -500.452469   \n",
       "rougher.input.feed_ag                       5.684412e-01     8.112434   \n",
       "rougher.input.feed_pb                       2.736769e-01     3.240251   \n",
       "rougher.input.feed_rate                     2.985849e-03   407.020883   \n",
       "rougher.input.feed_size                     4.636880e-02    43.906347   \n",
       "rougher.input.feed_sol                      1.393488e+00    34.505576   \n",
       "rougher.input.feed_au                       5.686322e-01     8.207814   \n",
       "rougher.input.floatbank10_sulfate           1.147460e-03    11.995006   \n",
       "rougher.input.floatbank10_xanthate          5.682328e-04     5.998779   \n",
       "rougher.input.floatbank11_sulfate           7.673764e-05    11.997200   \n",
       "rougher.input.floatbank11_xanthate          6.985269e-03     5.999157   \n",
       "rougher.state.floatbank10_a_air            -4.206929e-02   999.205344   \n",
       "rougher.state.floatbank10_a_level          -6.579498e+02  -499.920565   \n",
       "rougher.state.floatbank10_b_air            -7.218064e-01  1200.871883   \n",
       "rougher.state.floatbank10_b_level          -6.502453e+02  -500.256114   \n",
       "rougher.state.floatbank10_c_air            -5.663551e-02  1199.651371   \n",
       "rougher.state.floatbank10_c_level          -6.475444e+02  -500.233831   \n",
       "rougher.state.floatbank10_d_air            -9.922190e-01  1093.368068   \n",
       "rougher.state.floatbank10_d_level          -6.483907e+02  -500.440610   \n",
       "rougher.state.floatbank10_e_air            -1.982295e+00   999.361403   \n",
       "rougher.state.floatbank10_e_level          -6.492675e+02  -500.190639   \n",
       "rougher.state.floatbank10_f_air            -2.593390e+00   901.024994   \n",
       "rougher.state.floatbank10_f_level          -6.499493e+02  -500.624783   \n",
       "secondary_cleaner.state.floatbank2_a_air    2.053286e-01    24.942328   \n",
       "secondary_cleaner.state.floatbank2_a_level -7.840911e+02  -500.206517   \n",
       "secondary_cleaner.state.floatbank2_b_air    6.063908e-03    20.002315   \n",
       "secondary_cleaner.state.floatbank2_b_level -7.977840e+02  -500.218030   \n",
       "secondary_cleaner.state.floatbank3_a_air    0.000000e+00    22.982288   \n",
       "secondary_cleaner.state.floatbank3_a_level -7.997558e+02  -500.297951   \n",
       "secondary_cleaner.state.floatbank3_b_air    1.521587e-17    17.967855   \n",
       "secondary_cleaner.state.floatbank3_b_level -8.093330e+02  -500.145128   \n",
       "secondary_cleaner.state.floatbank4_a_air    1.079872e-16    14.036177   \n",
       "secondary_cleaner.state.floatbank4_a_level -7.997985e+02  -500.868258   \n",
       "secondary_cleaner.state.floatbank4_b_air    2.489718e-17    12.028625   \n",
       "secondary_cleaner.state.floatbank4_b_level -8.008369e+02  -500.323028   \n",
       "secondary_cleaner.state.floatbank5_a_air    6.922662e-02    10.914838   \n",
       "secondary_cleaner.state.floatbank5_a_level -7.973240e+02  -500.726841   \n",
       "secondary_cleaner.state.floatbank5_b_air    5.280828e-01     8.036719   \n",
       "secondary_cleaner.state.floatbank5_b_level -8.002203e+02  -500.194668   \n",
       "secondary_cleaner.state.floatbank6_a_air   -7.942623e-02    13.997317   \n",
       "secondary_cleaner.state.floatbank6_a_level -8.097415e+02  -500.690984   \n",
       "\n",
       "                                                    50%          75%  \\\n",
       "primary_cleaner.input.sulfate                177.828489   208.125438   \n",
       "primary_cleaner.input.depressant               8.052207    10.027764   \n",
       "primary_cleaner.input.feed_size                7.250000     7.600000   \n",
       "primary_cleaner.input.xanthate                 1.197610     1.797819   \n",
       "primary_cleaner.state.floatbank8_a_air      1585.129123  1602.076529   \n",
       "primary_cleaner.state.floatbank8_a_level    -499.969164  -499.568951   \n",
       "primary_cleaner.state.floatbank8_b_air      1595.621798  1602.323545   \n",
       "primary_cleaner.state.floatbank8_b_level    -500.028514  -499.293257   \n",
       "primary_cleaner.state.floatbank8_c_air      1549.594682  1601.143775   \n",
       "primary_cleaner.state.floatbank8_c_level    -500.017711  -498.994130   \n",
       "primary_cleaner.state.floatbank8_d_air      1594.579112  1600.964772   \n",
       "primary_cleaner.state.floatbank8_d_level    -500.023307  -499.607040   \n",
       "rougher.input.feed_ag                          9.762654    10.652297   \n",
       "rougher.input.feed_pb                          3.740716     4.282634   \n",
       "rougher.input.feed_rate                      499.051440   575.307213   \n",
       "rougher.input.feed_size                       50.841029    62.431047   \n",
       "rougher.input.feed_sol                        37.980276    41.635385   \n",
       "rougher.input.feed_au                          9.593766    10.463538   \n",
       "rougher.input.floatbank10_sulfate             14.003126    16.974284   \n",
       "rougher.input.floatbank10_xanthate             6.498181     7.085457   \n",
       "rougher.input.floatbank11_sulfate             14.004371    16.959671   \n",
       "rougher.input.floatbank11_xanthate             6.498744     7.091808   \n",
       "rougher.state.floatbank10_a_air             1000.472055  1006.254299   \n",
       "rougher.state.floatbank10_a_level           -399.693363  -300.060056   \n",
       "rougher.state.floatbank10_b_air             1302.254995  1433.955649   \n",
       "rougher.state.floatbank10_b_level           -499.837803  -450.749619   \n",
       "rougher.state.floatbank10_c_air             1300.202274  1406.594956   \n",
       "rougher.state.floatbank10_c_level           -499.777222  -451.153188   \n",
       "rougher.state.floatbank10_d_air             1207.014092  1391.497269   \n",
       "rougher.state.floatbank10_d_level           -499.691917  -452.483463   \n",
       "rougher.state.floatbank10_e_air             1047.495449  1101.365315   \n",
       "rougher.state.floatbank10_e_level           -499.765796  -450.957513   \n",
       "rougher.state.floatbank10_f_air              999.441879  1050.433005   \n",
       "rougher.state.floatbank10_f_level           -499.680986  -451.986460   \n",
       "secondary_cleaner.state.floatbank2_a_air      26.910569    28.091885   \n",
       "secondary_cleaner.state.floatbank2_a_level  -500.003902  -499.791639   \n",
       "secondary_cleaner.state.floatbank2_b_air      22.942603    24.985013   \n",
       "secondary_cleaner.state.floatbank2_b_level  -500.019058  -499.831532   \n",
       "secondary_cleaner.state.floatbank3_a_air      25.010105    30.002063   \n",
       "secondary_cleaner.state.floatbank3_a_level  -500.034578  -499.780163   \n",
       "secondary_cleaner.state.floatbank3_b_air      21.003164    26.976977   \n",
       "secondary_cleaner.state.floatbank3_b_level  -500.013819  -499.890608   \n",
       "secondary_cleaner.state.floatbank4_a_air      17.008468    18.038619   \n",
       "secondary_cleaner.state.floatbank4_a_level  -500.115727  -499.404224   \n",
       "secondary_cleaner.state.floatbank4_b_air      14.964860    15.962125   \n",
       "secondary_cleaner.state.floatbank4_b_level  -499.576513  -400.933805   \n",
       "secondary_cleaner.state.floatbank5_a_air      12.954182    15.097528   \n",
       "secondary_cleaner.state.floatbank5_a_level  -499.990332  -499.283191   \n",
       "secondary_cleaner.state.floatbank5_b_air      10.004301    11.997467   \n",
       "secondary_cleaner.state.floatbank5_b_level  -499.990535  -499.719913   \n",
       "secondary_cleaner.state.floatbank6_a_air      16.014935    21.020013   \n",
       "secondary_cleaner.state.floatbank6_a_level  -500.007126  -499.373018   \n",
       "\n",
       "                                                    max  \n",
       "primary_cleaner.input.sulfate                265.983123  \n",
       "primary_cleaner.input.depressant              40.000000  \n",
       "primary_cleaner.input.feed_size               15.500000  \n",
       "primary_cleaner.input.xanthate                 4.102454  \n",
       "primary_cleaner.state.floatbank8_a_air      2103.103580  \n",
       "primary_cleaner.state.floatbank8_a_level     -57.195404  \n",
       "primary_cleaner.state.floatbank8_b_air      1813.083671  \n",
       "primary_cleaner.state.floatbank8_b_level    -142.527229  \n",
       "primary_cleaner.state.floatbank8_c_air      1715.053773  \n",
       "primary_cleaner.state.floatbank8_c_level    -150.937035  \n",
       "primary_cleaner.state.floatbank8_d_air      1913.256561  \n",
       "primary_cleaner.state.floatbank8_d_level    -158.950573  \n",
       "rougher.input.feed_ag                         14.406130  \n",
       "rougher.input.feed_pb                          6.905684  \n",
       "rougher.input.feed_rate                      707.364020  \n",
       "rougher.input.feed_size                      392.494040  \n",
       "rougher.input.feed_sol                        53.477742  \n",
       "rougher.input.feed_au                         13.731330  \n",
       "rougher.input.floatbank10_sulfate             24.280636  \n",
       "rougher.input.floatbank10_xanthate             8.910468  \n",
       "rougher.input.floatbank11_sulfate             24.280966  \n",
       "rougher.input.floatbank11_xanthate             8.621338  \n",
       "rougher.state.floatbank10_a_air             1423.274687  \n",
       "rougher.state.floatbank10_a_level           -273.776101  \n",
       "rougher.state.floatbank10_b_air             1706.640419  \n",
       "rougher.state.floatbank10_b_level           -298.200051  \n",
       "rougher.state.floatbank10_c_air             1731.017788  \n",
       "rougher.state.floatbank10_c_level           -298.036852  \n",
       "rougher.state.floatbank10_d_air             1775.218584  \n",
       "rougher.state.floatbank10_d_level            -76.397327  \n",
       "rougher.state.floatbank10_e_air             1467.184843  \n",
       "rougher.state.floatbank10_e_level           -139.753025  \n",
       "rougher.state.floatbank10_f_air             1476.588107  \n",
       "rougher.state.floatbank10_f_level           -249.801043  \n",
       "secondary_cleaner.state.floatbank2_a_air      32.138727  \n",
       "secondary_cleaner.state.floatbank2_a_level  -300.343670  \n",
       "secondary_cleaner.state.floatbank2_b_air      28.165864  \n",
       "secondary_cleaner.state.floatbank2_b_level  -211.999273  \n",
       "secondary_cleaner.state.floatbank3_a_air      40.041997  \n",
       "secondary_cleaner.state.floatbank3_a_level  -313.866425  \n",
       "secondary_cleaner.state.floatbank3_b_air      32.039365  \n",
       "secondary_cleaner.state.floatbank3_b_level  -202.277366  \n",
       "secondary_cleaner.state.floatbank4_a_air      30.051797  \n",
       "secondary_cleaner.state.floatbank4_a_level  -401.565212  \n",
       "secondary_cleaner.state.floatbank4_b_air      31.269706  \n",
       "secondary_cleaner.state.floatbank4_b_level    -6.506986  \n",
       "secondary_cleaner.state.floatbank5_a_air      25.258848  \n",
       "secondary_cleaner.state.floatbank5_a_level  -244.483566  \n",
       "secondary_cleaner.state.floatbank5_b_air      14.086866  \n",
       "secondary_cleaner.state.floatbank5_b_level  -137.740004  \n",
       "secondary_cleaner.state.floatbank6_a_air      26.705889  \n",
       "secondary_cleaner.state.floatbank6_a_level  -123.307487  "
      ]
     },
     "metadata": {},
     "output_type": "display_data"
    },
    {
     "name": "stdout",
     "output_type": "stream",
     "text": [
      "Дубликаты:\n"
     ]
    },
    {
     "data": {
      "text/plain": [
       "0"
      ]
     },
     "metadata": {},
     "output_type": "display_data"
    },
    {
     "name": "stdout",
     "output_type": "stream",
     "text": [
      "Пропуски:\n",
      "date - 0.0%\n",
      "primary_cleaner.input.sulfate - 0.08%\n",
      "primary_cleaner.input.depressant - 0.09%\n",
      "primary_cleaner.input.feed_size - 0.0%\n",
      "primary_cleaner.input.xanthate - 0.08%\n",
      "primary_cleaner.state.floatbank8_a_air - 0.0%\n",
      "primary_cleaner.state.floatbank8_a_level - 0.0%\n",
      "primary_cleaner.state.floatbank8_b_air - 0.0%\n",
      "primary_cleaner.state.floatbank8_b_level - 0.0%\n",
      "primary_cleaner.state.floatbank8_c_air - 0.0%\n",
      "primary_cleaner.state.floatbank8_c_level - 0.0%\n",
      "primary_cleaner.state.floatbank8_d_air - 0.0%\n",
      "primary_cleaner.state.floatbank8_d_level - 0.0%\n",
      "rougher.input.feed_ag - 0.0%\n",
      "rougher.input.feed_pb - 0.0%\n",
      "rougher.input.feed_rate - 0.06%\n",
      "rougher.input.feed_size - 0.02%\n",
      "rougher.input.feed_sol - 0.4%\n",
      "rougher.input.feed_au - 0.0%\n",
      "rougher.input.floatbank10_sulfate - 0.09%\n",
      "rougher.input.floatbank10_xanthate - 0.0%\n",
      "rougher.input.floatbank11_sulfate - 0.15%\n",
      "rougher.input.floatbank11_xanthate - 0.47%\n",
      "rougher.state.floatbank10_a_air - 0.0%\n",
      "rougher.state.floatbank10_a_level - 0.0%\n",
      "rougher.state.floatbank10_b_air - 0.0%\n",
      "rougher.state.floatbank10_b_level - 0.0%\n",
      "rougher.state.floatbank10_c_air - 0.0%\n",
      "rougher.state.floatbank10_c_level - 0.0%\n",
      "rougher.state.floatbank10_d_air - 0.0%\n",
      "rougher.state.floatbank10_d_level - 0.0%\n",
      "rougher.state.floatbank10_e_air - 0.0%\n",
      "rougher.state.floatbank10_e_level - 0.0%\n",
      "rougher.state.floatbank10_f_air - 0.0%\n",
      "rougher.state.floatbank10_f_level - 0.0%\n",
      "secondary_cleaner.state.floatbank2_a_air - 0.06%\n",
      "secondary_cleaner.state.floatbank2_a_level - 0.0%\n",
      "secondary_cleaner.state.floatbank2_b_air - 0.04%\n",
      "secondary_cleaner.state.floatbank2_b_level - 0.0%\n",
      "secondary_cleaner.state.floatbank3_a_air - 0.17%\n",
      "secondary_cleaner.state.floatbank3_a_level - 0.0%\n",
      "secondary_cleaner.state.floatbank3_b_air - 0.0%\n",
      "secondary_cleaner.state.floatbank3_b_level - 0.0%\n",
      "secondary_cleaner.state.floatbank4_a_air - 0.0%\n",
      "secondary_cleaner.state.floatbank4_a_level - 0.0%\n",
      "secondary_cleaner.state.floatbank4_b_air - 0.0%\n",
      "secondary_cleaner.state.floatbank4_b_level - 0.0%\n",
      "secondary_cleaner.state.floatbank5_a_air - 0.0%\n",
      "secondary_cleaner.state.floatbank5_a_level - 0.0%\n",
      "secondary_cleaner.state.floatbank5_b_air - 0.0%\n",
      "secondary_cleaner.state.floatbank5_b_level - 0.0%\n",
      "secondary_cleaner.state.floatbank6_a_air - 0.0%\n",
      "secondary_cleaner.state.floatbank6_a_level - 0.0%\n"
     ]
    }
   ],
   "source": [
    "data_info(data_test)"
   ]
  },
  {
   "cell_type": "code",
   "execution_count": 6,
   "metadata": {},
   "outputs": [
    {
     "data": {
      "text/html": [
       "<div>\n",
       "<style scoped>\n",
       "    .dataframe tbody tr th:only-of-type {\n",
       "        vertical-align: middle;\n",
       "    }\n",
       "\n",
       "    .dataframe tbody tr th {\n",
       "        vertical-align: top;\n",
       "    }\n",
       "\n",
       "    .dataframe thead th {\n",
       "        text-align: right;\n",
       "    }\n",
       "</style>\n",
       "<table border=\"1\" class=\"dataframe\">\n",
       "  <thead>\n",
       "    <tr style=\"text-align: right;\">\n",
       "      <th></th>\n",
       "      <th>date</th>\n",
       "      <th>final.output.concentrate_ag</th>\n",
       "      <th>final.output.concentrate_pb</th>\n",
       "      <th>final.output.concentrate_sol</th>\n",
       "      <th>final.output.concentrate_au</th>\n",
       "      <th>final.output.recovery</th>\n",
       "      <th>final.output.tail_ag</th>\n",
       "      <th>final.output.tail_pb</th>\n",
       "      <th>final.output.tail_sol</th>\n",
       "      <th>final.output.tail_au</th>\n",
       "      <th>...</th>\n",
       "      <th>secondary_cleaner.state.floatbank4_a_air</th>\n",
       "      <th>secondary_cleaner.state.floatbank4_a_level</th>\n",
       "      <th>secondary_cleaner.state.floatbank4_b_air</th>\n",
       "      <th>secondary_cleaner.state.floatbank4_b_level</th>\n",
       "      <th>secondary_cleaner.state.floatbank5_a_air</th>\n",
       "      <th>secondary_cleaner.state.floatbank5_a_level</th>\n",
       "      <th>secondary_cleaner.state.floatbank5_b_air</th>\n",
       "      <th>secondary_cleaner.state.floatbank5_b_level</th>\n",
       "      <th>secondary_cleaner.state.floatbank6_a_air</th>\n",
       "      <th>secondary_cleaner.state.floatbank6_a_level</th>\n",
       "    </tr>\n",
       "  </thead>\n",
       "  <tbody>\n",
       "    <tr>\n",
       "      <th>0</th>\n",
       "      <td>2016-01-15 00:00:00</td>\n",
       "      <td>6.055403</td>\n",
       "      <td>9.889648</td>\n",
       "      <td>5.507324</td>\n",
       "      <td>42.192020</td>\n",
       "      <td>70.541216</td>\n",
       "      <td>10.411962</td>\n",
       "      <td>0.895447</td>\n",
       "      <td>16.904297</td>\n",
       "      <td>2.143149</td>\n",
       "      <td>...</td>\n",
       "      <td>14.016835</td>\n",
       "      <td>-502.488007</td>\n",
       "      <td>12.099931</td>\n",
       "      <td>-504.715942</td>\n",
       "      <td>9.925633</td>\n",
       "      <td>-498.310211</td>\n",
       "      <td>8.079666</td>\n",
       "      <td>-500.470978</td>\n",
       "      <td>14.151341</td>\n",
       "      <td>-605.841980</td>\n",
       "    </tr>\n",
       "    <tr>\n",
       "      <th>1</th>\n",
       "      <td>2016-01-15 01:00:00</td>\n",
       "      <td>6.029369</td>\n",
       "      <td>9.968944</td>\n",
       "      <td>5.257781</td>\n",
       "      <td>42.701629</td>\n",
       "      <td>69.266198</td>\n",
       "      <td>10.462676</td>\n",
       "      <td>0.927452</td>\n",
       "      <td>16.634514</td>\n",
       "      <td>2.224930</td>\n",
       "      <td>...</td>\n",
       "      <td>13.992281</td>\n",
       "      <td>-505.503262</td>\n",
       "      <td>11.950531</td>\n",
       "      <td>-501.331529</td>\n",
       "      <td>10.039245</td>\n",
       "      <td>-500.169983</td>\n",
       "      <td>7.984757</td>\n",
       "      <td>-500.582168</td>\n",
       "      <td>13.998353</td>\n",
       "      <td>-599.787184</td>\n",
       "    </tr>\n",
       "    <tr>\n",
       "      <th>2</th>\n",
       "      <td>2016-01-15 02:00:00</td>\n",
       "      <td>6.055926</td>\n",
       "      <td>10.213995</td>\n",
       "      <td>5.383759</td>\n",
       "      <td>42.657501</td>\n",
       "      <td>68.116445</td>\n",
       "      <td>10.507046</td>\n",
       "      <td>0.953716</td>\n",
       "      <td>16.208849</td>\n",
       "      <td>2.257889</td>\n",
       "      <td>...</td>\n",
       "      <td>14.015015</td>\n",
       "      <td>-502.520901</td>\n",
       "      <td>11.912783</td>\n",
       "      <td>-501.133383</td>\n",
       "      <td>10.070913</td>\n",
       "      <td>-500.129135</td>\n",
       "      <td>8.013877</td>\n",
       "      <td>-500.517572</td>\n",
       "      <td>14.028663</td>\n",
       "      <td>-601.427363</td>\n",
       "    </tr>\n",
       "    <tr>\n",
       "      <th>3</th>\n",
       "      <td>2016-01-15 03:00:00</td>\n",
       "      <td>6.047977</td>\n",
       "      <td>9.977019</td>\n",
       "      <td>4.858634</td>\n",
       "      <td>42.689819</td>\n",
       "      <td>68.347543</td>\n",
       "      <td>10.422762</td>\n",
       "      <td>0.883763</td>\n",
       "      <td>16.532835</td>\n",
       "      <td>2.146849</td>\n",
       "      <td>...</td>\n",
       "      <td>14.036510</td>\n",
       "      <td>-500.857308</td>\n",
       "      <td>11.999550</td>\n",
       "      <td>-501.193686</td>\n",
       "      <td>9.970366</td>\n",
       "      <td>-499.201640</td>\n",
       "      <td>7.977324</td>\n",
       "      <td>-500.255908</td>\n",
       "      <td>14.005551</td>\n",
       "      <td>-599.996129</td>\n",
       "    </tr>\n",
       "    <tr>\n",
       "      <th>4</th>\n",
       "      <td>2016-01-15 04:00:00</td>\n",
       "      <td>6.148599</td>\n",
       "      <td>10.142511</td>\n",
       "      <td>4.939416</td>\n",
       "      <td>42.774141</td>\n",
       "      <td>66.927016</td>\n",
       "      <td>10.360302</td>\n",
       "      <td>0.792826</td>\n",
       "      <td>16.525686</td>\n",
       "      <td>2.055292</td>\n",
       "      <td>...</td>\n",
       "      <td>14.027298</td>\n",
       "      <td>-499.838632</td>\n",
       "      <td>11.953070</td>\n",
       "      <td>-501.053894</td>\n",
       "      <td>9.925709</td>\n",
       "      <td>-501.686727</td>\n",
       "      <td>7.894242</td>\n",
       "      <td>-500.356035</td>\n",
       "      <td>13.996647</td>\n",
       "      <td>-601.496691</td>\n",
       "    </tr>\n",
       "  </tbody>\n",
       "</table>\n",
       "<p>5 rows × 87 columns</p>\n",
       "</div>"
      ],
      "text/plain": [
       "                  date  final.output.concentrate_ag  \\\n",
       "0  2016-01-15 00:00:00                     6.055403   \n",
       "1  2016-01-15 01:00:00                     6.029369   \n",
       "2  2016-01-15 02:00:00                     6.055926   \n",
       "3  2016-01-15 03:00:00                     6.047977   \n",
       "4  2016-01-15 04:00:00                     6.148599   \n",
       "\n",
       "   final.output.concentrate_pb  final.output.concentrate_sol  \\\n",
       "0                     9.889648                      5.507324   \n",
       "1                     9.968944                      5.257781   \n",
       "2                    10.213995                      5.383759   \n",
       "3                     9.977019                      4.858634   \n",
       "4                    10.142511                      4.939416   \n",
       "\n",
       "   final.output.concentrate_au  final.output.recovery  final.output.tail_ag  \\\n",
       "0                    42.192020              70.541216             10.411962   \n",
       "1                    42.701629              69.266198             10.462676   \n",
       "2                    42.657501              68.116445             10.507046   \n",
       "3                    42.689819              68.347543             10.422762   \n",
       "4                    42.774141              66.927016             10.360302   \n",
       "\n",
       "   final.output.tail_pb  final.output.tail_sol  final.output.tail_au  ...  \\\n",
       "0              0.895447              16.904297              2.143149  ...   \n",
       "1              0.927452              16.634514              2.224930  ...   \n",
       "2              0.953716              16.208849              2.257889  ...   \n",
       "3              0.883763              16.532835              2.146849  ...   \n",
       "4              0.792826              16.525686              2.055292  ...   \n",
       "\n",
       "   secondary_cleaner.state.floatbank4_a_air  \\\n",
       "0                                 14.016835   \n",
       "1                                 13.992281   \n",
       "2                                 14.015015   \n",
       "3                                 14.036510   \n",
       "4                                 14.027298   \n",
       "\n",
       "   secondary_cleaner.state.floatbank4_a_level  \\\n",
       "0                                 -502.488007   \n",
       "1                                 -505.503262   \n",
       "2                                 -502.520901   \n",
       "3                                 -500.857308   \n",
       "4                                 -499.838632   \n",
       "\n",
       "   secondary_cleaner.state.floatbank4_b_air  \\\n",
       "0                                 12.099931   \n",
       "1                                 11.950531   \n",
       "2                                 11.912783   \n",
       "3                                 11.999550   \n",
       "4                                 11.953070   \n",
       "\n",
       "   secondary_cleaner.state.floatbank4_b_level  \\\n",
       "0                                 -504.715942   \n",
       "1                                 -501.331529   \n",
       "2                                 -501.133383   \n",
       "3                                 -501.193686   \n",
       "4                                 -501.053894   \n",
       "\n",
       "   secondary_cleaner.state.floatbank5_a_air  \\\n",
       "0                                  9.925633   \n",
       "1                                 10.039245   \n",
       "2                                 10.070913   \n",
       "3                                  9.970366   \n",
       "4                                  9.925709   \n",
       "\n",
       "   secondary_cleaner.state.floatbank5_a_level  \\\n",
       "0                                 -498.310211   \n",
       "1                                 -500.169983   \n",
       "2                                 -500.129135   \n",
       "3                                 -499.201640   \n",
       "4                                 -501.686727   \n",
       "\n",
       "   secondary_cleaner.state.floatbank5_b_air  \\\n",
       "0                                  8.079666   \n",
       "1                                  7.984757   \n",
       "2                                  8.013877   \n",
       "3                                  7.977324   \n",
       "4                                  7.894242   \n",
       "\n",
       "   secondary_cleaner.state.floatbank5_b_level  \\\n",
       "0                                 -500.470978   \n",
       "1                                 -500.582168   \n",
       "2                                 -500.517572   \n",
       "3                                 -500.255908   \n",
       "4                                 -500.356035   \n",
       "\n",
       "   secondary_cleaner.state.floatbank6_a_air  \\\n",
       "0                                 14.151341   \n",
       "1                                 13.998353   \n",
       "2                                 14.028663   \n",
       "3                                 14.005551   \n",
       "4                                 13.996647   \n",
       "\n",
       "   secondary_cleaner.state.floatbank6_a_level  \n",
       "0                                 -605.841980  \n",
       "1                                 -599.787184  \n",
       "2                                 -601.427363  \n",
       "3                                 -599.996129  \n",
       "4                                 -601.496691  \n",
       "\n",
       "[5 rows x 87 columns]"
      ]
     },
     "metadata": {},
     "output_type": "display_data"
    },
    {
     "name": "stdout",
     "output_type": "stream",
     "text": [
      "Информация о датасете:\n",
      "<class 'pandas.core.frame.DataFrame'>\n",
      "RangeIndex: 19439 entries, 0 to 19438\n",
      "Data columns (total 87 columns):\n",
      " #   Column                                              Non-Null Count  Dtype  \n",
      "---  ------                                              --------------  -----  \n",
      " 0   date                                                19439 non-null  object \n",
      " 1   final.output.concentrate_ag                         19438 non-null  float64\n",
      " 2   final.output.concentrate_pb                         19438 non-null  float64\n",
      " 3   final.output.concentrate_sol                        19228 non-null  float64\n",
      " 4   final.output.concentrate_au                         19439 non-null  float64\n",
      " 5   final.output.recovery                               19439 non-null  float64\n",
      " 6   final.output.tail_ag                                19438 non-null  float64\n",
      " 7   final.output.tail_pb                                19338 non-null  float64\n",
      " 8   final.output.tail_sol                               19433 non-null  float64\n",
      " 9   final.output.tail_au                                19439 non-null  float64\n",
      " 10  primary_cleaner.input.sulfate                       19415 non-null  float64\n",
      " 11  primary_cleaner.input.depressant                    19402 non-null  float64\n",
      " 12  primary_cleaner.input.feed_size                     19439 non-null  float64\n",
      " 13  primary_cleaner.input.xanthate                      19335 non-null  float64\n",
      " 14  primary_cleaner.output.concentrate_ag               19439 non-null  float64\n",
      " 15  primary_cleaner.output.concentrate_pb               19323 non-null  float64\n",
      " 16  primary_cleaner.output.concentrate_sol              19069 non-null  float64\n",
      " 17  primary_cleaner.output.concentrate_au               19439 non-null  float64\n",
      " 18  primary_cleaner.output.tail_ag                      19435 non-null  float64\n",
      " 19  primary_cleaner.output.tail_pb                      19418 non-null  float64\n",
      " 20  primary_cleaner.output.tail_sol                     19377 non-null  float64\n",
      " 21  primary_cleaner.output.tail_au                      19439 non-null  float64\n",
      " 22  primary_cleaner.state.floatbank8_a_air              19435 non-null  float64\n",
      " 23  primary_cleaner.state.floatbank8_a_level            19438 non-null  float64\n",
      " 24  primary_cleaner.state.floatbank8_b_air              19435 non-null  float64\n",
      " 25  primary_cleaner.state.floatbank8_b_level            19438 non-null  float64\n",
      " 26  primary_cleaner.state.floatbank8_c_air              19437 non-null  float64\n",
      " 27  primary_cleaner.state.floatbank8_c_level            19438 non-null  float64\n",
      " 28  primary_cleaner.state.floatbank8_d_air              19436 non-null  float64\n",
      " 29  primary_cleaner.state.floatbank8_d_level            19438 non-null  float64\n",
      " 30  rougher.calculation.sulfate_to_au_concentrate       19437 non-null  float64\n",
      " 31  rougher.calculation.floatbank10_sulfate_to_au_feed  19437 non-null  float64\n",
      " 32  rougher.calculation.floatbank11_sulfate_to_au_feed  19437 non-null  float64\n",
      " 33  rougher.calculation.au_pb_ratio                     19439 non-null  float64\n",
      " 34  rougher.input.feed_ag                               19439 non-null  float64\n",
      " 35  rougher.input.feed_pb                               19339 non-null  float64\n",
      " 36  rougher.input.feed_rate                             19428 non-null  float64\n",
      " 37  rougher.input.feed_size                             19294 non-null  float64\n",
      " 38  rougher.input.feed_sol                              19340 non-null  float64\n",
      " 39  rougher.input.feed_au                               19439 non-null  float64\n",
      " 40  rougher.input.floatbank10_sulfate                   19405 non-null  float64\n",
      " 41  rougher.input.floatbank10_xanthate                  19431 non-null  float64\n",
      " 42  rougher.input.floatbank11_sulfate                   19395 non-null  float64\n",
      " 43  rougher.input.floatbank11_xanthate                  18986 non-null  float64\n",
      " 44  rougher.output.concentrate_ag                       19439 non-null  float64\n",
      " 45  rougher.output.concentrate_pb                       19439 non-null  float64\n",
      " 46  rougher.output.concentrate_sol                      19416 non-null  float64\n",
      " 47  rougher.output.concentrate_au                       19439 non-null  float64\n",
      " 48  rougher.output.recovery                             19439 non-null  float64\n",
      " 49  rougher.output.tail_ag                              19438 non-null  float64\n",
      " 50  rougher.output.tail_pb                              19439 non-null  float64\n",
      " 51  rougher.output.tail_sol                             19439 non-null  float64\n",
      " 52  rougher.output.tail_au                              19439 non-null  float64\n",
      " 53  rougher.state.floatbank10_a_air                     19438 non-null  float64\n",
      " 54  rougher.state.floatbank10_a_level                   19438 non-null  float64\n",
      " 55  rougher.state.floatbank10_b_air                     19438 non-null  float64\n",
      " 56  rougher.state.floatbank10_b_level                   19438 non-null  float64\n",
      " 57  rougher.state.floatbank10_c_air                     19438 non-null  float64\n",
      " 58  rougher.state.floatbank10_c_level                   19438 non-null  float64\n",
      " 59  rougher.state.floatbank10_d_air                     19439 non-null  float64\n",
      " 60  rougher.state.floatbank10_d_level                   19439 non-null  float64\n",
      " 61  rougher.state.floatbank10_e_air                     19003 non-null  float64\n",
      " 62  rougher.state.floatbank10_e_level                   19439 non-null  float64\n",
      " 63  rougher.state.floatbank10_f_air                     19439 non-null  float64\n",
      " 64  rougher.state.floatbank10_f_level                   19439 non-null  float64\n",
      " 65  secondary_cleaner.output.tail_ag                    19437 non-null  float64\n",
      " 66  secondary_cleaner.output.tail_pb                    19427 non-null  float64\n",
      " 67  secondary_cleaner.output.tail_sol                   17691 non-null  float64\n",
      " 68  secondary_cleaner.output.tail_au                    19439 non-null  float64\n",
      " 69  secondary_cleaner.state.floatbank2_a_air            19219 non-null  float64\n",
      " 70  secondary_cleaner.state.floatbank2_a_level          19438 non-null  float64\n",
      " 71  secondary_cleaner.state.floatbank2_b_air            19416 non-null  float64\n",
      " 72  secondary_cleaner.state.floatbank2_b_level          19438 non-null  float64\n",
      " 73  secondary_cleaner.state.floatbank3_a_air            19426 non-null  float64\n",
      " 74  secondary_cleaner.state.floatbank3_a_level          19438 non-null  float64\n",
      " 75  secondary_cleaner.state.floatbank3_b_air            19438 non-null  float64\n",
      " 76  secondary_cleaner.state.floatbank3_b_level          19438 non-null  float64\n",
      " 77  secondary_cleaner.state.floatbank4_a_air            19433 non-null  float64\n",
      " 78  secondary_cleaner.state.floatbank4_a_level          19438 non-null  float64\n",
      " 79  secondary_cleaner.state.floatbank4_b_air            19438 non-null  float64\n",
      " 80  secondary_cleaner.state.floatbank4_b_level          19438 non-null  float64\n",
      " 81  secondary_cleaner.state.floatbank5_a_air            19438 non-null  float64\n",
      " 82  secondary_cleaner.state.floatbank5_a_level          19438 non-null  float64\n",
      " 83  secondary_cleaner.state.floatbank5_b_air            19438 non-null  float64\n",
      " 84  secondary_cleaner.state.floatbank5_b_level          19438 non-null  float64\n",
      " 85  secondary_cleaner.state.floatbank6_a_air            19437 non-null  float64\n",
      " 86  secondary_cleaner.state.floatbank6_a_level          19438 non-null  float64\n",
      "dtypes: float64(86), object(1)\n",
      "memory usage: 12.9+ MB\n"
     ]
    },
    {
     "data": {
      "text/plain": [
       "None"
      ]
     },
     "metadata": {},
     "output_type": "display_data"
    },
    {
     "name": "stdout",
     "output_type": "stream",
     "text": [
      "Описательная статистика:\n"
     ]
    },
    {
     "data": {
      "text/html": [
       "<div>\n",
       "<style scoped>\n",
       "    .dataframe tbody tr th:only-of-type {\n",
       "        vertical-align: middle;\n",
       "    }\n",
       "\n",
       "    .dataframe tbody tr th {\n",
       "        vertical-align: top;\n",
       "    }\n",
       "\n",
       "    .dataframe thead th {\n",
       "        text-align: right;\n",
       "    }\n",
       "</style>\n",
       "<table border=\"1\" class=\"dataframe\">\n",
       "  <thead>\n",
       "    <tr style=\"text-align: right;\">\n",
       "      <th></th>\n",
       "      <th>count</th>\n",
       "      <th>mean</th>\n",
       "      <th>std</th>\n",
       "      <th>min</th>\n",
       "      <th>25%</th>\n",
       "      <th>50%</th>\n",
       "      <th>75%</th>\n",
       "      <th>max</th>\n",
       "    </tr>\n",
       "  </thead>\n",
       "  <tbody>\n",
       "    <tr>\n",
       "      <th>final.output.concentrate_ag</th>\n",
       "      <td>19438.0</td>\n",
       "      <td>5.168470</td>\n",
       "      <td>1.372348</td>\n",
       "      <td>0.000000</td>\n",
       "      <td>4.251240</td>\n",
       "      <td>5.066094</td>\n",
       "      <td>5.895527</td>\n",
       "      <td>16.001945</td>\n",
       "    </tr>\n",
       "    <tr>\n",
       "      <th>final.output.concentrate_pb</th>\n",
       "      <td>19438.0</td>\n",
       "      <td>9.978895</td>\n",
       "      <td>1.669240</td>\n",
       "      <td>0.000000</td>\n",
       "      <td>9.137262</td>\n",
       "      <td>10.102433</td>\n",
       "      <td>11.035769</td>\n",
       "      <td>17.031899</td>\n",
       "    </tr>\n",
       "    <tr>\n",
       "      <th>final.output.concentrate_sol</th>\n",
       "      <td>19228.0</td>\n",
       "      <td>9.501224</td>\n",
       "      <td>2.787537</td>\n",
       "      <td>0.000000</td>\n",
       "      <td>7.722820</td>\n",
       "      <td>9.218961</td>\n",
       "      <td>10.947813</td>\n",
       "      <td>19.615720</td>\n",
       "    </tr>\n",
       "    <tr>\n",
       "      <th>final.output.concentrate_au</th>\n",
       "      <td>19439.0</td>\n",
       "      <td>44.076513</td>\n",
       "      <td>5.129784</td>\n",
       "      <td>0.000000</td>\n",
       "      <td>43.402215</td>\n",
       "      <td>45.011244</td>\n",
       "      <td>46.275313</td>\n",
       "      <td>52.756638</td>\n",
       "    </tr>\n",
       "    <tr>\n",
       "      <th>final.output.recovery</th>\n",
       "      <td>19439.0</td>\n",
       "      <td>67.050208</td>\n",
       "      <td>10.125840</td>\n",
       "      <td>0.000000</td>\n",
       "      <td>63.299712</td>\n",
       "      <td>68.172738</td>\n",
       "      <td>72.686642</td>\n",
       "      <td>100.000000</td>\n",
       "    </tr>\n",
       "    <tr>\n",
       "      <th>...</th>\n",
       "      <td>...</td>\n",
       "      <td>...</td>\n",
       "      <td>...</td>\n",
       "      <td>...</td>\n",
       "      <td>...</td>\n",
       "      <td>...</td>\n",
       "      <td>...</td>\n",
       "      <td>...</td>\n",
       "    </tr>\n",
       "    <tr>\n",
       "      <th>secondary_cleaner.state.floatbank5_a_level</th>\n",
       "      <td>19438.0</td>\n",
       "      <td>-488.684065</td>\n",
       "      <td>34.533396</td>\n",
       "      <td>-797.323986</td>\n",
       "      <td>-500.458467</td>\n",
       "      <td>-499.802605</td>\n",
       "      <td>-498.384187</td>\n",
       "      <td>-244.483566</td>\n",
       "    </tr>\n",
       "    <tr>\n",
       "      <th>secondary_cleaner.state.floatbank5_b_air</th>\n",
       "      <td>19438.0</td>\n",
       "      <td>12.198224</td>\n",
       "      <td>5.333024</td>\n",
       "      <td>0.528083</td>\n",
       "      <td>8.971105</td>\n",
       "      <td>11.019433</td>\n",
       "      <td>14.019088</td>\n",
       "      <td>27.926001</td>\n",
       "    </tr>\n",
       "    <tr>\n",
       "      <th>secondary_cleaner.state.floatbank5_b_level</th>\n",
       "      <td>19438.0</td>\n",
       "      <td>-487.149827</td>\n",
       "      <td>38.347312</td>\n",
       "      <td>-800.220337</td>\n",
       "      <td>-500.129462</td>\n",
       "      <td>-499.935317</td>\n",
       "      <td>-499.436708</td>\n",
       "      <td>-137.740004</td>\n",
       "    </tr>\n",
       "    <tr>\n",
       "      <th>secondary_cleaner.state.floatbank6_a_air</th>\n",
       "      <td>19437.0</td>\n",
       "      <td>18.959024</td>\n",
       "      <td>5.550498</td>\n",
       "      <td>-0.079426</td>\n",
       "      <td>14.983037</td>\n",
       "      <td>19.960541</td>\n",
       "      <td>24.003170</td>\n",
       "      <td>32.188906</td>\n",
       "    </tr>\n",
       "    <tr>\n",
       "      <th>secondary_cleaner.state.floatbank6_a_level</th>\n",
       "      <td>19438.0</td>\n",
       "      <td>-505.436305</td>\n",
       "      <td>37.689057</td>\n",
       "      <td>-809.741464</td>\n",
       "      <td>-500.728067</td>\n",
       "      <td>-500.048400</td>\n",
       "      <td>-499.495378</td>\n",
       "      <td>-104.427459</td>\n",
       "    </tr>\n",
       "  </tbody>\n",
       "</table>\n",
       "<p>86 rows × 8 columns</p>\n",
       "</div>"
      ],
      "text/plain": [
       "                                              count        mean        std  \\\n",
       "final.output.concentrate_ag                 19438.0    5.168470   1.372348   \n",
       "final.output.concentrate_pb                 19438.0    9.978895   1.669240   \n",
       "final.output.concentrate_sol                19228.0    9.501224   2.787537   \n",
       "final.output.concentrate_au                 19439.0   44.076513   5.129784   \n",
       "final.output.recovery                       19439.0   67.050208  10.125840   \n",
       "...                                             ...         ...        ...   \n",
       "secondary_cleaner.state.floatbank5_a_level  19438.0 -488.684065  34.533396   \n",
       "secondary_cleaner.state.floatbank5_b_air    19438.0   12.198224   5.333024   \n",
       "secondary_cleaner.state.floatbank5_b_level  19438.0 -487.149827  38.347312   \n",
       "secondary_cleaner.state.floatbank6_a_air    19437.0   18.959024   5.550498   \n",
       "secondary_cleaner.state.floatbank6_a_level  19438.0 -505.436305  37.689057   \n",
       "\n",
       "                                                   min         25%  \\\n",
       "final.output.concentrate_ag                   0.000000    4.251240   \n",
       "final.output.concentrate_pb                   0.000000    9.137262   \n",
       "final.output.concentrate_sol                  0.000000    7.722820   \n",
       "final.output.concentrate_au                   0.000000   43.402215   \n",
       "final.output.recovery                         0.000000   63.299712   \n",
       "...                                                ...         ...   \n",
       "secondary_cleaner.state.floatbank5_a_level -797.323986 -500.458467   \n",
       "secondary_cleaner.state.floatbank5_b_air      0.528083    8.971105   \n",
       "secondary_cleaner.state.floatbank5_b_level -800.220337 -500.129462   \n",
       "secondary_cleaner.state.floatbank6_a_air     -0.079426   14.983037   \n",
       "secondary_cleaner.state.floatbank6_a_level -809.741464 -500.728067   \n",
       "\n",
       "                                                   50%         75%         max  \n",
       "final.output.concentrate_ag                   5.066094    5.895527   16.001945  \n",
       "final.output.concentrate_pb                  10.102433   11.035769   17.031899  \n",
       "final.output.concentrate_sol                  9.218961   10.947813   19.615720  \n",
       "final.output.concentrate_au                  45.011244   46.275313   52.756638  \n",
       "final.output.recovery                        68.172738   72.686642  100.000000  \n",
       "...                                                ...         ...         ...  \n",
       "secondary_cleaner.state.floatbank5_a_level -499.802605 -498.384187 -244.483566  \n",
       "secondary_cleaner.state.floatbank5_b_air     11.019433   14.019088   27.926001  \n",
       "secondary_cleaner.state.floatbank5_b_level -499.935317 -499.436708 -137.740004  \n",
       "secondary_cleaner.state.floatbank6_a_air     19.960541   24.003170   32.188906  \n",
       "secondary_cleaner.state.floatbank6_a_level -500.048400 -499.495378 -104.427459  \n",
       "\n",
       "[86 rows x 8 columns]"
      ]
     },
     "metadata": {},
     "output_type": "display_data"
    },
    {
     "name": "stdout",
     "output_type": "stream",
     "text": [
      "Дубликаты:\n"
     ]
    },
    {
     "data": {
      "text/plain": [
       "0"
      ]
     },
     "metadata": {},
     "output_type": "display_data"
    },
    {
     "name": "stdout",
     "output_type": "stream",
     "text": [
      "Пропуски:\n",
      "date - 0.0%\n",
      "final.output.concentrate_ag - 0.01%\n",
      "final.output.concentrate_pb - 0.01%\n",
      "final.output.concentrate_sol - 1.09%\n",
      "final.output.concentrate_au - 0.0%\n",
      "final.output.recovery - 0.0%\n",
      "final.output.tail_ag - 0.01%\n",
      "final.output.tail_pb - 0.52%\n",
      "final.output.tail_sol - 0.03%\n",
      "final.output.tail_au - 0.0%\n",
      "primary_cleaner.input.sulfate - 0.12%\n",
      "primary_cleaner.input.depressant - 0.19%\n",
      "primary_cleaner.input.feed_size - 0.0%\n",
      "primary_cleaner.input.xanthate - 0.54%\n",
      "primary_cleaner.output.concentrate_ag - 0.0%\n",
      "primary_cleaner.output.concentrate_pb - 0.6%\n",
      "primary_cleaner.output.concentrate_sol - 1.9%\n",
      "primary_cleaner.output.concentrate_au - 0.0%\n",
      "primary_cleaner.output.tail_ag - 0.02%\n",
      "primary_cleaner.output.tail_pb - 0.11%\n",
      "primary_cleaner.output.tail_sol - 0.32%\n",
      "primary_cleaner.output.tail_au - 0.0%\n",
      "primary_cleaner.state.floatbank8_a_air - 0.02%\n",
      "primary_cleaner.state.floatbank8_a_level - 0.01%\n",
      "primary_cleaner.state.floatbank8_b_air - 0.02%\n",
      "primary_cleaner.state.floatbank8_b_level - 0.01%\n",
      "primary_cleaner.state.floatbank8_c_air - 0.01%\n",
      "primary_cleaner.state.floatbank8_c_level - 0.01%\n",
      "primary_cleaner.state.floatbank8_d_air - 0.02%\n",
      "primary_cleaner.state.floatbank8_d_level - 0.01%\n",
      "rougher.calculation.sulfate_to_au_concentrate - 0.01%\n",
      "rougher.calculation.floatbank10_sulfate_to_au_feed - 0.01%\n",
      "rougher.calculation.floatbank11_sulfate_to_au_feed - 0.01%\n",
      "rougher.calculation.au_pb_ratio - 0.0%\n",
      "rougher.input.feed_ag - 0.0%\n",
      "rougher.input.feed_pb - 0.51%\n",
      "rougher.input.feed_rate - 0.06%\n",
      "rougher.input.feed_size - 0.75%\n",
      "rougher.input.feed_sol - 0.51%\n",
      "rougher.input.feed_au - 0.0%\n",
      "rougher.input.floatbank10_sulfate - 0.17%\n",
      "rougher.input.floatbank10_xanthate - 0.04%\n",
      "rougher.input.floatbank11_sulfate - 0.23%\n",
      "rougher.input.floatbank11_xanthate - 2.33%\n",
      "rougher.output.concentrate_ag - 0.0%\n",
      "rougher.output.concentrate_pb - 0.0%\n",
      "rougher.output.concentrate_sol - 0.12%\n",
      "rougher.output.concentrate_au - 0.0%\n",
      "rougher.output.recovery - 0.0%\n",
      "rougher.output.tail_ag - 0.01%\n",
      "rougher.output.tail_pb - 0.0%\n",
      "rougher.output.tail_sol - 0.0%\n",
      "rougher.output.tail_au - 0.0%\n",
      "rougher.state.floatbank10_a_air - 0.01%\n",
      "rougher.state.floatbank10_a_level - 0.01%\n",
      "rougher.state.floatbank10_b_air - 0.01%\n",
      "rougher.state.floatbank10_b_level - 0.01%\n",
      "rougher.state.floatbank10_c_air - 0.01%\n",
      "rougher.state.floatbank10_c_level - 0.01%\n",
      "rougher.state.floatbank10_d_air - 0.0%\n",
      "rougher.state.floatbank10_d_level - 0.0%\n",
      "rougher.state.floatbank10_e_air - 2.24%\n",
      "rougher.state.floatbank10_e_level - 0.0%\n",
      "rougher.state.floatbank10_f_air - 0.0%\n",
      "rougher.state.floatbank10_f_level - 0.0%\n",
      "secondary_cleaner.output.tail_ag - 0.01%\n",
      "secondary_cleaner.output.tail_pb - 0.06%\n",
      "secondary_cleaner.output.tail_sol - 8.99%\n",
      "secondary_cleaner.output.tail_au - 0.0%\n",
      "secondary_cleaner.state.floatbank2_a_air - 1.13%\n",
      "secondary_cleaner.state.floatbank2_a_level - 0.01%\n",
      "secondary_cleaner.state.floatbank2_b_air - 0.12%\n",
      "secondary_cleaner.state.floatbank2_b_level - 0.01%\n",
      "secondary_cleaner.state.floatbank3_a_air - 0.07%\n",
      "secondary_cleaner.state.floatbank3_a_level - 0.01%\n",
      "secondary_cleaner.state.floatbank3_b_air - 0.01%\n",
      "secondary_cleaner.state.floatbank3_b_level - 0.01%\n",
      "secondary_cleaner.state.floatbank4_a_air - 0.03%\n",
      "secondary_cleaner.state.floatbank4_a_level - 0.01%\n",
      "secondary_cleaner.state.floatbank4_b_air - 0.01%\n",
      "secondary_cleaner.state.floatbank4_b_level - 0.01%\n",
      "secondary_cleaner.state.floatbank5_a_air - 0.01%\n",
      "secondary_cleaner.state.floatbank5_a_level - 0.01%\n",
      "secondary_cleaner.state.floatbank5_b_air - 0.01%\n",
      "secondary_cleaner.state.floatbank5_b_level - 0.01%\n",
      "secondary_cleaner.state.floatbank6_a_air - 0.01%\n",
      "secondary_cleaner.state.floatbank6_a_level - 0.01%\n"
     ]
    }
   ],
   "source": [
    "data_info(data_full)"
   ]
  },
  {
   "cell_type": "markdown",
   "metadata": {},
   "source": [
    "Просмотрим корреляцию признаков"
   ]
  },
  {
   "cell_type": "code",
   "execution_count": 7,
   "metadata": {},
   "outputs": [
    {
     "data": {
      "text/plain": [
       "Text(0.5, 1.0, 'Correlation Heatmap')"
      ]
     },
     "execution_count": 7,
     "metadata": {},
     "output_type": "execute_result"
    },
    {
     "data": {
      "image/png": "[encoded data removed]",
      "text/plain": [
       "<Figure size 1200x1500 with 2 Axes>"
      ]
     },
     "metadata": {
      "needs_background": "light"
     },
     "output_type": "display_data"
    }
   ],
   "source": [
    "plt.figure(figsize=(40, 50), dpi= 30)\n",
    "heatmap = sns.heatmap(data_full.corr(), vmin=-1, vmax=1, annot=True,cmap='BrBG',\n",
    "                      cbar_kws= {'orientation': 'horizontal'},fmt='.1g') \n",
    "heatmap.set_title('Correlation Heatmap', fontdict={'fontsize':30}, pad=12)"
   ]
  },
  {
   "cell_type": "markdown",
   "metadata": {},
   "source": [
    "<font color='blue'><b>Комментарий ревьюера: </b></font> ⚠️\\\n",
    "<font color='darkorange'> Таблица нечитаемая )).</font>"
   ]
  },
  {
   "cell_type": "markdown",
   "metadata": {},
   "source": [
    "Напишем функцию, которая возвращает признаки с очень высокой корреляцией >= 0,9 и на выходе создает два списка: \n",
    "col_corr_all - собраны все уникальные столбцы с высокой корреляцией;\n",
    "col_corr_del - каждый первый из взаимокоррелирующих"
   ]
  },
  {
   "cell_type": "code",
   "execution_count": 8,
   "metadata": {},
   "outputs": [],
   "source": [
    "def corr_def (df,threshold):\n",
    "    \n",
    "    col_corr_del = []\n",
    "    col_corr_all = []\n",
    "    corr_matrix = df.corr()\n",
    "    for i in range(len(corr_matrix.columns)):\n",
    "        for j in range(i):\n",
    "            if  (corr_matrix.iloc[i, j] >= threshold):\n",
    "                if (corr_matrix.columns[j],corr_matrix.columns[i] not in col_corr_all):\n",
    "                    col_name_i = corr_matrix.columns[i]\n",
    "                    col_name_j = corr_matrix.columns[j]\n",
    "                    if col_name_i not in col_corr_all:\n",
    "                        col_corr_all.append(col_name_i)\n",
    "                        if col_name_j not in col_corr_all:\n",
    "                            col_corr_all.append(col_name_j)\n",
    "                if corr_matrix.columns[j] not in col_corr_del:\n",
    "                    col_name = corr_matrix.columns[i]\n",
    "                    col_corr_del.append(col_name)\n",
    "\n",
    "    return col_corr_all, col_corr_del"
   ]
  },
  {
   "cell_type": "code",
   "execution_count": 9,
   "metadata": {},
   "outputs": [],
   "source": [
    "corr_all_high,columns_to_del = corr_def(data_full,0.9)"
   ]
  },
  {
   "cell_type": "markdown",
   "metadata": {},
   "source": [
    "<font color='blue'><b>Комментарий ревьюера: </b></font> ⚠️\\\n",
    "<font color='darkorange'> Зачем нам эта информация?</font>"
   ]
  },
  {
   "cell_type": "markdown",
   "metadata": {},
   "source": [
    "**Вывод 1.1:**<br>\n",
    "Мы просмотрели инфирмацию по трем датасетам:<br>\n",
    "1. **data_train** - обучающая выборка. \n",
    "- Датасет состоит из 14149 строк и 87 колонок.\n",
    "- В столбце date указаны дата и время. Данные в этом столбце имеют тип object. Возможно на этапе предобработки потребуется поменять тип на datetime.\n",
    "- Остальные параметры датасета имеют тип данных float и представляют собой данные на каждом этапе обработки, типом параметра и названием параметра. В значениях параметров присутствуют пропуски, которые на этапе предобработки необходимо будет заполнить.\n",
    "2. **data_test** - тестовая выборка.\n",
    "- Датасет состоит из 5290 строк и 53 колонок.\n",
    "- В столбце date указаны дата и время. Данные в этом столбце имеют тип object. Возможно на этапе предобработки потребуется поменять тип на date.\n",
    "- Остальные параметры датасета имеют тип данных float, в значениях параметров присутствуют пропуски, которые на этапе предобработки необходимо будет заполнить.\n",
    "- В данном датасете отсутствуют некоторые признаки, потому что замеряются и/или рассчитываются значительно позже. Также в тестовом наборе нет целевых признаков.\n",
    "3. **data_full** - исходные данные.\n",
    "- Датасет состоит из 19439 строк и 87 колонок.\n",
    "- Исходный датасет содержит обучающую и тестовую выборки со всеми признаками."
   ]
  },
  {
   "cell_type": "markdown",
   "metadata": {},
   "source": [
    "### Проверка эффективности обогащения"
   ]
  },
  {
   "cell_type": "markdown",
   "metadata": {},
   "source": [
    "Эффективность обогащения рассчитывается по формуле:<br><br>\n",
    "$Recovery=\\frac{Cx\\left(F-T\\right)}{Fx\\left ( C - T\\right)}x100\\%$\n",
    "<br><br>где:<br>\n",
    "**C** — доля золота в концентрате после флотации/очистки;<br>\n",
    "**F** — доля золота в сырье/концентрате до флотации/очистки;<br>\n",
    "**T** — доля золота в отвальных хвостах после флотации/очистки.<br>"
   ]
  },
  {
   "cell_type": "code",
   "execution_count": 10,
   "metadata": {},
   "outputs": [
    {
     "data": {
      "text/plain": [
       "0        87.107763\n",
       "1        86.843261\n",
       "2        86.842308\n",
       "3        87.226430\n",
       "4        86.688794\n",
       "           ...    \n",
       "14144    89.574376\n",
       "14145    87.724007\n",
       "14146    88.890579\n",
       "14147    89.858126\n",
       "14148    89.514960\n",
       "Length: 14149, dtype: float64"
      ]
     },
     "execution_count": 10,
     "metadata": {},
     "output_type": "execute_result"
    }
   ],
   "source": [
    "C = data_train['rougher.output.concentrate_au']\n",
    "F = data_train['rougher.input.feed_au']\n",
    "T = data_train['rougher.output.tail_au']\n",
    "counting_recover = ((C*(F-T))/(F*(C-T)))*100\n",
    "counting_recover"
   ]
  },
  {
   "cell_type": "markdown",
   "metadata": {},
   "source": [
    "Найдем MAE - среднюю абсолютную ошибку между посчинанным Recovery и значением признака rougher.output.recovery. Если значение средней относительной ошибкой будет маленькое, то эффективность обогащения расчитана правильно."
   ]
  },
  {
   "cell_type": "code",
   "execution_count": 11,
   "metadata": {},
   "outputs": [
    {
     "data": {
      "text/plain": [
       "9.73512347450521e-15"
      ]
     },
     "execution_count": 11,
     "metadata": {},
     "output_type": "execute_result"
    }
   ],
   "source": [
    "\n",
    "MAE = mean_absolute_error(data_train['rougher.output.recovery'],counting_recover)\n",
    "MAE"
   ]
  },
  {
   "cell_type": "markdown",
   "metadata": {},
   "source": [
    "**Вывод 1.2:**<br>\n",
    "Значение MAE - средней абсолютной ошибки между посчинанным Recovery и значением признака rougher.output.recovery очень мало, а значит посчитаная эффективность и значения признака rougher.output.recovery верны."
   ]
  },
  {
   "cell_type": "markdown",
   "metadata": {},
   "source": [
    "### Анализ недоступных признакой в тестовой выборки."
   ]
  },
  {
   "cell_type": "markdown",
   "metadata": {},
   "source": [
    "Сравним признаки исходного датасета с признаками тестовой выборки и определим какие параметры отсутствуют в тестовой выборке."
   ]
  },
  {
   "cell_type": "code",
   "execution_count": 12,
   "metadata": {},
   "outputs": [
    {
     "name": "stdout",
     "output_type": "stream",
     "text": [
      "final.output.concentrate_ag\n",
      "final.output.concentrate_pb\n",
      "final.output.concentrate_sol\n",
      "final.output.concentrate_au\n",
      "final.output.recovery\n",
      "final.output.tail_ag\n",
      "final.output.tail_pb\n",
      "final.output.tail_sol\n",
      "final.output.tail_au\n",
      "primary_cleaner.output.concentrate_ag\n",
      "primary_cleaner.output.concentrate_pb\n",
      "primary_cleaner.output.concentrate_sol\n",
      "primary_cleaner.output.concentrate_au\n",
      "primary_cleaner.output.tail_ag\n",
      "primary_cleaner.output.tail_pb\n",
      "primary_cleaner.output.tail_sol\n",
      "primary_cleaner.output.tail_au\n",
      "rougher.calculation.sulfate_to_au_concentrate\n",
      "rougher.calculation.floatbank10_sulfate_to_au_feed\n",
      "rougher.calculation.floatbank11_sulfate_to_au_feed\n",
      "rougher.calculation.au_pb_ratio\n",
      "rougher.output.concentrate_ag\n",
      "rougher.output.concentrate_pb\n",
      "rougher.output.concentrate_sol\n",
      "rougher.output.concentrate_au\n",
      "rougher.output.recovery\n",
      "rougher.output.tail_ag\n",
      "rougher.output.tail_pb\n",
      "rougher.output.tail_sol\n",
      "rougher.output.tail_au\n",
      "secondary_cleaner.output.tail_ag\n",
      "secondary_cleaner.output.tail_pb\n",
      "secondary_cleaner.output.tail_sol\n",
      "secondary_cleaner.output.tail_au\n",
      "\n",
      "В тестовой выборке отсутствует признаков: 34\n"
     ]
    }
   ],
   "source": [
    "columns_empty_test = []\n",
    "count = 0\n",
    "for column in data_full.columns:\n",
    "    if column not in data_test.columns:\n",
    "        count +=1\n",
    "        columns_empty_test.append(column)\n",
    "        print(column)\n",
    "print('')\n",
    "print ('В тестовой выборке отсутствует признаков:', count)"
   ]
  },
  {
   "cell_type": "markdown",
   "metadata": {},
   "source": [
    "<font color='blue'><b>Комментарий ревьюера: </b></font> ⚠️\\\n",
    "<font color='darkorange'> Можно определить разницу в колонках без цикла: вычтя один сэт колонок из другого или с помощью метода difference.</font>"
   ]
  },
  {
   "cell_type": "markdown",
   "metadata": {},
   "source": [
    "**Вывод 1.3:**<br>\n",
    "В тестовой выборке по сравнению с исходными данными отсутствуют 34 параметра.<br>\n",
    "Эти параметры представляют собой выходные параметры продукта, а так же данные о количестве веществ в отвальных хвостах для этапов флотации, первичной и вторичной очистки.\n",
    "2 признака из 34-х отсутствующих, являются целевыми (final.output.recovery, rougher.output.recovery)."
   ]
  },
  {
   "cell_type": "markdown",
   "metadata": {},
   "source": [
    "### Предобработка данных."
   ]
  },
  {
   "cell_type": "markdown",
   "metadata": {},
   "source": [
    "Напишим функцию которая принимает датафрейм и заполяет пропущеные значения на основании значений в предыдущих строках."
   ]
  },
  {
   "cell_type": "code",
   "execution_count": 13,
   "metadata": {},
   "outputs": [],
   "source": [
    "def fill_neighbor(df):\n",
    "    df.fillna(method='ffill', axis=0, inplace=True)"
   ]
  },
  {
   "cell_type": "code",
   "execution_count": 14,
   "metadata": {},
   "outputs": [],
   "source": [
    "fill_neighbor(data_train)"
   ]
  },
  {
   "cell_type": "code",
   "execution_count": 15,
   "metadata": {},
   "outputs": [],
   "source": [
    "fill_neighbor(data_test)"
   ]
  },
  {
   "cell_type": "code",
   "execution_count": 16,
   "metadata": {},
   "outputs": [],
   "source": [
    "fill_neighbor(data_full)"
   ]
  },
  {
   "cell_type": "markdown",
   "metadata": {},
   "source": [
    "Проверим работу функций"
   ]
  },
  {
   "cell_type": "code",
   "execution_count": 17,
   "metadata": {},
   "outputs": [
    {
     "data": {
      "text/html": [
       "<div>\n",
       "<style scoped>\n",
       "    .dataframe tbody tr th:only-of-type {\n",
       "        vertical-align: middle;\n",
       "    }\n",
       "\n",
       "    .dataframe tbody tr th {\n",
       "        vertical-align: top;\n",
       "    }\n",
       "\n",
       "    .dataframe thead th {\n",
       "        text-align: right;\n",
       "    }\n",
       "</style>\n",
       "<table border=\"1\" class=\"dataframe\">\n",
       "  <thead>\n",
       "    <tr style=\"text-align: right;\">\n",
       "      <th></th>\n",
       "      <th>date</th>\n",
       "      <th>final.output.concentrate_ag</th>\n",
       "      <th>final.output.concentrate_pb</th>\n",
       "      <th>final.output.concentrate_sol</th>\n",
       "      <th>final.output.concentrate_au</th>\n",
       "      <th>final.output.recovery</th>\n",
       "      <th>final.output.tail_ag</th>\n",
       "      <th>final.output.tail_pb</th>\n",
       "      <th>final.output.tail_sol</th>\n",
       "      <th>final.output.tail_au</th>\n",
       "      <th>...</th>\n",
       "      <th>secondary_cleaner.state.floatbank4_a_air</th>\n",
       "      <th>secondary_cleaner.state.floatbank4_a_level</th>\n",
       "      <th>secondary_cleaner.state.floatbank4_b_air</th>\n",
       "      <th>secondary_cleaner.state.floatbank4_b_level</th>\n",
       "      <th>secondary_cleaner.state.floatbank5_a_air</th>\n",
       "      <th>secondary_cleaner.state.floatbank5_a_level</th>\n",
       "      <th>secondary_cleaner.state.floatbank5_b_air</th>\n",
       "      <th>secondary_cleaner.state.floatbank5_b_level</th>\n",
       "      <th>secondary_cleaner.state.floatbank6_a_air</th>\n",
       "      <th>secondary_cleaner.state.floatbank6_a_level</th>\n",
       "    </tr>\n",
       "  </thead>\n",
       "  <tbody>\n",
       "    <tr>\n",
       "      <th>433</th>\n",
       "      <td>2016-02-04 12:00:00</td>\n",
       "      <td>6.079300</td>\n",
       "      <td>9.552047</td>\n",
       "      <td>1.407521</td>\n",
       "      <td>43.284401</td>\n",
       "      <td>54.915844</td>\n",
       "      <td>11.601645</td>\n",
       "      <td>1.557420</td>\n",
       "      <td>10.148128</td>\n",
       "      <td>2.616064</td>\n",
       "      <td>...</td>\n",
       "      <td>17.049294</td>\n",
       "      <td>-499.273707</td>\n",
       "      <td>15.998190</td>\n",
       "      <td>-502.458239</td>\n",
       "      <td>17.929227</td>\n",
       "      <td>-502.215869</td>\n",
       "      <td>15.928170</td>\n",
       "      <td>-499.739261</td>\n",
       "      <td>18.004300</td>\n",
       "      <td>-500.334360</td>\n",
       "    </tr>\n",
       "    <tr>\n",
       "      <th>7158</th>\n",
       "      <td>2016-12-25 10:59:59</td>\n",
       "      <td>4.970110</td>\n",
       "      <td>10.228234</td>\n",
       "      <td>13.948306</td>\n",
       "      <td>44.436822</td>\n",
       "      <td>72.412226</td>\n",
       "      <td>11.115541</td>\n",
       "      <td>3.864795</td>\n",
       "      <td>9.459765</td>\n",
       "      <td>3.428821</td>\n",
       "      <td>...</td>\n",
       "      <td>16.998920</td>\n",
       "      <td>-500.219110</td>\n",
       "      <td>14.971690</td>\n",
       "      <td>-498.709092</td>\n",
       "      <td>13.809440</td>\n",
       "      <td>-500.990026</td>\n",
       "      <td>12.034185</td>\n",
       "      <td>-500.278781</td>\n",
       "      <td>20.967934</td>\n",
       "      <td>-501.277620</td>\n",
       "    </tr>\n",
       "    <tr>\n",
       "      <th>10870</th>\n",
       "      <td>2017-06-26 10:59:59</td>\n",
       "      <td>4.495221</td>\n",
       "      <td>11.073610</td>\n",
       "      <td>9.078166</td>\n",
       "      <td>44.711830</td>\n",
       "      <td>67.311376</td>\n",
       "      <td>7.672963</td>\n",
       "      <td>2.604566</td>\n",
       "      <td>11.205492</td>\n",
       "      <td>2.294959</td>\n",
       "      <td>...</td>\n",
       "      <td>17.985534</td>\n",
       "      <td>-499.515602</td>\n",
       "      <td>13.037182</td>\n",
       "      <td>-380.494692</td>\n",
       "      <td>17.994493</td>\n",
       "      <td>-498.998155</td>\n",
       "      <td>12.988360</td>\n",
       "      <td>-499.805512</td>\n",
       "      <td>14.995227</td>\n",
       "      <td>-499.466915</td>\n",
       "    </tr>\n",
       "  </tbody>\n",
       "</table>\n",
       "<p>3 rows × 87 columns</p>\n",
       "</div>"
      ],
      "text/plain": [
       "                      date  final.output.concentrate_ag  \\\n",
       "433    2016-02-04 12:00:00                     6.079300   \n",
       "7158   2016-12-25 10:59:59                     4.970110   \n",
       "10870  2017-06-26 10:59:59                     4.495221   \n",
       "\n",
       "       final.output.concentrate_pb  final.output.concentrate_sol  \\\n",
       "433                       9.552047                      1.407521   \n",
       "7158                     10.228234                     13.948306   \n",
       "10870                    11.073610                      9.078166   \n",
       "\n",
       "       final.output.concentrate_au  final.output.recovery  \\\n",
       "433                      43.284401              54.915844   \n",
       "7158                     44.436822              72.412226   \n",
       "10870                    44.711830              67.311376   \n",
       "\n",
       "       final.output.tail_ag  final.output.tail_pb  final.output.tail_sol  \\\n",
       "433               11.601645              1.557420              10.148128   \n",
       "7158              11.115541              3.864795               9.459765   \n",
       "10870              7.672963              2.604566              11.205492   \n",
       "\n",
       "       final.output.tail_au  ...  secondary_cleaner.state.floatbank4_a_air  \\\n",
       "433                2.616064  ...                                 17.049294   \n",
       "7158               3.428821  ...                                 16.998920   \n",
       "10870              2.294959  ...                                 17.985534   \n",
       "\n",
       "       secondary_cleaner.state.floatbank4_a_level  \\\n",
       "433                                   -499.273707   \n",
       "7158                                  -500.219110   \n",
       "10870                                 -499.515602   \n",
       "\n",
       "       secondary_cleaner.state.floatbank4_b_air  \\\n",
       "433                                   15.998190   \n",
       "7158                                  14.971690   \n",
       "10870                                 13.037182   \n",
       "\n",
       "       secondary_cleaner.state.floatbank4_b_level  \\\n",
       "433                                   -502.458239   \n",
       "7158                                  -498.709092   \n",
       "10870                                 -380.494692   \n",
       "\n",
       "       secondary_cleaner.state.floatbank5_a_air  \\\n",
       "433                                   17.929227   \n",
       "7158                                  13.809440   \n",
       "10870                                 17.994493   \n",
       "\n",
       "       secondary_cleaner.state.floatbank5_a_level  \\\n",
       "433                                   -502.215869   \n",
       "7158                                  -500.990026   \n",
       "10870                                 -498.998155   \n",
       "\n",
       "       secondary_cleaner.state.floatbank5_b_air  \\\n",
       "433                                   15.928170   \n",
       "7158                                  12.034185   \n",
       "10870                                 12.988360   \n",
       "\n",
       "       secondary_cleaner.state.floatbank5_b_level  \\\n",
       "433                                   -499.739261   \n",
       "7158                                  -500.278781   \n",
       "10870                                 -499.805512   \n",
       "\n",
       "       secondary_cleaner.state.floatbank6_a_air  \\\n",
       "433                                   18.004300   \n",
       "7158                                  20.967934   \n",
       "10870                                 14.995227   \n",
       "\n",
       "       secondary_cleaner.state.floatbank6_a_level  \n",
       "433                                   -500.334360  \n",
       "7158                                  -501.277620  \n",
       "10870                                 -499.466915  \n",
       "\n",
       "[3 rows x 87 columns]"
      ]
     },
     "metadata": {},
     "output_type": "display_data"
    },
    {
     "name": "stdout",
     "output_type": "stream",
     "text": [
      "date                                           object\n",
      "final.output.concentrate_ag                   float64\n",
      "final.output.concentrate_pb                   float64\n",
      "final.output.concentrate_sol                  float64\n",
      "final.output.concentrate_au                   float64\n",
      "                                               ...   \n",
      "secondary_cleaner.state.floatbank5_a_level    float64\n",
      "secondary_cleaner.state.floatbank5_b_air      float64\n",
      "secondary_cleaner.state.floatbank5_b_level    float64\n",
      "secondary_cleaner.state.floatbank6_a_air      float64\n",
      "secondary_cleaner.state.floatbank6_a_level    float64\n",
      "Length: 87, dtype: object\n"
     ]
    }
   ],
   "source": [
    "display(data_full.sample(3))\n",
    "print(data_full.dtypes)"
   ]
  },
  {
   "cell_type": "code",
   "execution_count": 18,
   "metadata": {},
   "outputs": [
    {
     "name": "stdout",
     "output_type": "stream",
     "text": [
      "date - 0.0%\n",
      "final.output.concentrate_ag - 0.0%\n",
      "final.output.concentrate_pb - 0.0%\n",
      "final.output.concentrate_sol - 0.0%\n",
      "final.output.concentrate_au - 0.0%\n",
      "final.output.recovery - 0.0%\n",
      "final.output.tail_ag - 0.0%\n",
      "final.output.tail_pb - 0.0%\n",
      "final.output.tail_sol - 0.0%\n",
      "final.output.tail_au - 0.0%\n",
      "primary_cleaner.input.sulfate - 0.0%\n",
      "primary_cleaner.input.depressant - 0.0%\n",
      "primary_cleaner.input.feed_size - 0.0%\n",
      "primary_cleaner.input.xanthate - 0.0%\n",
      "primary_cleaner.output.concentrate_ag - 0.0%\n",
      "primary_cleaner.output.concentrate_pb - 0.0%\n",
      "primary_cleaner.output.concentrate_sol - 0.0%\n",
      "primary_cleaner.output.concentrate_au - 0.0%\n",
      "primary_cleaner.output.tail_ag - 0.0%\n",
      "primary_cleaner.output.tail_pb - 0.0%\n",
      "primary_cleaner.output.tail_sol - 0.0%\n",
      "primary_cleaner.output.tail_au - 0.0%\n",
      "primary_cleaner.state.floatbank8_a_air - 0.0%\n",
      "primary_cleaner.state.floatbank8_a_level - 0.0%\n",
      "primary_cleaner.state.floatbank8_b_air - 0.0%\n",
      "primary_cleaner.state.floatbank8_b_level - 0.0%\n",
      "primary_cleaner.state.floatbank8_c_air - 0.0%\n",
      "primary_cleaner.state.floatbank8_c_level - 0.0%\n",
      "primary_cleaner.state.floatbank8_d_air - 0.0%\n",
      "primary_cleaner.state.floatbank8_d_level - 0.0%\n",
      "rougher.calculation.sulfate_to_au_concentrate - 0.0%\n",
      "rougher.calculation.floatbank10_sulfate_to_au_feed - 0.0%\n",
      "rougher.calculation.floatbank11_sulfate_to_au_feed - 0.0%\n",
      "rougher.calculation.au_pb_ratio - 0.0%\n",
      "rougher.input.feed_ag - 0.0%\n",
      "rougher.input.feed_pb - 0.0%\n",
      "rougher.input.feed_rate - 0.0%\n",
      "rougher.input.feed_size - 0.0%\n",
      "rougher.input.feed_sol - 0.0%\n",
      "rougher.input.feed_au - 0.0%\n",
      "rougher.input.floatbank10_sulfate - 0.0%\n",
      "rougher.input.floatbank10_xanthate - 0.0%\n",
      "rougher.input.floatbank11_sulfate - 0.0%\n",
      "rougher.input.floatbank11_xanthate - 0.0%\n",
      "rougher.output.concentrate_ag - 0.0%\n",
      "rougher.output.concentrate_pb - 0.0%\n",
      "rougher.output.concentrate_sol - 0.0%\n",
      "rougher.output.concentrate_au - 0.0%\n",
      "rougher.output.recovery - 0.0%\n",
      "rougher.output.tail_ag - 0.0%\n",
      "rougher.output.tail_pb - 0.0%\n",
      "rougher.output.tail_sol - 0.0%\n",
      "rougher.output.tail_au - 0.0%\n",
      "rougher.state.floatbank10_a_air - 0.0%\n",
      "rougher.state.floatbank10_a_level - 0.0%\n",
      "rougher.state.floatbank10_b_air - 0.0%\n",
      "rougher.state.floatbank10_b_level - 0.0%\n",
      "rougher.state.floatbank10_c_air - 0.0%\n",
      "rougher.state.floatbank10_c_level - 0.0%\n",
      "rougher.state.floatbank10_d_air - 0.0%\n",
      "rougher.state.floatbank10_d_level - 0.0%\n",
      "rougher.state.floatbank10_e_air - 0.0%\n",
      "rougher.state.floatbank10_e_level - 0.0%\n",
      "rougher.state.floatbank10_f_air - 0.0%\n",
      "rougher.state.floatbank10_f_level - 0.0%\n",
      "secondary_cleaner.output.tail_ag - 0.0%\n",
      "secondary_cleaner.output.tail_pb - 0.0%\n",
      "secondary_cleaner.output.tail_sol - 0.0%\n",
      "secondary_cleaner.output.tail_au - 0.0%\n",
      "secondary_cleaner.state.floatbank2_a_air - 0.0%\n",
      "secondary_cleaner.state.floatbank2_a_level - 0.0%\n",
      "secondary_cleaner.state.floatbank2_b_air - 0.0%\n",
      "secondary_cleaner.state.floatbank2_b_level - 0.0%\n",
      "secondary_cleaner.state.floatbank3_a_air - 0.0%\n",
      "secondary_cleaner.state.floatbank3_a_level - 0.0%\n",
      "secondary_cleaner.state.floatbank3_b_air - 0.0%\n",
      "secondary_cleaner.state.floatbank3_b_level - 0.0%\n",
      "secondary_cleaner.state.floatbank4_a_air - 0.0%\n",
      "secondary_cleaner.state.floatbank4_a_level - 0.0%\n",
      "secondary_cleaner.state.floatbank4_b_air - 0.0%\n",
      "secondary_cleaner.state.floatbank4_b_level - 0.0%\n",
      "secondary_cleaner.state.floatbank5_a_air - 0.0%\n",
      "secondary_cleaner.state.floatbank5_a_level - 0.0%\n",
      "secondary_cleaner.state.floatbank5_b_air - 0.0%\n",
      "secondary_cleaner.state.floatbank5_b_level - 0.0%\n",
      "secondary_cleaner.state.floatbank6_a_air - 0.0%\n",
      "secondary_cleaner.state.floatbank6_a_level - 0.0%\n"
     ]
    }
   ],
   "source": [
    " for column in data_train.columns:\n",
    "        pct_missing = np.mean(data_train[column].isna())\n",
    "        print('{} - {}%'.format(column, round(pct_missing*100,2)))"
   ]
  },
  {
   "cell_type": "markdown",
   "metadata": {},
   "source": [
    "Подготовка обучающей выборки"
   ]
  },
  {
   "cell_type": "code",
   "execution_count": 19,
   "metadata": {},
   "outputs": [],
   "source": [
    "columns_empty_test.remove('final.output.recovery')\n",
    "columns_empty_test.remove('rougher.output.recovery')\n",
    "data_train = data_train.drop(columns=columns_empty_test,axis=1)"
   ]
  },
  {
   "cell_type": "markdown",
   "metadata": {},
   "source": [
    "Подготовка тестовой выборки, добавление целевых признаков"
   ]
  },
  {
   "cell_type": "code",
   "execution_count": 21,
   "metadata": {},
   "outputs": [],
   "source": [
    "data_test = data_test.merge(data_full.loc[:, ['date','rougher.output.recovery','final.output.recovery']], on='date')"
   ]
  },
  {
   "cell_type": "code",
   "execution_count": 22,
   "metadata": {},
   "outputs": [],
   "source": [
    "def corr_feat_drop(df):\n",
    "    '''\n",
    "    Функция удаляет все столбцы, \n",
    "    соответствующие списку columns_to_del - список с каждым первым из взаимокоррелирующих признаков\n",
    "    '''\n",
    "    for column in df.columns:\n",
    "        if column in columns_to_del:\n",
    "            df.drop(column, axis=1,inplace=True)"
   ]
  },
  {
   "cell_type": "code",
   "execution_count": 23,
   "metadata": {},
   "outputs": [],
   "source": [
    "corr_feat_drop(data_full)\n",
    "corr_feat_drop(data_train)\n",
    "corr_feat_drop(data_test)"
   ]
  },
  {
   "cell_type": "markdown",
   "metadata": {},
   "source": [
    "**Вывод по разделу 1:**\n",
    "1. Мы открыли и просмотрели информацию по трем датасетам, определили наименование параметров, типы данных и выявели наличие пропусков.\n",
    "2. Посчитали эффективность обогащения золота и определили среднюю абсолютную ошибку между посчинанным Recovery и значением признака rougher.output.recovery. Сделали вывод о том что эффективность посчитанна верно.\n",
    "3. Определили что в тестовой выборке по сравнению с исходной отсутствует 34 признака, два из которых являются целевыми.\n",
    "4. Провели предобработку данных, Поменяли тип данных в столбце date с object на datetime и заполнели пропущеные значения."
   ]
  },
  {
   "cell_type": "markdown",
   "metadata": {},
   "source": [
    "## Анализ данных"
   ]
  },
  {
   "cell_type": "markdown",
   "metadata": {},
   "source": [
    "### Анализ концентрации металлов (Au, Ag, Pb) на различных этапах очистки"
   ]
  },
  {
   "cell_type": "markdown",
   "metadata": {},
   "source": [
    "Создадим три датасета с концентрацией металлов (Au, Ag, Pb), на этапах очистки (Cырье, Флотация, Первичная очистка, Вторичная очистка)"
   ]
  },
  {
   "cell_type": "code",
   "execution_count": 24,
   "metadata": {},
   "outputs": [],
   "source": [
    "au_concentrate = data_full[['rougher.input.feed_au','rougher.output.concentrate_au',\n",
    "                            'primary_cleaner.output.concentrate_au','final.output.concentrate_au']]\n",
    "ag_concentrate = data_full[['rougher.input.feed_ag','rougher.output.concentrate_ag',\n",
    "                            'primary_cleaner.output.concentrate_ag','final.output.concentrate_ag']]\n",
    "pb_concentrate = data_full[['rougher.input.feed_pb','rougher.output.concentrate_pb',\n",
    "                            'primary_cleaner.output.concentrate_pb','final.output.concentrate_pb']]"
   ]
  },
  {
   "cell_type": "code",
   "execution_count": 25,
   "metadata": {},
   "outputs": [],
   "source": [
    "columns_name = ['Cырье','Флотация','Первичная очистка', 'Вторичная очистка']"
   ]
  },
  {
   "cell_type": "code",
   "execution_count": 26,
   "metadata": {},
   "outputs": [],
   "source": [
    "au_concentrate.columns = columns_name\n",
    "ag_concentrate.columns = columns_name\n",
    "pb_concentrate.columns = columns_name"
   ]
  },
  {
   "cell_type": "markdown",
   "metadata": {},
   "source": [
    "Нипишим функцию которая принимает датасет этапов очистки каждого метала и строит график"
   ]
  },
  {
   "cell_type": "code",
   "execution_count": 27,
   "metadata": {},
   "outputs": [],
   "source": [
    "def chart_concentrate(df):\n",
    "    plt.figure(figsize=(12,12))\n",
    "    plots = sns.catplot(data=df, kind='bar', ci = 0 ,palette='bright')\n",
    "    \n",
    "    plt.xlabel('Этапы очистки', fontsize=15)\n",
    "    plt.title('Изменение концентрации', fontsize=20)\n",
    "    plt.xticks(rotation=90)\n",
    "    plt.show()"
   ]
  },
  {
   "cell_type": "code",
   "execution_count": 28,
   "metadata": {},
   "outputs": [
    {
     "name": "stdout",
     "output_type": "stream",
     "text": [
      "Изменение концентрации золота на этапах очистки\n"
     ]
    },
    {
     "data": {
      "text/plain": [
       "<Figure size 864x864 with 0 Axes>"
      ]
     },
     "metadata": {},
     "output_type": "display_data"
    },
    {
     "data": {
      "image/png": "[encoded data removed]",
      "text/plain": [
       "<Figure size 360x360 with 1 Axes>"
      ]
     },
     "metadata": {
      "needs_background": "light"
     },
     "output_type": "display_data"
    }
   ],
   "source": [
    "print('Изменение концентрации золота на этапах очистки')\n",
    "chart_concentrate(au_concentrate)"
   ]
  },
  {
   "cell_type": "code",
   "execution_count": 29,
   "metadata": {},
   "outputs": [
    {
     "name": "stdout",
     "output_type": "stream",
     "text": [
      "Изменение концентрации серебра на этапах очистки\n"
     ]
    },
    {
     "data": {
      "text/plain": [
       "<Figure size 864x864 with 0 Axes>"
      ]
     },
     "metadata": {},
     "output_type": "display_data"
    },
    {
     "data": {
      "image/png": "[encoded data removed]",
      "text/plain": [
       "<Figure size 360x360 with 1 Axes>"
      ]
     },
     "metadata": {
      "needs_background": "light"
     },
     "output_type": "display_data"
    }
   ],
   "source": [
    "print('Изменение концентрации серебра на этапах очистки')\n",
    "chart_concentrate(ag_concentrate)"
   ]
  },
  {
   "cell_type": "code",
   "execution_count": 30,
   "metadata": {},
   "outputs": [
    {
     "name": "stdout",
     "output_type": "stream",
     "text": [
      "Изменение концентрации свинца на этапах очистки\n"
     ]
    },
    {
     "data": {
      "text/plain": [
       "<Figure size 864x864 with 0 Axes>"
      ]
     },
     "metadata": {},
     "output_type": "display_data"
    },
    {
     "data": {
      "image/png": "[encoded data removed]",
      "text/plain": [
       "<Figure size 360x360 with 1 Axes>"
      ]
     },
     "metadata": {
      "needs_background": "light"
     },
     "output_type": "display_data"
    }
   ],
   "source": [
    "print('Изменение концентрации свинца на этапах очистки')\n",
    "chart_concentrate(pb_concentrate)"
   ]
  },
  {
   "cell_type": "markdown",
   "metadata": {},
   "source": [
    "**Вывод 2.1:**<br>\n",
    "1. В процесе очистки золотоносной руды содержания золора в концентрате увеличивается менее чем с 10 до более 40.\n",
    "2. При очистки серебря концентрация серебра на финальном этапе уменьшается с 8,5 до 4,5. Но на этапе флотации увеличивается до 12. Это может свидетельствовать о том что при первичной и вторичной обработках драгоценный метал остается в \"отвальных хвостах\".\n",
    "3. В процесе очистки свинца концентрате увеличивается с 4 до 10."
   ]
  },
  {
   "cell_type": "markdown",
   "metadata": {},
   "source": [
    "### Сравнение распределения размеров гранул сырья на обучающей и тестовой выборках"
   ]
  },
  {
   "cell_type": "markdown",
   "metadata": {},
   "source": [
    "Сравним распределения размеров гранул на обучающей и тестовой выборках на этапе флотации."
   ]
  },
  {
   "cell_type": "code",
   "execution_count": 31,
   "metadata": {},
   "outputs": [
    {
     "data": {
      "text/plain": [
       "[Text(0.5, 0, 'Размеры гранул'),\n",
       " Text(0, 0.5, 'Количество гранул'),\n",
       " Text(0.5, 1.0, 'Распределение размеров гранул на этапе флотации')]"
      ]
     },
     "execution_count": 31,
     "metadata": {},
     "output_type": "execute_result"
    },
    {
     "data": {
      "image/png": "[encoded data removed]",
      "text/plain": [
       "<Figure size 1152x576 with 1 Axes>"
      ]
     },
     "metadata": {
      "needs_background": "light"
     },
     "output_type": "display_data"
    }
   ],
   "source": [
    "plt.figure(figsize=(16, 8))\n",
    "\n",
    "ax1 = sns.histplot(data_train['rougher.input.feed_size'], bins=50, color='green')\n",
    "ax2 = sns.histplot(data_test['rougher.input.feed_size'], bins=50, color='red')\n",
    "\n",
    "ax1.set(xlabel ='Размеры гранул', ylabel = 'Количество гранул', \n",
    "            title ='Распределение размеров гранул на этапе флотации')\n"
   ]
  },
  {
   "cell_type": "markdown",
   "metadata": {},
   "source": [
    "Сравним распределения размеров гранул на обучающей и тестовой выборках на этапе первичной очистки."
   ]
  },
  {
   "cell_type": "code",
   "execution_count": 32,
   "metadata": {},
   "outputs": [
    {
     "data": {
      "text/plain": [
       "[Text(0.5, 0, 'Размеры гранул'),\n",
       " Text(0, 0.5, 'Количество гранул'),\n",
       " Text(0.5, 1.0, 'Распределение размеров гранул на этапе первичной очистки')]"
      ]
     },
     "execution_count": 32,
     "metadata": {},
     "output_type": "execute_result"
    },
    {
     "data": {
      "image/png": "[encoded data removed]",
      "text/plain": [
       "<Figure size 1152x576 with 1 Axes>"
      ]
     },
     "metadata": {
      "needs_background": "light"
     },
     "output_type": "display_data"
    }
   ],
   "source": [
    "plt.figure(figsize=(16, 8))\n",
    "\n",
    "ax1 = sns.histplot(data_train['primary_cleaner.input.feed_size'], bins=50, color='green')\n",
    "ax2 = sns.histplot(data_test['primary_cleaner.input.feed_size'], bins=50, color='red')\n",
    "\n",
    "ax1.set(xlabel ='Размеры гранул', ylabel = 'Количество гранул', \n",
    "            title ='Распределение размеров гранул на этапе первичной очистки')"
   ]
  },
  {
   "cell_type": "markdown",
   "metadata": {},
   "source": [
    "**Вывод 2.2:**<br>\n",
    "Распределения размеров гранул сырья в обучающей и тестовой выборках на этапах флотации и первичной очистки похожи, отличия не должны повлиять на оценку модели."
   ]
  },
  {
   "cell_type": "markdown",
   "metadata": {},
   "source": [
    "### Исследование суммарной концентрации всех веществ на разных стадиях"
   ]
  },
  {
   "cell_type": "markdown",
   "metadata": {},
   "source": [
    "Добавим в исходных датасет столбцы с суммарной концентрацией всех веществ на каждой стадий очистки"
   ]
  },
  {
   "cell_type": "code",
   "execution_count": 33,
   "metadata": {},
   "outputs": [],
   "source": [
    "data_full['base_sum'] = data_full[['rougher.input.feed_au',\n",
    "                                  'rougher.input.feed_ag',\n",
    "                                  'rougher.input.feed_pb',\n",
    "                                  'rougher.input.feed_sol']].sum(1)\n",
    "data_full['rougher_sum'] = data_full[['rougher.output.concentrate_au',\n",
    "                                    'rougher.output.concentrate_ag',\n",
    "                                    'rougher.output.concentrate_pb',\n",
    "                                    'rougher.output.concentrate_sol']].sum(1)\n",
    "data_full['primary_sum'] = data_full[['primary_cleaner.output.concentrate_au',\n",
    "                                    'primary_cleaner.output.concentrate_ag',\n",
    "                                    'primary_cleaner.output.concentrate_pb',\n",
    "                                    'primary_cleaner.output.concentrate_sol']].sum(1)\n",
    "data_full['final_sum'] = data_full[['final.output.concentrate_au',\n",
    "                                  'final.output.concentrate_ag',\n",
    "                                  'final.output.concentrate_pb',\n",
    "                                  'final.output.concentrate_sol']].sum(1)"
   ]
  },
  {
   "cell_type": "code",
   "execution_count": 34,
   "metadata": {},
   "outputs": [
    {
     "data": {
      "text/html": [
       "<div>\n",
       "<style scoped>\n",
       "    .dataframe tbody tr th:only-of-type {\n",
       "        vertical-align: middle;\n",
       "    }\n",
       "\n",
       "    .dataframe tbody tr th {\n",
       "        vertical-align: top;\n",
       "    }\n",
       "\n",
       "    .dataframe thead th {\n",
       "        text-align: right;\n",
       "    }\n",
       "</style>\n",
       "<table border=\"1\" class=\"dataframe\">\n",
       "  <thead>\n",
       "    <tr style=\"text-align: right;\">\n",
       "      <th></th>\n",
       "      <th>count</th>\n",
       "      <th>mean</th>\n",
       "      <th>std</th>\n",
       "      <th>min</th>\n",
       "      <th>25%</th>\n",
       "      <th>50%</th>\n",
       "      <th>75%</th>\n",
       "      <th>max</th>\n",
       "    </tr>\n",
       "  </thead>\n",
       "  <tbody>\n",
       "    <tr>\n",
       "      <th>base_sum</th>\n",
       "      <td>19439.0</td>\n",
       "      <td>57.320789</td>\n",
       "      <td>7.212680</td>\n",
       "      <td>0.04</td>\n",
       "      <td>53.557679</td>\n",
       "      <td>57.594391</td>\n",
       "      <td>61.953459</td>\n",
       "      <td>76.978947</td>\n",
       "    </tr>\n",
       "    <tr>\n",
       "      <th>rougher_sum</th>\n",
       "      <td>19439.0</td>\n",
       "      <td>68.170865</td>\n",
       "      <td>12.491279</td>\n",
       "      <td>0.00</td>\n",
       "      <td>66.012495</td>\n",
       "      <td>70.181495</td>\n",
       "      <td>74.356904</td>\n",
       "      <td>88.140119</td>\n",
       "    </tr>\n",
       "    <tr>\n",
       "      <th>primary_sum</th>\n",
       "      <td>19439.0</td>\n",
       "      <td>60.764731</td>\n",
       "      <td>10.017271</td>\n",
       "      <td>0.00</td>\n",
       "      <td>58.929364</td>\n",
       "      <td>62.497674</td>\n",
       "      <td>65.667336</td>\n",
       "      <td>80.749343</td>\n",
       "    </tr>\n",
       "    <tr>\n",
       "      <th>final_sum</th>\n",
       "      <td>19439.0</td>\n",
       "      <td>68.653624</td>\n",
       "      <td>7.427536</td>\n",
       "      <td>0.00</td>\n",
       "      <td>67.932362</td>\n",
       "      <td>69.598444</td>\n",
       "      <td>71.368472</td>\n",
       "      <td>80.210644</td>\n",
       "    </tr>\n",
       "  </tbody>\n",
       "</table>\n",
       "</div>"
      ],
      "text/plain": [
       "               count       mean        std   min        25%        50%  \\\n",
       "base_sum     19439.0  57.320789   7.212680  0.04  53.557679  57.594391   \n",
       "rougher_sum  19439.0  68.170865  12.491279  0.00  66.012495  70.181495   \n",
       "primary_sum  19439.0  60.764731  10.017271  0.00  58.929364  62.497674   \n",
       "final_sum    19439.0  68.653624   7.427536  0.00  67.932362  69.598444   \n",
       "\n",
       "                   75%        max  \n",
       "base_sum     61.953459  76.978947  \n",
       "rougher_sum  74.356904  88.140119  \n",
       "primary_sum  65.667336  80.749343  \n",
       "final_sum    71.368472  80.210644  "
      ]
     },
     "execution_count": 34,
     "metadata": {},
     "output_type": "execute_result"
    }
   ],
   "source": [
    "full_sum = data_full[['base_sum', 'rougher_sum', 'primary_sum', 'final_sum']]\n",
    "full_sum.describe().T"
   ]
  },
  {
   "cell_type": "code",
   "execution_count": 35,
   "metadata": {},
   "outputs": [
    {
     "data": {
      "image/png": "[encoded data removed]",
      "text/plain": [
       "<Figure size 1152x720 with 1 Axes>"
      ]
     },
     "metadata": {
      "needs_background": "light"
     },
     "output_type": "display_data"
    }
   ],
   "source": [
    "plt.figure(figsize=(16,10))\n",
    "plt.title('Суммарная концентрация веществ на разных стадиях очистки', fontsize=20)\n",
    "plt.xlabel('Концентрация веществ', fontsize=15)\n",
    "\n",
    "for column in full_sum.columns:\n",
    "    sns.histplot(data=full_sum)\n",
    "    \n",
    "plt.show()"
   ]
  },
  {
   "cell_type": "markdown",
   "metadata": {},
   "source": [
    "**Вывод 2.3:**<br>\n",
    "Семмарная концентрация веществ увеличивается от флотации к финальной очистке.<br>\n",
    "Анамальными являются нулевые значения, для дальнейшей работы нулевые значения нужно удалить."
   ]
  },
  {
   "cell_type": "markdown",
   "metadata": {},
   "source": [
    "#### Удаление анамальных значений"
   ]
  },
  {
   "cell_type": "code",
   "execution_count": 51,
   "metadata": {},
   "outputs": [],
   "source": [
    "data_full = data_full.query('(base_sum != 0) & (rougher_sum != 0) & (primary_sum != 0) & (final_sum != 0)')"
   ]
  },
  {
   "cell_type": "code",
   "execution_count": 52,
   "metadata": {},
   "outputs": [],
   "source": [
    "data_train = data_train[data_train['date'].isin(data_full['date'])]"
   ]
  },
  {
   "cell_type": "code",
   "execution_count": 53,
   "metadata": {},
   "outputs": [],
   "source": [
    "data_train_final = data_train.drop(['date'], axis=1)\n",
    "data_test_final = data_test.drop(['date'], axis=1)"
   ]
  },
  {
   "cell_type": "code",
   "execution_count": 54,
   "metadata": {},
   "outputs": [
    {
     "name": "stdout",
     "output_type": "stream",
     "text": [
      "(13725, 42)\n",
      "(5290, 42)\n"
     ]
    }
   ],
   "source": [
    "print(data_train_final.shape)\n",
    "print(data_test_final.shape)"
   ]
  },
  {
   "cell_type": "markdown",
   "metadata": {},
   "source": [
    "## Модель"
   ]
  },
  {
   "cell_type": "markdown",
   "metadata": {},
   "source": [
    "### Функция для вычисления итоговой sMAPE."
   ]
  },
  {
   "cell_type": "markdown",
   "metadata": {},
   "source": [
    "Метрику качества — **sMAPE** (англ. Symmetric Mean Absolute Percentage Error, «симметричное среднее абсолютное процентное отклонение»).<br>\n",
    "Она похожа на **MAE**, но выражается не в абсолютных величинах, а в относительных. Почему симметричная? Она одинаково учитывает масштаб и целевого признака, и предсказания.<br>\n",
    "Метрика **sMAPE** вычисляется так:<br>\n",
    "\n",
    "$sMAPE = \\frac{1}{N} \\sum_{i=1}^{N}\\frac{\\left | y_{i} -\\\n",
    "\\hat{y}_{i}\\right |}{\\left ( \\left | y_{i} \\right | +\\left | \\hat{y}_{i} \\right |\\right )/2} x100\\%$\n",
    "\n",
    "$y_{i}$ - Значение целевого признака для объекта с порядковым номером i в выборке, на которой измеряется качество;<br>\n",
    "$\\hat{y}_{i}$ - Значение предсказания для объекта с порядковым номером i, например, в тестовой выборке;<br>\n",
    "${N}$ - Количество объектов в выборке;<br>\n",
    "$\\sum_{i=1}^{N}$ - Суммирование по всем объектам выборки (i меняется от 1 до N).<br><br>\n",
    "Нужно спрогнозировать сразу две величины:<br>\n",
    "эффективность обогащения чернового концентрата rougher.output.recovery;<br>\n",
    "эффективность обогащения финального концентрата final.output.recovery.<br>\n",
    "Итоговая метрика складывается из двух величин:<br>\n",
    "\n",
    "$Итоговое sMAPE = \\ 25\\%\\ x\\ sMAPE\\left(rougher\\right)=75\\%\\  x\\ sMAPE\\left(final\\right)$\n"
   ]
  },
  {
   "cell_type": "markdown",
   "metadata": {},
   "source": [
    "Напишем функцию расчета sMAPE - симметричного среднего абсолютного процентного отклонения"
   ]
  },
  {
   "cell_type": "code",
   "execution_count": 40,
   "metadata": {},
   "outputs": [],
   "source": [
    "def sMAPE (target, prediction):\n",
    "    return np.mean(np.abs(target - prediction)/((np.abs(target) + np.abs(prediction))/2))*100"
   ]
  },
  {
   "cell_type": "markdown",
   "metadata": {},
   "source": [
    "Напишем функцию расчета Итогового sMAPE - симметричного среднего абсолютного процентного отклонения"
   ]
  },
  {
   "cell_type": "code",
   "execution_count": 41,
   "metadata": {},
   "outputs": [],
   "source": [
    "def result_smape(sMAPE_r,sMAPE_f):\n",
    "    return 0.25*sMAPE_r + 0.75*sMAPE_f"
   ]
  },
  {
   "cell_type": "markdown",
   "metadata": {},
   "source": [
    "Выделим из обучающей и тестовой выботки признаки и целевой признак."
   ]
  },
  {
   "cell_type": "code",
   "execution_count": 42,
   "metadata": {},
   "outputs": [],
   "source": [
    "features_train = data_train_final.drop(['rougher.output.recovery','final.output.recovery'], axis=1)\n",
    "target_rougher_train = data_train_final['rougher.output.recovery']\n",
    "target_final_train = data_train_final['final.output.recovery']\n",
    "\n",
    "features_test = data_test_final.drop(['rougher.output.recovery','final.output.recovery'], axis=1)\n",
    "target_rougher_test = data_test_final['rougher.output.recovery']\n",
    "target_final_test = data_test_final['final.output.recovery']"
   ]
  },
  {
   "cell_type": "code",
   "execution_count": 43,
   "metadata": {},
   "outputs": [],
   "source": [
    "features_train.reset_index(drop=True,inplace=True)\n",
    "target_rougher_train.reset_index(drop=True,inplace=True)\n",
    "target_final_train.reset_index(drop=True,inplace=True)\n",
    "\n",
    "features_test.reset_index(drop=True,inplace=True)\n",
    "target_rougher_test.reset_index(drop=True,inplace=True)\n",
    "target_final_test.reset_index(drop=True,inplace=True)"
   ]
  },
  {
   "cell_type": "code",
   "execution_count": 44,
   "metadata": {},
   "outputs": [],
   "source": [
    "scaler = StandardScaler()\n",
    "scaler.fit(features_train)\n",
    "features_train = scaler.transform(features_train)\n",
    "features_test = scaler.transform(features_test)"
   ]
  },
  {
   "cell_type": "markdown",
   "metadata": {},
   "source": [
    "### Обучение разных модели и оцените их качества кросс-валидацией"
   ]
  },
  {
   "cell_type": "code",
   "execution_count": 45,
   "metadata": {},
   "outputs": [],
   "source": [
    "score = make_scorer(sMAPE, greater_is_better=False)"
   ]
  },
  {
   "cell_type": "markdown",
   "metadata": {},
   "source": [
    "<font color='blue'><b>Комментарий ревьюера: </b></font> ⚠️\\\n",
    "<font color='darkorange'> Атрибут greater_is_better=False нужен для алгоритмов *SearchCV, которые по умолчанию ищют наибольшую метрику. Поскольку здесь мы сами задаём условие отбора лучшей модели, этот атрибут можно не использовать, что бы не было путанницы с отрицательными значениями метрики.</font>"
   ]
  },
  {
   "cell_type": "markdown",
   "metadata": {},
   "source": [
    "#### Модель LinearRegression"
   ]
  },
  {
   "cell_type": "code",
   "execution_count": 55,
   "metadata": {},
   "outputs": [
    {
     "name": "stdout",
     "output_type": "stream",
     "text": [
      "12.14379782844453\n"
     ]
    }
   ],
   "source": [
    "smape_rougher = cross_val_score(LinearRegression(),\n",
    "                                features_train,\n",
    "                                target_rougher_train,\n",
    "                                cv=5, scoring=score).mean()\n",
    "smape_final = cross_val_score(LinearRegression(),\n",
    "                              features_train,\n",
    "                              target_final_train,\n",
    "                              cv=5, scoring=score).mean()\n",
    "smape_linReg = result_smape(smape_rougher, smape_final)*(-1)\n",
    "print(smape_linReg)"
   ]
  },
  {
   "cell_type": "markdown",
   "metadata": {},
   "source": [
    "#### Модель DecisionTreeRegressor"
   ]
  },
  {
   "cell_type": "code",
   "execution_count": 56,
   "metadata": {},
   "outputs": [
    {
     "name": "stdout",
     "output_type": "stream",
     "text": [
      "10.996610763018065\n",
      "3\n"
     ]
    }
   ],
   "source": [
    "best_result = 100\n",
    "best_depth = 0\n",
    "for n in range(1, 30, 2):\n",
    "    model_dt_rougher = DecisionTreeRegressor(max_depth=n, random_state=12345)\n",
    "    smape_rougher = cross_val_score(model_dt_rougher,\n",
    "                                    features_train,\n",
    "                                    target_rougher_train,\n",
    "                                    scoring=score, cv=5).mean()\n",
    "\n",
    "    model_dt_final = DecisionTreeRegressor(max_depth=n, random_state=12345)\n",
    "    smape_final = cross_val_score(model_dt_final,\n",
    "                                  features_train,\n",
    "                                  target_final_train,\n",
    "                                  scoring=score, cv=5).mean()\n",
    "\n",
    "    result = result_smape(smape_rougher, smape_final)*(-1)\n",
    "    if result < best_result:\n",
    "        best_result = result\n",
    "        best_depth = n\n",
    "print(best_result)\n",
    "print(best_depth)"
   ]
  },
  {
   "cell_type": "markdown",
   "metadata": {},
   "source": [
    "#### Модель RandomForestRegressor"
   ]
  },
  {
   "cell_type": "code",
   "execution_count": 48,
   "metadata": {},
   "outputs": [
    {
     "name": "stdout",
     "output_type": "stream",
     "text": [
      "10.398436430841905\n",
      "4\n",
      "8\n"
     ]
    }
   ],
   "source": [
    "best_result = 100\n",
    "best_depth = 0\n",
    "best_est = 0\n",
    "for n in range(1, 10, 1):\n",
    "    for d in range(1,5,1):\n",
    "        model_rf_rougher = RandomForestRegressor(n_estimators=n, max_depth=d, random_state=12345)\n",
    "        smape_rougher = cross_val_score(model_rf_rougher,\n",
    "                                        features_train,\n",
    "                                        target_rougher_train,\n",
    "                                        scoring=score, cv=5).mean()\n",
    "\n",
    "        model_rf_final = RandomForestRegressor(n_estimators=n, max_depth=d, random_state=12345)\n",
    "        smape_final = cross_val_score(model_rf_final,\n",
    "                                      features_train,\n",
    "                                      target_final_train,\n",
    "                                      scoring=score, cv=5).mean()\n",
    "\n",
    "        result = result_smape(smape_rougher, smape_final)*(-1)\n",
    "        if result < best_result:\n",
    "            best_result = result\n",
    "            best_depth = d\n",
    "            best_est = n\n",
    "print(best_result)\n",
    "print(best_depth)\n",
    "print(best_est)"
   ]
  },
  {
   "cell_type": "markdown",
   "metadata": {},
   "source": [
    "**Выыод 3.2:**\n",
    "Лучшее значение итогового симметричного среднего абсолютного процентного отклонения 10,3%, показала модель \"Случайный лес\"."
   ]
  },
  {
   "cell_type": "markdown",
   "metadata": {},
   "source": [
    "### Проверка лучшей модели на тестовой выборке"
   ]
  },
  {
   "cell_type": "code",
   "execution_count": 49,
   "metadata": {},
   "outputs": [
    {
     "name": "stdout",
     "output_type": "stream",
     "text": [
      "9.76819853845206\n"
     ]
    }
   ],
   "source": [
    "best_model_r = RandomForestRegressor(random_state=12345, max_depth=4, n_estimators=9)\n",
    "best_model_r.fit(features_train,target_rougher_train)\n",
    "prediction_rougher = best_model_r.predict(features_test)\n",
    "smape_roug = sMAPE(target_rougher_test,prediction_rougher)\n",
    "\n",
    "best_model_f = RandomForestRegressor(random_state=12345, max_depth=4, n_estimators=9)\n",
    "best_model_f.fit(features_train,target_final_train)\n",
    "prediction_final = best_model_f.predict(features_test)\n",
    "smape_fin = sMAPE(target_final_test,prediction_final)\n",
    "\n",
    "smape_final = result_smape(smape_roug,smape_fin)\n",
    "print(smape_final)"
   ]
  },
  {
   "cell_type": "code",
   "execution_count": 50,
   "metadata": {},
   "outputs": [
    {
     "name": "stdout",
     "output_type": "stream",
     "text": [
      "10.289630376021035\n"
     ]
    }
   ],
   "source": [
    "dummy_reg_r = DummyRegressor(strategy='mean')\n",
    "dummy_reg_r.fit(features_train, target_rougher_train)\n",
    "dummy_r = dummy_reg_r.predict(features_test)\n",
    "smape_dummy_r = sMAPE(target_rougher_test,dummy_r)\n",
    "\n",
    "dummy_reg_f = DummyRegressor(strategy='mean')\n",
    "dummy_reg_f.fit(features_train, target_final_train)\n",
    "dummy_f = dummy_reg_f.predict(features_test)\n",
    "smape_dummy_f = sMAPE(target_final_test,dummy_f)\n",
    "\n",
    "smape_dummy = result_smape(smape_dummy_r,smape_dummy_f)\n",
    "print(smape_dummy)"
   ]
  },
  {
   "cell_type": "markdown",
   "metadata": {},
   "source": [
    "**Вывод:**\n",
    "При обучении моделий кросвалидацией, лучшее значение итоговой sMAPE показала модель \"Случайный лес\" = 10,3 с количеством деревьев 9 и глубиной 4.\n",
    "При тестирование этой модели на тестовой выборке, значение итоговой sMAPE = 9,76 оно меньше чем значение sMAPE модели, которая выдает средние предсказания, а это значит, модель обучается верно и предсказывает верный результат."
   ]
  },
  {
   "cell_type": "markdown",
   "metadata": {},
   "source": [
    "**Общий Вывод:**<br>\n",
    "1. В ходе выполнения проекта, мы познакомились с данными, и провели предобработку данных.<br>\n",
    "Посчитали эффективность обогащения золота и определили среднюю абсолютную ошибку между посчинанным Recovery и значением признака rougher.output.recovery. Сделали вывод о том что эффективность посчитанна верно.<br>\n",
    "2. Определили изменение концентрации металлов на каждом из этапов очиски.<br>\n",
    "Опредедлили что размеров гранул сырья в обучаемой и тестовой выборках, идентичны.<br>\n",
    "так же посчитали суммарную концентрация веществ на разных стадиях очистки и удалили анамальные значения.<br>\n",
    "3. Написали функция для подсчета метрик качества обучения моделий, симметричного среднего абсолютного процентного отклонения и итогового.<br>\n",
    "Обучили три различные модели и определили для каждой sMAPE. Лучшей для обучения как всегда оказалась модель \"Случайный лес\", и как обычно обучение данной моделью занимает больше всего времени. <br>\n",
    "Проверели модель случайный лес на тестовой выборке, и проверели модель на вменяемость.<br>"
   ]
  },
  {
   "cell_type": "markdown",
   "metadata": {},
   "source": [
    "## Чек-лист готовности проекта"
   ]
  },
  {
   "cell_type": "markdown",
   "metadata": {},
   "source": [
    "- [x]  Jupyter Notebook открыт\n",
    "- [x]  Весь код выполняется без ошибок\n",
    "- [x]  Ячейки с кодом расположены в порядке выполнения\n",
    "- [x]  Выполнен шаг 1: данные подготовлены\n",
    "    - [x]  Проверена формула вычисления эффективности обогащения\n",
    "    - [x]  Проанализированы признаки, недоступные в тестовой выборке\n",
    "    - [x]  Проведена предобработка данных\n",
    "- [x]  Выполнен шаг 2: данные проанализированы\n",
    "    - [x]  Исследовано изменение концентрации элементов на каждом этапе\n",
    "    - [x]  Проанализированы распределения размеров гранул на обучающей и тестовой выборках\n",
    "    - [x]  Исследованы суммарные концентрации\n",
    "- [x]  Выполнен шаг 3: построена модель прогнозирования\n",
    "    - [x]  Написана функция для вычисления итогового *sMAPE*\n",
    "    - [x]  Обучено и проверено несколько моделей\n",
    "    - [x]  Выбрана лучшая модель, её качество проверено на тестовой выборке"
   ]
  }
 ],
 "metadata": {
  "ExecuteTimeLog": [
   {
    "duration": 1592,
    "start_time": "2022-11-22T10:10:49.447Z"
   },
   {
    "duration": 134,
    "start_time": "2022-11-22T10:10:52.652Z"
   },
   {
    "duration": 3100,
    "start_time": "2022-11-22T10:12:06.838Z"
   },
   {
    "duration": 7,
    "start_time": "2022-11-22T10:12:10.035Z"
   },
   {
    "duration": 75,
    "start_time": "2022-11-22T10:12:24.593Z"
   },
   {
    "duration": 28,
    "start_time": "2022-11-22T10:12:41.948Z"
   },
   {
    "duration": 26,
    "start_time": "2022-11-22T10:12:52.991Z"
   },
   {
    "duration": 28,
    "start_time": "2022-11-22T10:12:59.019Z"
   },
   {
    "duration": 28,
    "start_time": "2022-11-22T10:26:37.547Z"
   },
   {
    "duration": 27,
    "start_time": "2022-11-22T10:27:32.583Z"
   },
   {
    "duration": 29,
    "start_time": "2022-11-22T10:27:42.818Z"
   },
   {
    "duration": 9,
    "start_time": "2022-11-22T11:30:15.181Z"
   },
   {
    "duration": 42,
    "start_time": "2022-11-22T11:30:32.971Z"
   },
   {
    "duration": 6,
    "start_time": "2022-11-22T11:30:38.127Z"
   },
   {
    "duration": 1403,
    "start_time": "2022-11-22T11:30:40.924Z"
   },
   {
    "duration": 654,
    "start_time": "2022-11-22T11:30:43.162Z"
   },
   {
    "duration": 3,
    "start_time": "2022-11-22T11:30:45.376Z"
   },
   {
    "duration": 98,
    "start_time": "2022-11-22T11:30:47.461Z"
   },
   {
    "duration": 3,
    "start_time": "2022-11-22T11:31:09.766Z"
   },
   {
    "duration": 40,
    "start_time": "2022-11-22T11:31:11.572Z"
   },
   {
    "duration": 3,
    "start_time": "2022-11-22T11:33:06.243Z"
   },
   {
    "duration": 43,
    "start_time": "2022-11-22T11:33:08.372Z"
   },
   {
    "duration": 3,
    "start_time": "2022-11-22T11:33:45.853Z"
   },
   {
    "duration": 40,
    "start_time": "2022-11-22T11:33:48.410Z"
   },
   {
    "duration": 3,
    "start_time": "2022-11-22T11:34:10.439Z"
   },
   {
    "duration": 232,
    "start_time": "2022-11-22T11:34:12.541Z"
   },
   {
    "duration": 4,
    "start_time": "2022-11-22T11:35:21.624Z"
   },
   {
    "duration": 387,
    "start_time": "2022-11-22T11:35:24.367Z"
   },
   {
    "duration": 205,
    "start_time": "2022-11-22T11:36:59.610Z"
   },
   {
    "duration": 421,
    "start_time": "2022-11-22T11:38:03.944Z"
   },
   {
    "duration": 1529,
    "start_time": "2022-11-22T17:49:28.829Z"
   },
   {
    "duration": 3059,
    "start_time": "2022-11-22T17:49:30.360Z"
   },
   {
    "duration": 4,
    "start_time": "2022-11-22T17:49:33.421Z"
   },
   {
    "duration": 472,
    "start_time": "2022-11-22T17:49:33.426Z"
   },
   {
    "duration": 244,
    "start_time": "2022-11-22T17:49:33.916Z"
   },
   {
    "duration": 485,
    "start_time": "2022-11-22T17:49:34.161Z"
   },
   {
    "duration": 69,
    "start_time": "2022-11-22T19:24:06.517Z"
   },
   {
    "duration": 9,
    "start_time": "2022-11-22T20:09:17.729Z"
   },
   {
    "duration": 8,
    "start_time": "2022-11-22T20:12:36.043Z"
   },
   {
    "duration": 119,
    "start_time": "2022-11-22T20:14:04.969Z"
   },
   {
    "duration": 3,
    "start_time": "2022-11-22T20:14:40.795Z"
   },
   {
    "duration": 4,
    "start_time": "2022-11-22T20:14:44.772Z"
   },
   {
    "duration": 6,
    "start_time": "2022-11-22T20:14:52.759Z"
   },
   {
    "duration": 9,
    "start_time": "2022-11-22T20:15:47.079Z"
   },
   {
    "duration": 4,
    "start_time": "2022-11-22T20:15:55.538Z"
   },
   {
    "duration": 5,
    "start_time": "2022-11-22T20:16:00.936Z"
   },
   {
    "duration": 6,
    "start_time": "2022-11-22T20:18:51.231Z"
   },
   {
    "duration": 6,
    "start_time": "2022-11-22T20:19:05.146Z"
   },
   {
    "duration": 7,
    "start_time": "2022-11-22T20:19:32.928Z"
   },
   {
    "duration": 5,
    "start_time": "2022-11-22T20:19:38.943Z"
   },
   {
    "duration": 8,
    "start_time": "2022-11-22T20:19:52.027Z"
   },
   {
    "duration": 5,
    "start_time": "2022-11-22T20:19:57.251Z"
   },
   {
    "duration": 4,
    "start_time": "2022-11-22T20:24:47.349Z"
   },
   {
    "duration": 8,
    "start_time": "2022-11-22T20:25:11.784Z"
   },
   {
    "duration": 1937,
    "start_time": "2022-11-23T07:40:04.790Z"
   },
   {
    "duration": 1990,
    "start_time": "2022-11-23T07:40:06.730Z"
   },
   {
    "duration": 4,
    "start_time": "2022-11-23T07:40:08.721Z"
   },
   {
    "duration": 434,
    "start_time": "2022-11-23T07:40:08.728Z"
   },
   {
    "duration": 221,
    "start_time": "2022-11-23T07:40:09.177Z"
   },
   {
    "duration": 417,
    "start_time": "2022-11-23T07:40:09.400Z"
   },
   {
    "duration": 11,
    "start_time": "2022-11-23T07:40:09.819Z"
   },
   {
    "duration": 5,
    "start_time": "2022-11-23T07:40:09.831Z"
   },
   {
    "duration": 40,
    "start_time": "2022-11-23T07:40:09.838Z"
   },
   {
    "duration": 3,
    "start_time": "2022-11-23T09:10:52.904Z"
   },
   {
    "duration": 7,
    "start_time": "2022-11-23T09:11:37.994Z"
   },
   {
    "duration": 3,
    "start_time": "2022-11-23T09:12:21.137Z"
   },
   {
    "duration": 10,
    "start_time": "2022-11-23T09:12:23.403Z"
   },
   {
    "duration": 3,
    "start_time": "2022-11-23T09:13:07.442Z"
   },
   {
    "duration": 27,
    "start_time": "2022-11-23T09:13:10.296Z"
   },
   {
    "duration": 3,
    "start_time": "2022-11-23T09:13:30.322Z"
   },
   {
    "duration": 98,
    "start_time": "2022-11-23T09:13:36.809Z"
   },
   {
    "duration": 4,
    "start_time": "2022-11-23T09:13:55.910Z"
   },
   {
    "duration": 29,
    "start_time": "2022-11-23T09:13:58.642Z"
   },
   {
    "duration": 4,
    "start_time": "2022-11-23T09:14:55.198Z"
   },
   {
    "duration": 31,
    "start_time": "2022-11-23T09:14:57.689Z"
   },
   {
    "duration": 23,
    "start_time": "2022-11-23T09:17:37.934Z"
   },
   {
    "duration": 34,
    "start_time": "2022-11-23T09:17:43.359Z"
   },
   {
    "duration": 3,
    "start_time": "2022-11-23T09:26:59.307Z"
   },
   {
    "duration": 5,
    "start_time": "2022-11-23T09:27:23.403Z"
   },
   {
    "duration": 65,
    "start_time": "2022-11-23T09:29:10.861Z"
   },
   {
    "duration": 3,
    "start_time": "2022-11-23T09:29:40.271Z"
   },
   {
    "duration": 9,
    "start_time": "2022-11-23T09:29:42.945Z"
   },
   {
    "duration": 7,
    "start_time": "2022-11-23T09:29:46.402Z"
   },
   {
    "duration": 12,
    "start_time": "2022-11-23T09:29:49.332Z"
   },
   {
    "duration": 5,
    "start_time": "2022-11-23T09:31:03.413Z"
   },
   {
    "duration": 3,
    "start_time": "2022-11-23T09:31:05.973Z"
   },
   {
    "duration": 7,
    "start_time": "2022-11-23T09:31:08.534Z"
   },
   {
    "duration": 135,
    "start_time": "2022-11-23T09:33:09.313Z"
   },
   {
    "duration": 40,
    "start_time": "2022-11-23T09:33:21.662Z"
   },
   {
    "duration": 33,
    "start_time": "2022-11-23T09:33:46.577Z"
   },
   {
    "duration": 6,
    "start_time": "2022-11-23T09:40:04.549Z"
   },
   {
    "duration": 11,
    "start_time": "2022-11-23T10:37:34.061Z"
   },
   {
    "duration": 18,
    "start_time": "2022-11-23T10:37:38.286Z"
   },
   {
    "duration": 6,
    "start_time": "2022-11-23T10:38:00.652Z"
   },
   {
    "duration": 17,
    "start_time": "2022-11-23T10:38:06.763Z"
   },
   {
    "duration": 13,
    "start_time": "2022-11-23T10:39:30.725Z"
   },
   {
    "duration": 17,
    "start_time": "2022-11-23T10:56:06.158Z"
   },
   {
    "duration": 6,
    "start_time": "2022-11-23T10:56:10.743Z"
   },
   {
    "duration": 776,
    "start_time": "2022-11-23T10:56:12.898Z"
   },
   {
    "duration": 800,
    "start_time": "2022-11-23T10:56:27.539Z"
   },
   {
    "duration": 734,
    "start_time": "2022-11-23T10:57:29.600Z"
   },
   {
    "duration": 14,
    "start_time": "2022-11-23T10:59:21.974Z"
   },
   {
    "duration": 3,
    "start_time": "2022-11-23T10:59:26.293Z"
   },
   {
    "duration": 3,
    "start_time": "2022-11-23T10:59:28.372Z"
   },
   {
    "duration": 795,
    "start_time": "2022-11-23T10:59:31.626Z"
   },
   {
    "duration": 4,
    "start_time": "2022-11-23T11:00:25.842Z"
   },
   {
    "duration": 781,
    "start_time": "2022-11-23T11:00:28.660Z"
   },
   {
    "duration": 813,
    "start_time": "2022-11-23T11:01:00.937Z"
   },
   {
    "duration": 818,
    "start_time": "2022-11-23T11:01:09.330Z"
   },
   {
    "duration": 85,
    "start_time": "2022-11-23T11:09:27.954Z"
   },
   {
    "duration": 4,
    "start_time": "2022-11-23T11:10:01.031Z"
   },
   {
    "duration": 16,
    "start_time": "2022-11-23T11:10:30.625Z"
   },
   {
    "duration": 3,
    "start_time": "2022-11-23T11:10:47.455Z"
   },
   {
    "duration": 4,
    "start_time": "2022-11-23T11:10:50.442Z"
   },
   {
    "duration": 30,
    "start_time": "2022-11-23T11:10:52.869Z"
   },
   {
    "duration": 6,
    "start_time": "2022-11-23T11:13:01.502Z"
   },
   {
    "duration": 789,
    "start_time": "2022-11-23T11:13:03.995Z"
   },
   {
    "duration": 4,
    "start_time": "2022-11-23T11:15:06.697Z"
   },
   {
    "duration": 802,
    "start_time": "2022-11-23T11:15:14.832Z"
   },
   {
    "duration": 10,
    "start_time": "2022-11-23T11:15:41.078Z"
   },
   {
    "duration": 780,
    "start_time": "2022-11-23T11:15:43.969Z"
   },
   {
    "duration": 4,
    "start_time": "2022-11-23T11:15:58.798Z"
   },
   {
    "duration": 766,
    "start_time": "2022-11-23T11:16:01.272Z"
   },
   {
    "duration": 4,
    "start_time": "2022-11-23T11:16:33.198Z"
   },
   {
    "duration": 769,
    "start_time": "2022-11-23T11:16:38.030Z"
   },
   {
    "duration": 774,
    "start_time": "2022-11-23T11:19:06.045Z"
   },
   {
    "duration": 736,
    "start_time": "2022-11-23T11:20:10.786Z"
   },
   {
    "duration": 770,
    "start_time": "2022-11-23T11:20:27.175Z"
   },
   {
    "duration": 761,
    "start_time": "2022-11-23T11:21:04.569Z"
   },
   {
    "duration": 7,
    "start_time": "2022-11-23T11:21:57.890Z"
   },
   {
    "duration": 3,
    "start_time": "2022-11-23T11:22:00.714Z"
   },
   {
    "duration": 3,
    "start_time": "2022-11-23T11:22:03.272Z"
   },
   {
    "duration": 4,
    "start_time": "2022-11-23T11:22:06.145Z"
   },
   {
    "duration": 780,
    "start_time": "2022-11-23T11:22:09.690Z"
   },
   {
    "duration": 828,
    "start_time": "2022-11-23T11:22:14.106Z"
   },
   {
    "duration": 883,
    "start_time": "2022-11-23T11:22:18.423Z"
   },
   {
    "duration": 484,
    "start_time": "2022-11-23T12:04:01.630Z"
   },
   {
    "duration": 617,
    "start_time": "2022-11-23T12:04:48.766Z"
   },
   {
    "duration": 357,
    "start_time": "2022-11-23T12:05:07.562Z"
   },
   {
    "duration": 378,
    "start_time": "2022-11-23T12:05:31.318Z"
   },
   {
    "duration": 402,
    "start_time": "2022-11-23T12:05:38.736Z"
   },
   {
    "duration": 512,
    "start_time": "2022-11-23T12:08:04.492Z"
   },
   {
    "duration": 336,
    "start_time": "2022-11-23T12:09:24.497Z"
   },
   {
    "duration": 346,
    "start_time": "2022-11-23T12:09:56.212Z"
   },
   {
    "duration": 13,
    "start_time": "2022-11-23T12:16:04.443Z"
   },
   {
    "duration": 13,
    "start_time": "2022-11-23T12:16:09.410Z"
   },
   {
    "duration": 335,
    "start_time": "2022-11-23T12:16:24.233Z"
   },
   {
    "duration": 353,
    "start_time": "2022-11-23T12:23:25.386Z"
   },
   {
    "duration": 464,
    "start_time": "2022-11-23T12:26:55.607Z"
   },
   {
    "duration": 385,
    "start_time": "2022-11-23T12:27:41.081Z"
   },
   {
    "duration": 9,
    "start_time": "2022-11-23T12:47:25.546Z"
   },
   {
    "duration": 16,
    "start_time": "2022-11-23T12:48:42.111Z"
   },
   {
    "duration": 15,
    "start_time": "2022-11-23T12:49:08.115Z"
   },
   {
    "duration": 14,
    "start_time": "2022-11-23T12:49:16.581Z"
   },
   {
    "duration": 13,
    "start_time": "2022-11-23T12:49:46.370Z"
   },
   {
    "duration": 12,
    "start_time": "2022-11-23T12:49:53.676Z"
   },
   {
    "duration": 4,
    "start_time": "2022-11-23T12:56:20.947Z"
   },
   {
    "duration": 5,
    "start_time": "2022-11-23T12:59:39.606Z"
   },
   {
    "duration": 6,
    "start_time": "2022-11-23T13:00:04.390Z"
   },
   {
    "duration": 15,
    "start_time": "2022-11-23T13:00:39.781Z"
   },
   {
    "duration": 6,
    "start_time": "2022-11-23T13:01:41.845Z"
   },
   {
    "duration": 6,
    "start_time": "2022-11-23T13:02:55.185Z"
   },
   {
    "duration": 6,
    "start_time": "2022-11-23T13:03:59.562Z"
   },
   {
    "duration": 3,
    "start_time": "2022-11-23T13:06:14.890Z"
   },
   {
    "duration": 11,
    "start_time": "2022-11-23T13:06:37.894Z"
   },
   {
    "duration": 3,
    "start_time": "2022-11-23T13:09:03.861Z"
   },
   {
    "duration": 10,
    "start_time": "2022-11-23T13:09:05.398Z"
   },
   {
    "duration": 9,
    "start_time": "2022-11-23T13:13:03.420Z"
   },
   {
    "duration": 12,
    "start_time": "2022-11-23T13:13:16.210Z"
   },
   {
    "duration": 11,
    "start_time": "2022-11-23T13:13:41.741Z"
   },
   {
    "duration": 17,
    "start_time": "2022-11-23T13:14:45.673Z"
   },
   {
    "duration": 13,
    "start_time": "2022-11-23T13:15:04.191Z"
   },
   {
    "duration": 9,
    "start_time": "2022-11-23T13:15:49.411Z"
   },
   {
    "duration": 9,
    "start_time": "2022-11-23T13:16:16.643Z"
   },
   {
    "duration": 10,
    "start_time": "2022-11-23T13:20:22.409Z"
   },
   {
    "duration": 17,
    "start_time": "2022-11-23T13:21:42.000Z"
   },
   {
    "duration": 68,
    "start_time": "2022-11-23T17:59:13.946Z"
   },
   {
    "duration": 1670,
    "start_time": "2022-11-23T18:02:39.227Z"
   },
   {
    "duration": 3063,
    "start_time": "2022-11-23T18:02:41.387Z"
   },
   {
    "duration": 5,
    "start_time": "2022-11-23T18:02:44.453Z"
   },
   {
    "duration": 482,
    "start_time": "2022-11-23T18:02:44.459Z"
   },
   {
    "duration": 224,
    "start_time": "2022-11-23T18:02:45.045Z"
   },
   {
    "duration": 467,
    "start_time": "2022-11-23T18:02:46.336Z"
   },
   {
    "duration": 10,
    "start_time": "2022-11-23T18:02:49.796Z"
   },
   {
    "duration": 8,
    "start_time": "2022-11-23T18:02:51.103Z"
   },
   {
    "duration": 8,
    "start_time": "2022-11-23T18:02:52.133Z"
   },
   {
    "duration": 3,
    "start_time": "2022-11-23T18:02:54.290Z"
   },
   {
    "duration": 7,
    "start_time": "2022-11-23T18:02:54.965Z"
   },
   {
    "duration": 7,
    "start_time": "2022-11-23T18:02:57.926Z"
   },
   {
    "duration": 7,
    "start_time": "2022-11-23T18:03:00.213Z"
   },
   {
    "duration": 4,
    "start_time": "2022-11-23T18:03:08.333Z"
   },
   {
    "duration": 6,
    "start_time": "2022-11-23T18:03:08.886Z"
   },
   {
    "duration": 4,
    "start_time": "2022-11-23T18:03:09.418Z"
   },
   {
    "duration": 8,
    "start_time": "2022-11-23T18:03:10.021Z"
   },
   {
    "duration": 31,
    "start_time": "2022-11-23T18:03:12.702Z"
   },
   {
    "duration": 54,
    "start_time": "2022-11-23T18:03:14.421Z"
   },
   {
    "duration": 7,
    "start_time": "2022-11-23T18:03:19.312Z"
   },
   {
    "duration": 3,
    "start_time": "2022-11-23T18:03:19.874Z"
   },
   {
    "duration": 3,
    "start_time": "2022-11-23T18:03:20.486Z"
   },
   {
    "duration": 3,
    "start_time": "2022-11-23T18:03:21.790Z"
   },
   {
    "duration": 800,
    "start_time": "2022-11-23T18:03:22.791Z"
   },
   {
    "duration": 745,
    "start_time": "2022-11-23T18:03:23.668Z"
   },
   {
    "duration": 769,
    "start_time": "2022-11-23T18:03:29.801Z"
   },
   {
    "duration": 426,
    "start_time": "2022-11-23T18:03:34.837Z"
   },
   {
    "duration": 343,
    "start_time": "2022-11-23T18:03:37.387Z"
   },
   {
    "duration": 874,
    "start_time": "2022-11-23T18:03:42.176Z"
   },
   {
    "duration": 766,
    "start_time": "2022-11-23T18:07:12.612Z"
   },
   {
    "duration": 13,
    "start_time": "2022-11-23T18:07:46.922Z"
   },
   {
    "duration": 53,
    "start_time": "2022-11-23T18:09:00.109Z"
   },
   {
    "duration": 27,
    "start_time": "2022-11-23T18:11:04.596Z"
   },
   {
    "duration": 12,
    "start_time": "2022-11-23T18:11:48.812Z"
   },
   {
    "duration": 14,
    "start_time": "2022-11-23T18:11:54.480Z"
   },
   {
    "duration": 24,
    "start_time": "2022-11-23T18:12:15.828Z"
   },
   {
    "duration": 26,
    "start_time": "2022-11-23T18:12:23.871Z"
   },
   {
    "duration": 5334,
    "start_time": "2022-11-23T18:28:12.176Z"
   },
   {
    "duration": 20,
    "start_time": "2022-11-23T18:30:40.987Z"
   },
   {
    "duration": 53,
    "start_time": "2022-11-23T18:33:19.171Z"
   },
   {
    "duration": 13,
    "start_time": "2022-11-23T18:56:26.764Z"
   },
   {
    "duration": 26,
    "start_time": "2022-11-23T18:56:29.609Z"
   },
   {
    "duration": 11,
    "start_time": "2022-11-23T18:56:32.235Z"
   },
   {
    "duration": 3,
    "start_time": "2022-11-23T19:01:00.422Z"
   },
   {
    "duration": 23,
    "start_time": "2022-11-23T19:01:53.118Z"
   },
   {
    "duration": 8,
    "start_time": "2022-11-23T19:01:56.204Z"
   },
   {
    "duration": 3,
    "start_time": "2022-11-23T19:01:59.213Z"
   },
   {
    "duration": 41,
    "start_time": "2022-11-23T19:04:42.173Z"
   },
   {
    "duration": 53,
    "start_time": "2022-11-23T19:04:45.918Z"
   },
   {
    "duration": 12,
    "start_time": "2022-11-23T19:05:14.914Z"
   },
   {
    "duration": 8,
    "start_time": "2022-11-23T19:05:18.285Z"
   },
   {
    "duration": 14,
    "start_time": "2022-11-23T19:05:35.282Z"
   },
   {
    "duration": 4,
    "start_time": "2022-11-23T19:05:37.470Z"
   },
   {
    "duration": 3,
    "start_time": "2022-11-23T19:05:39.588Z"
   },
   {
    "duration": 14,
    "start_time": "2022-11-23T19:05:55.566Z"
   },
   {
    "duration": 5,
    "start_time": "2022-11-23T19:05:57.292Z"
   },
   {
    "duration": 4,
    "start_time": "2022-11-23T19:05:58.910Z"
   },
   {
    "duration": 1452,
    "start_time": "2022-11-23T19:06:08.528Z"
   },
   {
    "duration": 778,
    "start_time": "2022-11-23T19:06:09.982Z"
   },
   {
    "duration": 3,
    "start_time": "2022-11-23T19:06:10.762Z"
   },
   {
    "duration": 439,
    "start_time": "2022-11-23T19:06:10.767Z"
   },
   {
    "duration": 213,
    "start_time": "2022-11-23T19:06:11.207Z"
   },
   {
    "duration": 436,
    "start_time": "2022-11-23T19:06:11.439Z"
   },
   {
    "duration": 9,
    "start_time": "2022-11-23T19:06:11.876Z"
   },
   {
    "duration": 6,
    "start_time": "2022-11-23T19:06:11.887Z"
   },
   {
    "duration": 6,
    "start_time": "2022-11-23T19:06:11.894Z"
   },
   {
    "duration": 7,
    "start_time": "2022-11-23T19:06:11.902Z"
   },
   {
    "duration": 38,
    "start_time": "2022-11-23T19:06:11.910Z"
   },
   {
    "duration": 7,
    "start_time": "2022-11-23T19:06:11.950Z"
   },
   {
    "duration": 10,
    "start_time": "2022-11-23T19:06:11.959Z"
   },
   {
    "duration": 13,
    "start_time": "2022-11-23T19:06:11.971Z"
   },
   {
    "duration": 10,
    "start_time": "2022-11-23T19:06:11.985Z"
   },
   {
    "duration": 4,
    "start_time": "2022-11-23T19:06:11.996Z"
   },
   {
    "duration": 19,
    "start_time": "2022-11-23T19:06:12.001Z"
   },
   {
    "duration": 43,
    "start_time": "2022-11-23T19:06:12.022Z"
   },
   {
    "duration": 45,
    "start_time": "2022-11-23T19:06:12.066Z"
   },
   {
    "duration": 6,
    "start_time": "2022-11-23T19:06:12.112Z"
   },
   {
    "duration": 7,
    "start_time": "2022-11-23T19:06:12.141Z"
   },
   {
    "duration": 8,
    "start_time": "2022-11-23T19:06:12.151Z"
   },
   {
    "duration": 6,
    "start_time": "2022-11-23T19:06:12.161Z"
   },
   {
    "duration": 837,
    "start_time": "2022-11-23T19:06:12.169Z"
   },
   {
    "duration": 764,
    "start_time": "2022-11-23T19:06:13.007Z"
   },
   {
    "duration": 697,
    "start_time": "2022-11-23T19:06:13.773Z"
   },
   {
    "duration": 370,
    "start_time": "2022-11-23T19:06:14.472Z"
   },
   {
    "duration": 331,
    "start_time": "2022-11-23T19:06:14.847Z"
   },
   {
    "duration": 64,
    "start_time": "2022-11-23T19:06:15.180Z"
   },
   {
    "duration": 37,
    "start_time": "2022-11-23T19:06:15.247Z"
   },
   {
    "duration": 5525,
    "start_time": "2022-11-23T19:06:15.286Z"
   },
   {
    "duration": 36,
    "start_time": "2022-11-23T19:06:20.813Z"
   },
   {
    "duration": 28,
    "start_time": "2022-11-23T19:06:20.852Z"
   },
   {
    "duration": 23,
    "start_time": "2022-11-23T19:06:20.882Z"
   },
   {
    "duration": 3,
    "start_time": "2022-11-23T19:53:40.241Z"
   },
   {
    "duration": 46,
    "start_time": "2022-11-23T20:16:53.755Z"
   },
   {
    "duration": 4,
    "start_time": "2022-11-23T20:17:18.992Z"
   },
   {
    "duration": 3,
    "start_time": "2022-11-23T20:17:57.882Z"
   },
   {
    "duration": 4,
    "start_time": "2022-11-23T20:21:32.607Z"
   },
   {
    "duration": 1529,
    "start_time": "2022-11-24T08:04:14.343Z"
   },
   {
    "duration": 1837,
    "start_time": "2022-11-24T08:04:15.874Z"
   },
   {
    "duration": 4,
    "start_time": "2022-11-24T08:04:17.712Z"
   },
   {
    "duration": 393,
    "start_time": "2022-11-24T08:04:17.719Z"
   },
   {
    "duration": 207,
    "start_time": "2022-11-24T08:04:18.114Z"
   },
   {
    "duration": 392,
    "start_time": "2022-11-24T08:04:18.322Z"
   },
   {
    "duration": 9,
    "start_time": "2022-11-24T08:04:18.715Z"
   },
   {
    "duration": 34,
    "start_time": "2022-11-24T08:04:18.725Z"
   },
   {
    "duration": 17,
    "start_time": "2022-11-24T08:04:18.760Z"
   },
   {
    "duration": 43,
    "start_time": "2022-11-24T08:04:18.780Z"
   },
   {
    "duration": 39,
    "start_time": "2022-11-24T08:04:18.825Z"
   },
   {
    "duration": 53,
    "start_time": "2022-11-24T08:04:18.865Z"
   },
   {
    "duration": 61,
    "start_time": "2022-11-24T08:04:18.920Z"
   },
   {
    "duration": 22,
    "start_time": "2022-11-24T08:04:18.982Z"
   },
   {
    "duration": 53,
    "start_time": "2022-11-24T08:04:19.006Z"
   },
   {
    "duration": 33,
    "start_time": "2022-11-24T08:04:19.060Z"
   },
   {
    "duration": 39,
    "start_time": "2022-11-24T08:04:19.094Z"
   },
   {
    "duration": 50,
    "start_time": "2022-11-24T08:04:19.135Z"
   },
   {
    "duration": 49,
    "start_time": "2022-11-24T08:04:19.187Z"
   },
   {
    "duration": 6,
    "start_time": "2022-11-24T08:04:19.238Z"
   },
   {
    "duration": 21,
    "start_time": "2022-11-24T08:04:19.245Z"
   },
   {
    "duration": 42,
    "start_time": "2022-11-24T08:04:19.268Z"
   },
   {
    "duration": 12,
    "start_time": "2022-11-24T08:04:19.312Z"
   },
   {
    "duration": 727,
    "start_time": "2022-11-24T08:04:19.325Z"
   },
   {
    "duration": 659,
    "start_time": "2022-11-24T08:04:20.053Z"
   },
   {
    "duration": 695,
    "start_time": "2022-11-24T08:04:20.714Z"
   },
   {
    "duration": 364,
    "start_time": "2022-11-24T08:04:21.410Z"
   },
   {
    "duration": 313,
    "start_time": "2022-11-24T08:04:21.777Z"
   },
   {
    "duration": 51,
    "start_time": "2022-11-24T08:04:22.092Z"
   },
   {
    "duration": 46,
    "start_time": "2022-11-24T08:04:22.145Z"
   },
   {
    "duration": 5357,
    "start_time": "2022-11-24T08:04:22.193Z"
   },
   {
    "duration": 20,
    "start_time": "2022-11-24T08:04:27.552Z"
   },
   {
    "duration": 23,
    "start_time": "2022-11-24T08:04:27.574Z"
   },
   {
    "duration": 32,
    "start_time": "2022-11-24T08:04:27.599Z"
   },
   {
    "duration": 27,
    "start_time": "2022-11-24T08:04:27.633Z"
   },
   {
    "duration": 116,
    "start_time": "2022-11-24T08:23:20.277Z"
   },
   {
    "duration": 11,
    "start_time": "2022-11-24T08:23:50.426Z"
   },
   {
    "duration": 24,
    "start_time": "2022-11-24T08:23:53.690Z"
   },
   {
    "duration": 17,
    "start_time": "2022-11-24T08:24:00.717Z"
   },
   {
    "duration": 18,
    "start_time": "2022-11-24T08:24:44.818Z"
   },
   {
    "duration": 16,
    "start_time": "2022-11-24T08:24:48.297Z"
   },
   {
    "duration": 20,
    "start_time": "2022-11-24T08:26:48.444Z"
   },
   {
    "duration": 32,
    "start_time": "2022-11-24T08:27:24.623Z"
   },
   {
    "duration": 18,
    "start_time": "2022-11-24T08:28:13.182Z"
   },
   {
    "duration": 1370,
    "start_time": "2022-11-24T08:29:58.770Z"
   },
   {
    "duration": 677,
    "start_time": "2022-11-24T08:30:00.142Z"
   },
   {
    "duration": 3,
    "start_time": "2022-11-24T08:30:00.821Z"
   },
   {
    "duration": 455,
    "start_time": "2022-11-24T08:30:00.826Z"
   },
   {
    "duration": 217,
    "start_time": "2022-11-24T08:30:01.283Z"
   },
   {
    "duration": 402,
    "start_time": "2022-11-24T08:30:01.502Z"
   },
   {
    "duration": 8,
    "start_time": "2022-11-24T08:30:01.905Z"
   },
   {
    "duration": 41,
    "start_time": "2022-11-24T08:30:01.915Z"
   },
   {
    "duration": 60,
    "start_time": "2022-11-24T08:30:01.957Z"
   },
   {
    "duration": 48,
    "start_time": "2022-11-24T08:30:02.019Z"
   },
   {
    "duration": 47,
    "start_time": "2022-11-24T08:30:02.068Z"
   },
   {
    "duration": 38,
    "start_time": "2022-11-24T08:30:02.117Z"
   },
   {
    "duration": 35,
    "start_time": "2022-11-24T08:30:02.156Z"
   },
   {
    "duration": 22,
    "start_time": "2022-11-24T08:30:02.194Z"
   },
   {
    "duration": 33,
    "start_time": "2022-11-24T08:30:02.217Z"
   },
   {
    "duration": 21,
    "start_time": "2022-11-24T08:30:02.252Z"
   },
   {
    "duration": 29,
    "start_time": "2022-11-24T08:30:02.275Z"
   },
   {
    "duration": 38,
    "start_time": "2022-11-24T08:30:02.306Z"
   },
   {
    "duration": 98,
    "start_time": "2022-11-24T08:30:02.346Z"
   },
   {
    "duration": 7,
    "start_time": "2022-11-24T08:30:02.447Z"
   },
   {
    "duration": 40,
    "start_time": "2022-11-24T08:30:02.455Z"
   },
   {
    "duration": 25,
    "start_time": "2022-11-24T08:30:02.498Z"
   },
   {
    "duration": 28,
    "start_time": "2022-11-24T08:30:02.526Z"
   },
   {
    "duration": 790,
    "start_time": "2022-11-24T08:30:02.556Z"
   },
   {
    "duration": 717,
    "start_time": "2022-11-24T08:30:03.352Z"
   },
   {
    "duration": 706,
    "start_time": "2022-11-24T08:30:04.072Z"
   },
   {
    "duration": 396,
    "start_time": "2022-11-24T08:30:04.779Z"
   },
   {
    "duration": 340,
    "start_time": "2022-11-24T08:30:05.177Z"
   },
   {
    "duration": 62,
    "start_time": "2022-11-24T08:30:05.518Z"
   },
   {
    "duration": 37,
    "start_time": "2022-11-24T08:30:05.582Z"
   },
   {
    "duration": 5160,
    "start_time": "2022-11-24T08:30:05.620Z"
   },
   {
    "duration": 19,
    "start_time": "2022-11-24T08:30:10.782Z"
   },
   {
    "duration": 33,
    "start_time": "2022-11-24T08:30:10.803Z"
   },
   {
    "duration": 61,
    "start_time": "2022-11-24T08:30:10.838Z"
   },
   {
    "duration": 61,
    "start_time": "2022-11-24T08:30:10.901Z"
   },
   {
    "duration": 35,
    "start_time": "2022-11-24T08:30:10.964Z"
   },
   {
    "duration": 172,
    "start_time": "2022-11-24T08:30:11.001Z"
   },
   {
    "duration": 21,
    "start_time": "2022-11-24T08:30:37.034Z"
   },
   {
    "duration": 16,
    "start_time": "2022-11-24T08:30:55.004Z"
   },
   {
    "duration": 22,
    "start_time": "2022-11-24T08:43:50.379Z"
   },
   {
    "duration": 11,
    "start_time": "2022-11-24T08:43:53.009Z"
   },
   {
    "duration": 10,
    "start_time": "2022-11-24T08:44:18.771Z"
   },
   {
    "duration": 25,
    "start_time": "2022-11-24T08:44:54.941Z"
   },
   {
    "duration": 7,
    "start_time": "2022-11-24T08:44:57.269Z"
   },
   {
    "duration": 13,
    "start_time": "2022-11-24T08:45:02.792Z"
   },
   {
    "duration": 17,
    "start_time": "2022-11-24T08:45:22.608Z"
   },
   {
    "duration": 11,
    "start_time": "2022-11-24T08:45:33.001Z"
   },
   {
    "duration": 2367,
    "start_time": "2022-11-24T09:00:22.323Z"
   },
   {
    "duration": 1370,
    "start_time": "2022-11-24T09:00:24.692Z"
   },
   {
    "duration": 4,
    "start_time": "2022-11-24T09:00:26.064Z"
   },
   {
    "duration": 892,
    "start_time": "2022-11-24T09:00:26.070Z"
   },
   {
    "duration": 414,
    "start_time": "2022-11-24T09:00:26.965Z"
   },
   {
    "duration": 909,
    "start_time": "2022-11-24T09:00:27.381Z"
   },
   {
    "duration": 68,
    "start_time": "2022-11-24T09:00:28.291Z"
   },
   {
    "duration": 5,
    "start_time": "2022-11-24T09:00:28.361Z"
   },
   {
    "duration": 9,
    "start_time": "2022-11-24T09:00:28.368Z"
   },
   {
    "duration": 3,
    "start_time": "2022-11-24T09:00:28.378Z"
   },
   {
    "duration": 73,
    "start_time": "2022-11-24T09:00:28.382Z"
   },
   {
    "duration": 6,
    "start_time": "2022-11-24T09:00:28.457Z"
   },
   {
    "duration": 9,
    "start_time": "2022-11-24T09:00:28.465Z"
   },
   {
    "duration": 4,
    "start_time": "2022-11-24T09:00:28.477Z"
   },
   {
    "duration": 7,
    "start_time": "2022-11-24T09:00:28.483Z"
   },
   {
    "duration": 62,
    "start_time": "2022-11-24T09:00:28.492Z"
   },
   {
    "duration": 9,
    "start_time": "2022-11-24T09:00:28.556Z"
   },
   {
    "duration": 22,
    "start_time": "2022-11-24T09:00:28.567Z"
   },
   {
    "duration": 101,
    "start_time": "2022-11-24T09:00:28.652Z"
   },
   {
    "duration": 6,
    "start_time": "2022-11-24T09:00:28.755Z"
   },
   {
    "duration": 10,
    "start_time": "2022-11-24T09:00:28.763Z"
   },
   {
    "duration": 6,
    "start_time": "2022-11-24T09:00:28.775Z"
   },
   {
    "duration": 6,
    "start_time": "2022-11-24T09:00:28.782Z"
   },
   {
    "duration": 1365,
    "start_time": "2022-11-24T09:00:28.790Z"
   },
   {
    "duration": 1325,
    "start_time": "2022-11-24T09:00:30.157Z"
   },
   {
    "duration": 1312,
    "start_time": "2022-11-24T09:00:31.484Z"
   },
   {
    "duration": 808,
    "start_time": "2022-11-24T09:00:32.852Z"
   },
   {
    "duration": 623,
    "start_time": "2022-11-24T09:00:33.662Z"
   },
   {
    "duration": 110,
    "start_time": "2022-11-24T09:00:34.287Z"
   },
   {
    "duration": 38,
    "start_time": "2022-11-24T09:00:34.452Z"
   },
   {
    "duration": 10501,
    "start_time": "2022-11-24T09:00:34.491Z"
   },
   {
    "duration": 22,
    "start_time": "2022-11-24T09:00:45.052Z"
   },
   {
    "duration": 24,
    "start_time": "2022-11-24T09:00:45.075Z"
   },
   {
    "duration": 61,
    "start_time": "2022-11-24T09:00:45.101Z"
   },
   {
    "duration": 4,
    "start_time": "2022-11-24T09:00:45.164Z"
   },
   {
    "duration": 21,
    "start_time": "2022-11-24T09:00:45.170Z"
   },
   {
    "duration": 295,
    "start_time": "2022-11-24T09:00:45.194Z"
   },
   {
    "duration": 0,
    "start_time": "2022-11-24T09:00:45.491Z"
   },
   {
    "duration": 6,
    "start_time": "2022-11-24T09:12:58.388Z"
   },
   {
    "duration": 2286,
    "start_time": "2022-11-24T09:13:09.583Z"
   },
   {
    "duration": 1383,
    "start_time": "2022-11-24T09:13:11.871Z"
   },
   {
    "duration": 3,
    "start_time": "2022-11-24T09:13:13.256Z"
   },
   {
    "duration": 826,
    "start_time": "2022-11-24T09:13:13.261Z"
   },
   {
    "duration": 484,
    "start_time": "2022-11-24T09:13:14.089Z"
   },
   {
    "duration": 806,
    "start_time": "2022-11-24T09:13:14.576Z"
   },
   {
    "duration": 9,
    "start_time": "2022-11-24T09:13:15.383Z"
   },
   {
    "duration": 5,
    "start_time": "2022-11-24T09:13:15.452Z"
   },
   {
    "duration": 37,
    "start_time": "2022-11-24T09:13:15.459Z"
   },
   {
    "duration": 8,
    "start_time": "2022-11-24T09:13:15.498Z"
   },
   {
    "duration": 8,
    "start_time": "2022-11-24T09:13:15.553Z"
   },
   {
    "duration": 43,
    "start_time": "2022-11-24T09:13:15.562Z"
   },
   {
    "duration": 48,
    "start_time": "2022-11-24T09:13:15.607Z"
   },
   {
    "duration": 25,
    "start_time": "2022-11-24T09:13:15.658Z"
   },
   {
    "duration": 68,
    "start_time": "2022-11-24T09:13:15.684Z"
   },
   {
    "duration": 21,
    "start_time": "2022-11-24T09:13:15.754Z"
   },
   {
    "duration": 32,
    "start_time": "2022-11-24T09:13:15.777Z"
   },
   {
    "duration": 60,
    "start_time": "2022-11-24T09:13:15.810Z"
   },
   {
    "duration": 104,
    "start_time": "2022-11-24T09:13:15.872Z"
   },
   {
    "duration": 5,
    "start_time": "2022-11-24T09:13:15.978Z"
   },
   {
    "duration": 70,
    "start_time": "2022-11-24T09:13:15.984Z"
   },
   {
    "duration": 27,
    "start_time": "2022-11-24T09:13:16.056Z"
   },
   {
    "duration": 28,
    "start_time": "2022-11-24T09:13:16.085Z"
   },
   {
    "duration": 37,
    "start_time": "2022-11-24T09:13:16.115Z"
   },
   {
    "duration": 1306,
    "start_time": "2022-11-24T09:13:16.154Z"
   },
   {
    "duration": 1226,
    "start_time": "2022-11-24T09:13:17.462Z"
   },
   {
    "duration": 1286,
    "start_time": "2022-11-24T09:13:18.689Z"
   },
   {
    "duration": 721,
    "start_time": "2022-11-24T09:13:19.976Z"
   },
   {
    "duration": 681,
    "start_time": "2022-11-24T09:13:20.699Z"
   },
   {
    "duration": 103,
    "start_time": "2022-11-24T09:13:21.381Z"
   },
   {
    "duration": 90,
    "start_time": "2022-11-24T09:13:21.486Z"
   },
   {
    "duration": 11199,
    "start_time": "2022-11-24T09:13:21.577Z"
   },
   {
    "duration": 83,
    "start_time": "2022-11-24T09:13:32.778Z"
   },
   {
    "duration": 89,
    "start_time": "2022-11-24T09:13:32.863Z"
   },
   {
    "duration": 3,
    "start_time": "2022-11-24T09:13:32.954Z"
   },
   {
    "duration": 40,
    "start_time": "2022-11-24T09:13:32.959Z"
   },
   {
    "duration": 65,
    "start_time": "2022-11-24T09:13:33.001Z"
   },
   {
    "duration": 22,
    "start_time": "2022-11-24T09:13:33.068Z"
   },
   {
    "duration": 10,
    "start_time": "2022-11-24T09:13:46.170Z"
   },
   {
    "duration": 3,
    "start_time": "2022-11-24T09:29:44.638Z"
   },
   {
    "duration": 320,
    "start_time": "2022-11-24T09:35:41.068Z"
   },
   {
    "duration": 3,
    "start_time": "2022-11-24T09:36:18.962Z"
   },
   {
    "duration": 10,
    "start_time": "2022-11-24T09:36:21.590Z"
   },
   {
    "duration": 3,
    "start_time": "2022-11-24T09:36:24.262Z"
   },
   {
    "duration": 120,
    "start_time": "2022-11-24T09:36:27.067Z"
   },
   {
    "duration": 124,
    "start_time": "2022-11-24T09:40:56.453Z"
   },
   {
    "duration": 148,
    "start_time": "2022-11-24T09:41:29.313Z"
   },
   {
    "duration": 19,
    "start_time": "2022-11-24T09:42:01.237Z"
   },
   {
    "duration": 18,
    "start_time": "2022-11-24T09:42:10.335Z"
   },
   {
    "duration": 5,
    "start_time": "2022-11-24T09:42:37.182Z"
   },
   {
    "duration": 88,
    "start_time": "2022-11-24T09:42:42.098Z"
   },
   {
    "duration": 125,
    "start_time": "2022-11-24T09:44:31.998Z"
   },
   {
    "duration": 2333,
    "start_time": "2022-11-24T09:45:03.352Z"
   },
   {
    "duration": 1306,
    "start_time": "2022-11-24T09:45:05.687Z"
   },
   {
    "duration": 57,
    "start_time": "2022-11-24T09:45:06.995Z"
   },
   {
    "duration": 817,
    "start_time": "2022-11-24T09:45:07.055Z"
   },
   {
    "duration": 400,
    "start_time": "2022-11-24T09:45:07.874Z"
   },
   {
    "duration": 892,
    "start_time": "2022-11-24T09:45:08.275Z"
   },
   {
    "duration": 9,
    "start_time": "2022-11-24T09:45:09.169Z"
   },
   {
    "duration": 6,
    "start_time": "2022-11-24T09:45:09.179Z"
   },
   {
    "duration": 65,
    "start_time": "2022-11-24T09:45:09.187Z"
   },
   {
    "duration": 6,
    "start_time": "2022-11-24T09:45:09.256Z"
   },
   {
    "duration": 10,
    "start_time": "2022-11-24T09:45:09.263Z"
   },
   {
    "duration": 8,
    "start_time": "2022-11-24T09:45:09.275Z"
   },
   {
    "duration": 67,
    "start_time": "2022-11-24T09:45:09.285Z"
   },
   {
    "duration": 3,
    "start_time": "2022-11-24T09:45:09.355Z"
   },
   {
    "duration": 11,
    "start_time": "2022-11-24T09:45:09.360Z"
   },
   {
    "duration": 4,
    "start_time": "2022-11-24T09:45:09.373Z"
   },
   {
    "duration": 73,
    "start_time": "2022-11-24T09:45:09.379Z"
   },
   {
    "duration": 23,
    "start_time": "2022-11-24T09:45:09.455Z"
   },
   {
    "duration": 108,
    "start_time": "2022-11-24T09:45:09.480Z"
   },
   {
    "duration": 62,
    "start_time": "2022-11-24T09:45:09.590Z"
   },
   {
    "duration": 6,
    "start_time": "2022-11-24T09:45:09.654Z"
   },
   {
    "duration": 9,
    "start_time": "2022-11-24T09:45:09.661Z"
   },
   {
    "duration": 6,
    "start_time": "2022-11-24T09:45:09.671Z"
   },
   {
    "duration": 7,
    "start_time": "2022-11-24T09:45:09.678Z"
   },
   {
    "duration": 1278,
    "start_time": "2022-11-24T09:45:09.687Z"
   },
   {
    "duration": 1232,
    "start_time": "2022-11-24T09:45:10.966Z"
   },
   {
    "duration": 1371,
    "start_time": "2022-11-24T09:45:12.199Z"
   },
   {
    "duration": 781,
    "start_time": "2022-11-24T09:45:13.573Z"
   },
   {
    "duration": 628,
    "start_time": "2022-11-24T09:45:14.356Z"
   },
   {
    "duration": 105,
    "start_time": "2022-11-24T09:45:14.986Z"
   },
   {
    "duration": 87,
    "start_time": "2022-11-24T09:45:15.092Z"
   },
   {
    "duration": 10580,
    "start_time": "2022-11-24T09:45:15.181Z"
   },
   {
    "duration": 20,
    "start_time": "2022-11-24T09:45:25.763Z"
   },
   {
    "duration": 67,
    "start_time": "2022-11-24T09:45:25.785Z"
   },
   {
    "duration": 3,
    "start_time": "2022-11-24T09:45:25.854Z"
   },
   {
    "duration": 5,
    "start_time": "2022-11-24T09:45:25.859Z"
   },
   {
    "duration": 14,
    "start_time": "2022-11-24T09:45:25.865Z"
   },
   {
    "duration": 380,
    "start_time": "2022-11-24T09:45:25.881Z"
   },
   {
    "duration": 0,
    "start_time": "2022-11-24T09:45:26.263Z"
   },
   {
    "duration": 0,
    "start_time": "2022-11-24T09:45:26.264Z"
   },
   {
    "duration": 4,
    "start_time": "2022-11-24T09:45:56.918Z"
   },
   {
    "duration": 122,
    "start_time": "2022-11-24T09:46:08.734Z"
   },
   {
    "duration": 11,
    "start_time": "2022-11-24T09:46:53.253Z"
   },
   {
    "duration": 3,
    "start_time": "2022-11-24T09:47:00.702Z"
   },
   {
    "duration": 130,
    "start_time": "2022-11-24T09:47:03.252Z"
   },
   {
    "duration": 109,
    "start_time": "2022-11-24T09:48:21.443Z"
   },
   {
    "duration": 13,
    "start_time": "2022-11-24T09:48:23.787Z"
   },
   {
    "duration": 125,
    "start_time": "2022-11-24T09:49:51.731Z"
   },
   {
    "duration": 12,
    "start_time": "2022-11-24T09:49:54.452Z"
   },
   {
    "duration": 15,
    "start_time": "2022-11-24T09:50:29.565Z"
   },
   {
    "duration": 3,
    "start_time": "2022-11-24T09:51:00.899Z"
   },
   {
    "duration": 2,
    "start_time": "2022-11-24T09:51:04.386Z"
   },
   {
    "duration": 105,
    "start_time": "2022-11-24T09:51:07.248Z"
   },
   {
    "duration": 30,
    "start_time": "2022-11-24T09:51:09.622Z"
   },
   {
    "duration": 3,
    "start_time": "2022-11-24T09:53:03.292Z"
   },
   {
    "duration": 106,
    "start_time": "2022-11-24T09:53:05.649Z"
   },
   {
    "duration": 13,
    "start_time": "2022-11-24T09:53:07.900Z"
   },
   {
    "duration": 86,
    "start_time": "2022-11-24T09:53:39.913Z"
   },
   {
    "duration": 12,
    "start_time": "2022-11-24T09:53:41.982Z"
   },
   {
    "duration": 79,
    "start_time": "2022-11-24T09:54:17.311Z"
   },
   {
    "duration": 26,
    "start_time": "2022-11-24T09:54:19.438Z"
   },
   {
    "duration": 138,
    "start_time": "2022-11-24T09:54:48.128Z"
   },
   {
    "duration": 5,
    "start_time": "2022-11-24T09:54:56.349Z"
   },
   {
    "duration": 3,
    "start_time": "2022-11-24T09:55:04.708Z"
   },
   {
    "duration": 158,
    "start_time": "2022-11-24T09:57:34.127Z"
   },
   {
    "duration": 3,
    "start_time": "2022-11-24T09:57:51.590Z"
   },
   {
    "duration": 116,
    "start_time": "2022-11-24T09:57:58.038Z"
   },
   {
    "duration": 82,
    "start_time": "2022-11-24T10:07:53.706Z"
   },
   {
    "duration": 2,
    "start_time": "2022-11-24T10:08:00.439Z"
   },
   {
    "duration": 75,
    "start_time": "2022-11-24T10:08:05.321Z"
   },
   {
    "duration": 4,
    "start_time": "2022-11-24T10:08:43.402Z"
   },
   {
    "duration": 10,
    "start_time": "2022-11-24T10:08:50.936Z"
   },
   {
    "duration": 3,
    "start_time": "2022-11-24T10:08:58.845Z"
   },
   {
    "duration": 116,
    "start_time": "2022-11-24T10:09:03.466Z"
   },
   {
    "duration": 101,
    "start_time": "2022-11-24T10:09:33.951Z"
   },
   {
    "duration": 113,
    "start_time": "2022-11-24T10:10:01.642Z"
   },
   {
    "duration": 62,
    "start_time": "2022-11-24T10:10:41.735Z"
   },
   {
    "duration": 14,
    "start_time": "2022-11-24T10:11:09.439Z"
   },
   {
    "duration": 108,
    "start_time": "2022-11-24T10:14:10.887Z"
   },
   {
    "duration": 3,
    "start_time": "2022-11-24T10:14:32.067Z"
   },
   {
    "duration": 88,
    "start_time": "2022-11-24T10:14:39.088Z"
   },
   {
    "duration": 4,
    "start_time": "2022-11-24T10:16:36.586Z"
   },
   {
    "duration": 149,
    "start_time": "2022-11-24T10:16:39.703Z"
   },
   {
    "duration": 146,
    "start_time": "2022-11-24T10:16:56.514Z"
   },
   {
    "duration": 2730,
    "start_time": "2022-11-24T10:17:42.153Z"
   },
   {
    "duration": 1672,
    "start_time": "2022-11-24T10:17:44.886Z"
   },
   {
    "duration": 5,
    "start_time": "2022-11-24T10:17:46.560Z"
   },
   {
    "duration": 1004,
    "start_time": "2022-11-24T10:17:46.568Z"
   },
   {
    "duration": 519,
    "start_time": "2022-11-24T10:17:47.573Z"
   },
   {
    "duration": 893,
    "start_time": "2022-11-24T10:17:48.094Z"
   },
   {
    "duration": 71,
    "start_time": "2022-11-24T10:17:48.989Z"
   },
   {
    "duration": 6,
    "start_time": "2022-11-24T10:17:49.062Z"
   },
   {
    "duration": 33,
    "start_time": "2022-11-24T10:17:49.070Z"
   },
   {
    "duration": 2,
    "start_time": "2022-11-24T10:17:49.153Z"
   },
   {
    "duration": 26,
    "start_time": "2022-11-24T10:17:49.157Z"
   },
   {
    "duration": 20,
    "start_time": "2022-11-24T10:17:49.184Z"
   },
   {
    "duration": 52,
    "start_time": "2022-11-24T10:17:49.207Z"
   },
   {
    "duration": 17,
    "start_time": "2022-11-24T10:17:49.261Z"
   },
   {
    "duration": 22,
    "start_time": "2022-11-24T10:17:49.280Z"
   },
   {
    "duration": 52,
    "start_time": "2022-11-24T10:17:49.304Z"
   },
   {
    "duration": 16,
    "start_time": "2022-11-24T10:17:49.359Z"
   },
   {
    "duration": 88,
    "start_time": "2022-11-24T10:17:49.377Z"
   },
   {
    "duration": 113,
    "start_time": "2022-11-24T10:17:49.467Z"
   },
   {
    "duration": 6,
    "start_time": "2022-11-24T10:17:49.581Z"
   },
   {
    "duration": 65,
    "start_time": "2022-11-24T10:17:49.589Z"
   },
   {
    "duration": 10,
    "start_time": "2022-11-24T10:17:49.656Z"
   },
   {
    "duration": 15,
    "start_time": "2022-11-24T10:17:49.668Z"
   },
   {
    "duration": 6,
    "start_time": "2022-11-24T10:17:49.685Z"
   },
   {
    "duration": 1302,
    "start_time": "2022-11-24T10:17:49.692Z"
   },
   {
    "duration": 1360,
    "start_time": "2022-11-24T10:17:50.996Z"
   },
   {
    "duration": 1337,
    "start_time": "2022-11-24T10:17:52.358Z"
   },
   {
    "duration": 806,
    "start_time": "2022-11-24T10:17:53.751Z"
   },
   {
    "duration": 716,
    "start_time": "2022-11-24T10:17:54.560Z"
   },
   {
    "duration": 106,
    "start_time": "2022-11-24T10:17:55.278Z"
   },
   {
    "duration": 91,
    "start_time": "2022-11-24T10:17:55.386Z"
   },
   {
    "duration": 10803,
    "start_time": "2022-11-24T10:17:55.479Z"
   },
   {
    "duration": 77,
    "start_time": "2022-11-24T10:18:06.283Z"
   },
   {
    "duration": 33,
    "start_time": "2022-11-24T10:18:06.362Z"
   },
   {
    "duration": 58,
    "start_time": "2022-11-24T10:18:06.396Z"
   },
   {
    "duration": 43,
    "start_time": "2022-11-24T10:18:06.456Z"
   },
   {
    "duration": 51,
    "start_time": "2022-11-24T10:18:06.501Z"
   },
   {
    "duration": 32,
    "start_time": "2022-11-24T10:18:06.554Z"
   },
   {
    "duration": 385,
    "start_time": "2022-11-24T10:18:06.588Z"
   },
   {
    "duration": 0,
    "start_time": "2022-11-24T10:18:06.975Z"
   },
   {
    "duration": 0,
    "start_time": "2022-11-24T10:18:06.976Z"
   },
   {
    "duration": 11,
    "start_time": "2022-11-24T10:18:18.398Z"
   },
   {
    "duration": 4,
    "start_time": "2022-11-24T10:18:29.652Z"
   },
   {
    "duration": 1244,
    "start_time": "2022-11-24T10:18:32.208Z"
   },
   {
    "duration": 9,
    "start_time": "2022-11-24T10:33:36.682Z"
   },
   {
    "duration": 4,
    "start_time": "2022-11-24T10:33:41.541Z"
   },
   {
    "duration": 4,
    "start_time": "2022-11-24T10:33:43.606Z"
   },
   {
    "duration": 10,
    "start_time": "2022-11-24T10:33:45.678Z"
   },
   {
    "duration": 5,
    "start_time": "2022-11-24T10:33:48.017Z"
   },
   {
    "duration": 84,
    "start_time": "2022-11-24T10:33:50.177Z"
   },
   {
    "duration": 12,
    "start_time": "2022-11-24T10:34:01.640Z"
   },
   {
    "duration": 10460,
    "start_time": "2022-11-24T10:34:04.098Z"
   },
   {
    "duration": 5248,
    "start_time": "2022-11-24T10:34:32.209Z"
   },
   {
    "duration": 2398,
    "start_time": "2022-11-24T10:48:22.389Z"
   },
   {
    "duration": 263230,
    "start_time": "2022-11-24T10:48:37.145Z"
   },
   {
    "duration": 261923,
    "start_time": "2022-11-24T10:56:08.542Z"
   },
   {
    "duration": 261661,
    "start_time": "2022-11-24T11:02:50.925Z"
   },
   {
    "duration": 76705,
    "start_time": "2022-11-24T11:19:42.654Z"
   },
   {
    "duration": 4056,
    "start_time": "2022-11-24T11:21:26.006Z"
   },
   {
    "duration": 76644,
    "start_time": "2022-11-24T11:27:34.055Z"
   },
   {
    "duration": 715,
    "start_time": "2022-11-24T11:28:50.752Z"
   },
   {
    "duration": 280636,
    "start_time": "2022-11-24T11:29:21.849Z"
   },
   {
    "duration": 1520,
    "start_time": "2022-11-24T11:52:52.888Z"
   },
   {
    "duration": 953,
    "start_time": "2022-11-24T12:02:46.577Z"
   },
   {
    "duration": 951,
    "start_time": "2022-11-24T12:22:27.918Z"
   },
   {
    "duration": 831,
    "start_time": "2022-11-24T12:41:23.970Z"
   },
   {
    "duration": 814,
    "start_time": "2022-11-24T12:51:02.651Z"
   },
   {
    "duration": 10,
    "start_time": "2022-11-24T12:53:08.572Z"
   },
   {
    "duration": 8,
    "start_time": "2022-11-24T12:53:55.816Z"
   },
   {
    "duration": 815,
    "start_time": "2022-11-24T12:55:36.037Z"
   },
   {
    "duration": 0,
    "start_time": "2022-11-24T12:57:41.140Z"
   },
   {
    "duration": 69872,
    "start_time": "2022-11-24T12:57:55.132Z"
   },
   {
    "duration": 10,
    "start_time": "2022-11-24T13:01:07.814Z"
   },
   {
    "duration": 31,
    "start_time": "2022-11-24T13:01:38.651Z"
   },
   {
    "duration": 20,
    "start_time": "2022-11-24T13:06:00.226Z"
   },
   {
    "duration": 7,
    "start_time": "2022-11-24T13:06:02.310Z"
   },
   {
    "duration": 10,
    "start_time": "2022-11-24T13:06:04.587Z"
   },
   {
    "duration": 10,
    "start_time": "2022-11-24T13:06:09.220Z"
   },
   {
    "duration": 4,
    "start_time": "2022-11-24T13:06:11.291Z"
   },
   {
    "duration": 35,
    "start_time": "2022-11-24T13:06:14.542Z"
   },
   {
    "duration": 4,
    "start_time": "2022-11-24T13:11:35.269Z"
   },
   {
    "duration": 10,
    "start_time": "2022-11-24T13:17:10.591Z"
   },
   {
    "duration": 8,
    "start_time": "2022-11-24T13:19:48.575Z"
   },
   {
    "duration": 10,
    "start_time": "2022-11-24T13:19:58.074Z"
   },
   {
    "duration": 11,
    "start_time": "2022-11-24T13:21:14.249Z"
   },
   {
    "duration": 4,
    "start_time": "2022-11-24T13:22:56.281Z"
   },
   {
    "duration": 13,
    "start_time": "2022-11-24T13:22:59.071Z"
   },
   {
    "duration": 38051,
    "start_time": "2022-11-24T13:27:07.656Z"
   },
   {
    "duration": 79,
    "start_time": "2022-11-24T13:29:06.614Z"
   },
   {
    "duration": 11,
    "start_time": "2022-11-24T13:33:01.124Z"
   },
   {
    "duration": 4,
    "start_time": "2022-11-24T13:33:06.491Z"
   },
   {
    "duration": 395,
    "start_time": "2022-11-24T13:33:08.900Z"
   },
   {
    "duration": 386,
    "start_time": "2022-11-24T13:34:00.259Z"
   },
   {
    "duration": 10,
    "start_time": "2022-11-24T13:34:28.553Z"
   },
   {
    "duration": 118,
    "start_time": "2022-11-24T13:35:02.564Z"
   },
   {
    "duration": 4,
    "start_time": "2022-11-24T13:35:33.125Z"
   },
   {
    "duration": 1392,
    "start_time": "2022-11-24T13:35:49.705Z"
   },
   {
    "duration": 672,
    "start_time": "2022-11-24T13:35:51.099Z"
   },
   {
    "duration": 4,
    "start_time": "2022-11-24T13:35:51.773Z"
   },
   {
    "duration": 437,
    "start_time": "2022-11-24T13:35:51.779Z"
   },
   {
    "duration": 245,
    "start_time": "2022-11-24T13:35:52.218Z"
   },
   {
    "duration": 431,
    "start_time": "2022-11-24T13:35:52.466Z"
   },
   {
    "duration": 34496,
    "start_time": "2022-11-24T13:35:52.899Z"
   },
   {
    "duration": 6,
    "start_time": "2022-11-24T13:36:27.397Z"
   },
   {
    "duration": 433,
    "start_time": "2022-11-24T13:36:27.405Z"
   },
   {
    "duration": 14,
    "start_time": "2022-11-24T13:36:27.841Z"
   },
   {
    "duration": 57,
    "start_time": "2022-11-24T13:36:27.857Z"
   },
   {
    "duration": 46,
    "start_time": "2022-11-24T13:36:27.916Z"
   },
   {
    "duration": 62,
    "start_time": "2022-11-24T13:36:27.964Z"
   },
   {
    "duration": 53,
    "start_time": "2022-11-24T13:36:28.028Z"
   },
   {
    "duration": 50,
    "start_time": "2022-11-24T13:36:28.082Z"
   },
   {
    "duration": 43,
    "start_time": "2022-11-24T13:36:28.134Z"
   },
   {
    "duration": 45,
    "start_time": "2022-11-24T13:36:28.179Z"
   },
   {
    "duration": 48,
    "start_time": "2022-11-24T13:36:28.226Z"
   },
   {
    "duration": 53,
    "start_time": "2022-11-24T13:36:28.276Z"
   },
   {
    "duration": 29,
    "start_time": "2022-11-24T13:36:28.331Z"
   },
   {
    "duration": 82,
    "start_time": "2022-11-24T13:36:28.362Z"
   },
   {
    "duration": 74,
    "start_time": "2022-11-24T13:36:28.446Z"
   },
   {
    "duration": 31,
    "start_time": "2022-11-24T13:36:28.522Z"
   },
   {
    "duration": 103,
    "start_time": "2022-11-24T13:36:28.555Z"
   },
   {
    "duration": 17,
    "start_time": "2022-11-24T13:36:28.660Z"
   },
   {
    "duration": 96,
    "start_time": "2022-11-24T13:36:28.679Z"
   },
   {
    "duration": 5,
    "start_time": "2022-11-24T13:36:28.777Z"
   },
   {
    "duration": 27,
    "start_time": "2022-11-24T13:36:28.786Z"
   },
   {
    "duration": 86,
    "start_time": "2022-11-24T13:36:28.815Z"
   },
   {
    "duration": 89,
    "start_time": "2022-11-24T13:36:28.903Z"
   },
   {
    "duration": 853,
    "start_time": "2022-11-24T13:36:28.993Z"
   },
   {
    "duration": 688,
    "start_time": "2022-11-24T13:36:29.853Z"
   },
   {
    "duration": 694,
    "start_time": "2022-11-24T13:36:30.542Z"
   },
   {
    "duration": 297,
    "start_time": "2022-11-24T13:36:31.238Z"
   },
   {
    "duration": 314,
    "start_time": "2022-11-24T13:36:31.538Z"
   },
   {
    "duration": 35,
    "start_time": "2022-11-24T13:36:31.855Z"
   },
   {
    "duration": 59,
    "start_time": "2022-11-24T13:36:31.891Z"
   },
   {
    "duration": 5311,
    "start_time": "2022-11-24T13:36:31.952Z"
   },
   {
    "duration": 474,
    "start_time": "2022-11-24T13:36:37.265Z"
   },
   {
    "duration": 59,
    "start_time": "2022-11-24T13:36:37.741Z"
   },
   {
    "duration": 61,
    "start_time": "2022-11-24T13:36:37.801Z"
   },
   {
    "duration": 43,
    "start_time": "2022-11-24T13:36:37.864Z"
   },
   {
    "duration": 49,
    "start_time": "2022-11-24T13:36:37.909Z"
   },
   {
    "duration": 62,
    "start_time": "2022-11-24T13:36:37.960Z"
   },
   {
    "duration": 59,
    "start_time": "2022-11-24T13:36:38.024Z"
   },
   {
    "duration": 59,
    "start_time": "2022-11-24T13:36:38.084Z"
   },
   {
    "duration": 71,
    "start_time": "2022-11-24T13:36:38.145Z"
   },
   {
    "duration": 40,
    "start_time": "2022-11-24T13:36:38.218Z"
   },
   {
    "duration": 1995,
    "start_time": "2022-11-24T13:36:38.260Z"
   },
   {
    "duration": 17800,
    "start_time": "2022-11-24T13:36:40.260Z"
   },
   {
    "duration": 62421,
    "start_time": "2022-11-24T13:36:58.062Z"
   },
   {
    "duration": 795,
    "start_time": "2022-11-24T13:38:00.485Z"
   },
   {
    "duration": 63057,
    "start_time": "2022-11-24T13:38:01.282Z"
   },
   {
    "duration": 12,
    "start_time": "2022-11-24T13:39:04.340Z"
   },
   {
    "duration": 2136,
    "start_time": "2022-11-24T13:42:21.994Z"
   },
   {
    "duration": 65870,
    "start_time": "2022-11-24T13:59:43.333Z"
   },
   {
    "duration": 2143,
    "start_time": "2022-11-24T14:01:14.406Z"
   },
   {
    "duration": 8,
    "start_time": "2022-11-24T14:01:31.950Z"
   },
   {
    "duration": 61785,
    "start_time": "2022-11-24T14:05:09.795Z"
   },
   {
    "duration": 1644,
    "start_time": "2022-11-24T18:57:52.716Z"
   },
   {
    "duration": 1888,
    "start_time": "2022-11-24T18:57:54.363Z"
   },
   {
    "duration": 4,
    "start_time": "2022-11-24T18:57:56.253Z"
   },
   {
    "duration": 421,
    "start_time": "2022-11-24T18:57:56.260Z"
   },
   {
    "duration": 214,
    "start_time": "2022-11-24T18:57:56.683Z"
   },
   {
    "duration": 427,
    "start_time": "2022-11-24T18:57:56.898Z"
   },
   {
    "duration": 35016,
    "start_time": "2022-11-24T18:57:57.327Z"
   },
   {
    "duration": 5,
    "start_time": "2022-11-24T18:58:32.345Z"
   },
   {
    "duration": 426,
    "start_time": "2022-11-24T18:58:32.351Z"
   },
   {
    "duration": 8,
    "start_time": "2022-11-24T18:58:32.780Z"
   },
   {
    "duration": 5,
    "start_time": "2022-11-24T18:58:32.789Z"
   },
   {
    "duration": 28,
    "start_time": "2022-11-24T18:58:32.795Z"
   },
   {
    "duration": 6,
    "start_time": "2022-11-24T18:58:32.825Z"
   },
   {
    "duration": 4,
    "start_time": "2022-11-24T18:58:32.833Z"
   },
   {
    "duration": 7,
    "start_time": "2022-11-24T18:58:32.838Z"
   },
   {
    "duration": 4,
    "start_time": "2022-11-24T18:58:32.847Z"
   },
   {
    "duration": 10,
    "start_time": "2022-11-24T18:58:32.853Z"
   },
   {
    "duration": 11,
    "start_time": "2022-11-24T18:58:32.865Z"
   },
   {
    "duration": 4,
    "start_time": "2022-11-24T18:58:32.877Z"
   },
   {
    "duration": 11,
    "start_time": "2022-11-24T18:58:32.883Z"
   },
   {
    "duration": 37,
    "start_time": "2022-11-24T18:58:32.896Z"
   },
   {
    "duration": 52,
    "start_time": "2022-11-24T18:58:32.935Z"
   },
   {
    "duration": 6,
    "start_time": "2022-11-24T18:58:32.989Z"
   },
   {
    "duration": 27,
    "start_time": "2022-11-24T18:58:32.997Z"
   },
   {
    "duration": 4,
    "start_time": "2022-11-24T18:58:33.026Z"
   },
   {
    "duration": 97,
    "start_time": "2022-11-24T18:58:33.031Z"
   },
   {
    "duration": 6,
    "start_time": "2022-11-24T18:58:33.129Z"
   },
   {
    "duration": 5,
    "start_time": "2022-11-24T18:58:33.138Z"
   },
   {
    "duration": 5,
    "start_time": "2022-11-24T18:58:33.145Z"
   },
   {
    "duration": 8,
    "start_time": "2022-11-24T18:58:33.151Z"
   },
   {
    "duration": 713,
    "start_time": "2022-11-24T18:58:33.161Z"
   },
   {
    "duration": 748,
    "start_time": "2022-11-24T18:58:33.876Z"
   },
   {
    "duration": 684,
    "start_time": "2022-11-24T18:58:34.625Z"
   },
   {
    "duration": 298,
    "start_time": "2022-11-24T18:58:35.321Z"
   },
   {
    "duration": 344,
    "start_time": "2022-11-24T18:58:35.621Z"
   },
   {
    "duration": 34,
    "start_time": "2022-11-24T18:58:35.967Z"
   },
   {
    "duration": 37,
    "start_time": "2022-11-24T18:58:36.003Z"
   },
   {
    "duration": 5160,
    "start_time": "2022-11-24T18:58:36.042Z"
   },
   {
    "duration": 473,
    "start_time": "2022-11-24T18:58:41.204Z"
   },
   {
    "duration": 10,
    "start_time": "2022-11-24T18:58:41.679Z"
   },
   {
    "duration": 24,
    "start_time": "2022-11-24T18:58:41.691Z"
   },
   {
    "duration": 25,
    "start_time": "2022-11-24T18:58:41.716Z"
   },
   {
    "duration": 29,
    "start_time": "2022-11-24T18:58:41.743Z"
   },
   {
    "duration": 33,
    "start_time": "2022-11-24T18:58:41.773Z"
   },
   {
    "duration": 29,
    "start_time": "2022-11-24T18:58:41.807Z"
   },
   {
    "duration": 28,
    "start_time": "2022-11-24T18:58:41.837Z"
   },
   {
    "duration": 24,
    "start_time": "2022-11-24T18:58:41.867Z"
   },
   {
    "duration": 14,
    "start_time": "2022-11-24T18:58:41.893Z"
   },
   {
    "duration": 1716,
    "start_time": "2022-11-24T18:58:41.909Z"
   },
   {
    "duration": 62206,
    "start_time": "2022-11-24T18:58:43.630Z"
   },
   {
    "duration": 4356,
    "start_time": "2022-11-24T19:07:27.142Z"
   },
   {
    "duration": 7,
    "start_time": "2022-11-24T19:07:31.500Z"
   },
   {
    "duration": 111928,
    "start_time": "2022-11-24T19:07:31.510Z"
   },
   {
    "duration": 2132,
    "start_time": "2022-11-24T19:09:23.440Z"
   },
   {
    "duration": 8,
    "start_time": "2022-11-24T19:09:40.587Z"
   },
   {
    "duration": 9,
    "start_time": "2022-11-24T19:20:10.310Z"
   },
   {
    "duration": 9,
    "start_time": "2022-11-24T19:20:40.492Z"
   },
   {
    "duration": 9,
    "start_time": "2022-11-24T19:20:56.250Z"
   },
   {
    "duration": 76,
    "start_time": "2022-11-24T19:26:57.234Z"
   },
   {
    "duration": 1879,
    "start_time": "2022-11-27T16:58:44.000Z"
   },
   {
    "duration": 3306,
    "start_time": "2022-11-27T16:58:45.881Z"
   },
   {
    "duration": 5,
    "start_time": "2022-11-27T16:58:49.189Z"
   },
   {
    "duration": 485,
    "start_time": "2022-11-27T16:58:49.197Z"
   },
   {
    "duration": 273,
    "start_time": "2022-11-27T16:58:49.684Z"
   },
   {
    "duration": 496,
    "start_time": "2022-11-27T16:58:49.959Z"
   },
   {
    "duration": 41602,
    "start_time": "2022-11-27T16:58:50.457Z"
   },
   {
    "duration": 5,
    "start_time": "2022-11-27T16:59:32.061Z"
   },
   {
    "duration": 471,
    "start_time": "2022-11-27T16:59:32.068Z"
   },
   {
    "duration": 10,
    "start_time": "2022-11-27T16:59:32.542Z"
   },
   {
    "duration": 20,
    "start_time": "2022-11-27T16:59:32.554Z"
   },
   {
    "duration": 15,
    "start_time": "2022-11-27T16:59:32.576Z"
   },
   {
    "duration": 24,
    "start_time": "2022-11-27T16:59:32.593Z"
   },
   {
    "duration": 17,
    "start_time": "2022-11-27T16:59:32.620Z"
   },
   {
    "duration": 20,
    "start_time": "2022-11-27T16:59:32.639Z"
   },
   {
    "duration": 24,
    "start_time": "2022-11-27T16:59:32.660Z"
   },
   {
    "duration": 31,
    "start_time": "2022-11-27T16:59:32.685Z"
   },
   {
    "duration": 85,
    "start_time": "2022-11-27T16:59:32.718Z"
   },
   {
    "duration": 6,
    "start_time": "2022-11-27T16:59:32.804Z"
   },
   {
    "duration": 31,
    "start_time": "2022-11-27T16:59:32.811Z"
   },
   {
    "duration": 22,
    "start_time": "2022-11-27T16:59:32.844Z"
   },
   {
    "duration": 94,
    "start_time": "2022-11-27T16:59:32.868Z"
   },
   {
    "duration": 6,
    "start_time": "2022-11-27T16:59:32.964Z"
   },
   {
    "duration": 13,
    "start_time": "2022-11-27T16:59:32.972Z"
   },
   {
    "duration": 13,
    "start_time": "2022-11-27T16:59:32.987Z"
   },
   {
    "duration": 27,
    "start_time": "2022-11-27T16:59:33.002Z"
   },
   {
    "duration": 817,
    "start_time": "2022-11-27T16:59:33.031Z"
   },
   {
    "duration": 827,
    "start_time": "2022-11-27T16:59:33.851Z"
   },
   {
    "duration": 855,
    "start_time": "2022-11-27T16:59:34.680Z"
   },
   {
    "duration": 373,
    "start_time": "2022-11-27T16:59:35.538Z"
   },
   {
    "duration": 389,
    "start_time": "2022-11-27T16:59:35.914Z"
   },
   {
    "duration": 46,
    "start_time": "2022-11-27T16:59:36.305Z"
   },
   {
    "duration": 57,
    "start_time": "2022-11-27T16:59:36.358Z"
   },
   {
    "duration": 5996,
    "start_time": "2022-11-27T16:59:36.417Z"
   },
   {
    "duration": 471,
    "start_time": "2022-11-27T16:59:42.415Z"
   },
   {
    "duration": 12,
    "start_time": "2022-11-27T16:59:42.889Z"
   },
   {
    "duration": 12,
    "start_time": "2022-11-27T16:59:42.903Z"
   },
   {
    "duration": 14,
    "start_time": "2022-11-27T16:59:42.916Z"
   },
   {
    "duration": 10,
    "start_time": "2022-11-27T16:59:42.931Z"
   },
   {
    "duration": 16,
    "start_time": "2022-11-27T16:59:42.943Z"
   },
   {
    "duration": 18,
    "start_time": "2022-11-27T16:59:42.962Z"
   },
   {
    "duration": 7,
    "start_time": "2022-11-27T16:59:42.982Z"
   },
   {
    "duration": 21,
    "start_time": "2022-11-27T16:59:42.991Z"
   },
   {
    "duration": 3,
    "start_time": "2022-11-27T16:59:43.015Z"
   },
   {
    "duration": 3296,
    "start_time": "2022-11-27T16:59:43.019Z"
   },
   {
    "duration": 74135,
    "start_time": "2022-11-27T16:59:46.318Z"
   },
   {
    "duration": 127638,
    "start_time": "2022-11-27T17:01:00.455Z"
   },
   {
    "duration": 2521,
    "start_time": "2022-11-27T17:03:08.095Z"
   },
   {
    "duration": 8,
    "start_time": "2022-11-27T17:03:10.618Z"
   },
   {
    "duration": 130,
    "start_time": "2022-11-27T17:42:58.361Z"
   },
   {
    "duration": 526,
    "start_time": "2022-11-27T17:43:58.735Z"
   },
   {
    "duration": 3,
    "start_time": "2022-11-27T18:04:55.397Z"
   },
   {
    "duration": 17,
    "start_time": "2022-11-27T18:05:43.336Z"
   },
   {
    "duration": 1530,
    "start_time": "2022-11-27T18:05:51.659Z"
   },
   {
    "duration": 708,
    "start_time": "2022-11-27T18:05:53.192Z"
   },
   {
    "duration": 4,
    "start_time": "2022-11-27T18:05:53.901Z"
   },
   {
    "duration": 476,
    "start_time": "2022-11-27T18:05:53.911Z"
   },
   {
    "duration": 246,
    "start_time": "2022-11-27T18:05:54.389Z"
   },
   {
    "duration": 513,
    "start_time": "2022-11-27T18:05:54.637Z"
   },
   {
    "duration": 39552,
    "start_time": "2022-11-27T18:05:55.151Z"
   },
   {
    "duration": 5,
    "start_time": "2022-11-27T18:06:34.705Z"
   },
   {
    "duration": 445,
    "start_time": "2022-11-27T18:06:34.712Z"
   },
   {
    "duration": 10,
    "start_time": "2022-11-27T18:06:35.159Z"
   },
   {
    "duration": 17,
    "start_time": "2022-11-27T18:06:35.171Z"
   },
   {
    "duration": 14,
    "start_time": "2022-11-27T18:06:35.190Z"
   },
   {
    "duration": 12,
    "start_time": "2022-11-27T18:06:35.214Z"
   },
   {
    "duration": 17,
    "start_time": "2022-11-27T18:06:35.231Z"
   },
   {
    "duration": 9,
    "start_time": "2022-11-27T18:06:35.250Z"
   },
   {
    "duration": 16,
    "start_time": "2022-11-27T18:06:35.261Z"
   },
   {
    "duration": 26,
    "start_time": "2022-11-27T18:06:35.279Z"
   },
   {
    "duration": 56,
    "start_time": "2022-11-27T18:06:35.306Z"
   },
   {
    "duration": 6,
    "start_time": "2022-11-27T18:06:35.365Z"
   },
   {
    "duration": 24,
    "start_time": "2022-11-27T18:06:35.373Z"
   },
   {
    "duration": 32,
    "start_time": "2022-11-27T18:06:35.399Z"
   },
   {
    "duration": 5,
    "start_time": "2022-11-27T18:06:35.433Z"
   },
   {
    "duration": 117,
    "start_time": "2022-11-27T18:06:35.440Z"
   },
   {
    "duration": 6,
    "start_time": "2022-11-27T18:06:35.559Z"
   },
   {
    "duration": 31,
    "start_time": "2022-11-27T18:06:35.567Z"
   },
   {
    "duration": 13,
    "start_time": "2022-11-27T18:06:35.600Z"
   },
   {
    "duration": 23,
    "start_time": "2022-11-27T18:06:35.615Z"
   },
   {
    "duration": 831,
    "start_time": "2022-11-27T18:06:35.640Z"
   },
   {
    "duration": 807,
    "start_time": "2022-11-27T18:06:36.473Z"
   },
   {
    "duration": 880,
    "start_time": "2022-11-27T18:06:37.283Z"
   },
   {
    "duration": 407,
    "start_time": "2022-11-27T18:06:38.165Z"
   },
   {
    "duration": 368,
    "start_time": "2022-11-27T18:06:38.574Z"
   },
   {
    "duration": 39,
    "start_time": "2022-11-27T18:06:38.944Z"
   },
   {
    "duration": 54,
    "start_time": "2022-11-27T18:06:38.985Z"
   },
   {
    "duration": 6374,
    "start_time": "2022-11-27T18:06:39.041Z"
   },
   {
    "duration": 481,
    "start_time": "2022-11-27T18:06:45.418Z"
   },
   {
    "duration": 19,
    "start_time": "2022-11-27T18:06:45.901Z"
   },
   {
    "duration": 16,
    "start_time": "2022-11-27T18:06:45.922Z"
   },
   {
    "duration": 12,
    "start_time": "2022-11-27T18:06:45.940Z"
   },
   {
    "duration": 13,
    "start_time": "2022-11-27T18:06:45.954Z"
   },
   {
    "duration": 22,
    "start_time": "2022-11-27T18:06:45.972Z"
   },
   {
    "duration": 19,
    "start_time": "2022-11-27T18:06:45.996Z"
   },
   {
    "duration": 8,
    "start_time": "2022-11-27T18:06:46.017Z"
   },
   {
    "duration": 30,
    "start_time": "2022-11-27T18:06:46.027Z"
   },
   {
    "duration": 3,
    "start_time": "2022-11-27T18:06:46.060Z"
   },
   {
    "duration": 3448,
    "start_time": "2022-11-27T18:06:46.066Z"
   },
   {
    "duration": 72122,
    "start_time": "2022-11-27T18:06:49.516Z"
   },
   {
    "duration": 127974,
    "start_time": "2022-11-27T18:08:01.639Z"
   },
   {
    "duration": 2385,
    "start_time": "2022-11-27T18:10:09.615Z"
   },
   {
    "duration": 14,
    "start_time": "2022-11-27T18:10:12.001Z"
   },
   {
    "duration": 61,
    "start_time": "2022-11-27T18:12:29.716Z"
   },
   {
    "duration": 2,
    "start_time": "2022-11-27T18:38:06.384Z"
   },
   {
    "duration": 3,
    "start_time": "2022-11-27T18:38:07.244Z"
   },
   {
    "duration": 2,
    "start_time": "2022-11-27T18:38:16.238Z"
   },
   {
    "duration": 2330,
    "start_time": "2022-11-27T18:38:32.790Z"
   },
   {
    "duration": 2452,
    "start_time": "2022-11-27T18:40:24.070Z"
   },
   {
    "duration": 70522,
    "start_time": "2022-11-27T18:40:43.944Z"
   },
   {
    "duration": 20,
    "start_time": "2022-11-27T18:42:23.059Z"
   },
   {
    "duration": 8,
    "start_time": "2022-11-27T18:42:24.500Z"
   },
   {
    "duration": 2349,
    "start_time": "2022-11-27T18:42:32.675Z"
   },
   {
    "duration": 3,
    "start_time": "2022-11-27T18:44:34.044Z"
   },
   {
    "duration": 2,
    "start_time": "2022-11-27T18:44:37.152Z"
   },
   {
    "duration": 2328,
    "start_time": "2022-11-27T18:44:50.860Z"
   },
   {
    "duration": 1581,
    "start_time": "2022-11-27T18:52:33.602Z"
   },
   {
    "duration": 698,
    "start_time": "2022-11-27T18:52:35.185Z"
   },
   {
    "duration": 4,
    "start_time": "2022-11-27T18:52:35.884Z"
   },
   {
    "duration": 526,
    "start_time": "2022-11-27T18:52:35.890Z"
   },
   {
    "duration": 300,
    "start_time": "2022-11-27T18:52:36.419Z"
   },
   {
    "duration": 456,
    "start_time": "2022-11-27T18:52:36.721Z"
   },
   {
    "duration": 39878,
    "start_time": "2022-11-27T18:52:37.179Z"
   },
   {
    "duration": 5,
    "start_time": "2022-11-27T18:53:17.058Z"
   },
   {
    "duration": 470,
    "start_time": "2022-11-27T18:53:17.065Z"
   },
   {
    "duration": 9,
    "start_time": "2022-11-27T18:53:17.537Z"
   },
   {
    "duration": 89,
    "start_time": "2022-11-27T18:53:17.547Z"
   },
   {
    "duration": 51,
    "start_time": "2022-11-27T18:53:17.638Z"
   },
   {
    "duration": 47,
    "start_time": "2022-11-27T18:53:17.691Z"
   },
   {
    "duration": 20,
    "start_time": "2022-11-27T18:53:17.742Z"
   },
   {
    "duration": 45,
    "start_time": "2022-11-27T18:53:17.764Z"
   },
   {
    "duration": 54,
    "start_time": "2022-11-27T18:53:17.811Z"
   },
   {
    "duration": 41,
    "start_time": "2022-11-27T18:53:17.867Z"
   },
   {
    "duration": 80,
    "start_time": "2022-11-27T18:53:17.909Z"
   },
   {
    "duration": 6,
    "start_time": "2022-11-27T18:53:17.991Z"
   },
   {
    "duration": 55,
    "start_time": "2022-11-27T18:53:17.999Z"
   },
   {
    "duration": 31,
    "start_time": "2022-11-27T18:53:18.056Z"
   },
   {
    "duration": 11,
    "start_time": "2022-11-27T18:53:18.089Z"
   },
   {
    "duration": 117,
    "start_time": "2022-11-27T18:53:18.102Z"
   },
   {
    "duration": 7,
    "start_time": "2022-11-27T18:53:18.221Z"
   },
   {
    "duration": 7,
    "start_time": "2022-11-27T18:53:18.230Z"
   },
   {
    "duration": 16,
    "start_time": "2022-11-27T18:53:18.238Z"
   },
   {
    "duration": 18,
    "start_time": "2022-11-27T18:53:18.256Z"
   },
   {
    "duration": 826,
    "start_time": "2022-11-27T18:53:18.276Z"
   },
   {
    "duration": 799,
    "start_time": "2022-11-27T18:53:19.104Z"
   },
   {
    "duration": 763,
    "start_time": "2022-11-27T18:53:19.904Z"
   },
   {
    "duration": 343,
    "start_time": "2022-11-27T18:53:20.669Z"
   },
   {
    "duration": 366,
    "start_time": "2022-11-27T18:53:21.014Z"
   },
   {
    "duration": 46,
    "start_time": "2022-11-27T18:53:21.383Z"
   },
   {
    "duration": 32,
    "start_time": "2022-11-27T18:53:21.431Z"
   },
   {
    "duration": 5753,
    "start_time": "2022-11-27T18:53:21.464Z"
   },
   {
    "duration": 3,
    "start_time": "2022-11-27T18:53:27.219Z"
   },
   {
    "duration": 24,
    "start_time": "2022-11-27T18:53:27.224Z"
   },
   {
    "duration": 142,
    "start_time": "2022-11-27T18:53:27.250Z"
   },
   {
    "duration": 0,
    "start_time": "2022-11-27T18:53:27.394Z"
   },
   {
    "duration": 0,
    "start_time": "2022-11-27T18:53:27.395Z"
   },
   {
    "duration": 0,
    "start_time": "2022-11-27T18:53:27.396Z"
   },
   {
    "duration": 0,
    "start_time": "2022-11-27T18:53:27.397Z"
   },
   {
    "duration": 0,
    "start_time": "2022-11-27T18:53:27.398Z"
   },
   {
    "duration": 0,
    "start_time": "2022-11-27T18:53:27.399Z"
   },
   {
    "duration": 0,
    "start_time": "2022-11-27T18:53:27.400Z"
   },
   {
    "duration": 0,
    "start_time": "2022-11-27T18:53:27.412Z"
   },
   {
    "duration": 0,
    "start_time": "2022-11-27T18:53:27.413Z"
   },
   {
    "duration": 0,
    "start_time": "2022-11-27T18:53:27.414Z"
   },
   {
    "duration": 0,
    "start_time": "2022-11-27T18:53:27.416Z"
   },
   {
    "duration": 0,
    "start_time": "2022-11-27T18:53:27.417Z"
   },
   {
    "duration": 6,
    "start_time": "2022-11-27T18:54:05.565Z"
   },
   {
    "duration": 4,
    "start_time": "2022-11-27T18:54:12.440Z"
   },
   {
    "duration": 3,
    "start_time": "2022-11-27T18:54:17.966Z"
   },
   {
    "duration": 2,
    "start_time": "2022-11-27T18:54:19.708Z"
   },
   {
    "duration": 7,
    "start_time": "2022-11-27T18:54:21.111Z"
   },
   {
    "duration": 3,
    "start_time": "2022-11-27T18:54:22.965Z"
   },
   {
    "duration": 19,
    "start_time": "2022-11-27T18:54:23.950Z"
   },
   {
    "duration": 3,
    "start_time": "2022-11-27T18:54:26.432Z"
   },
   {
    "duration": 2911,
    "start_time": "2022-11-27T18:54:28.003Z"
   },
   {
    "duration": 70196,
    "start_time": "2022-11-27T18:54:31.066Z"
   },
   {
    "duration": 128649,
    "start_time": "2022-11-27T18:55:48.094Z"
   },
   {
    "duration": 2408,
    "start_time": "2022-11-27T18:58:19.500Z"
   },
   {
    "duration": 2188,
    "start_time": "2022-11-27T18:58:32.805Z"
   },
   {
    "duration": 43,
    "start_time": "2022-11-27T19:04:35.663Z"
   },
   {
    "duration": 38,
    "start_time": "2022-11-27T19:05:52.138Z"
   },
   {
    "duration": 1370,
    "start_time": "2022-11-27T19:06:07.332Z"
   },
   {
    "duration": 703,
    "start_time": "2022-11-27T19:06:08.704Z"
   },
   {
    "duration": 4,
    "start_time": "2022-11-27T19:06:09.409Z"
   },
   {
    "duration": 448,
    "start_time": "2022-11-27T19:06:09.416Z"
   },
   {
    "duration": 259,
    "start_time": "2022-11-27T19:06:09.866Z"
   },
   {
    "duration": 437,
    "start_time": "2022-11-27T19:06:10.127Z"
   },
   {
    "duration": 39532,
    "start_time": "2022-11-27T19:06:10.565Z"
   },
   {
    "duration": 13,
    "start_time": "2022-11-27T19:06:50.099Z"
   },
   {
    "duration": 448,
    "start_time": "2022-11-27T19:06:50.114Z"
   },
   {
    "duration": 9,
    "start_time": "2022-11-27T19:06:50.565Z"
   },
   {
    "duration": 29,
    "start_time": "2022-11-27T19:06:50.575Z"
   },
   {
    "duration": 33,
    "start_time": "2022-11-27T19:06:50.605Z"
   },
   {
    "duration": 15,
    "start_time": "2022-11-27T19:06:50.641Z"
   },
   {
    "duration": 29,
    "start_time": "2022-11-27T19:06:50.658Z"
   },
   {
    "duration": 15,
    "start_time": "2022-11-27T19:06:50.688Z"
   },
   {
    "duration": 30,
    "start_time": "2022-11-27T19:06:50.704Z"
   },
   {
    "duration": 34,
    "start_time": "2022-11-27T19:06:50.736Z"
   },
   {
    "duration": 55,
    "start_time": "2022-11-27T19:06:50.772Z"
   },
   {
    "duration": 6,
    "start_time": "2022-11-27T19:06:50.829Z"
   },
   {
    "duration": 13,
    "start_time": "2022-11-27T19:06:50.836Z"
   },
   {
    "duration": 15,
    "start_time": "2022-11-27T19:06:50.851Z"
   },
   {
    "duration": 4,
    "start_time": "2022-11-27T19:06:50.867Z"
   },
   {
    "duration": 97,
    "start_time": "2022-11-27T19:06:50.872Z"
   },
   {
    "duration": 6,
    "start_time": "2022-11-27T19:06:50.971Z"
   },
   {
    "duration": 7,
    "start_time": "2022-11-27T19:06:50.978Z"
   },
   {
    "duration": 11,
    "start_time": "2022-11-27T19:06:50.987Z"
   },
   {
    "duration": 7,
    "start_time": "2022-11-27T19:06:50.999Z"
   },
   {
    "duration": 758,
    "start_time": "2022-11-27T19:06:51.015Z"
   },
   {
    "duration": 792,
    "start_time": "2022-11-27T19:06:51.775Z"
   },
   {
    "duration": 817,
    "start_time": "2022-11-27T19:06:52.569Z"
   },
   {
    "duration": 376,
    "start_time": "2022-11-27T19:06:53.388Z"
   },
   {
    "duration": 370,
    "start_time": "2022-11-27T19:06:53.766Z"
   },
   {
    "duration": 36,
    "start_time": "2022-11-27T19:06:54.138Z"
   },
   {
    "duration": 52,
    "start_time": "2022-11-27T19:06:54.176Z"
   },
   {
    "duration": 5703,
    "start_time": "2022-11-27T19:06:54.230Z"
   },
   {
    "duration": 3,
    "start_time": "2022-11-27T19:06:59.934Z"
   },
   {
    "duration": 622,
    "start_time": "2022-11-27T19:06:59.938Z"
   },
   {
    "duration": 0,
    "start_time": "2022-11-27T19:07:00.562Z"
   },
   {
    "duration": 0,
    "start_time": "2022-11-27T19:07:00.563Z"
   },
   {
    "duration": 0,
    "start_time": "2022-11-27T19:07:00.564Z"
   },
   {
    "duration": 0,
    "start_time": "2022-11-27T19:07:00.565Z"
   },
   {
    "duration": 0,
    "start_time": "2022-11-27T19:07:00.566Z"
   },
   {
    "duration": 0,
    "start_time": "2022-11-27T19:07:00.567Z"
   },
   {
    "duration": 0,
    "start_time": "2022-11-27T19:07:00.568Z"
   },
   {
    "duration": 0,
    "start_time": "2022-11-27T19:07:00.569Z"
   },
   {
    "duration": 0,
    "start_time": "2022-11-27T19:07:00.570Z"
   },
   {
    "duration": 0,
    "start_time": "2022-11-27T19:07:00.572Z"
   },
   {
    "duration": 0,
    "start_time": "2022-11-27T19:07:00.573Z"
   },
   {
    "duration": 0,
    "start_time": "2022-11-27T19:07:00.574Z"
   },
   {
    "duration": 0,
    "start_time": "2022-11-27T19:07:00.575Z"
   },
   {
    "duration": 0,
    "start_time": "2022-11-27T19:07:00.577Z"
   },
   {
    "duration": 7,
    "start_time": "2022-11-27T19:13:47.551Z"
   },
   {
    "duration": 16,
    "start_time": "2022-11-27T19:13:50.696Z"
   },
   {
    "duration": 7,
    "start_time": "2022-11-27T19:14:00.284Z"
   },
   {
    "duration": 4,
    "start_time": "2022-11-27T19:14:01.913Z"
   },
   {
    "duration": 3,
    "start_time": "2022-11-27T19:14:05.707Z"
   },
   {
    "duration": 3,
    "start_time": "2022-11-27T19:14:06.808Z"
   },
   {
    "duration": 8,
    "start_time": "2022-11-27T19:14:07.808Z"
   },
   {
    "duration": 4,
    "start_time": "2022-11-27T19:14:47.900Z"
   },
   {
    "duration": 16,
    "start_time": "2022-11-27T19:14:50.893Z"
   },
   {
    "duration": 3,
    "start_time": "2022-11-27T19:14:54.766Z"
   },
   {
    "duration": 2538,
    "start_time": "2022-11-27T19:14:58.174Z"
   },
   {
    "duration": 71785,
    "start_time": "2022-11-27T19:15:03.825Z"
   },
   {
    "duration": 126723,
    "start_time": "2022-11-27T19:16:48.524Z"
   },
   {
    "duration": 2174,
    "start_time": "2022-11-27T19:18:55.249Z"
   },
   {
    "duration": 9,
    "start_time": "2022-11-27T19:18:57.425Z"
   },
   {
    "duration": 10,
    "start_time": "2022-11-27T19:19:52.982Z"
   },
   {
    "duration": 39,
    "start_time": "2022-11-27T19:20:45.930Z"
   },
   {
    "duration": 11,
    "start_time": "2022-11-27T19:21:44.276Z"
   },
   {
    "duration": 7,
    "start_time": "2022-11-27T19:21:48.602Z"
   },
   {
    "duration": 37,
    "start_time": "2022-11-27T19:21:52.420Z"
   },
   {
    "duration": 19,
    "start_time": "2022-11-27T19:22:41.583Z"
   },
   {
    "duration": 8,
    "start_time": "2022-11-27T19:22:42.723Z"
   },
   {
    "duration": 9,
    "start_time": "2022-11-27T19:22:43.945Z"
   },
   {
    "duration": 4,
    "start_time": "2022-11-27T19:22:44.935Z"
   },
   {
    "duration": 1340,
    "start_time": "2022-11-27T19:22:57.164Z"
   },
   {
    "duration": 708,
    "start_time": "2022-11-27T19:22:58.506Z"
   },
   {
    "duration": 4,
    "start_time": "2022-11-27T19:22:59.216Z"
   },
   {
    "duration": 456,
    "start_time": "2022-11-27T19:22:59.222Z"
   },
   {
    "duration": 242,
    "start_time": "2022-11-27T19:22:59.679Z"
   },
   {
    "duration": 445,
    "start_time": "2022-11-27T19:22:59.923Z"
   },
   {
    "duration": 38093,
    "start_time": "2022-11-27T19:23:00.370Z"
   },
   {
    "duration": 5,
    "start_time": "2022-11-27T19:23:38.465Z"
   },
   {
    "duration": 481,
    "start_time": "2022-11-27T19:23:38.472Z"
   },
   {
    "duration": 9,
    "start_time": "2022-11-27T19:23:38.955Z"
   },
   {
    "duration": 5,
    "start_time": "2022-11-27T19:23:38.965Z"
   },
   {
    "duration": 13,
    "start_time": "2022-11-27T19:23:38.972Z"
   },
   {
    "duration": 7,
    "start_time": "2022-11-27T19:23:38.987Z"
   },
   {
    "duration": 21,
    "start_time": "2022-11-27T19:23:38.996Z"
   },
   {
    "duration": 10,
    "start_time": "2022-11-27T19:23:39.020Z"
   },
   {
    "duration": 28,
    "start_time": "2022-11-27T19:23:39.032Z"
   },
   {
    "duration": 23,
    "start_time": "2022-11-27T19:23:39.062Z"
   },
   {
    "duration": 68,
    "start_time": "2022-11-27T19:23:39.087Z"
   },
   {
    "duration": 6,
    "start_time": "2022-11-27T19:23:39.157Z"
   },
   {
    "duration": 8,
    "start_time": "2022-11-27T19:23:39.165Z"
   },
   {
    "duration": 19,
    "start_time": "2022-11-27T19:23:39.175Z"
   },
   {
    "duration": 17,
    "start_time": "2022-11-27T19:23:39.196Z"
   },
   {
    "duration": 82,
    "start_time": "2022-11-27T19:23:39.215Z"
   },
   {
    "duration": 13,
    "start_time": "2022-11-27T19:23:39.299Z"
   },
   {
    "duration": 16,
    "start_time": "2022-11-27T19:23:39.314Z"
   },
   {
    "duration": 20,
    "start_time": "2022-11-27T19:23:39.331Z"
   },
   {
    "duration": 10,
    "start_time": "2022-11-27T19:23:39.352Z"
   },
   {
    "duration": 753,
    "start_time": "2022-11-27T19:23:39.366Z"
   },
   {
    "duration": 729,
    "start_time": "2022-11-27T19:23:40.121Z"
   },
   {
    "duration": 717,
    "start_time": "2022-11-27T19:23:40.851Z"
   },
   {
    "duration": 315,
    "start_time": "2022-11-27T19:23:41.570Z"
   },
   {
    "duration": 341,
    "start_time": "2022-11-27T19:23:41.887Z"
   },
   {
    "duration": 34,
    "start_time": "2022-11-27T19:23:42.230Z"
   },
   {
    "duration": 48,
    "start_time": "2022-11-27T19:23:42.265Z"
   },
   {
    "duration": 5945,
    "start_time": "2022-11-27T19:23:42.315Z"
   },
   {
    "duration": 437,
    "start_time": "2022-11-27T19:23:48.262Z"
   },
   {
    "duration": 22,
    "start_time": "2022-11-27T19:23:48.701Z"
   },
   {
    "duration": 13,
    "start_time": "2022-11-27T19:23:48.725Z"
   },
   {
    "duration": 12,
    "start_time": "2022-11-27T19:23:48.740Z"
   },
   {
    "duration": 15,
    "start_time": "2022-11-27T19:23:48.754Z"
   },
   {
    "duration": 16,
    "start_time": "2022-11-27T19:23:48.771Z"
   },
   {
    "duration": 21,
    "start_time": "2022-11-27T19:23:48.789Z"
   },
   {
    "duration": 18,
    "start_time": "2022-11-27T19:23:48.812Z"
   },
   {
    "duration": 24,
    "start_time": "2022-11-27T19:23:48.831Z"
   },
   {
    "duration": 3,
    "start_time": "2022-11-27T19:23:48.857Z"
   },
   {
    "duration": 3651,
    "start_time": "2022-11-27T19:23:48.862Z"
   },
   {
    "duration": 71981,
    "start_time": "2022-11-27T19:23:52.515Z"
   },
   {
    "duration": 136596,
    "start_time": "2022-11-27T19:25:04.498Z"
   },
   {
    "duration": 2351,
    "start_time": "2022-11-27T19:27:21.095Z"
   },
   {
    "duration": 14,
    "start_time": "2022-11-27T19:27:23.448Z"
   },
   {
    "duration": 131,
    "start_time": "2022-11-27T19:33:32.325Z"
   },
   {
    "duration": 10,
    "start_time": "2022-11-27T19:34:35.777Z"
   },
   {
    "duration": 10,
    "start_time": "2022-11-27T19:35:51.259Z"
   },
   {
    "duration": 708,
    "start_time": "2022-11-27T19:36:09.657Z"
   },
   {
    "duration": 13,
    "start_time": "2022-11-27T19:36:50.739Z"
   },
   {
    "duration": 10,
    "start_time": "2022-11-27T19:37:21.265Z"
   },
   {
    "duration": 7,
    "start_time": "2022-11-27T19:38:31.081Z"
   },
   {
    "duration": 3,
    "start_time": "2022-11-27T19:38:32.360Z"
   },
   {
    "duration": 2,
    "start_time": "2022-11-27T19:38:34.769Z"
   },
   {
    "duration": 2,
    "start_time": "2022-11-27T19:38:35.903Z"
   },
   {
    "duration": 2,
    "start_time": "2022-11-27T19:38:40.114Z"
   },
   {
    "duration": 3,
    "start_time": "2022-11-27T19:38:41.073Z"
   },
   {
    "duration": 7,
    "start_time": "2022-11-27T19:38:44.052Z"
   },
   {
    "duration": 4,
    "start_time": "2022-11-27T19:38:45.467Z"
   },
   {
    "duration": 6,
    "start_time": "2022-11-27T19:38:56.807Z"
   },
   {
    "duration": 18,
    "start_time": "2022-11-27T19:38:58.266Z"
   },
   {
    "duration": 4,
    "start_time": "2022-11-27T19:39:02.183Z"
   },
   {
    "duration": 2575,
    "start_time": "2022-11-27T19:39:04.537Z"
   },
   {
    "duration": 2545,
    "start_time": "2022-11-27T19:41:08.922Z"
   },
   {
    "duration": 92,
    "start_time": "2022-11-27T19:52:40.428Z"
   },
   {
    "duration": 723,
    "start_time": "2022-11-27T19:55:51.889Z"
   },
   {
    "duration": 1478,
    "start_time": "2022-11-27T19:56:10.223Z"
   },
   {
    "duration": 727,
    "start_time": "2022-11-27T19:56:11.703Z"
   },
   {
    "duration": 5,
    "start_time": "2022-11-27T19:56:12.431Z"
   },
   {
    "duration": 445,
    "start_time": "2022-11-27T19:56:12.438Z"
   },
   {
    "duration": 243,
    "start_time": "2022-11-27T19:56:12.884Z"
   },
   {
    "duration": 437,
    "start_time": "2022-11-27T19:56:13.129Z"
   },
   {
    "duration": 38523,
    "start_time": "2022-11-27T19:56:13.568Z"
   },
   {
    "duration": 4,
    "start_time": "2022-11-27T19:56:52.093Z"
   },
   {
    "duration": 428,
    "start_time": "2022-11-27T19:56:52.100Z"
   },
   {
    "duration": 10,
    "start_time": "2022-11-27T19:56:52.531Z"
   },
   {
    "duration": 7,
    "start_time": "2022-11-27T19:56:52.543Z"
   },
   {
    "duration": 7,
    "start_time": "2022-11-27T19:56:52.552Z"
   },
   {
    "duration": 7,
    "start_time": "2022-11-27T19:56:52.561Z"
   },
   {
    "duration": 18,
    "start_time": "2022-11-27T19:56:52.570Z"
   },
   {
    "duration": 22,
    "start_time": "2022-11-27T19:56:52.590Z"
   },
   {
    "duration": 11,
    "start_time": "2022-11-27T19:56:52.614Z"
   },
   {
    "duration": 26,
    "start_time": "2022-11-27T19:56:52.628Z"
   },
   {
    "duration": 90,
    "start_time": "2022-11-27T19:56:52.655Z"
   },
   {
    "duration": 6,
    "start_time": "2022-11-27T19:56:52.747Z"
   },
   {
    "duration": 9,
    "start_time": "2022-11-27T19:56:52.755Z"
   },
   {
    "duration": 27,
    "start_time": "2022-11-27T19:56:52.766Z"
   },
   {
    "duration": 3,
    "start_time": "2022-11-27T19:56:52.795Z"
   },
   {
    "duration": 90,
    "start_time": "2022-11-27T19:56:52.812Z"
   },
   {
    "duration": 6,
    "start_time": "2022-11-27T19:56:52.911Z"
   },
   {
    "duration": 12,
    "start_time": "2022-11-27T19:56:52.919Z"
   },
   {
    "duration": 8,
    "start_time": "2022-11-27T19:56:52.933Z"
   },
   {
    "duration": 7,
    "start_time": "2022-11-27T19:56:52.943Z"
   },
   {
    "duration": 877,
    "start_time": "2022-11-27T19:56:52.954Z"
   },
   {
    "duration": 809,
    "start_time": "2022-11-27T19:56:53.833Z"
   },
   {
    "duration": 797,
    "start_time": "2022-11-27T19:56:54.644Z"
   },
   {
    "duration": 329,
    "start_time": "2022-11-27T19:56:55.443Z"
   },
   {
    "duration": 338,
    "start_time": "2022-11-27T19:56:55.774Z"
   },
   {
    "duration": 35,
    "start_time": "2022-11-27T19:56:56.114Z"
   },
   {
    "duration": 41,
    "start_time": "2022-11-27T19:56:56.151Z"
   },
   {
    "duration": 5971,
    "start_time": "2022-11-27T19:56:56.212Z"
   },
   {
    "duration": 3,
    "start_time": "2022-11-27T19:57:02.185Z"
   },
   {
    "duration": 12,
    "start_time": "2022-11-27T19:57:02.189Z"
   },
   {
    "duration": 821,
    "start_time": "2022-11-27T19:57:02.203Z"
   },
   {
    "duration": 0,
    "start_time": "2022-11-27T19:57:03.026Z"
   },
   {
    "duration": 0,
    "start_time": "2022-11-27T19:57:03.027Z"
   },
   {
    "duration": 0,
    "start_time": "2022-11-27T19:57:03.028Z"
   },
   {
    "duration": 0,
    "start_time": "2022-11-27T19:57:03.029Z"
   },
   {
    "duration": 0,
    "start_time": "2022-11-27T19:57:03.031Z"
   },
   {
    "duration": 0,
    "start_time": "2022-11-27T19:57:03.032Z"
   },
   {
    "duration": 0,
    "start_time": "2022-11-27T19:57:03.033Z"
   },
   {
    "duration": 0,
    "start_time": "2022-11-27T19:57:03.034Z"
   },
   {
    "duration": 0,
    "start_time": "2022-11-27T19:57:03.035Z"
   },
   {
    "duration": 0,
    "start_time": "2022-11-27T19:57:03.037Z"
   },
   {
    "duration": 0,
    "start_time": "2022-11-27T19:57:03.038Z"
   },
   {
    "duration": 0,
    "start_time": "2022-11-27T19:57:03.039Z"
   },
   {
    "duration": 0,
    "start_time": "2022-11-27T19:57:03.040Z"
   },
   {
    "duration": 14,
    "start_time": "2022-11-27T19:57:30.582Z"
   },
   {
    "duration": 13,
    "start_time": "2022-11-27T19:59:05.892Z"
   },
   {
    "duration": 534,
    "start_time": "2022-11-27T19:59:24.828Z"
   },
   {
    "duration": 12,
    "start_time": "2022-11-27T20:02:41.391Z"
   },
   {
    "duration": 8,
    "start_time": "2022-11-27T20:08:57.968Z"
   },
   {
    "duration": 20,
    "start_time": "2022-11-27T20:09:02.621Z"
   },
   {
    "duration": 7,
    "start_time": "2022-11-27T20:09:14.475Z"
   },
   {
    "duration": 1640,
    "start_time": "2022-11-27T20:10:05.061Z"
   },
   {
    "duration": 713,
    "start_time": "2022-11-27T20:10:06.703Z"
   },
   {
    "duration": 5,
    "start_time": "2022-11-27T20:10:07.417Z"
   },
   {
    "duration": 449,
    "start_time": "2022-11-27T20:10:07.424Z"
   },
   {
    "duration": 257,
    "start_time": "2022-11-27T20:10:07.876Z"
   },
   {
    "duration": 483,
    "start_time": "2022-11-27T20:10:08.136Z"
   },
   {
    "duration": 39755,
    "start_time": "2022-11-27T20:10:08.622Z"
   },
   {
    "duration": 7,
    "start_time": "2022-11-27T20:10:48.379Z"
   },
   {
    "duration": 515,
    "start_time": "2022-11-27T20:10:48.388Z"
   },
   {
    "duration": 11,
    "start_time": "2022-11-27T20:10:48.905Z"
   },
   {
    "duration": 8,
    "start_time": "2022-11-27T20:10:48.917Z"
   },
   {
    "duration": 11,
    "start_time": "2022-11-27T20:10:48.926Z"
   },
   {
    "duration": 4,
    "start_time": "2022-11-27T20:10:48.939Z"
   },
   {
    "duration": 18,
    "start_time": "2022-11-27T20:10:48.945Z"
   },
   {
    "duration": 5,
    "start_time": "2022-11-27T20:10:48.965Z"
   },
   {
    "duration": 14,
    "start_time": "2022-11-27T20:10:48.972Z"
   },
   {
    "duration": 50,
    "start_time": "2022-11-27T20:10:48.988Z"
   },
   {
    "duration": 94,
    "start_time": "2022-11-27T20:10:49.040Z"
   },
   {
    "duration": 8,
    "start_time": "2022-11-27T20:10:49.136Z"
   },
   {
    "duration": 8,
    "start_time": "2022-11-27T20:10:49.146Z"
   },
   {
    "duration": 23,
    "start_time": "2022-11-27T20:10:49.156Z"
   },
   {
    "duration": 3,
    "start_time": "2022-11-27T20:10:49.182Z"
   },
   {
    "duration": 103,
    "start_time": "2022-11-27T20:10:49.213Z"
   },
   {
    "duration": 7,
    "start_time": "2022-11-27T20:10:49.318Z"
   },
   {
    "duration": 22,
    "start_time": "2022-11-27T20:10:49.327Z"
   },
   {
    "duration": 15,
    "start_time": "2022-11-27T20:10:49.352Z"
   },
   {
    "duration": 6,
    "start_time": "2022-11-27T20:10:49.369Z"
   },
   {
    "duration": 789,
    "start_time": "2022-11-27T20:10:49.380Z"
   },
   {
    "duration": 827,
    "start_time": "2022-11-27T20:10:50.171Z"
   },
   {
    "duration": 748,
    "start_time": "2022-11-27T20:10:51.000Z"
   },
   {
    "duration": 322,
    "start_time": "2022-11-27T20:10:51.751Z"
   },
   {
    "duration": 376,
    "start_time": "2022-11-27T20:10:52.075Z"
   },
   {
    "duration": 36,
    "start_time": "2022-11-27T20:10:52.452Z"
   },
   {
    "duration": 47,
    "start_time": "2022-11-27T20:10:52.491Z"
   },
   {
    "duration": 5951,
    "start_time": "2022-11-27T20:10:52.540Z"
   },
   {
    "duration": 3,
    "start_time": "2022-11-27T20:10:58.492Z"
   },
   {
    "duration": 21,
    "start_time": "2022-11-27T20:10:58.496Z"
   },
   {
    "duration": 10,
    "start_time": "2022-11-27T20:10:58.518Z"
   },
   {
    "duration": 7,
    "start_time": "2022-11-27T20:10:58.530Z"
   },
   {
    "duration": 8,
    "start_time": "2022-11-27T20:10:58.539Z"
   },
   {
    "duration": 5,
    "start_time": "2022-11-27T20:10:58.549Z"
   },
   {
    "duration": 9,
    "start_time": "2022-11-27T20:10:58.556Z"
   },
   {
    "duration": 6,
    "start_time": "2022-11-27T20:10:58.566Z"
   },
   {
    "duration": 22,
    "start_time": "2022-11-27T20:10:58.573Z"
   },
   {
    "duration": 4,
    "start_time": "2022-11-27T20:10:58.611Z"
   },
   {
    "duration": 3396,
    "start_time": "2022-11-27T20:10:58.616Z"
   },
   {
    "duration": 72390,
    "start_time": "2022-11-27T20:11:02.015Z"
   },
   {
    "duration": 127852,
    "start_time": "2022-11-27T20:12:14.412Z"
   },
   {
    "duration": 2401,
    "start_time": "2022-11-27T20:14:22.266Z"
   },
   {
    "duration": 10,
    "start_time": "2022-11-27T20:14:24.669Z"
   },
   {
    "duration": 18,
    "start_time": "2022-11-27T20:26:04.008Z"
   },
   {
    "duration": 8,
    "start_time": "2022-11-27T20:26:07.361Z"
   },
   {
    "duration": 6,
    "start_time": "2022-11-27T20:26:21.326Z"
   },
   {
    "duration": 4,
    "start_time": "2022-11-27T20:26:24.234Z"
   },
   {
    "duration": 2519,
    "start_time": "2022-11-27T20:26:37.997Z"
   },
   {
    "duration": 71235,
    "start_time": "2022-11-27T20:26:46.334Z"
   }
  ],
  "kernelspec": {
   "display_name": "Python 3 (ipykernel)",
   "language": "python",
   "name": "python3"
  },
  "language_info": {
   "codemirror_mode": {
    "name": "ipython",
    "version": 3
   },
   "file_extension": ".py",
   "mimetype": "text/x-python",
   "name": "python",
   "nbconvert_exporter": "python",
   "pygments_lexer": "ipython3",
   "version": "3.9.12"
  },
  "toc": {
   "base_numbering": 1,
   "nav_menu": {},
   "number_sections": true,
   "sideBar": true,
   "skip_h1_title": true,
   "title_cell": "Содержание",
   "title_sidebar": "Contents",
   "toc_cell": true,
   "toc_position": {},
   "toc_section_display": true,
   "toc_window_display": true
  }
 },
 "nbformat": 4,
 "nbformat_minor": 2
}
